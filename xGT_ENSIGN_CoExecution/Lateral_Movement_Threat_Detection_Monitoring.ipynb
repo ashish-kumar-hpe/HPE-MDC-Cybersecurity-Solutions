{
 "cells": [
  {
   "cell_type": "code",
   "execution_count": 298,
   "metadata": {},
   "outputs": [],
   "source": [
    "import csv\n",
    "import sys\n",
    "import xgt\n",
    "import os\n",
    "import pandas\n",
    "from platform import python_version"
   ]
  },
  {
   "cell_type": "code",
   "execution_count": 299,
   "metadata": {},
   "outputs": [],
   "source": [
    "if os.environ.get('https_proxy'):\n",
    " del os.environ['https_proxy']\n",
    "if os.environ.get('http_proxy'):\n",
    " del os.environ['http_proxy']"
   ]
  },
  {
   "cell_type": "code",
   "execution_count": 300,
   "metadata": {},
   "outputs": [
    {
     "name": "stdout",
     "output_type": "stream",
     "text": [
      "3.7.4\n"
     ]
    },
    {
     "data": {
      "text/plain": [
       "'1.3.0'"
      ]
     },
     "execution_count": 300,
     "metadata": {},
     "output_type": "execute_result"
    }
   ],
   "source": [
    "print (python_version())\n",
    "conn=xgt.Connection()\n",
    "conn.server_version"
   ]
  },
  {
   "cell_type": "code",
   "execution_count": 301,
   "metadata": {},
   "outputs": [
    {
     "name": "stdout",
     "output_type": "stream",
     "text": [
      "Job Monitoring\n",
      "id:2686, status:completed\n",
      "id:2724, status:completed\n",
      "id:2746, status:completed\n",
      "id:2752, status:completed\n",
      "id:2780, status:completed\n",
      "id:2818, status:completed\n"
     ]
    }
   ],
   "source": [
    "print(\"Job Monitoring\")\n",
    "all_jobs = conn.get_jobs()\n",
    "\n",
    "#if len(all_jobs) == 0:\n",
    "#    print(\"No Jobs!!!\")\n",
    "\n",
    "for j in all_jobs:\n",
    "    print(j)\n",
    "    \n",
    "#Cancel all running jobs (if required)\n",
    "for job in all_jobs:\n",
    "    if job.status == 'running':\n",
    "        conn.cancel_job(job)\n",
    "        print (\"calcelled JobId = {0}\",job)\n",
    "    "
   ]
  },
  {
   "cell_type": "code",
   "execution_count": 302,
   "metadata": {},
   "outputs": [
    {
     "name": "stdout",
     "output_type": "stream",
     "text": [
      "Nodes/Edges Monitoring LANL\n",
      "Devices (vertices): 137,812\n",
      "Netflow (edges): 235,661,328\n",
      "Host-only event (edges): 18,637,483\n",
      "Host-communication event (edges): 47,790,045\n",
      "Total number of edges: 302,088,856\n"
     ]
    }
   ],
   "source": [
    "#If your data is LANL Data then fetch details of lanl data loaded in xgt\n",
    "print(\"Nodes/Edges Monitoring LANL\")\n",
    "devices = conn.get_vertex_frame('Devices')\n",
    "netflow = conn.get_edge_frame('Netflow')\n",
    "events1v = conn.get_edge_frame('HostEvents')\n",
    "events2v = conn.get_edge_frame('AuthEvents')\n",
    "\n",
    "print('Devices (vertices): {:,}'.format(devices.num_vertices))\n",
    "print('Netflow (edges): {:,}'.format(netflow.num_edges))\n",
    "print('Host-only event (edges): {:,}'.format(events1v.num_edges))\n",
    "print('Host-communication event (edges): {:,}'.format(events2v.num_edges))\n",
    "print('Total number of edges: {:,}'.format(netflow.num_edges + events1v.num_edges + events2v.num_edges))"
   ]
  },
  {
   "cell_type": "code",
   "execution_count": 303,
   "metadata": {},
   "outputs": [
    {
     "name": "stdout",
     "output_type": "stream",
     "text": [
      "Nodes/Edges Monitoring NON-LANL\n",
      "TableFrame answers has 10,572 rows\n",
      "VertexFrame Devices has 137,812 rows\n",
      "EdgeFrame Netflow has 235,661,328 rows\n",
      "EdgeFrame HostEvents has 18,637,483 rows\n",
      "EdgeFrame AuthEvents has 47,790,045 rows\n",
      "EdgeFrame RDPFlow has 9,732 rows\n",
      "EdgeFrame HijackEvents has 166,889 rows\n",
      "EdgeFrame PrivEscEvents has 135,214 rows\n"
     ]
    }
   ],
   "source": [
    "#If your data is generic and not lanl data\n",
    "print(\"Nodes/Edges Monitoring NON-LANL\")\n",
    "tables = conn.get_table_frames()\n",
    "for table in tables:\n",
    "    print(\"TableFrame {0} has {1:,} rows\".format(table.name, table.num_rows))\n",
    "    \n",
    "vertices = conn.get_vertex_frames()\n",
    "for vertex in vertices:\n",
    "    print(\"VertexFrame {0} has {1:,} rows\".format(vertex.name, vertex.num_rows))\n",
    "\n",
    "edges = conn.get_edge_frames()\n",
    "for edge in edges:\n",
    "    print(\"EdgeFrame {0} has {1:,} rows\".format(edge.name, edge.num_rows))\n"
   ]
  },
  {
   "cell_type": "code",
   "execution_count": 304,
   "metadata": {},
   "outputs": [
    {
     "name": "stdout",
     "output_type": "stream",
     "text": [
      "Print Specific Table Data\n",
      "Print Table Schema for table {0} : answers\n",
      "\n",
      ", rdp1_src_device:xgt.TEXT\n",
      ", rdp1_dst_device:xgt.TEXT\n",
      ", rdp1_epoch_time:xgt.INT\n",
      ", rdp2_dst_device:xgt.TEXT\n",
      ", rdp2_epoch_time:xgt.INT\n",
      "Print data for table {0} : answers\n"
     ]
    },
    {
     "data": {
      "text/html": [
       "<div>\n",
       "<style scoped>\n",
       "    .dataframe tbody tr th:only-of-type {\n",
       "        vertical-align: middle;\n",
       "    }\n",
       "\n",
       "    .dataframe tbody tr th {\n",
       "        vertical-align: top;\n",
       "    }\n",
       "\n",
       "    .dataframe thead th {\n",
       "        text-align: right;\n",
       "    }\n",
       "</style>\n",
       "<table border=\"1\" class=\"dataframe\">\n",
       "  <thead>\n",
       "    <tr style=\"text-align: right;\">\n",
       "      <th></th>\n",
       "      <th>rdp1_src_device</th>\n",
       "      <th>rdp1_dst_device</th>\n",
       "      <th>rdp1_epoch_time</th>\n",
       "      <th>rdp2_dst_device</th>\n",
       "      <th>rdp2_epoch_time</th>\n",
       "    </tr>\n",
       "  </thead>\n",
       "  <tbody>\n",
       "    <tr>\n",
       "      <th>0</th>\n",
       "      <td>ActiveDirectory</td>\n",
       "      <td>EnterpriseAppServer</td>\n",
       "      <td>7290427</td>\n",
       "      <td>Comp503532</td>\n",
       "      <td>7291140</td>\n",
       "    </tr>\n",
       "    <tr>\n",
       "      <th>1</th>\n",
       "      <td>ActiveDirectory</td>\n",
       "      <td>EnterpriseAppServer</td>\n",
       "      <td>7290427</td>\n",
       "      <td>Comp503532</td>\n",
       "      <td>7291140</td>\n",
       "    </tr>\n",
       "    <tr>\n",
       "      <th>2</th>\n",
       "      <td>ActiveDirectory</td>\n",
       "      <td>EnterpriseAppServer</td>\n",
       "      <td>7290427</td>\n",
       "      <td>Comp503532</td>\n",
       "      <td>7291140</td>\n",
       "    </tr>\n",
       "    <tr>\n",
       "      <th>3</th>\n",
       "      <td>ActiveDirectory</td>\n",
       "      <td>EnterpriseAppServer</td>\n",
       "      <td>7290427</td>\n",
       "      <td>Comp503532</td>\n",
       "      <td>7291140</td>\n",
       "    </tr>\n",
       "    <tr>\n",
       "      <th>4</th>\n",
       "      <td>ActiveDirectory</td>\n",
       "      <td>EnterpriseAppServer</td>\n",
       "      <td>7290438</td>\n",
       "      <td>Comp503532</td>\n",
       "      <td>7291140</td>\n",
       "    </tr>\n",
       "    <tr>\n",
       "      <th>...</th>\n",
       "      <td>...</td>\n",
       "      <td>...</td>\n",
       "      <td>...</td>\n",
       "      <td>...</td>\n",
       "      <td>...</td>\n",
       "    </tr>\n",
       "    <tr>\n",
       "      <th>10567</th>\n",
       "      <td>ActiveDirectory</td>\n",
       "      <td>EnterpriseAppServer</td>\n",
       "      <td>7290427</td>\n",
       "      <td>Comp257274</td>\n",
       "      <td>7292630</td>\n",
       "    </tr>\n",
       "    <tr>\n",
       "      <th>10568</th>\n",
       "      <td>ActiveDirectory</td>\n",
       "      <td>EnterpriseAppServer</td>\n",
       "      <td>7290427</td>\n",
       "      <td>Comp257274</td>\n",
       "      <td>7292630</td>\n",
       "    </tr>\n",
       "    <tr>\n",
       "      <th>10569</th>\n",
       "      <td>ActiveDirectory</td>\n",
       "      <td>EnterpriseAppServer</td>\n",
       "      <td>7290427</td>\n",
       "      <td>Comp257274</td>\n",
       "      <td>7292630</td>\n",
       "    </tr>\n",
       "    <tr>\n",
       "      <th>10570</th>\n",
       "      <td>ActiveDirectory</td>\n",
       "      <td>EnterpriseAppServer</td>\n",
       "      <td>7290427</td>\n",
       "      <td>Comp257274</td>\n",
       "      <td>7292630</td>\n",
       "    </tr>\n",
       "    <tr>\n",
       "      <th>10571</th>\n",
       "      <td>ActiveDirectory</td>\n",
       "      <td>EnterpriseAppServer</td>\n",
       "      <td>7290427</td>\n",
       "      <td>Comp257274</td>\n",
       "      <td>7292630</td>\n",
       "    </tr>\n",
       "  </tbody>\n",
       "</table>\n",
       "<p>10572 rows × 5 columns</p>\n",
       "</div>"
      ],
      "text/plain": [
       "       rdp1_src_device      rdp1_dst_device  rdp1_epoch_time rdp2_dst_device  \\\n",
       "0      ActiveDirectory  EnterpriseAppServer          7290427      Comp503532   \n",
       "1      ActiveDirectory  EnterpriseAppServer          7290427      Comp503532   \n",
       "2      ActiveDirectory  EnterpriseAppServer          7290427      Comp503532   \n",
       "3      ActiveDirectory  EnterpriseAppServer          7290427      Comp503532   \n",
       "4      ActiveDirectory  EnterpriseAppServer          7290438      Comp503532   \n",
       "...                ...                  ...              ...             ...   \n",
       "10567  ActiveDirectory  EnterpriseAppServer          7290427      Comp257274   \n",
       "10568  ActiveDirectory  EnterpriseAppServer          7290427      Comp257274   \n",
       "10569  ActiveDirectory  EnterpriseAppServer          7290427      Comp257274   \n",
       "10570  ActiveDirectory  EnterpriseAppServer          7290427      Comp257274   \n",
       "10571  ActiveDirectory  EnterpriseAppServer          7290427      Comp257274   \n",
       "\n",
       "       rdp2_epoch_time  \n",
       "0              7291140  \n",
       "1              7291140  \n",
       "2              7291140  \n",
       "3              7291140  \n",
       "4              7291140  \n",
       "...                ...  \n",
       "10567          7292630  \n",
       "10568          7292630  \n",
       "10569          7292630  \n",
       "10570          7292630  \n",
       "10571          7292630  \n",
       "\n",
       "[10572 rows x 5 columns]"
      ]
     },
     "execution_count": 304,
     "metadata": {},
     "output_type": "execute_result"
    }
   ],
   "source": [
    "#Print specific table data\n",
    "print(\"Print Specific Table Data\")\n",
    "tableName = \"answers\"\n",
    "table = conn.get_table_frame(tableName)\n",
    "numRows = table.num_rows\n",
    "schema = table.schema\n",
    "\n",
    "if numRows == 0:\n",
    "    print(\"Zero Rows in Table\")\n",
    "    \n",
    "#print schema\n",
    "print(\"Print Table Schema for table {0} :\",tableName)\n",
    "result = \"\"\n",
    "for columns in schema:\n",
    "    result += \"\\n\"\n",
    "    colName = columns[0]\n",
    "    if columns[1] == 'int':\n",
    "        colType = 'xgt.INT'\n",
    "    elif columns[1] == 'text':\n",
    "        colType = 'xgt.TEXT'\n",
    "    elif columns[1] == 'float':\n",
    "        colType = 'xgt.FLOAT'\n",
    "    elif columns[1] == 'datetime':\n",
    "        colType = 'xgt.DATETIME'\n",
    "    else:\n",
    "        colType = 'xgt.UNKNOWN'\n",
    "    if len(result) > 0:\n",
    "        result += \", \"\n",
    "    result += \"{0}:{1}\".format(colName, colType)    \n",
    "print(result)\n",
    "\n",
    "#print data\n",
    "print(\"Print data for table {0} :\",tableName)\n",
    "data = table.get_data_pandas()\n",
    "data[0:10]\n",
    "data"
   ]
  },
  {
   "cell_type": "code",
   "execution_count": null,
   "metadata": {},
   "outputs": [],
   "source": [
    "#Generate Graph from Pandas Dataframes\n",
    "from_pandas_dataframe(df, source, target, edge_attr=None, create_using=None)"
   ]
  },
  {
   "cell_type": "code",
   "execution_count": 305,
   "metadata": {},
   "outputs": [
    {
     "name": "stdout",
     "output_type": "stream",
     "text": [
      "Pre-processing specific field in input file : {0} /nvme_data1/data_2v/wls_day-86_2v.csv\n",
      "Output file : {0} /nvme_data9/data_2v/wls_day-86_2v.csv\n"
     ]
    }
   ],
   "source": [
    "#Data Pre-processing\n",
    "input_file=\"/nvme_data1/data_2v/wls_day-86_2v.csv\"\n",
    "output_file=\"/nvme_data9/data_2v/wls_day-86_2v.csv\"\n",
    "\n",
    "print(\"Pre-processing specific field in input file : {0}\",input_file)\n",
    "\n",
    "LOGHOST = 2\n",
    "SOURCE = 12\n",
    "DEST = 14\n",
    "\n",
    "with open(output_file, 'w') as outfile:\n",
    "    writer = csv.writer(outfile, quoting=csv.QUOTE_MINIMAL)\n",
    "    with open(input_file, 'r') as infile:\n",
    "        reader = csv.reader(infile)\n",
    "        for row in reader:\n",
    "            if row[DEST] == '':\n",
    "                row[DEST] = row[LOGHOST]\n",
    "            if row[SOURCE] == '':\n",
    "                row[SOURCE] = row[LOGHOST]\n",
    "            writer.writerow(row)\n",
    "            \n",
    "print(\"Output file generation complete : {0}\",output_file)            "
   ]
  },
  {
   "cell_type": "code",
   "execution_count": 309,
   "metadata": {},
   "outputs": [],
   "source": [
    "%%bash\n",
    "\n",
    "#ls -altr\n",
    "\n",
    "#GET CIC DDOS2019 Dataset in pcap format\n",
    "#wget \"http://205.174.165.80/CICDataset/CICDDoS2019/Dataset/PCAPs/03-11/PCAP-03-11.zip\" -O “/nvme_data14/CICDataset/CICDDoS2019/Dataset/PCAPs/PCAP-03-11.zip\"\n",
    "#wget \"http://205.174.165.80/CICDataset/CICDDoS2019/Dataset/PCAPs/01-12/PCAP-01-12_0-0249.zip\" -O \"/nvme_data14/CICDataset/CICDDoS2019/Dataset/PCAPs/PCAP-01-12_0-0249.zip\"\n",
    "#wget \"http://205.174.165.80/CICDataset/CICDDoS2019/Dataset/PCAPs/01-12/PCAP-01-12_0250-0499.zip\" -O \"/nvme_data14/CICDataset/CICDDoS2019/Dataset/PCAPs/PCAP-01-12_0250-0499.zip\"\n",
    "#wget \"http://205.174.165.80/CICDataset/CICDDoS2019/Dataset/PCAPs/01-12/PCAP-01-12_0500-0749.zip\" -O \"/nvme_data14/CICDataset/CICDDoS2019/Dataset/PCAPs/PCAP-01-12_0500-0749.zip\"\n",
    "#wget \"http://205.174.165.80/CICDataset/CICDDoS2019/Dataset/PCAPs/01-12/PCAP-01-12_0750-0818.zip\" -O \"/nvme_data14/CICDataset/CICDDoS2019/Dataset/PCAPs/PCAP-01-12_0750-0818.zip\"\n",
    "\n",
    "#GET CIC DDOS2019 Dataset in csv format\n",
    "#wget \"http://205.174.165.80/CICDataset/CICDDoS2019/Dataset/CSVs/CSV-01-12.zip\" -O \"/nvme_data14/CICDataset/CICDDoS2019/Dataset/csv/CSV-01-12.zip\"\n",
    "#wget \"http://205.174.165.80/CICDataset/CICDDoS2019/Dataset/CSVs/CSV-03-11.zip\" -O \"/nvme_data14/CICDataset/CICDDoS2019/Dataset/csv/CSV-03-11.zip\"\n",
    "\n",
    "#GET LANL Dataset in csv format\n",
    "#for i in {1..90}; do wget \"https://datasets.trovares.com/LANL/xgt/wls_day-\"$i\"_2v.csv\" -O \"/nvme_data1/data_1v/wls_day-\"$i\"_2v.csv\" ; done\n",
    "#for i in {1..90}; do wget \"https://datasets.trovares.com/LANL/xgt/wls_day-\"$i\"_1v.csv\" -O \"/nvme_data1/data_2v/wls_day-\"$i\"_1v.csv\" ; done\n",
    "#for i in {1..90}; do wget \"https://datasets.trovares.com/LANL/xgt/nf_day-\"$i\".csv\" -O \"/nvme_data1/data_nf/nf_day-\"$i\".csv\" ; done\n",
    "\n"
   ]
  },
  {
   "cell_type": "code",
   "execution_count": null,
   "metadata": {},
   "outputs": [],
   "source": []
  }
 ],
 "metadata": {
  "kernelspec": {
   "display_name": "python_3_7",
   "language": "python",
   "name": "python_3_7"
  },
  "language_info": {
   "codemirror_mode": {
    "name": "ipython",
    "version": 3
   },
   "file_extension": ".py",
   "mimetype": "text/x-python",
   "name": "python",
   "nbconvert_exporter": "python",
   "pygments_lexer": "ipython3",
   "version": "3.7.4"
  }
 },
 "nbformat": 4,
 "nbformat_minor": 2
}
