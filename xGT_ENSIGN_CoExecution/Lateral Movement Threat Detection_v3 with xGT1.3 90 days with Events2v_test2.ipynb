{
 "cells": [
  {
   "cell_type": "code",
   "execution_count": 23,
   "metadata": {},
   "outputs": [
    {
     "name": "stdout",
     "output_type": "stream",
     "text": [
      "3.7.4\n"
     ]
    }
   ],
   "source": [
    "import xgt\n",
    "import os\n",
    "import pandas\n",
    "\n",
    "from platform import python_version\n",
    "print (python_version())"
   ]
  },
  {
   "cell_type": "code",
   "execution_count": 24,
   "metadata": {},
   "outputs": [],
   "source": [
    "if os.environ.get('https_proxy'):\n",
    " del os.environ['https_proxy']\n",
    "if os.environ.get('http_proxy'):\n",
    " del os.environ['http_proxy']"
   ]
  },
  {
   "cell_type": "code",
   "execution_count": 25,
   "metadata": {},
   "outputs": [
    {
     "data": {
      "text/plain": [
       "'1.3.0'"
      ]
     },
     "execution_count": 25,
     "metadata": {},
     "output_type": "execute_result"
    }
   ],
   "source": [
    "conn=xgt.Connection()\n",
    "conn.server_version"
   ]
  },
  {
   "cell_type": "code",
   "execution_count": 26,
   "metadata": {},
   "outputs": [
    {
     "data": {
      "text/plain": [
       "<xgt.graph.VertexFrame at 0x7f63588b3f50>"
      ]
     },
     "execution_count": 26,
     "metadata": {},
     "output_type": "execute_result"
    }
   ],
   "source": [
    "try:\n",
    "  devices = conn.get_vertex_frame('Devices')\n",
    "except xgt.XgtNameError:\n",
    "  devices = conn.create_vertex_frame(\n",
    "      name='Devices',\n",
    "      schema=[['device', xgt.TEXT]],\n",
    "      key='device')\n",
    "devices"
   ]
  },
  {
   "cell_type": "code",
   "execution_count": 27,
   "metadata": {},
   "outputs": [
    {
     "data": {
      "text/plain": [
       "<xgt.graph.EdgeFrame at 0x7f63588b7b90>"
      ]
     },
     "execution_count": 27,
     "metadata": {},
     "output_type": "execute_result"
    }
   ],
   "source": [
    "try:\n",
    "  netflow = conn.get_edge_frame('Netflow')\n",
    "except xgt.XgtNameError:\n",
    "  netflow = conn.create_edge_frame(\n",
    "      name='Netflow',\n",
    "      schema=[['epoch_time', xgt.INT],\n",
    "              ['duration', xgt.INT],\n",
    "              ['src_device', xgt.TEXT],\n",
    "              ['dst_device', xgt.TEXT],\n",
    "              ['protocol', xgt.INT],\n",
    "              ['src_port', xgt.INT],\n",
    "              ['dst_port', xgt.INT],\n",
    "              ['src_packets', xgt.INT],\n",
    "              ['dst_packets', xgt.INT],\n",
    "              ['src_bytes', xgt.INT],\n",
    "              ['dst_bytes', xgt.INT]],\n",
    "      source=devices,\n",
    "      target=devices,\n",
    "      source_key='src_device',\n",
    "      target_key='dst_device')\n",
    "netflow"
   ]
  },
  {
   "cell_type": "code",
   "execution_count": 28,
   "metadata": {},
   "outputs": [
    {
     "data": {
      "text/plain": [
       "<xgt.graph.EdgeFrame at 0x7f63588bb290>"
      ]
     },
     "execution_count": 28,
     "metadata": {},
     "output_type": "execute_result"
    }
   ],
   "source": [
    "try:\n",
    "  host_events = conn.get_edge_frame('HostEvents')\n",
    "except xgt.XgtNameError:\n",
    "  host_events = conn.create_edge_frame(\n",
    "      name='HostEvents',\n",
    "      schema=[['epoch_time', xgt.INT],\n",
    "              ['event_id', xgt.INT],\n",
    "              ['log_host', xgt.TEXT],\n",
    "              ['user_name', xgt.TEXT],\n",
    "              ['domain_name', xgt.TEXT],\n",
    "              ['logon_id', xgt.INT],\n",
    "              ['process_name', xgt.TEXT],\n",
    "              ['process_id', xgt.INT],\n",
    "              ['parent_process_name', xgt.TEXT],\n",
    "              ['parent_process_id', xgt.INT]],\n",
    "           source=devices,\n",
    "           target=devices,\n",
    "           source_key='log_host',\n",
    "           target_key='log_host')\n",
    "host_events"
   ]
  },
  {
   "cell_type": "code",
   "execution_count": 29,
   "metadata": {},
   "outputs": [
    {
     "data": {
      "text/plain": [
       "<xgt.graph.EdgeFrame at 0x7f63598f0b90>"
      ]
     },
     "execution_count": 29,
     "metadata": {},
     "output_type": "execute_result"
    }
   ],
   "source": [
    "try:\n",
    "  auth_events = conn.get_edge_frame('AuthEvents')\n",
    "except xgt.XgtNameError:\n",
    "  auth_events = conn.create_edge_frame(\n",
    "           name='AuthEvents',\n",
    "           schema = [['epoch_time',xgt.INT],\n",
    "                     ['event_id',xgt.INT],\n",
    "                     ['log_host',xgt.TEXT],\n",
    "                     ['logon_type',xgt.INT],\n",
    "                     ['logon_type_description',xgt.TEXT],\n",
    "                     ['user_name',xgt.TEXT],\n",
    "                     ['domain_name',xgt.TEXT],\n",
    "                     ['logon_id',xgt.INT],\n",
    "                     ['subject_user_name',xgt.TEXT],\n",
    "                     ['subject_domain_name',xgt.TEXT],\n",
    "                     ['subject_logon_id',xgt.TEXT],\n",
    "                     ['status',xgt.TEXT],\n",
    "                     ['src',xgt.TEXT],\n",
    "                     ['service_name',xgt.TEXT],\n",
    "                     ['destination',xgt.TEXT],\n",
    "                     ['authentication_package',xgt.TEXT],\n",
    "                     ['failure_reason',xgt.TEXT],\n",
    "                     ['process_name',xgt.TEXT],\n",
    "                     ['process_id',xgt.INT],\n",
    "                     ['parent_process_name',xgt.TEXT],\n",
    "                     ['parent_process_id',xgt.INT]],\n",
    "            source = 'Devices',\n",
    "            target = 'Devices',\n",
    "            source_key = 'src',\n",
    "            target_key = 'destination')\n",
    "auth_events"
   ]
  },
  {
   "cell_type": "code",
   "execution_count": 30,
   "metadata": {},
   "outputs": [
    {
     "name": "stdout",
     "output_type": "stream",
     "text": [
      "Devices (vertices): 0\n",
      "Netflow (edges): 0\n",
      "Host events (edges): 0\n",
      "Authentication events (edges): 0\n",
      "Total (edges): 0\n"
     ]
    }
   ],
   "source": [
    "# Utility to print the sizes of data currently in xGT\n",
    "def print_data_summary():\n",
    "  print('Devices (vertices): {:,}'.format(devices.num_vertices))\n",
    "  print('Netflow (edges): {:,}'.format(netflow.num_edges))\n",
    "  print('Host events (edges): {:,}'.format(host_events.num_edges))\n",
    "  print('Authentication events (edges): {:,}'.format(auth_events.num_edges))\n",
    "  print('Total (edges): {:,}'.format(\n",
    "      netflow.num_edges + host_events.num_edges + auth_events.num_edges))\n",
    "    \n",
    "print_data_summary()"
   ]
  },
  {
   "cell_type": "code",
   "execution_count": 31,
   "metadata": {
    "scrolled": true
   },
   "outputs": [
    {
     "name": "stdout",
     "output_type": "stream",
     "text": [
      "Devices (vertices): 10,324\n",
      "Netflow (edges): 0\n",
      "Host events (edges): 18,637,483\n",
      "Authentication events (edges): 0\n",
      "Total (edges): 18,637,483\n",
      "CPU times: user 14.9 ms, sys: 11 ms, total: 25.9 ms\n",
      "Wall time: 23.3 s\n"
     ]
    }
   ],
   "source": [
    "%%time\n",
    "\n",
    "# Load the HostEvents event data:\n",
    "if host_events.num_edges == 0:\n",
    "    # urls = [\"https://datasets.trovares.com/LANL/xgt/wls_day-85_1v.csv\"]\n",
    "    # urls = [\"xgtd://nvme_data1/data_1v/wls_day-{:02d}_1v.csv\".format(_) for _ in range(2,91)]\n",
    "    # urls = [\"xgtd://nvme_data1/data_1v/wls_day-11_1v.csv\"]\n",
    "    urls = [\"xgtd://nvme_data1/data_1v/wls_day-85_1v.csv\"]\n",
    "    host_events.load(urls)\n",
    "    print_data_summary()"
   ]
  },
  {
   "cell_type": "code",
   "execution_count": 32,
   "metadata": {},
   "outputs": [
    {
     "name": "stdout",
     "output_type": "stream",
     "text": [
      "Devices (vertices): 12,288\n",
      "Netflow (edges): 0\n",
      "Host events (edges): 18,637,483\n",
      "Authentication events (edges): 47,790,045\n",
      "Total (edges): 66,427,528\n",
      "CPU times: user 36.2 ms, sys: 43.3 ms, total: 79.5 ms\n",
      "Wall time: 1min 16s\n"
     ]
    }
   ],
   "source": [
    "%%time\n",
    "\n",
    "# Load the AuthEvents event data:\n",
    "if auth_events.num_edges == 0:\n",
    "    # urls = [\"https://datasets.trovares.com/LANL/xgt/wls_day-85_2v.csv\"]\n",
    "    # urls = [\"xgtd://nvme_data9/data_2v/output/wls_day-{:02d}_2v.csv\".format(_) for _ in range(2,91)]\n",
    "    # urls = [\"xgtd://nvme_data9/data_2v/output/wls_day-11_2v.csv\"]\n",
    "    # urls = [\"xgtd://nvme_data9/data_2v/output/wls_day-85_2v.csv\"]\n",
    "    urls = [\"xgtd://nvme_data3/data_2v/wls_day-85_2v.csv\"]\n",
    "    auth_events.load(urls)\n",
    "    print_data_summary()"
   ]
  },
  {
   "cell_type": "code",
   "execution_count": 33,
   "metadata": {
    "scrolled": true
   },
   "outputs": [
    {
     "name": "stdout",
     "output_type": "stream",
     "text": [
      "Devices (vertices): 137,812\n",
      "Netflow (edges): 235,661,328\n",
      "Host events (edges): 18,637,483\n",
      "Authentication events (edges): 47,790,045\n",
      "Total (edges): 302,088,856\n",
      "CPU times: user 80.9 ms, sys: 45.3 ms, total: 126 ms\n",
      "Wall time: 2min 59s\n"
     ]
    }
   ],
   "source": [
    "%%time\n",
    "\n",
    "# Load the netflow data:\n",
    "if netflow.num_edges == 0:\n",
    "    #urls = [\"https://datasets.trovares.com/LANL/xgt/nf_day-85.csv\"]\n",
    "    #urls = [\"xgtd://nvme_data1/data_nf/nf_day-{:02d}.csv\".format(_) for _ in range(2,91)]\n",
    "    # urls = [\"xgtd://nvme_data1/data_nf/nf_day-11.csv\"]\n",
    "    # urls = [\"xgtd://nvme_data1/data_nf/nf_day-85.csv\"]\n",
    "    urls = [\"xgtd://nvme_data5/data_nf/nf_day-85.csv\"]\n",
    "    netflow.load(urls)\n",
    "    print_data_summary()"
   ]
  },
  {
   "cell_type": "code",
   "execution_count": 34,
   "metadata": {},
   "outputs": [],
   "source": [
    "# Utility function to launch queries and show job number:\n",
    "#   The job number may be useful if a long-running job needs\n",
    "#   to be canceled.\n",
    "\n",
    "def run_query(query, table_name = \"answers\", drop_answer_table=True, show_query=False):\n",
    "    if drop_answer_table:\n",
    "        conn.drop_frame(table_name)\n",
    "    if query[-1] != '\\n':\n",
    "        query += '\\n'\n",
    "    query += 'INTO {}'.format(table_name)\n",
    "    if show_query:\n",
    "        print(\"Query:\\n\" + query)\n",
    "    job = conn.schedule_job(query)\n",
    "    print(\"Launched job {}\".format(job.id))\n",
    "    conn.wait_for_job(job)\n",
    "    table = conn.get_table_frame(table_name)\n",
    "    return table"
   ]
  },
  {
   "cell_type": "code",
   "execution_count": 35,
   "metadata": {},
   "outputs": [
    {
     "data": {
      "text/plain": [
       "<xgt.graph.EdgeFrame at 0x7f63588c4d90>"
      ]
     },
     "execution_count": 35,
     "metadata": {},
     "output_type": "execute_result"
    }
   ],
   "source": [
    "# Generate a new edge frame for holding only the RDP edges\n",
    "import time\n",
    "query_start_time = time.time()\n",
    "\n",
    "conn.drop_frame('RDPFlow')\n",
    "rdp_flow = conn.create_edge_frame(\n",
    "            name='RDPFlow',\n",
    "            schema=netflow.schema,\n",
    "            source=devices,\n",
    "            target=devices,\n",
    "            source_key='src_device',\n",
    "            target_key='dst_device')\n",
    "rdp_flow"
   ]
  },
  {
   "cell_type": "code",
   "execution_count": 36,
   "metadata": {},
   "outputs": [
    {
     "name": "stdout",
     "output_type": "stream",
     "text": [
      "Launched job 2686\n",
      "Number of answers: 31\n",
      "CPU times: user 10.1 ms, sys: 183 µs, total: 10.3 ms\n",
      "Wall time: 1.01 s\n"
     ]
    }
   ],
   "source": [
    "%%time\n",
    "\n",
    "#Extract forward RDP edges\n",
    "q = \"\"\"\n",
    "MATCH (v0)-[edge:Netflow]->(v1)\n",
    "WHERE edge.dst_port=3389\n",
    "CREATE (v0)-[e:RDPFlow {epoch_time : edge.epoch_time,\n",
    "  duration : edge.duration, protocol : edge.protocol,\n",
    "  src_port : edge.src_port, dst_port : edge.dst_port,\n",
    "  src_packets : edge.src_packets, dst_packets : edge.dst_packets,\n",
    "  src_bytes : edge.src_bytes, dst_bytes : edge.dst_bytes}]->(v1)\n",
    "RETURN count(*)\n",
    "\"\"\"\n",
    "data = run_query(q)\n",
    "print('Number of answers: {:,}'.format(data.get_data()[0][0]))"
   ]
  },
  {
   "cell_type": "code",
   "execution_count": 37,
   "metadata": {},
   "outputs": [
    {
     "name": "stdout",
     "output_type": "stream",
     "text": [
      "Launched job 2724\n",
      "Number of answers: 9,701\n",
      "CPU times: user 5.4 ms, sys: 4.75 ms, total: 10.1 ms\n",
      "Wall time: 1.02 s\n"
     ]
    }
   ],
   "source": [
    "%%time\n",
    "\n",
    "#Extract reverse RDP edges\n",
    "q = \"\"\"\n",
    "MATCH (v0)-[edge:Netflow]->(v1)\n",
    "WHERE edge.src_port=3389\n",
    "CREATE (v1)-[e:RDPFlow {epoch_time : edge.epoch_time,\n",
    "  duration : edge.duration, protocol : edge.protocol,\n",
    "  src_port : edge.dst_port, dst_port : edge.src_port,\n",
    "  src_packets : edge.dst_packets, dst_packets : edge.src_packets,\n",
    "  src_bytes : edge.dst_bytes, dst_bytes : edge.src_bytes}]->(v0)\n",
    "RETURN count(*)\n",
    "\"\"\"\n",
    "data = run_query(q)\n",
    "print('Number of answers: {:,}'.format(data.get_data()[0][0]))"
   ]
  },
  {
   "cell_type": "code",
   "execution_count": 38,
   "metadata": {},
   "outputs": [
    {
     "data": {
      "text/plain": [
       "'RDPflow (edges): 9,732'"
      ]
     },
     "execution_count": 38,
     "metadata": {},
     "output_type": "execute_result"
    }
   ],
   "source": [
    "data=None\n",
    "if rdp_flow.num_edges == 0:\n",
    "    print(\"RDPFlow is empty\")\n",
    "elif rdp_flow.num_edges <= 1000:\n",
    "    data = rdp_flow.get_data_pandas()\n",
    "else:\n",
    "    data = 'RDPflow (edges): {:,}'.format(rdp_flow.num_edges)\n",
    "data"
   ]
  },
  {
   "cell_type": "code",
   "execution_count": 39,
   "metadata": {},
   "outputs": [
    {
     "name": "stdout",
     "output_type": "stream",
     "text": [
      "Devices (vertices): 137,812\n",
      "Netflow (edges): 235,661,328\n",
      "Host events (edges): 18,637,483\n",
      "Authentication events (edges): 47,790,045\n",
      "Total (edges): 302,088,856\n",
      "RDPFlow (edges): 9,732\n"
     ]
    }
   ],
   "source": [
    "# Utility to print the data sizes currently in xGT\n",
    "def print_netflow_data_summary():\n",
    "  print_data_summary()\n",
    "  print('RDPFlow (edges): {:,}'.format(rdp_flow.num_edges))\n",
    "\n",
    "print_netflow_data_summary()"
   ]
  },
  {
   "cell_type": "code",
   "execution_count": 40,
   "metadata": {},
   "outputs": [
    {
     "name": "stdout",
     "output_type": "stream",
     "text": [
      "Launched job 2746\n",
      "Number of answers: 10,572\n",
      "CPU times: user 6.24 ms, sys: 1.3 ms, total: 7.54 ms\n",
      "Wall time: 1.42 s\n"
     ]
    }
   ],
   "source": [
    "%%time\n",
    "\n",
    "#Lateral Movement Query\n",
    "time_threshold_between_step = 3600   # one hour\n",
    "time_threshold_hijack = 180          # three minutes\n",
    "time_threshold_one_step = 480        # eight minutes\n",
    "q = \"\"\"\n",
    "MATCH (A)-[rdp1:RDPFlow]->(B)-[rdp2:RDPFlow]->(C),\n",
    "      (A)-[hijack1:HostEvents]->(A)-[privEsc1:HostEvents]->(A),\n",
    "      (B)-[hijack2:HostEvents]->(B)-[privEsc2:HostEvents]->(B)\n",
    "WHERE A <> B AND B <> C AND A <> C \n",
    "  AND privEsc1.event_id = 4688 \n",
    "  AND (privEsc1.process_name = \"Proc336322.exe\" OR privEsc1.process_name = \"Proc695356.exe\")\n",
    "  AND hijack1.event_id = 4688 AND hijack1.process_name = \"Proc249569.exe\"\n",
    "  AND privEsc2.event_id = 4688 \n",
    "  AND (privEsc2.process_name = \"Proc336322.exe\" OR privEsc2.process_name = \"Proc695356.exe\")\n",
    "  AND hijack2.event_id = 4688 AND hijack2.process_name = \"Proc249569.exe\"\n",
    "\n",
    "  // Check time constraints on the overall pattern\n",
    "  AND rdp1.epoch_time <= rdp2.epoch_time\n",
    "  AND rdp2.epoch_time - rdp1.epoch_time < {0}\n",
    "\n",
    "  // Check time constraints on step from A to B\n",
    "  AND privEsc1.epoch_time <= hijack1.epoch_time\n",
    "  AND hijack1.epoch_time <= rdp1.epoch_time\n",
    "  AND rdp1.epoch_time - hijack1.epoch_time < {1}\n",
    "  AND rdp1.epoch_time - privEsc1.epoch_time < {2}\n",
    "\n",
    "  // Check time constraints on step from B to C\n",
    "  AND privEsc2.epoch_time <= hijack2.epoch_time\n",
    "  AND hijack2.epoch_time <= rdp2.epoch_time\n",
    "  AND rdp2.epoch_time - hijack2.epoch_time < {1}\n",
    "  AND rdp2.epoch_time - privEsc2.epoch_time < {2}\n",
    "RETURN rdp1.src_device, rdp1.dst_device, rdp1.epoch_time, rdp2.dst_device, rdp2.epoch_time\n",
    "\"\"\".format(time_threshold_between_step, time_threshold_hijack, time_threshold_one_step)\n",
    "answer_table = run_query(q)\n",
    "print('Number of answers: {:,}'.format(answer_table.num_rows))"
   ]
  },
  {
   "cell_type": "code",
   "execution_count": 41,
   "metadata": {},
   "outputs": [
    {
     "name": "stdout",
     "output_type": "stream",
     "text": [
      "Launched job 2752\n",
      "HijackEvents (edges): 166,889\n",
      "CPU times: user 4.79 ms, sys: 1.71 ms, total: 6.49 ms\n",
      "Wall time: 335 ms\n"
     ]
    }
   ],
   "source": [
    "%%time\n",
    "# Build HijackEvents table\n",
    "\n",
    "import time\n",
    "start_optimized_query_time = time.time()\n",
    "\n",
    "conn.drop_frame('HijackEvents')\n",
    "hijack_events = conn.create_edge_frame(\n",
    "    name   ='HijackEvents',\n",
    "    schema = [['epoch_time', xgt.INT],\n",
    "              ['src_host', xgt.TEXT],\n",
    "              ['dst_host', xgt.TEXT]],\n",
    "    source = devices,\n",
    "    target = devices,\n",
    "    source_key = 'src_host',\n",
    "    target_key = 'dst_host')\n",
    "\n",
    "query = \"\"\"\n",
    "MATCH (v0)-[edge:HostEvents]->(v0)\n",
    "WHERE edge.process_name = \"Proc249569.exe\"\n",
    "  AND edge.event_id = 4688\n",
    "CREATE (v0)-[e:HijackEvents { epoch_time : edge.epoch_time }]->(v0)\n",
    "RETURN count(*)\n",
    "\"\"\"\n",
    "run_query(query)\n",
    "print('HijackEvents (edges): {:,}'.format(hijack_events.num_edges))"
   ]
  },
  {
   "cell_type": "code",
   "execution_count": 42,
   "metadata": {},
   "outputs": [
    {
     "name": "stdout",
     "output_type": "stream",
     "text": [
      "Launched job 2780\n",
      "PrivEscEvents (edges): 135,214\n",
      "CPU times: user 4.46 ms, sys: 1.03 ms, total: 5.5 ms\n",
      "Wall time: 382 ms\n"
     ]
    }
   ],
   "source": [
    "%%time\n",
    "# Build a PrivEscEvents table\n",
    "\n",
    "conn.drop_frame('PrivEscEvents')\n",
    "priv_esc_events = conn.create_edge_frame(\n",
    "    name   ='PrivEscEvents',\n",
    "    schema = [['epoch_time', xgt.INT],\n",
    "              ['src_host', xgt.TEXT],\n",
    "              ['dst_host', xgt.TEXT]],\n",
    "    source = devices,\n",
    "    target = devices,\n",
    "    source_key = 'src_host',\n",
    "    target_key = 'dst_host')\n",
    "\n",
    "query = \"\"\"\n",
    "MATCH (v0)-[edge:HostEvents]->(v0)\n",
    "WHERE edge.process_name = \"Proc336322.exe\" OR\n",
    "      edge.process_name = \"Proc695356.exe\"\n",
    "  AND edge.event_id = 4688\n",
    "CREATE (v0)-[e:PrivEscEvents { epoch_time : edge.epoch_time }]->(v0)\n",
    "RETURN count(*)\n",
    "\"\"\"\n",
    "run_query(query)\n",
    "print('PrivEscEvents (edges): {:,}'.format(priv_esc_events.num_edges))"
   ]
  },
  {
   "cell_type": "code",
   "execution_count": 43,
   "metadata": {},
   "outputs": [
    {
     "name": "stdout",
     "output_type": "stream",
     "text": [
      "Launched job 2818\n",
      "Number of answers: 10,572\n",
      "Time for query: 0.91\n",
      "Overall time for query: 5.16\n",
      "CPU times: user 4.36 ms, sys: 0 ns, total: 4.36 ms\n",
      "Wall time: 907 ms\n"
     ]
    }
   ],
   "source": [
    "%%time\n",
    "# Now run the lateral movement query using these new index tables\n",
    "\n",
    "q = \"\"\"\n",
    "MATCH (A)-[rdp1:RDPFlow]->(B)-[rdp2:RDPFlow]->(C),\n",
    "      (A)-[hijack1:HijackEvents]->(A)-[priv_esc1:PrivEscEvents]->(A),\n",
    "      (B)-[hijack2:HijackEvents]->(B)-[priv_esc2:PrivEscEvents]->(B)\n",
    "WHERE A <> B AND B <> C AND A <> C \n",
    "  // Check time constraints on the overall pattern\n",
    "  AND rdp1.epoch_time <= rdp2.epoch_time\n",
    "  AND rdp2.epoch_time - rdp1.epoch_time < {0}\n",
    "\n",
    "  // Check time constraints on step from A to B\n",
    "  AND priv_esc1.epoch_time <= hijack1.epoch_time\n",
    "  AND hijack1.epoch_time <= rdp1.epoch_time\n",
    "  AND rdp1.epoch_time - hijack1.epoch_time < {1}\n",
    "  AND rdp1.epoch_time - priv_esc1.epoch_time < {2}\n",
    "\n",
    "  // Check time constraints on step from B to C\n",
    "  AND priv_esc2.epoch_time <= hijack2.epoch_time\n",
    "  AND hijack2.epoch_time <= rdp2.epoch_time\n",
    "  AND rdp2.epoch_time - hijack2.epoch_time < {1}\n",
    "  AND rdp2.epoch_time - priv_esc2.epoch_time < {2}\n",
    "RETURN rdp1.src_device, rdp1.dst_device, rdp1.epoch_time, rdp2.dst_device, rdp2.epoch_time\n",
    "\"\"\".format(time_threshold_between_step, time_threshold_hijack, time_threshold_one_step)\n",
    "start_timer = time.time()\n",
    "answer_table = run_query(q)\n",
    "end_timer = time.time()\n",
    "query_end_time = time.time()\n",
    "print('Number of answers: {:,}'.format(answer_table.num_rows))\n",
    "\n",
    "print(\"Time for query: {:,.2f}\".format(end_timer - start_timer))\n",
    "print(\"Overall time for query: {:,.2f}\".format(query_end_time - query_start_time))"
   ]
  },
  {
   "cell_type": "code",
   "execution_count": 44,
   "metadata": {},
   "outputs": [
    {
     "data": {
      "text/html": [
       "<div>\n",
       "<style scoped>\n",
       "    .dataframe tbody tr th:only-of-type {\n",
       "        vertical-align: middle;\n",
       "    }\n",
       "\n",
       "    .dataframe tbody tr th {\n",
       "        vertical-align: top;\n",
       "    }\n",
       "\n",
       "    .dataframe thead th {\n",
       "        text-align: right;\n",
       "    }\n",
       "</style>\n",
       "<table border=\"1\" class=\"dataframe\">\n",
       "  <thead>\n",
       "    <tr style=\"text-align: right;\">\n",
       "      <th></th>\n",
       "      <th>rdp1_src_device</th>\n",
       "      <th>rdp1_dst_device</th>\n",
       "      <th>rdp1_epoch_time</th>\n",
       "      <th>rdp2_dst_device</th>\n",
       "      <th>rdp2_epoch_time</th>\n",
       "    </tr>\n",
       "  </thead>\n",
       "  <tbody>\n",
       "    <tr>\n",
       "      <th>0</th>\n",
       "      <td>ActiveDirectory</td>\n",
       "      <td>EnterpriseAppServer</td>\n",
       "      <td>7290427</td>\n",
       "      <td>Comp503532</td>\n",
       "      <td>7291140</td>\n",
       "    </tr>\n",
       "    <tr>\n",
       "      <th>1</th>\n",
       "      <td>ActiveDirectory</td>\n",
       "      <td>EnterpriseAppServer</td>\n",
       "      <td>7290427</td>\n",
       "      <td>Comp503532</td>\n",
       "      <td>7291140</td>\n",
       "    </tr>\n",
       "    <tr>\n",
       "      <th>2</th>\n",
       "      <td>ActiveDirectory</td>\n",
       "      <td>EnterpriseAppServer</td>\n",
       "      <td>7290427</td>\n",
       "      <td>Comp503532</td>\n",
       "      <td>7291140</td>\n",
       "    </tr>\n",
       "    <tr>\n",
       "      <th>3</th>\n",
       "      <td>ActiveDirectory</td>\n",
       "      <td>EnterpriseAppServer</td>\n",
       "      <td>7290427</td>\n",
       "      <td>Comp503532</td>\n",
       "      <td>7291140</td>\n",
       "    </tr>\n",
       "    <tr>\n",
       "      <th>4</th>\n",
       "      <td>ActiveDirectory</td>\n",
       "      <td>EnterpriseAppServer</td>\n",
       "      <td>7290438</td>\n",
       "      <td>Comp503532</td>\n",
       "      <td>7291140</td>\n",
       "    </tr>\n",
       "    <tr>\n",
       "      <th>5</th>\n",
       "      <td>ActiveDirectory</td>\n",
       "      <td>EnterpriseAppServer</td>\n",
       "      <td>7290427</td>\n",
       "      <td>Comp503532</td>\n",
       "      <td>7291140</td>\n",
       "    </tr>\n",
       "    <tr>\n",
       "      <th>6</th>\n",
       "      <td>ActiveDirectory</td>\n",
       "      <td>EnterpriseAppServer</td>\n",
       "      <td>7290438</td>\n",
       "      <td>Comp503532</td>\n",
       "      <td>7291140</td>\n",
       "    </tr>\n",
       "    <tr>\n",
       "      <th>7</th>\n",
       "      <td>ActiveDirectory</td>\n",
       "      <td>EnterpriseAppServer</td>\n",
       "      <td>7290427</td>\n",
       "      <td>Comp503532</td>\n",
       "      <td>7291140</td>\n",
       "    </tr>\n",
       "    <tr>\n",
       "      <th>8</th>\n",
       "      <td>ActiveDirectory</td>\n",
       "      <td>EnterpriseAppServer</td>\n",
       "      <td>7290427</td>\n",
       "      <td>Comp503532</td>\n",
       "      <td>7291140</td>\n",
       "    </tr>\n",
       "    <tr>\n",
       "      <th>9</th>\n",
       "      <td>ActiveDirectory</td>\n",
       "      <td>EnterpriseAppServer</td>\n",
       "      <td>7290427</td>\n",
       "      <td>Comp503532</td>\n",
       "      <td>7291140</td>\n",
       "    </tr>\n",
       "  </tbody>\n",
       "</table>\n",
       "</div>"
      ],
      "text/plain": [
       "   rdp1_src_device      rdp1_dst_device  rdp1_epoch_time rdp2_dst_device  \\\n",
       "0  ActiveDirectory  EnterpriseAppServer          7290427      Comp503532   \n",
       "1  ActiveDirectory  EnterpriseAppServer          7290427      Comp503532   \n",
       "2  ActiveDirectory  EnterpriseAppServer          7290427      Comp503532   \n",
       "3  ActiveDirectory  EnterpriseAppServer          7290427      Comp503532   \n",
       "4  ActiveDirectory  EnterpriseAppServer          7290438      Comp503532   \n",
       "5  ActiveDirectory  EnterpriseAppServer          7290427      Comp503532   \n",
       "6  ActiveDirectory  EnterpriseAppServer          7290438      Comp503532   \n",
       "7  ActiveDirectory  EnterpriseAppServer          7290427      Comp503532   \n",
       "8  ActiveDirectory  EnterpriseAppServer          7290427      Comp503532   \n",
       "9  ActiveDirectory  EnterpriseAppServer          7290427      Comp503532   \n",
       "\n",
       "   rdp2_epoch_time  \n",
       "0          7291140  \n",
       "1          7291140  \n",
       "2          7291140  \n",
       "3          7291140  \n",
       "4          7291140  \n",
       "5          7291140  \n",
       "6          7291140  \n",
       "7          7291140  \n",
       "8          7291140  \n",
       "9          7291140  "
      ]
     },
     "execution_count": 44,
     "metadata": {},
     "output_type": "execute_result"
    }
   ],
   "source": [
    "# retrieve the answer rows to the client in a pandas frame\n",
    "data = answer_table.get_data_pandas()\n",
    "data[0:10]"
   ]
  }
 ],
 "metadata": {
  "kernelspec": {
   "display_name": "python_3_7",
   "language": "python",
   "name": "python_3_7"
  },
  "language_info": {
   "codemirror_mode": {
    "name": "ipython",
    "version": 3
   },
   "file_extension": ".py",
   "mimetype": "text/x-python",
   "name": "python",
   "nbconvert_exporter": "python",
   "pygments_lexer": "ipython3",
   "version": "3.7.4"
  }
 },
 "nbformat": 4,
 "nbformat_minor": 2
}
