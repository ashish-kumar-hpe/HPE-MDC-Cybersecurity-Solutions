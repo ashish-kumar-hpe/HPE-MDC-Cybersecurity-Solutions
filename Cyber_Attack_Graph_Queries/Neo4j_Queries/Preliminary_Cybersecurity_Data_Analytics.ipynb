{
 "cells": [
  {
   "cell_type": "code",
   "execution_count": 134,
   "metadata": {},
   "outputs": [],
   "source": [
    "import pandas as pd\n",
    "from neo4j import GraphDatabase\n",
    "import time"
   ]
  },
  {
   "cell_type": "code",
   "execution_count": 135,
   "metadata": {},
   "outputs": [],
   "source": [
    "start_node = 'Devices'\n",
    "end_node = 'Devices'\n",
    "auth_event_edge = 'AuthEvents'\n",
    "host_event_edge = 'HostEvents'"
   ]
  },
  {
   "cell_type": "code",
   "execution_count": 136,
   "metadata": {},
   "outputs": [],
   "source": [
    "events_data = {\n",
    "4768 : 'Kerberos authentication ticket was requested (TGT)',\n",
    "4769 : 'Kerberos service ticket was requested (TGS)',\n",
    "4770 : 'Kerberos service ticket was renewed',\n",
    "4774 : 'An account was mapped for logon',\n",
    "4776 : 'Domain controller attempted to validate credentials',\n",
    "4624 : 'An account successfully logged on, see Logon Types',\n",
    "4625 : 'An account failed to logon, see Logon Types',\n",
    "4634 : 'An account was logged off, see Logon Types',\n",
    "4647 : 'User initiated logoff',\n",
    "4648 : 'A logon was attempted using explicit credentials',\n",
    "4672 : 'Special privileges assigned to a new logon',\n",
    "4800 : 'The workstation was locked',\n",
    "4801 : 'The workstation was unlocked',\n",
    "4802 : 'The screensaver was invoked',\n",
    "4803 : 'The screensaver was dismissed',\n",
    "4688 : 'Process start',\n",
    "4689 : 'Process end',\n",
    "4608 : 'Windows is starting up',\n",
    "4609 : 'Windows is shutting down',\n",
    "1100 : 'Event logging service has shut down'\n",
    "}\n"
   ]
  },
  {
   "cell_type": "code",
   "execution_count": 137,
   "metadata": {},
   "outputs": [],
   "source": [
    "event_ids = events_data.keys()\n",
    "id_description = events_data.values()\n",
    "df_events = pd.DataFrame(list(zip(event_ids, id_description)), \n",
    "               columns =['event_id', 'description']) "
   ]
  },
  {
   "cell_type": "code",
   "execution_count": 138,
   "metadata": {},
   "outputs": [],
   "source": [
    "logon_types_description = {\n",
    "2 : 'Interactive',\n",
    "5 : 'Service',\n",
    "9 : 'New Credentials',\n",
    "3 : 'Network', \n",
    "7 : 'Unlock', \n",
    "10 : 'Remote Interactive',\n",
    "4 : 'Batch', \n",
    "8 : 'Network Clear Text', \n",
    "11 : 'Cached Interactive',\n",
    "12 : 'Cached Remote-Interactive',\n",
    "0 : 'Used only by the system account'\n",
    "}"
   ]
  },
  {
   "cell_type": "code",
   "execution_count": 139,
   "metadata": {},
   "outputs": [],
   "source": [
    "logons = logon_types_description.keys()\n",
    "logon_description = logon_types_description.values()\n",
    "df_logons = pd.DataFrame(list(zip(logons, logon_description)), \n",
    "               columns =['logon_type', 'description']) "
   ]
  },
  {
   "cell_type": "code",
   "execution_count": 140,
   "metadata": {},
   "outputs": [],
   "source": [
    "# Get Connection to neo4j\n",
    "\n",
    "uri = 'bolt://localhost:7687'\n",
    "username = 'neo4j'\n",
    "password = 'graph'\n",
    "\n",
    "neo4j_driver = GraphDatabase.driver(uri, auth=(username,password))"
   ]
  },
  {
   "cell_type": "code",
   "execution_count": 141,
   "metadata": {},
   "outputs": [
    {
     "name": "stdout",
     "output_type": "stream",
     "text": [
      "CPU times: user 7.91 ms, sys: 965 µs, total: 8.87 ms\n",
      "Wall time: 1min 16s\n"
     ]
    }
   ],
   "source": [
    "%%time\n",
    "q = \"\"\"\n",
    "MATCH (n0:{0})-[r:{2}]->(n1:{1})\n",
    "RETURN count(r.event_id) as frequency, r.event_id as event_id\n",
    "ORDER BY frequency DESC\n",
    "\"\"\".format(start_node, end_node, auth_event_edge)\n",
    "\n",
    "with neo4j_driver.session() as neo4j_Session:\n",
    "    result = neo4j_Session.run(q)\n",
    "    answer = result.data()\n",
    "\n",
    "df1 = pd.DataFrame(answer)"
   ]
  },
  {
   "cell_type": "code",
   "execution_count": 142,
   "metadata": {
    "scrolled": false
   },
   "outputs": [
    {
     "name": "stdout",
     "output_type": "stream",
     "text": [
      "CPU times: user 8.87 ms, sys: 4.26 ms, total: 13.1 ms\n",
      "Wall time: 38.1 s\n"
     ]
    },
    {
     "data": {
      "text/html": [
       "<div>\n",
       "<style scoped>\n",
       "    .dataframe tbody tr th:only-of-type {\n",
       "        vertical-align: middle;\n",
       "    }\n",
       "\n",
       "    .dataframe tbody tr th {\n",
       "        vertical-align: top;\n",
       "    }\n",
       "\n",
       "    .dataframe thead th {\n",
       "        text-align: right;\n",
       "    }\n",
       "</style>\n",
       "<table border=\"1\" class=\"dataframe\">\n",
       "  <thead>\n",
       "    <tr style=\"text-align: right;\">\n",
       "      <th></th>\n",
       "      <th>frequency</th>\n",
       "      <th>event_id</th>\n",
       "    </tr>\n",
       "  </thead>\n",
       "  <tbody>\n",
       "    <tr>\n",
       "      <th>11</th>\n",
       "      <td>18527129</td>\n",
       "      <td>4688</td>\n",
       "    </tr>\n",
       "    <tr>\n",
       "      <th>0</th>\n",
       "      <td>16389671</td>\n",
       "      <td>4624</td>\n",
       "    </tr>\n",
       "    <tr>\n",
       "      <th>1</th>\n",
       "      <td>15950203</td>\n",
       "      <td>4634</td>\n",
       "    </tr>\n",
       "    <tr>\n",
       "      <th>2</th>\n",
       "      <td>5572526</td>\n",
       "      <td>4672</td>\n",
       "    </tr>\n",
       "    <tr>\n",
       "      <th>3</th>\n",
       "      <td>5354657</td>\n",
       "      <td>4776</td>\n",
       "    </tr>\n",
       "  </tbody>\n",
       "</table>\n",
       "</div>"
      ],
      "text/plain": [
       "    frequency  event_id\n",
       "11   18527129      4688\n",
       "0    16389671      4624\n",
       "1    15950203      4634\n",
       "2     5572526      4672\n",
       "3     5354657      4776"
      ]
     },
     "execution_count": 142,
     "metadata": {},
     "output_type": "execute_result"
    }
   ],
   "source": [
    "%%time\n",
    "q = \"\"\"\n",
    "MATCH (n0:{0})-[r:{2}]->(n1:{1})\n",
    "RETURN count(r.event_id) as frequency, r.event_id as event_id\n",
    "ORDER BY frequency DESC\n",
    "\"\"\".format(start_node, end_node, host_event_edge)\n",
    "\n",
    "with neo4j_driver.session() as neo4j_Session:\n",
    "    result = neo4j_Session.run(q)\n",
    "    answer = result.data()\n",
    "\n",
    "df2 = pd.DataFrame(answer)\n",
    "df1 = df1.append(df2,ignore_index=True)\n",
    "df1.sort_values(by=['frequency'],inplace=True, ascending=False)\n",
    "df1.head()"
   ]
  },
  {
   "cell_type": "code",
   "execution_count": 143,
   "metadata": {},
   "outputs": [
    {
     "data": {
      "text/html": [
       "<div>\n",
       "<style scoped>\n",
       "    .dataframe tbody tr th:only-of-type {\n",
       "        vertical-align: middle;\n",
       "    }\n",
       "\n",
       "    .dataframe tbody tr th {\n",
       "        vertical-align: top;\n",
       "    }\n",
       "\n",
       "    .dataframe thead th {\n",
       "        text-align: right;\n",
       "    }\n",
       "</style>\n",
       "<table border=\"1\" class=\"dataframe\">\n",
       "  <thead>\n",
       "    <tr style=\"text-align: right;\">\n",
       "      <th></th>\n",
       "      <th>frequency</th>\n",
       "      <th>event_id</th>\n",
       "      <th>description</th>\n",
       "    </tr>\n",
       "  </thead>\n",
       "  <tbody>\n",
       "    <tr>\n",
       "      <th>0</th>\n",
       "      <td>18527129</td>\n",
       "      <td>4688</td>\n",
       "      <td>Process start</td>\n",
       "    </tr>\n",
       "    <tr>\n",
       "      <th>1</th>\n",
       "      <td>16389671</td>\n",
       "      <td>4624</td>\n",
       "      <td>An account successfully logged on, see Logon Types</td>\n",
       "    </tr>\n",
       "    <tr>\n",
       "      <th>2</th>\n",
       "      <td>15950203</td>\n",
       "      <td>4634</td>\n",
       "      <td>An account was logged off, see Logon Types</td>\n",
       "    </tr>\n",
       "    <tr>\n",
       "      <th>3</th>\n",
       "      <td>5572526</td>\n",
       "      <td>4672</td>\n",
       "      <td>Special privileges assigned to a new logon</td>\n",
       "    </tr>\n",
       "    <tr>\n",
       "      <th>4</th>\n",
       "      <td>5354657</td>\n",
       "      <td>4776</td>\n",
       "      <td>Domain controller attempted to validate credentials</td>\n",
       "    </tr>\n",
       "    <tr>\n",
       "      <th>5</th>\n",
       "      <td>2271788</td>\n",
       "      <td>4769</td>\n",
       "      <td>Kerberos service ticket was requested (TGS)</td>\n",
       "    </tr>\n",
       "    <tr>\n",
       "      <th>6</th>\n",
       "      <td>1013302</td>\n",
       "      <td>4648</td>\n",
       "      <td>A logon was attempted using explicit credentials</td>\n",
       "    </tr>\n",
       "    <tr>\n",
       "      <th>7</th>\n",
       "      <td>875992</td>\n",
       "      <td>4768</td>\n",
       "      <td>Kerberos authentication ticket was requested (TGT)</td>\n",
       "    </tr>\n",
       "    <tr>\n",
       "      <th>8</th>\n",
       "      <td>332510</td>\n",
       "      <td>4625</td>\n",
       "      <td>An account failed to logon, see Logon Types</td>\n",
       "    </tr>\n",
       "    <tr>\n",
       "      <th>9</th>\n",
       "      <td>38290</td>\n",
       "      <td>4800</td>\n",
       "      <td>The workstation was locked</td>\n",
       "    </tr>\n",
       "    <tr>\n",
       "      <th>10</th>\n",
       "      <td>36624</td>\n",
       "      <td>4801</td>\n",
       "      <td>The workstation was unlocked</td>\n",
       "    </tr>\n",
       "    <tr>\n",
       "      <th>11</th>\n",
       "      <td>23645</td>\n",
       "      <td>4774</td>\n",
       "      <td>An account was mapped for logon</td>\n",
       "    </tr>\n",
       "    <tr>\n",
       "      <th>12</th>\n",
       "      <td>11530</td>\n",
       "      <td>4802</td>\n",
       "      <td>The screensaver was invoked</td>\n",
       "    </tr>\n",
       "    <tr>\n",
       "      <th>13</th>\n",
       "      <td>11249</td>\n",
       "      <td>4803</td>\n",
       "      <td>The screensaver was dismissed</td>\n",
       "    </tr>\n",
       "    <tr>\n",
       "      <th>14</th>\n",
       "      <td>6452</td>\n",
       "      <td>4608</td>\n",
       "      <td>Windows is starting up</td>\n",
       "    </tr>\n",
       "    <tr>\n",
       "      <th>15</th>\n",
       "      <td>6178</td>\n",
       "      <td>1100</td>\n",
       "      <td>Event logging service has shut down</td>\n",
       "    </tr>\n",
       "    <tr>\n",
       "      <th>16</th>\n",
       "      <td>5613</td>\n",
       "      <td>4647</td>\n",
       "      <td>User initiated logoff</td>\n",
       "    </tr>\n",
       "    <tr>\n",
       "      <th>17</th>\n",
       "      <td>138</td>\n",
       "      <td>4770</td>\n",
       "      <td>Kerberos service ticket was renewed</td>\n",
       "    </tr>\n",
       "    <tr>\n",
       "      <th>18</th>\n",
       "      <td>17</td>\n",
       "      <td>4609</td>\n",
       "      <td>Windows is shutting down</td>\n",
       "    </tr>\n",
       "    <tr>\n",
       "      <th>19</th>\n",
       "      <td>14</td>\n",
       "      <td>4689</td>\n",
       "      <td>Process end</td>\n",
       "    </tr>\n",
       "  </tbody>\n",
       "</table>\n",
       "</div>"
      ],
      "text/plain": [
       "    frequency  event_id                                          description\n",
       "0    18527129      4688                                        Process start\n",
       "1    16389671      4624   An account successfully logged on, see Logon Types\n",
       "2    15950203      4634           An account was logged off, see Logon Types\n",
       "3     5572526      4672           Special privileges assigned to a new logon\n",
       "4     5354657      4776  Domain controller attempted to validate credentials\n",
       "5     2271788      4769          Kerberos service ticket was requested (TGS)\n",
       "6     1013302      4648     A logon was attempted using explicit credentials\n",
       "7      875992      4768   Kerberos authentication ticket was requested (TGT)\n",
       "8      332510      4625          An account failed to logon, see Logon Types\n",
       "9       38290      4800                           The workstation was locked\n",
       "10      36624      4801                         The workstation was unlocked\n",
       "11      23645      4774                      An account was mapped for logon\n",
       "12      11530      4802                          The screensaver was invoked\n",
       "13      11249      4803                        The screensaver was dismissed\n",
       "14       6452      4608                               Windows is starting up\n",
       "15       6178      1100                  Event logging service has shut down\n",
       "16       5613      4647                                User initiated logoff\n",
       "17        138      4770                  Kerberos service ticket was renewed\n",
       "18         17      4609                             Windows is shutting down\n",
       "19         14      4689                                          Process end"
      ]
     },
     "execution_count": 143,
     "metadata": {},
     "output_type": "execute_result"
    }
   ],
   "source": [
    "pd.set_option('display.max_colwidth', None)\n",
    "df_event_description = pd.merge(df1, df_events, how='inner', on='event_id')\n",
    "df_event_description"
   ]
  },
  {
   "cell_type": "code",
   "execution_count": 144,
   "metadata": {},
   "outputs": [
    {
     "data": {
      "text/plain": [
       "<matplotlib.axes._subplots.AxesSubplot at 0x7f778fa23090>"
      ]
     },
     "execution_count": 144,
     "metadata": {},
     "output_type": "execute_result"
    },
    {
     "data": {
      "image/png": "[encoded data removed]",
      "text/plain": [
       "<Figure size 720x720 with 1 Axes>"
      ]
     },
     "metadata": {
      "needs_background": "light"
     },
     "output_type": "display_data"
    }
   ],
   "source": [
    "df1.plot.bar(x='event_id',y='frequency',figsize=(10,10), title='Histogram of HostEvents')"
   ]
  },
  {
   "cell_type": "code",
   "execution_count": 145,
   "metadata": {
    "scrolled": true
   },
   "outputs": [
    {
     "name": "stdout",
     "output_type": "stream",
     "text": [
      "CPU times: user 10.2 ms, sys: 1.8 ms, total: 12 ms\n",
      "Wall time: 1min 28s\n"
     ]
    },
    {
     "data": {
      "text/html": [
       "<div>\n",
       "<style scoped>\n",
       "    .dataframe tbody tr th:only-of-type {\n",
       "        vertical-align: middle;\n",
       "    }\n",
       "\n",
       "    .dataframe tbody tr th {\n",
       "        vertical-align: top;\n",
       "    }\n",
       "\n",
       "    .dataframe thead th {\n",
       "        text-align: right;\n",
       "    }\n",
       "</style>\n",
       "<table border=\"1\" class=\"dataframe\">\n",
       "  <thead>\n",
       "    <tr style=\"text-align: right;\">\n",
       "      <th></th>\n",
       "      <th>frequency</th>\n",
       "      <th>logon_type</th>\n",
       "    </tr>\n",
       "  </thead>\n",
       "  <tbody>\n",
       "    <tr>\n",
       "      <th>0</th>\n",
       "      <td>31961748</td>\n",
       "      <td>3</td>\n",
       "    </tr>\n",
       "    <tr>\n",
       "      <th>1</th>\n",
       "      <td>15124150</td>\n",
       "      <td>0</td>\n",
       "    </tr>\n",
       "    <tr>\n",
       "      <th>2</th>\n",
       "      <td>226616</td>\n",
       "      <td>5</td>\n",
       "    </tr>\n",
       "    <tr>\n",
       "      <th>3</th>\n",
       "      <td>191829</td>\n",
       "      <td>2</td>\n",
       "    </tr>\n",
       "    <tr>\n",
       "      <th>4</th>\n",
       "      <td>170955</td>\n",
       "      <td>7</td>\n",
       "    </tr>\n",
       "  </tbody>\n",
       "</table>\n",
       "</div>"
      ],
      "text/plain": [
       "   frequency  logon_type\n",
       "0   31961748           3\n",
       "1   15124150           0\n",
       "2     226616           5\n",
       "3     191829           2\n",
       "4     170955           7"
      ]
     },
     "execution_count": 145,
     "metadata": {},
     "output_type": "execute_result"
    }
   ],
   "source": [
    "%%time\n",
    "q = \"\"\"\n",
    "MATCH (n0:{0})-[r:{2}]->(n1:{1})\n",
    "RETURN count(r.logon_type) as frequency, r.logon_type as logon_type\n",
    "ORDER BY frequency DESC\n",
    "\"\"\".format(start_node, end_node, auth_event_edge)\n",
    "\n",
    "with neo4j_driver.session() as neo4j_Session:\n",
    "    result = neo4j_Session.run(q)\n",
    "    answer = result.data()\n",
    "\n",
    "df3 = pd.DataFrame(answer)\n",
    "df3.head()"
   ]
  },
  {
   "cell_type": "code",
   "execution_count": 146,
   "metadata": {},
   "outputs": [
    {
     "data": {
      "text/html": [
       "<div>\n",
       "<style scoped>\n",
       "    .dataframe tbody tr th:only-of-type {\n",
       "        vertical-align: middle;\n",
       "    }\n",
       "\n",
       "    .dataframe tbody tr th {\n",
       "        vertical-align: top;\n",
       "    }\n",
       "\n",
       "    .dataframe thead th {\n",
       "        text-align: right;\n",
       "    }\n",
       "</style>\n",
       "<table border=\"1\" class=\"dataframe\">\n",
       "  <thead>\n",
       "    <tr style=\"text-align: right;\">\n",
       "      <th></th>\n",
       "      <th>frequency</th>\n",
       "      <th>logon_type</th>\n",
       "      <th>description</th>\n",
       "    </tr>\n",
       "  </thead>\n",
       "  <tbody>\n",
       "    <tr>\n",
       "      <th>0</th>\n",
       "      <td>31961748</td>\n",
       "      <td>3</td>\n",
       "      <td>Network</td>\n",
       "    </tr>\n",
       "    <tr>\n",
       "      <th>1</th>\n",
       "      <td>15124150</td>\n",
       "      <td>0</td>\n",
       "      <td>Used only by the system account</td>\n",
       "    </tr>\n",
       "    <tr>\n",
       "      <th>2</th>\n",
       "      <td>226616</td>\n",
       "      <td>5</td>\n",
       "      <td>Service</td>\n",
       "    </tr>\n",
       "    <tr>\n",
       "      <th>3</th>\n",
       "      <td>191829</td>\n",
       "      <td>2</td>\n",
       "      <td>Interactive</td>\n",
       "    </tr>\n",
       "    <tr>\n",
       "      <th>4</th>\n",
       "      <td>170955</td>\n",
       "      <td>7</td>\n",
       "      <td>Unlock</td>\n",
       "    </tr>\n",
       "    <tr>\n",
       "      <th>5</th>\n",
       "      <td>95692</td>\n",
       "      <td>8</td>\n",
       "      <td>Network Clear Text</td>\n",
       "    </tr>\n",
       "    <tr>\n",
       "      <th>6</th>\n",
       "      <td>7390</td>\n",
       "      <td>4</td>\n",
       "      <td>Batch</td>\n",
       "    </tr>\n",
       "    <tr>\n",
       "      <th>7</th>\n",
       "      <td>5477</td>\n",
       "      <td>11</td>\n",
       "      <td>Cached Interactive</td>\n",
       "    </tr>\n",
       "    <tr>\n",
       "      <th>8</th>\n",
       "      <td>3324</td>\n",
       "      <td>10</td>\n",
       "      <td>Remote Interactive</td>\n",
       "    </tr>\n",
       "    <tr>\n",
       "      <th>9</th>\n",
       "      <td>2864</td>\n",
       "      <td>9</td>\n",
       "      <td>New Credentials</td>\n",
       "    </tr>\n",
       "  </tbody>\n",
       "</table>\n",
       "</div>"
      ],
      "text/plain": [
       "   frequency  logon_type                      description\n",
       "0   31961748           3                          Network\n",
       "1   15124150           0  Used only by the system account\n",
       "2     226616           5                          Service\n",
       "3     191829           2                      Interactive\n",
       "4     170955           7                           Unlock\n",
       "5      95692           8               Network Clear Text\n",
       "6       7390           4                            Batch\n",
       "7       5477          11               Cached Interactive\n",
       "8       3324          10               Remote Interactive\n",
       "9       2864           9                  New Credentials"
      ]
     },
     "execution_count": 146,
     "metadata": {},
     "output_type": "execute_result"
    }
   ],
   "source": [
    "df_logon_description = pd.merge(df3, df_logons, how='inner', on='logon_type')\n",
    "df_logon_description"
   ]
  },
  {
   "cell_type": "code",
   "execution_count": 147,
   "metadata": {},
   "outputs": [
    {
     "data": {
      "text/plain": [
       "<matplotlib.axes._subplots.AxesSubplot at 0x7f7794dc9650>"
      ]
     },
     "execution_count": 147,
     "metadata": {},
     "output_type": "execute_result"
    },
    {
     "data": {
      "image/png": "[encoded data removed]",
      "text/plain": [
       "<Figure size 720x720 with 1 Axes>"
      ]
     },
     "metadata": {
      "needs_background": "light"
     },
     "output_type": "display_data"
    }
   ],
   "source": [
    "df3.plot.bar(x='logon_type',y='frequency',figsize=(10,10), title='Histogram of Logon_Types')"
   ]
  },
  {
   "cell_type": "code",
   "execution_count": 148,
   "metadata": {},
   "outputs": [
    {
     "name": "stdout",
     "output_type": "stream",
     "text": [
      "CPU times: user 23.7 ms, sys: 4.45 ms, total: 28.1 ms\n",
      "Wall time: 3min 12s\n"
     ]
    },
    {
     "data": {
      "text/html": [
       "<div>\n",
       "<style scoped>\n",
       "    .dataframe tbody tr th:only-of-type {\n",
       "        vertical-align: middle;\n",
       "    }\n",
       "\n",
       "    .dataframe tbody tr th {\n",
       "        vertical-align: top;\n",
       "    }\n",
       "\n",
       "    .dataframe thead th {\n",
       "        text-align: right;\n",
       "    }\n",
       "</style>\n",
       "<table border=\"1\" class=\"dataframe\">\n",
       "  <thead>\n",
       "    <tr style=\"text-align: right;\">\n",
       "      <th></th>\n",
       "      <th>frequency_log_host</th>\n",
       "      <th>frequency_user_name</th>\n",
       "      <th>frequency_src</th>\n",
       "      <th>frequency_process_name</th>\n",
       "    </tr>\n",
       "  </thead>\n",
       "  <tbody>\n",
       "    <tr>\n",
       "      <th>0</th>\n",
       "      <td>10323</td>\n",
       "      <td>21075</td>\n",
       "      <td>0</td>\n",
       "      <td>100</td>\n",
       "    </tr>\n",
       "  </tbody>\n",
       "</table>\n",
       "</div>"
      ],
      "text/plain": [
       "   frequency_log_host  frequency_user_name  frequency_src  \\\n",
       "0               10323                21075              0   \n",
       "\n",
       "   frequency_process_name  \n",
       "0                     100  "
      ]
     },
     "execution_count": 148,
     "metadata": {},
     "output_type": "execute_result"
    }
   ],
   "source": [
    "%%time\n",
    "q = \"\"\"\n",
    "MATCH (n0:{0})-[r:{2}]->(n1:{1})\n",
    "RETURN count(DISTINCT r.log_host) as frequency_log_host,\n",
    "       count(DISTINCT r.user_name) as frequency_user_name,\n",
    "       count(DISTINCT r.src) as frequency_src,\n",
    "       count(DISTINCT r.process_name) as frequency_process_name\n",
    "\"\"\".format(start_node, end_node, auth_event_edge)\n",
    "\n",
    "with neo4j_driver.session() as neo4j_Session:\n",
    "    result = neo4j_Session.run(q)\n",
    "    answer = result.data()\n",
    "\n",
    "df4 = pd.DataFrame(answer)\n",
    "df4.head()"
   ]
  },
  {
   "cell_type": "code",
   "execution_count": 149,
   "metadata": {},
   "outputs": [
    {
     "data": {
      "text/plain": [
       "<matplotlib.axes._subplots.AxesSubplot at 0x7f778f67e110>"
      ]
     },
     "execution_count": 149,
     "metadata": {},
     "output_type": "execute_result"
    },
    {
     "data": {
      "image/png": "[encoded data removed]",
      "text/plain": [
       "<Figure size 720x720 with 1 Axes>"
      ]
     },
     "metadata": {
      "needs_background": "light"
     },
     "output_type": "display_data"
    }
   ],
   "source": [
    "df5 = df4.T\n",
    "df5['Metrics'] = df5.index\n",
    "df5.rename(columns={0:'frequency'}, inplace=True)\n",
    "df5.plot.bar(x='Metrics', y='frequency', figsize=(10,10), title='Histogram of Other_Metrics')"
   ]
  },
  {
   "cell_type": "code",
   "execution_count": null,
   "metadata": {},
   "outputs": [],
   "source": []
  }
 ],
 "metadata": {
  "kernelspec": {
   "display_name": "Python 3",
   "language": "python",
   "name": "python3"
  },
  "language_info": {
   "codemirror_mode": {
    "name": "ipython",
    "version": 3
   },
   "file_extension": ".py",
   "mimetype": "text/x-python",
   "name": "python",
   "nbconvert_exporter": "python",
   "pygments_lexer": "ipython3",
   "version": "3.7.4"
  }
 },
 "nbformat": 4,
 "nbformat_minor": 4
}
