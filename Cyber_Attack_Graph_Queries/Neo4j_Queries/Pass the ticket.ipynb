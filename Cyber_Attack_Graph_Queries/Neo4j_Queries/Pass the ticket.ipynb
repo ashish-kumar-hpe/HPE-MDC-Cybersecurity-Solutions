{
 "cells": [
  {
   "cell_type": "code",
   "execution_count": 16,
   "metadata": {},
   "outputs": [],
   "source": [
    "from neo4j import GraphDatabase\n",
    "import time"
   ]
  },
  {
   "cell_type": "code",
   "execution_count": 17,
   "metadata": {},
   "outputs": [],
   "source": [
    "# Get Connection to neo4j\n",
    "\n",
    "uri = 'bolt://localhost:7687'\n",
    "username = 'neo4j'\n",
    "password = 'graph'\n",
    "\n",
    "neo4j_driver = GraphDatabase.driver(uri, auth=(username,password))"
   ]
  },
  {
   "cell_type": "code",
   "execution_count": 88,
   "metadata": {
    "scrolled": true
   },
   "outputs": [
    {
     "name": "stdout",
     "output_type": "stream",
     "text": [
      "\n"
     ]
    }
   ],
   "source": [
    "# DATA IS LOADED USING neo4j-import tool\n",
    "\n",
    "#AuthEvents = \"LOAD CSV WITH HEADERS FROM 'file:///2v_200.csv' AS row MERGE (m:Devices {Name:row.src}) MERGE (n:Devices {Name:row.destination}) MERGE (m) -[:AuthEvents {epoch_time:toInteger(row.epoch_time), event_id:toInteger(row.event_id), log_host:row.log_host, logon_type:toInteger(row.logon_type), logon_type_description:row.logon_type_description, user_name:row.user_name, domain_name:row.domain_name, logon_id:row.logon_id, subject_user_name:row.subject_user_name, subject_domain_name:row.subject_domain_name, subject_logon_id:row.subject_logon_id, status:row.status, service_name:row.service_name, authentication_package:row.authentication_package, failure_reason:row.failure_reason, process_name:row.process_name, process_id:toInteger(row.process_id), parent_process_name:row.parent_process_name, parent_process_id:toInteger(row.parent_process_id) }]-> (n)\"\n",
    "\n",
    "#start = time.time()\n",
    "#with neo4j_driver.session() as neo4j_Session:\n",
    "#    neo4j_Session.run(AuthEvents)\n",
    "#print()"
   ]
  },
  {
   "cell_type": "code",
   "execution_count": 89,
   "metadata": {},
   "outputs": [],
   "source": [
    "# DATA IS LOADED USING neo4j-import tool\n",
    "\n",
    "#Netflow = \"LOAD CSV WITH HEADERS FROM 'file:///nf_200.csv' AS row MERGE (m:Devices {Name:row.src_device}) MERGE (n:Devices {Name:row.dst_device}) MERGE (m) -[:Netflow { epoch_time:toInteger(row.epoch_time), duration:toInteger(row.duration), protocol:toInteger(row.protocol), src_port:toInteger(row.src_port), dst_port:toInteger(row.dst_port), src_packets:toInteger(row.src_packets), dst_packets:toInteger(row.dst_packets), src_bytes:toInteger(row.src_bytes), dst_bytes:toInteger(row.dst_bytes) }]-> (n)\"\n",
    "\n",
    "#start = time.time()\n",
    "#with neo4j_driver.session() as neo4j_Session:\n",
    "#    neo4j_Session.run(Netflow)\n"
   ]
  },
  {
   "cell_type": "code",
   "execution_count": 18,
   "metadata": {},
   "outputs": [
    {
     "name": "stdout",
     "output_type": "stream",
     "text": [
      "[{'count(*)': 75054}]\n"
     ]
    }
   ],
   "source": [
    "Tgt_Query = \"\"\"MATCH (n1:Devices)-[r:AuthEvents]->(n2:Devices) \n",
    "WHERE r.event_id = 4768 \n",
    "CREATE (n1)-[r1:tgt_req_events \n",
    "             {epoch_time:r.epoch_time, \n",
    "              event_id:r.event_id,log_host:r.log_host, \n",
    "              logon_type:r.logon_type, logon_type_description:r.logon_type_description, \n",
    "              user_name:r.user_name,domain_name:r.domain_name, \n",
    "              logon_id:r.logon_id,subject_user_name:r.subject_user_name, \n",
    "              subject_domain_name:r.subject_domain_name, \n",
    "              subject_logon_id:r.subject_logon_id, status:r.status, \n",
    "              src:r.src, service_name:r.service_name, \n",
    "              destination:r.destination, authentication_package:r.authentication_package,\n",
    "              failure_reason: r.failure_reason, process_name:r.process_name,\n",
    "              process_id:r.process_id, parent_process_name:r.parent_process_name,\n",
    "              parent_process_id:r.parent_process_id,is_attack:true}]->(n2) RETURN count(*)\"\"\"\n",
    "\n",
    "with neo4j_driver.session() as neo4j_Session:\n",
    "    result1 = neo4j_Session.run(Tgt_Query)\n",
    "\n",
    "print(result1.data())"
   ]
  },
  {
   "cell_type": "code",
   "execution_count": 19,
   "metadata": {},
   "outputs": [
    {
     "name": "stdout",
     "output_type": "stream",
     "text": [
      "[{'count(*)': 140154}]\n"
     ]
    }
   ],
   "source": [
    "Str_Query = \"\"\"MATCH (n1:Devices)-[r:AuthEvents]->(n2:Devices) \n",
    "WHERE r.event_id = 4769 \n",
    "CREATE (n1)-[r1:service_ticket_req \n",
    "            {epoch_time:r.epoch_time, event_id:r.event_id, \n",
    "            log_host:r.log_host, logon_type:r.logon_type,\n",
    "            logon_type_description:r.logon_type_description, \n",
    "            user_name:r.user_name, domain_name:r.domain_name, \n",
    "            logon_id:r.logon_id, subject_user_name:r.subject_user_name, \n",
    "            subject_domain_name:r.subject_domain_name, \n",
    "            subject_logon_id:r.subject_logon_id, \n",
    "            status:r.status, src:r.src, \n",
    "            service_name:r.service_name, destination:r.destination, \n",
    "            authentication_package:r.authentication_package, failure_reason: r.failure_reason, \n",
    "            process_name:r.process_name, process_id:r.process_id, \n",
    "            parent_process_name:r.parent_process_name, parent_process_id:r.parent_process_id, \n",
    "            is_attack:true}]->(n2) RETURN count(*)\"\"\"\n",
    "\n",
    "with neo4j_driver.session() as neo4j_Session:\n",
    "    result2 = neo4j_Session.run(Str_Query)\n",
    "\n",
    "print(result2.data())"
   ]
  },
  {
   "cell_type": "code",
   "execution_count": 20,
   "metadata": {},
   "outputs": [
    {
     "name": "stdout",
     "output_type": "stream",
     "text": [
      "[{'count(*)': 53272}]\n"
     ]
    }
   ],
   "source": [
    "#filtering with port no. 135 & 445\n",
    "\n",
    "Port_Query = \"\"\"MATCH (v0:Devices)-[edge:Netflow]->(v1:Devices) \n",
    "WHERE edge.dst_port=135 OR edge.dst_port=445 \n",
    "CREATE (v0)-[e:LMFlow \n",
    "             {epoch_time : edge.epoch_time, duration : edge.duration, \n",
    "              protocol : edge.protocol, src_port : edge.src_port, \n",
    "              dst_port : edge.dst_port}]->(v1) RETURN count(*)\"\"\"\n",
    "\n",
    "with neo4j_driver.session() as neo4j_Session:\n",
    "    result3 = neo4j_Session.run(Port_Query)\n",
    "\n",
    "print(result3.data())"
   ]
  },
  {
   "cell_type": "code",
   "execution_count": 21,
   "metadata": {},
   "outputs": [
    {
     "name": "stdout",
     "output_type": "stream",
     "text": [
      "[{'count(r1)': 471693776}]\n"
     ]
    }
   ],
   "source": [
    "Valid_tgt = \"\"\"MATCH (n1:Devices)-[r1:service_ticket_req]->(n2:Devices) \n",
    "MATCH (n1)-[r2:tgt_req_events]->(n2) \n",
    "WHERE r1.epoch_time >= r2.epoch_time \n",
    "AND r1.epoch_time - r2.epoch_time < 2000 \n",
    "SET r1.is_attack=false \n",
    "RETURN count(r1)\"\"\"\n",
    "\n",
    "with neo4j_driver.session() as neo4j_Session:\n",
    "    result4 = neo4j_Session.run(Valid_tgt)\n",
    "\n",
    "print(result4.data())"
   ]
  },
  {
   "cell_type": "code",
   "execution_count": null,
   "metadata": {},
   "outputs": [],
   "source": [
    "Final = \"\"\"MATCH (n1:Devices)-[r1:service_ticket_req]->(n2:Devices) \n",
    "MATCH (n1)-[r2:LMFlow]->(n3:Devices) \n",
    "WHERE r1.is_attack=true \n",
    "AND n2 <> n3 \n",
    "AND r2.epoch_time > r1.epoch_time \n",
    "AND r2.epoch_time - r1.epoch_time < 300 \n",
    "RETURN n1,n2,n3,r1.epoch_time,r2.epoch_time\"\"\"\n",
    "\n",
    "with neo4j_driver.session() as neo4j_Session:\n",
    "    result =  neo4j_Session.run(Final)\n",
    "\n",
    "print(result.data())"
   ]
  },
  {
   "cell_type": "code",
   "execution_count": null,
   "metadata": {},
   "outputs": [],
   "source": []
  }
 ],
 "metadata": {
  "kernelspec": {
   "display_name": "Python 3",
   "language": "python",
   "name": "python3"
  },
  "language_info": {
   "codemirror_mode": {
    "name": "ipython",
    "version": 3
   },
   "file_extension": ".py",
   "mimetype": "text/x-python",
   "name": "python",
   "nbconvert_exporter": "python",
   "pygments_lexer": "ipython3",
   "version": "3.7.3"
  }
 },
 "nbformat": 4,
 "nbformat_minor": 2
}
