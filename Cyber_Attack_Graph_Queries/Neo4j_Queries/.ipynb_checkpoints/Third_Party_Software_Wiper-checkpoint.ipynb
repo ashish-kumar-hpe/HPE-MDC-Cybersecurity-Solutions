{
 "cells": [
  {
   "cell_type": "code",
   "execution_count": 1,
   "metadata": {},
   "outputs": [],
   "source": [
    "from neo4j import GraphDatabase\n",
    "import time"
   ]
  },
  {
   "cell_type": "code",
   "execution_count": 2,
   "metadata": {},
   "outputs": [],
   "source": [
    "# Get Connection to neo4j\n",
    "\n",
    "uri = 'bolt://localhost:7687'\n",
    "username = 'neo4j'\n",
    "password = 'graph'\n",
    "\n",
    "neo4j_driver = GraphDatabase.driver(uri, auth=(username,password))"
   ]
  },
  {
   "cell_type": "code",
   "execution_count": 9,
   "metadata": {},
   "outputs": [],
   "source": [
    "# DATA IS LOADED USING neo4j-import\n",
    "\n",
    "\n",
    "#Netflow = \"LOAD CSV WITH HEADERS FROM 'file:///nf_200.csv' AS row MERGE (m:Devices {Name:row.src_device}) MERGE (n:Devices {Name:row.dst_device}) MERGE (m) -[:Netflow { epoch_time:toInteger(row.epoch_time), duration:toInteger(row.duration), protocol:toInteger(row.protocol), src_port:toInteger(row.src_port), dst_port:toInteger(row.dst_port), src_packets:toInteger(row.src_packets), dst_packets:toInteger(row.dst_packets), src_bytes:toInteger(row.src_bytes), dst_bytes:toInteger(row.dst_bytes) }]-> (n)\"\n",
    "\n",
    "#start = time.time()\n",
    "#with neo4j_driver.session() as neo4j_Session:\n",
    "#    neo4j_Session.run(Netflow)\n"
   ]
  },
  {
   "cell_type": "code",
   "execution_count": 4,
   "metadata": {},
   "outputs": [],
   "source": [
    "# DATA IS LOADED USING neo4j-import\n",
    "\n",
    "\n",
    "#HostEvents = \"LOAD CSV WITH HEADERS FROM 'file:///1v_200.csv' AS row MERGE (m:Devices {Name:row.log_host}) MERGE (m) -[:HostEvents { epoch_time:toInteger(row.epoch_time),event_id:toInteger(row.event_id),user_name:row.user_name, domain_name:row.domain_name, logon_id: toInteger(row.logon_id), process_name:row.process_name, process_id:toInteger(row.process_id), parent_process_name:row.parent_process_name, parent_process_id:toInteger(row.parent_process_id) }]-> (m)\" \n",
    "                         \n",
    "#start = time.time()\n",
    "#with neo4j_driver.session() as neo4j_Session:\n",
    "#    neo4j_Session.run(HostEvents)"
   ]
  },
  {
   "cell_type": "code",
   "execution_count": 3,
   "metadata": {},
   "outputs": [
    {
     "name": "stdout",
     "output_type": "stream",
     "text": [
      "[{'count(*)': 435663}]\n"
     ]
    }
   ],
   "source": [
    "SSHFlow_Query = \"\"\"MATCH (v0:Devices)-[edge:Netflow]->(v1:Devices) \n",
    "WHERE edge.dst_port=22 \n",
    "CREATE (v0)-[e:SSHFlow \n",
    "             {epoch_time : toInteger(edge.epoch_time), duration : toInteger(edge.duration), \n",
    "              protocol : toInteger(edge.protocol), src_port : toInteger(edge.src_port), \n",
    "              dst_port : toInteger(edge.dst_port)}]->(v1) RETURN count(*)\"\"\"\n",
    "\n",
    "with neo4j_driver.session() as neo4j_Session:\n",
    "    result1 = neo4j_Session.run(SSHFlow_Query)\n",
    "\n",
    "print(result1.data())"
   ]
  },
  {
   "cell_type": "code",
   "execution_count": 4,
   "metadata": {},
   "outputs": [],
   "source": [
    "Final_Query = \"\"\"MATCH (n1:Devices)-[r1:SSHFlow]->(n2:Devices) \n",
    "MATCH (n1)-[r2:SSHFlow]->(n2) \n",
    "MATCH (n2)-[rb:HostEvents]->(n2) \n",
    "WHERE rb.event_id=1100 \n",
    "AND n1 <> n2 \n",
    "AND r1 <> r2 \n",
    "AND r1.epoch_time <= r2.epoch_time \n",
    "AND r2.epoch_time - r1.epoch_time < 60 \n",
    "AND r2.epoch_time <= rb.epoch_time \n",
    "AND rb.epoch_time - r2.epoch_time < 180 \n",
    "RETURN n1.src,n2.src,r1.epoch_time,r2.epoch_time,rb.epoch_time limit 1000\"\"\"\n",
    "\n",
    "\n",
    "with neo4j_driver.session() as neo4j_Session:\n",
    "    result2 = neo4j_Session.run(Final_Query)\n"
   ]
  },
  {
   "cell_type": "code",
   "execution_count": 5,
   "metadata": {},
   "outputs": [
    {
     "name": "stderr",
     "output_type": "stream",
     "text": [
      "/root/Python_3_7/lib/python3.7/site-packages/pandas/compat/__init__.py:117: UserWarning: Could not import the lzma module. Your installed Python is incomplete. Attempting to use lzma compression will result in a RuntimeError.\n",
      "  warnings.warn(msg)\n"
     ]
    },
    {
     "data": {
      "text/html": [
       "<div>\n",
       "<style scoped>\n",
       "    .dataframe tbody tr th:only-of-type {\n",
       "        vertical-align: middle;\n",
       "    }\n",
       "\n",
       "    .dataframe tbody tr th {\n",
       "        vertical-align: top;\n",
       "    }\n",
       "\n",
       "    .dataframe thead th {\n",
       "        text-align: right;\n",
       "    }\n",
       "</style>\n",
       "<table border=\"1\" class=\"dataframe\">\n",
       "  <thead>\n",
       "    <tr style=\"text-align: right;\">\n",
       "      <th></th>\n",
       "      <th>n1.src</th>\n",
       "      <th>n2.src</th>\n",
       "      <th>r1.epoch_time</th>\n",
       "      <th>r2.epoch_time</th>\n",
       "      <th>rb.epoch_time</th>\n",
       "    </tr>\n",
       "  </thead>\n",
       "  <tbody>\n",
       "    <tr>\n",
       "      <th>0</th>\n",
       "      <td>Comp073202</td>\n",
       "      <td>Comp783317</td>\n",
       "      <td>7297098</td>\n",
       "      <td>7297098</td>\n",
       "      <td>7297236</td>\n",
       "    </tr>\n",
       "    <tr>\n",
       "      <th>1</th>\n",
       "      <td>Comp073202</td>\n",
       "      <td>Comp783317</td>\n",
       "      <td>7297098</td>\n",
       "      <td>7297098</td>\n",
       "      <td>7297236</td>\n",
       "    </tr>\n",
       "    <tr>\n",
       "      <th>2</th>\n",
       "      <td>Comp073202</td>\n",
       "      <td>Comp783317</td>\n",
       "      <td>7297093</td>\n",
       "      <td>7297098</td>\n",
       "      <td>7297236</td>\n",
       "    </tr>\n",
       "    <tr>\n",
       "      <th>3</th>\n",
       "      <td>Comp073202</td>\n",
       "      <td>Comp783317</td>\n",
       "      <td>7297093</td>\n",
       "      <td>7297093</td>\n",
       "      <td>7297236</td>\n",
       "    </tr>\n",
       "    <tr>\n",
       "      <th>4</th>\n",
       "      <td>Comp073202</td>\n",
       "      <td>Comp783317</td>\n",
       "      <td>7297093</td>\n",
       "      <td>7297093</td>\n",
       "      <td>7297236</td>\n",
       "    </tr>\n",
       "  </tbody>\n",
       "</table>\n",
       "</div>"
      ],
      "text/plain": [
       "       n1.src      n2.src  r1.epoch_time  r2.epoch_time  rb.epoch_time\n",
       "0  Comp073202  Comp783317        7297098        7297098        7297236\n",
       "1  Comp073202  Comp783317        7297098        7297098        7297236\n",
       "2  Comp073202  Comp783317        7297093        7297098        7297236\n",
       "3  Comp073202  Comp783317        7297093        7297093        7297236\n",
       "4  Comp073202  Comp783317        7297093        7297093        7297236"
      ]
     },
     "execution_count": 5,
     "metadata": {},
     "output_type": "execute_result"
    }
   ],
   "source": [
    "import pandas as pd\n",
    "\n",
    "df = pd.DataFrame(result2.data())\n",
    "\n",
    "df.head()"
   ]
  },
  {
   "cell_type": "code",
   "execution_count": 12,
   "metadata": {},
   "outputs": [
    {
     "data": {
      "text/html": [
       "<div>\n",
       "<style scoped>\n",
       "    .dataframe tbody tr th:only-of-type {\n",
       "        vertical-align: middle;\n",
       "    }\n",
       "\n",
       "    .dataframe tbody tr th {\n",
       "        vertical-align: top;\n",
       "    }\n",
       "\n",
       "    .dataframe thead th {\n",
       "        text-align: right;\n",
       "    }\n",
       "</style>\n",
       "<table border=\"1\" class=\"dataframe\">\n",
       "  <thead>\n",
       "    <tr style=\"text-align: right;\">\n",
       "      <th></th>\n",
       "      <th>n1.src</th>\n",
       "      <th>n2.src</th>\n",
       "      <th>r1.epoch_time</th>\n",
       "      <th>r2.epoch_time</th>\n",
       "      <th>rb.epoch_time</th>\n",
       "    </tr>\n",
       "  </thead>\n",
       "  <tbody>\n",
       "    <tr>\n",
       "      <th>0</th>\n",
       "      <td>Comp073202</td>\n",
       "      <td>Comp783317</td>\n",
       "      <td>7297098</td>\n",
       "      <td>7297098</td>\n",
       "      <td>7297236</td>\n",
       "    </tr>\n",
       "    <tr>\n",
       "      <th>1</th>\n",
       "      <td>Comp073202</td>\n",
       "      <td>Comp783317</td>\n",
       "      <td>7297098</td>\n",
       "      <td>7297098</td>\n",
       "      <td>7297236</td>\n",
       "    </tr>\n",
       "    <tr>\n",
       "      <th>2</th>\n",
       "      <td>Comp073202</td>\n",
       "      <td>Comp783317</td>\n",
       "      <td>7297093</td>\n",
       "      <td>7297098</td>\n",
       "      <td>7297236</td>\n",
       "    </tr>\n",
       "    <tr>\n",
       "      <th>3</th>\n",
       "      <td>Comp073202</td>\n",
       "      <td>Comp783317</td>\n",
       "      <td>7297093</td>\n",
       "      <td>7297093</td>\n",
       "      <td>7297236</td>\n",
       "    </tr>\n",
       "    <tr>\n",
       "      <th>4</th>\n",
       "      <td>Comp073202</td>\n",
       "      <td>Comp783317</td>\n",
       "      <td>7297093</td>\n",
       "      <td>7297093</td>\n",
       "      <td>7297236</td>\n",
       "    </tr>\n",
       "  </tbody>\n",
       "</table>\n",
       "</div>"
      ],
      "text/plain": [
       "       n1.src      n2.src  r1.epoch_time  r2.epoch_time  rb.epoch_time\n",
       "0  Comp073202  Comp783317        7297098        7297098        7297236\n",
       "1  Comp073202  Comp783317        7297098        7297098        7297236\n",
       "2  Comp073202  Comp783317        7297093        7297098        7297236\n",
       "3  Comp073202  Comp783317        7297093        7297093        7297236\n",
       "4  Comp073202  Comp783317        7297093        7297093        7297236"
      ]
     },
     "execution_count": 12,
     "metadata": {},
     "output_type": "execute_result"
    }
   ],
   "source": [
    "df_plot = df[0:50]\n",
    "df_plot.head()"
   ]
  },
  {
   "cell_type": "code",
   "execution_count": 26,
   "metadata": {},
   "outputs": [],
   "source": [
    "import networkx as nx\n",
    "import matplotlib.pyplot as plt\n",
    "\n",
    "attr = [\"r1.epoch_time\",\"r2.epoch_time\",\"rb.epoch_time\"]\n",
    "G=nx.from_pandas_edgelist(df, source='n1.src', target='n2.src', edge_attr=attr, create_using=nx.MultiDiGraph())\n"
   ]
  },
  {
   "cell_type": "code",
   "execution_count": 33,
   "metadata": {},
   "outputs": [
    {
     "data": {
      "image/png": "[encoded data removed]",
      "text/plain": [
       "<Figure size 720x864 with 1 Axes>"
      ]
     },
     "metadata": {},
     "output_type": "display_data"
    }
   ],
   "source": [
    "plt.figure(figsize=(10, 12))\n",
    "layout = nx.spring_layout(G,iterations=50)\n",
    "plt.axis('off')\n",
    "nx.draw(G,pos=layout,connectionstyle='arc3, rad = 0.5')\n",
    "nx.draw_networkx_labels(G,pos=layout)\n",
    "#nx.draw_networkx_edge_labels(G,pos=layout)\n",
    "plt.draw()"
   ]
  },
  {
   "cell_type": "code",
   "execution_count": null,
   "metadata": {},
   "outputs": [],
   "source": []
  }
 ],
 "metadata": {
  "kernelspec": {
   "display_name": "Python 3",
   "language": "python",
   "name": "python3"
  },
  "language_info": {
   "codemirror_mode": {
    "name": "ipython",
    "version": 3
   },
   "file_extension": ".py",
   "mimetype": "text/x-python",
   "name": "python",
   "nbconvert_exporter": "python",
   "pygments_lexer": "ipython3",
   "version": "3.7.4"
  }
 },
 "nbformat": 4,
 "nbformat_minor": 2
}
