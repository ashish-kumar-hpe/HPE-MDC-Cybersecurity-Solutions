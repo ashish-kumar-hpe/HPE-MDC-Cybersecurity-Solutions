{
 "cells": [
  {
   "cell_type": "code",
   "execution_count": 3,
   "metadata": {},
   "outputs": [],
   "source": [
    "from neo4j import GraphDatabase\n",
    "import time"
   ]
  },
  {
   "cell_type": "code",
   "execution_count": 4,
   "metadata": {},
   "outputs": [],
   "source": [
    "# Get Connection to neo4j\n",
    "\n",
    "uri = 'bolt://localhost:7687'\n",
    "username = 'neo4j'\n",
    "password = 'graph'\n",
    "\n",
    "neo4j_driver = GraphDatabase.driver(uri, auth=(username,password))"
   ]
  },
  {
   "cell_type": "code",
   "execution_count": null,
   "metadata": {},
   "outputs": [],
   "source": [
    "# DATA IS LOADED USING neo4j-import\n",
    "\n",
    "#Netflow = \"LOAD CSV WITH HEADERS FROM 'file:///nf_200.csv' AS row MERGE (m:Devices {Name:row.src_device}) MERGE (n:Devices {Name:row.dst_device}) MERGE (m) -[:Netflow { epoch_time:toInteger(row.epoch_time), duration:toInteger(row.duration), protocol:toInteger(row.protocol), src_port:toInteger(row.src_port), dst_port:toInteger(row.dst_port), src_packets:toInteger(row.src_packets), dst_packets:toInteger(row.dst_packets), src_bytes:toInteger(row.src_bytes), dst_bytes:toInteger(row.dst_bytes) }]-> (n)\"\n",
    "\n",
    "#start = time.time()\n",
    "#with neo4j_driver.session() as neo4j_Session:\n",
    "#    neo4j_Session.run(Netflow)"
   ]
  },
  {
   "cell_type": "code",
   "execution_count": null,
   "metadata": {},
   "outputs": [],
   "source": [
    "# DATA IS LOADED USING neo4j-import\n",
    "\n",
    "\n",
    "#HostEvents = \"LOAD CSV WITH HEADERS FROM 'file:///1v_200.csv' AS row MERGE (m:Devices {Name:row.log_host}) MERGE (m) -[:HostEvents { epoch_time:toInteger(row.epoch_time),event_id:toInteger(row.event_id),user_name:row.user_name, domain_name:row.domain_name, logon_id: toInteger(row.logon_id), process_name:row.process_name, process_id:toInteger(row.process_id), parent_process_name:row.parent_process_name, parent_process_id:toInteger(row.parent_process_id) }]-> (m)\" \n",
    "                         \n",
    "#start = time.time()\n",
    "#with neo4j_driver.session() as neo4j_Session:\n",
    "#    neo4j_Session.run(HostEvents)"
   ]
  },
  {
   "cell_type": "code",
   "execution_count": 5,
   "metadata": {},
   "outputs": [
    {
     "name": "stdout",
     "output_type": "stream",
     "text": [
      "[{'count(*)': 5210584}]\n"
     ]
    }
   ],
   "source": [
    "Port_Query = \"\"\"MATCH (v0:Devices)-[edge:Netflow]->(v1:Devices) \n",
    "WHERE edge.dst_port=135 OR edge.dst_port=445 \n",
    "CREATE (v0)-[e:LMFlow \n",
    "             {epoch_time : toInteger(edge.epoch_time), duration : toInteger(edge.duration), \n",
    "              protocol : toInteger(edge.protocol), src_port : toInteger(edge.src_port), \n",
    "              dst_port : toInteger(edge.dst_port)}]->(v1) RETURN count(*)\"\"\"\n",
    "\n",
    "\n",
    "with neo4j_driver.session() as neo4j_Session:\n",
    "    result1 = neo4j_Session.run(Port_Query)\n",
    "\n",
    "print(result1.data())"
   ]
  },
  {
   "cell_type": "code",
   "execution_count": null,
   "metadata": {},
   "outputs": [],
   "source": [
    "LMflow_Query = \"\"\"MATCH (A:Devices)-[r1:LMFlow]->(B:Devices) \n",
    "MATCH (A)-[hijack1:HostEvents]->(A) \n",
    "WHERE A <> B AND hijack1.event_id = 4688 \n",
    "AND hijack1.parent_process_name = 'lsass' \n",
    "AND hijack1.epoch_time <= r1.epoch_time \n",
    "AND r1.epoch_time - hijack1.epoch_time < 180 \n",
    "RETURN A, B, r1.epoch_time, hijack1.epoch_time\"\"\"\n",
    "\n",
    "\n",
    "with neo4j_driver.session() as neo4j_Session:\n",
    "    result2 = neo4j_Session.run(LMflow_Query)\n",
    "\n",
    "print(result2.data())"
   ]
  },
  {
   "cell_type": "code",
   "execution_count": null,
   "metadata": {},
   "outputs": [],
   "source": []
  }
 ],
 "metadata": {
  "kernelspec": {
   "display_name": "Python 3",
   "language": "python",
   "name": "python3"
  },
  "language_info": {
   "codemirror_mode": {
    "name": "ipython",
    "version": 3
   },
   "file_extension": ".py",
   "mimetype": "text/x-python",
   "name": "python",
   "nbconvert_exporter": "python",
   "pygments_lexer": "ipython3",
   "version": "3.7.3"
  }
 },
 "nbformat": 4,
 "nbformat_minor": 2
}
