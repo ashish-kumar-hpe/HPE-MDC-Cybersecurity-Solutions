{
 "cells": [
  {
   "cell_type": "markdown",
   "metadata": {},
   "source": [
    "# Cybersecurity Graph Analytics with xGT on HPE Superdome Flex\n",
    "  \n",
    " ## Lateral Movement\n",
    " --- \n",
    "*Lateral movement* is a cyberattack pattern that describes how an adversary leverages a single foothold to compromise other systems within a network. Identifying and stopping lateral movement is an important step in controlling the damage from a breach, and also plays a role in forensic analysis of a cyberatt ack, helping to identify its source and reconstruct what happened.  \n",
    "\n",
    "## Lateral Movement (Pass The Hash)\n",
    "---\n",
    "Pass the hash (PtH) is a method of authenticating as a user without having access to the user's cleartext password. This method bypasses standard authentication steps that require a cleartext password, moving directly into the portion of the authentication that uses the password hash.\n",
    "\n",
    "### Event ID's Meaning <br>\n",
    "    1.4688 - Process Execution in windows\n",
    "    \n",
    "### Details associated with Pass the Hash attack\n",
    "| Malware | TECHNIQUE | O/S | Windows Event Id | Windows Port | Process | DLL | Other Parameters\n",
    "| --- | --- | --- | --- | --- | --- | --- | --- |\n",
    "| SoftCell/Empire | T1075 | Windows | 4688 | 135/445 |  |  | Authentication Package = ‘NTLM’ |\n",
    "\n",
    "### Pass the Hash Attack Flow\n",
    "    1.Windows uses lsass to maintain the users password hashes in memory. Tools like mimikatz can dump these hashes from memory.\n",
    "    2.These hashes can be used to authenticate as legitimate users.\n",
    "    3.Soft cell uses these hashes along with PsExec(445) or WMI(135) for lateral movement\n",
    "\n",
    "In this notebook, we show how Cybersecurity Graph Analytics can be implemented with xGT on HPE Superdome Flex for  large data.\n",
    "\n",
    "Mitre Attack Catalog https://attack.mitre.org/\n",
    "\n",
    "Dataset : https://datasets.trovares.com/cyber/LANL/ind\t"
   ]
  },
  {
   "cell_type": "code",
   "execution_count": 1,
   "metadata": {},
   "outputs": [],
   "source": [
    "from neo4j import GraphDatabase\n",
    "import time"
   ]
  },
  {
   "cell_type": "code",
   "execution_count": 2,
   "metadata": {},
   "outputs": [],
   "source": [
    "# Get Connection to neo4j\n",
    "\n",
    "uri = 'bolt://localhost:7687'\n",
    "username = 'neo4j'\n",
    "password = 'graph'\n",
    "\n",
    "neo4j_driver = GraphDatabase.driver(uri, auth=(username,password))"
   ]
  },
  {
   "cell_type": "code",
   "execution_count": null,
   "metadata": {},
   "outputs": [],
   "source": [
    "# DATA IS LOADED USING neo4j-import\n",
    "\n",
    "#Netflow = \"LOAD CSV WITH HEADERS FROM 'file:///nf_200.csv' AS row MERGE (m:Devices {Name:row.src_device}) MERGE (n:Devices {Name:row.dst_device}) MERGE (m) -[:Netflow { epoch_time:toInteger(row.epoch_time), duration:toInteger(row.duration), protocol:toInteger(row.protocol), src_port:toInteger(row.src_port), dst_port:toInteger(row.dst_port), src_packets:toInteger(row.src_packets), dst_packets:toInteger(row.dst_packets), src_bytes:toInteger(row.src_bytes), dst_bytes:toInteger(row.dst_bytes) }]-> (n)\"\n",
    "\n",
    "#start = time.time()\n",
    "#with neo4j_driver.session() as neo4j_Session:\n",
    "#    neo4j_Session.run(Netflow)"
   ]
  },
  {
   "cell_type": "code",
   "execution_count": null,
   "metadata": {},
   "outputs": [],
   "source": [
    "# DATA IS LOADED USING neo4j-import\n",
    "\n",
    "\n",
    "#HostEvents = \"LOAD CSV WITH HEADERS FROM 'file:///1v_200.csv' AS row MERGE (m:Devices {Name:row.log_host}) MERGE (m) -[:HostEvents { epoch_time:toInteger(row.epoch_time),event_id:toInteger(row.event_id),user_name:row.user_name, domain_name:row.domain_name, logon_id: toInteger(row.logon_id), process_name:row.process_name, process_id:toInteger(row.process_id), parent_process_name:row.parent_process_name, parent_process_id:toInteger(row.parent_process_id) }]-> (m)\" \n",
    "                         \n",
    "#start = time.time()\n",
    "#with neo4j_driver.session() as neo4j_Session:\n",
    "#    neo4j_Session.run(HostEvents)"
   ]
  },
  {
   "cell_type": "code",
   "execution_count": 3,
   "metadata": {},
   "outputs": [
    {
     "name": "stdout",
     "output_type": "stream",
     "text": [
      "[{'count(*)': 5210584}]\n"
     ]
    }
   ],
   "source": [
    "# filtering with port no. 135 & 445.\n",
    "# If NetFlow edge has dst_port=135 or 445 then Create LMFlow edge between those nodes.\n",
    "# These are the ports used by Empire/SoftCell malware for Lateral Movement.\n",
    "\n",
    "\n",
    "Port_Query = \"\"\"MATCH (v0:Devices)-[edge:Netflow]->(v1:Devices) \n",
    "WHERE edge.dst_port=135 OR edge.dst_port=445 \n",
    "CREATE (v0)-[e:LMFlow \n",
    "             {epoch_time : toInteger(edge.epoch_time), duration : toInteger(edge.duration), \n",
    "              protocol : toInteger(edge.protocol), src_port : toInteger(edge.src_port), \n",
    "              dst_port : toInteger(edge.dst_port)}]->(v1) RETURN count(*)\"\"\"\n",
    "\n",
    "\n",
    "with neo4j_driver.session() as neo4j_Session:\n",
    "    result1 = neo4j_Session.run(Port_Query)\n",
    "\n",
    "print(result1.data())"
   ]
  },
  {
   "cell_type": "code",
   "execution_count": 47,
   "metadata": {},
   "outputs": [],
   "source": [
    "# Lateral Movement after executing lsass process using port 135 or 445.\n",
    "\n",
    "hop_threshold = 180\n",
    "LMflow_Query = \"\"\"MATCH (A:Devices)-[r1:LMFlow]->(B:Devices) \n",
    "MATCH (A)-[hijack1:HostEvents]->(A) \n",
    "WHERE A <> B AND hijack1.event_id = 4688 \n",
    "AND hijack1.parent_process_name = 'lsass' \n",
    "AND hijack1.epoch_time <= r1.epoch_time \n",
    "AND r1.epoch_time - hijack1.epoch_time < {0} \n",
    "AND r1.duration < 300\n",
    "RETURN A.src, B.src, r1.epoch_time, hijack1.epoch_time, r1.duration\"\"\".format(hop_threshold)\n",
    "\n",
    "\n",
    "with neo4j_driver.session() as neo4j_Session:\n",
    "    result2 = neo4j_Session.run(LMflow_Query)\n"
   ]
  },
  {
   "cell_type": "code",
   "execution_count": 48,
   "metadata": {},
   "outputs": [
    {
     "data": {
      "text/html": [
       "<div>\n",
       "<style scoped>\n",
       "    .dataframe tbody tr th:only-of-type {\n",
       "        vertical-align: middle;\n",
       "    }\n",
       "\n",
       "    .dataframe tbody tr th {\n",
       "        vertical-align: top;\n",
       "    }\n",
       "\n",
       "    .dataframe thead th {\n",
       "        text-align: right;\n",
       "    }\n",
       "</style>\n",
       "<table border=\"1\" class=\"dataframe\">\n",
       "  <thead>\n",
       "    <tr style=\"text-align: right;\">\n",
       "      <th></th>\n",
       "      <th>A.src</th>\n",
       "      <th>B.src</th>\n",
       "      <th>r1.epoch_time</th>\n",
       "      <th>hijack1.epoch_time</th>\n",
       "      <th>r1.duration</th>\n",
       "    </tr>\n",
       "  </thead>\n",
       "  <tbody>\n",
       "    <tr>\n",
       "      <th>0</th>\n",
       "      <td>Comp921148</td>\n",
       "      <td>ActiveDirectory</td>\n",
       "      <td>7290283</td>\n",
       "      <td>7290114</td>\n",
       "      <td>6</td>\n",
       "    </tr>\n",
       "    <tr>\n",
       "      <th>1</th>\n",
       "      <td>Comp921148</td>\n",
       "      <td>ActiveDirectory</td>\n",
       "      <td>7290248</td>\n",
       "      <td>7290114</td>\n",
       "      <td>2</td>\n",
       "    </tr>\n",
       "    <tr>\n",
       "      <th>2</th>\n",
       "      <td>Comp921148</td>\n",
       "      <td>ActiveDirectory</td>\n",
       "      <td>7290127</td>\n",
       "      <td>7290114</td>\n",
       "      <td>6</td>\n",
       "    </tr>\n",
       "    <tr>\n",
       "      <th>3</th>\n",
       "      <td>Comp921148</td>\n",
       "      <td>ActiveDirectory</td>\n",
       "      <td>7290194</td>\n",
       "      <td>7290114</td>\n",
       "      <td>1</td>\n",
       "    </tr>\n",
       "    <tr>\n",
       "      <th>4</th>\n",
       "      <td>Comp921148</td>\n",
       "      <td>ActiveDirectory</td>\n",
       "      <td>7290235</td>\n",
       "      <td>7290114</td>\n",
       "      <td>6</td>\n",
       "    </tr>\n",
       "  </tbody>\n",
       "</table>\n",
       "</div>"
      ],
      "text/plain": [
       "        A.src            B.src  r1.epoch_time  hijack1.epoch_time  r1.duration\n",
       "0  Comp921148  ActiveDirectory        7290283             7290114            6\n",
       "1  Comp921148  ActiveDirectory        7290248             7290114            2\n",
       "2  Comp921148  ActiveDirectory        7290127             7290114            6\n",
       "3  Comp921148  ActiveDirectory        7290194             7290114            1\n",
       "4  Comp921148  ActiveDirectory        7290235             7290114            6"
      ]
     },
     "execution_count": 48,
     "metadata": {},
     "output_type": "execute_result"
    }
   ],
   "source": [
    "import pandas as pd\n",
    "\n",
    "df = pd.DataFrame(result2.data())\n",
    "\n",
    "df.head()"
   ]
  },
  {
   "cell_type": "code",
   "execution_count": 49,
   "metadata": {
    "scrolled": true
   },
   "outputs": [
    {
     "data": {
      "text/html": [
       "<div>\n",
       "<style scoped>\n",
       "    .dataframe tbody tr th:only-of-type {\n",
       "        vertical-align: middle;\n",
       "    }\n",
       "\n",
       "    .dataframe tbody tr th {\n",
       "        vertical-align: top;\n",
       "    }\n",
       "\n",
       "    .dataframe thead th {\n",
       "        text-align: right;\n",
       "    }\n",
       "</style>\n",
       "<table border=\"1\" class=\"dataframe\">\n",
       "  <thead>\n",
       "    <tr style=\"text-align: right;\">\n",
       "      <th></th>\n",
       "      <th>A.src</th>\n",
       "      <th>B.src</th>\n",
       "      <th>r1.epoch_time</th>\n",
       "      <th>hijack1.epoch_time</th>\n",
       "      <th>r1.duration</th>\n",
       "    </tr>\n",
       "  </thead>\n",
       "  <tbody>\n",
       "    <tr>\n",
       "      <th>0</th>\n",
       "      <td>Comp921148</td>\n",
       "      <td>ActiveDirectory</td>\n",
       "      <td>7290283</td>\n",
       "      <td>7290114</td>\n",
       "      <td>6</td>\n",
       "    </tr>\n",
       "    <tr>\n",
       "      <th>1</th>\n",
       "      <td>Comp921148</td>\n",
       "      <td>ActiveDirectory</td>\n",
       "      <td>7290248</td>\n",
       "      <td>7290114</td>\n",
       "      <td>2</td>\n",
       "    </tr>\n",
       "    <tr>\n",
       "      <th>2</th>\n",
       "      <td>Comp921148</td>\n",
       "      <td>ActiveDirectory</td>\n",
       "      <td>7290127</td>\n",
       "      <td>7290114</td>\n",
       "      <td>6</td>\n",
       "    </tr>\n",
       "    <tr>\n",
       "      <th>3</th>\n",
       "      <td>Comp921148</td>\n",
       "      <td>ActiveDirectory</td>\n",
       "      <td>7290194</td>\n",
       "      <td>7290114</td>\n",
       "      <td>1</td>\n",
       "    </tr>\n",
       "    <tr>\n",
       "      <th>4</th>\n",
       "      <td>Comp921148</td>\n",
       "      <td>ActiveDirectory</td>\n",
       "      <td>7290235</td>\n",
       "      <td>7290114</td>\n",
       "      <td>6</td>\n",
       "    </tr>\n",
       "    <tr>\n",
       "      <th>5</th>\n",
       "      <td>Comp921148</td>\n",
       "      <td>ActiveDirectory</td>\n",
       "      <td>7290146</td>\n",
       "      <td>7290114</td>\n",
       "      <td>1</td>\n",
       "    </tr>\n",
       "    <tr>\n",
       "      <th>6</th>\n",
       "      <td>Comp921148</td>\n",
       "      <td>ActiveDirectory</td>\n",
       "      <td>7290208</td>\n",
       "      <td>7290114</td>\n",
       "      <td>6</td>\n",
       "    </tr>\n",
       "    <tr>\n",
       "      <th>7</th>\n",
       "      <td>Comp921148</td>\n",
       "      <td>ActiveDirectory</td>\n",
       "      <td>7290263</td>\n",
       "      <td>7290114</td>\n",
       "      <td>6</td>\n",
       "    </tr>\n",
       "    <tr>\n",
       "      <th>8</th>\n",
       "      <td>Comp921148</td>\n",
       "      <td>ActiveDirectory</td>\n",
       "      <td>7290119</td>\n",
       "      <td>7290114</td>\n",
       "      <td>7</td>\n",
       "    </tr>\n",
       "    <tr>\n",
       "      <th>9</th>\n",
       "      <td>Comp921148</td>\n",
       "      <td>ActiveDirectory</td>\n",
       "      <td>7290201</td>\n",
       "      <td>7290114</td>\n",
       "      <td>1</td>\n",
       "    </tr>\n",
       "  </tbody>\n",
       "</table>\n",
       "</div>"
      ],
      "text/plain": [
       "        A.src            B.src  r1.epoch_time  hijack1.epoch_time  r1.duration\n",
       "0  Comp921148  ActiveDirectory        7290283             7290114            6\n",
       "1  Comp921148  ActiveDirectory        7290248             7290114            2\n",
       "2  Comp921148  ActiveDirectory        7290127             7290114            6\n",
       "3  Comp921148  ActiveDirectory        7290194             7290114            1\n",
       "4  Comp921148  ActiveDirectory        7290235             7290114            6\n",
       "5  Comp921148  ActiveDirectory        7290146             7290114            1\n",
       "6  Comp921148  ActiveDirectory        7290208             7290114            6\n",
       "7  Comp921148  ActiveDirectory        7290263             7290114            6\n",
       "8  Comp921148  ActiveDirectory        7290119             7290114            7\n",
       "9  Comp921148  ActiveDirectory        7290201             7290114            1"
      ]
     },
     "execution_count": 49,
     "metadata": {},
     "output_type": "execute_result"
    }
   ],
   "source": [
    "df_plot = df[0:10]\n",
    "df_plot"
   ]
  },
  {
   "cell_type": "code",
   "execution_count": 50,
   "metadata": {},
   "outputs": [],
   "source": [
    "import networkx as nx\n",
    "import matplotlib.pyplot as plt\n",
    "\n",
    "attr = [\"r1.epoch_time\",\"hijack1.epoch_time\",\"r1.duration\"]\n",
    "G=nx.from_pandas_edgelist(df, source='A.src', target='B.src', edge_attr=attr, create_using=nx.MultiDiGraph())\n"
   ]
  },
  {
   "cell_type": "code",
   "execution_count": 51,
   "metadata": {},
   "outputs": [
    {
     "data": {
      "image/png": "[encoded data removed]",
      "text/plain": [
       "<Figure size 1800x1800 with 1 Axes>"
      ]
     },
     "metadata": {},
     "output_type": "display_data"
    }
   ],
   "source": [
    "plt.figure(figsize=(25, 25))\n",
    "layout = nx.spring_layout(G,iterations=50)\n",
    "plt.axis('off')\n",
    "nx.draw(G,pos=layout )\n",
    "nx.draw_networkx_labels(G,pos=layout)\n",
    "#nx.draw_networkx_edge_labels(G,pos=layout)\n",
    "plt.draw()"
   ]
  },
  {
   "cell_type": "code",
   "execution_count": null,
   "metadata": {},
   "outputs": [],
   "source": []
  }
 ],
 "metadata": {
  "kernelspec": {
   "display_name": "Python 3",
   "language": "python",
   "name": "python3"
  },
  "language_info": {
   "codemirror_mode": {
    "name": "ipython",
    "version": 3
   },
   "file_extension": ".py",
   "mimetype": "text/x-python",
   "name": "python",
   "nbconvert_exporter": "python",
   "pygments_lexer": "ipython3",
   "version": "3.7.4"
  }
 },
 "nbformat": 4,
 "nbformat_minor": 2
}
