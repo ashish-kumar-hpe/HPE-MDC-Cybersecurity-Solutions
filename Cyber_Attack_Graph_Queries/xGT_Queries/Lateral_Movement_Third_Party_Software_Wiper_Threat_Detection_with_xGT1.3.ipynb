{
 "cells": [
  {
   "cell_type": "markdown",
   "metadata": {},
   "source": [
    "# Cybersecurity Graph Analytics with xGT on HPE Superdome Flex\n",
    "  \n",
    " ## Lateral Movement\n",
    " --- \n",
    "*Lateral movement* is a cyberattack pattern that describes how an adversary leverages a single foothold to compromise other systems within a network. Identifying and stopping lateral movement is an important step in controlling the damage from a breach, and also plays a role in forensic analysis of a cyberatt ack, helping to identify its source and reconstruct what happened.  \n",
    "\n",
    "## Lateral Movement (Third Party Software)\n",
    "---\n",
    "Third-party applications and software deployment systems may be in use in the network environment for administration purposes (e.g., SCCM, VNC, HBSS, Altiris, etc.). If an adversary gains access to these systems, then they may be able to execute code.\n",
    "### Event ID's Meaning <br>\n",
    "    1.4609/1100 - Windows Shutdown \n",
    "    \n",
    "### Details associated with Third Party Software attack for wiper malware\n",
    "| Malware | TECHNIQUE | O/S | Windows Event Id | Windows Port | Process | DLL | Other Parameters\n",
    "| --- | --- | --- | --- | --- | --- | --- | --- |\n",
    "| Wiper | T1072 | Windows | 4609/1100 | 22 |  |  |  |\n",
    "\n",
    "### Third Party Software Attack Flow<font color = red>(Only for Wiper. Can not be generalized to the Attack)</font>\n",
    "    1.Malware uses conime.exe (SCP Client) to transfer the pr1.tmp(Shell script). \n",
    "    2.Later it uses alg.exe (SSH Client) to execute it. \n",
    "    3.Next it attempts to kill pasvc.exe and clisvc.exe if exists. These are Anti-virus processes.\n",
    "    4.In Windows this sequence proceeds to reboot the system before erasing the disks. \n",
    "    5.So look for port 22 in netflow 2 consecutive times and 4609/1100(reboot) of the destination in a given time stamps.\n",
    "\n",
    "In this notebook, we show how Cybersecurity Graph Analytics can be implemented with xGT on HPE Superdome Flex for  large data.\n",
    "\n",
    "Mitre Attack Catalog https://attack.mitre.org/\n",
    "\n",
    "Dataset : https://datasets.trovares.com/cyber/LANL/ind\t"
   ]
  },
  {
   "cell_type": "code",
   "execution_count": 1,
   "metadata": {},
   "outputs": [
    {
     "name": "stdout",
     "output_type": "stream",
     "text": [
      "3.7.4\n"
     ]
    }
   ],
   "source": [
    "import xgt\n",
    "import os\n",
    "import pandas\n",
    "\n",
    "from platform import python_version\n",
    "print (python_version())"
   ]
  },
  {
   "cell_type": "code",
   "execution_count": 2,
   "metadata": {},
   "outputs": [],
   "source": [
    "if os.environ.get('https_proxy'):\n",
    " del os.environ['https_proxy']\n",
    "if os.environ.get('http_proxy'):\n",
    " del os.environ['http_proxy']"
   ]
  },
  {
   "cell_type": "code",
   "execution_count": 3,
   "metadata": {},
   "outputs": [
    {
     "data": {
      "text/plain": [
       "'1.3.0'"
      ]
     },
     "execution_count": 3,
     "metadata": {},
     "output_type": "execute_result"
    }
   ],
   "source": [
    "conn=xgt.Connection()\n",
    "conn.server_version"
   ]
  },
  {
   "cell_type": "code",
   "execution_count": 4,
   "metadata": {},
   "outputs": [
    {
     "data": {
      "text/plain": [
       "<xgt.graph.VertexFrame at 0x7f7957029ad0>"
      ]
     },
     "execution_count": 4,
     "metadata": {},
     "output_type": "execute_result"
    }
   ],
   "source": [
    "try:\n",
    "  devices = conn.get_vertex_frame('Devices')\n",
    "except xgt.XgtNameError:\n",
    "  devices = conn.create_vertex_frame(\n",
    "      name='Devices',\n",
    "      schema=[['device', xgt.TEXT]],\n",
    "      key='device')\n",
    "devices"
   ]
  },
  {
   "cell_type": "code",
   "execution_count": 5,
   "metadata": {},
   "outputs": [
    {
     "data": {
      "text/plain": [
       "<xgt.graph.EdgeFrame at 0x7f79554868d0>"
      ]
     },
     "execution_count": 5,
     "metadata": {},
     "output_type": "execute_result"
    }
   ],
   "source": [
    "try:\n",
    "  netflow = conn.get_edge_frame('Netflow')\n",
    "except xgt.XgtNameError:\n",
    "  netflow = conn.create_edge_frame(\n",
    "      name='Netflow',\n",
    "      schema=[['epoch_time', xgt.INT],\n",
    "              ['duration', xgt.INT],\n",
    "              ['src_device', xgt.TEXT],\n",
    "              ['dst_device', xgt.TEXT],\n",
    "              ['protocol', xgt.INT],\n",
    "              ['src_port', xgt.INT],\n",
    "              ['dst_port', xgt.INT],\n",
    "              ['src_packets', xgt.INT],\n",
    "              ['dst_packets', xgt.INT],\n",
    "              ['src_bytes', xgt.INT],\n",
    "              ['dst_bytes', xgt.INT]],\n",
    "      source=devices,\n",
    "      target=devices,\n",
    "      source_key='src_device',\n",
    "      target_key='dst_device')\n",
    "netflow"
   ]
  },
  {
   "cell_type": "code",
   "execution_count": 6,
   "metadata": {},
   "outputs": [
    {
     "data": {
      "text/plain": [
       "<xgt.graph.EdgeFrame at 0x7f7955482e90>"
      ]
     },
     "execution_count": 6,
     "metadata": {},
     "output_type": "execute_result"
    }
   ],
   "source": [
    "try:\n",
    "  host_events = conn.get_edge_frame('HostEvents')\n",
    "except xgt.XgtNameError:\n",
    "  host_events = conn.create_edge_frame(\n",
    "      name='HostEvents',\n",
    "      schema=[['epoch_time', xgt.INT],\n",
    "              ['event_id', xgt.INT],\n",
    "              ['log_host', xgt.TEXT],\n",
    "              ['user_name', xgt.TEXT],\n",
    "              ['domain_name', xgt.TEXT],\n",
    "              ['logon_id', xgt.INT],\n",
    "              ['process_name', xgt.TEXT],\n",
    "              ['process_id', xgt.INT],\n",
    "              ['parent_process_name', xgt.TEXT],\n",
    "              ['parent_process_id', xgt.INT]],\n",
    "           source=devices,\n",
    "           target=devices,\n",
    "           source_key='log_host',\n",
    "           target_key='log_host')\n",
    "host_events"
   ]
  },
  {
   "cell_type": "code",
   "execution_count": 7,
   "metadata": {},
   "outputs": [
    {
     "name": "stdout",
     "output_type": "stream",
     "text": [
      "Devices (vertices): 0\n",
      "Netflow (edges): 0\n",
      "Host events (edges): 0\n",
      "Total (edges): 0\n"
     ]
    }
   ],
   "source": [
    "# Utility to print the sizes of data currently in xGT\n",
    "def print_data_summary():\n",
    "  print('Devices (vertices): {:,}'.format(devices.num_vertices))\n",
    "  print('Netflow (edges): {:,}'.format(netflow.num_edges))\n",
    "  print('Host events (edges): {:,}'.format(host_events.num_edges))\n",
    "  print('Total (edges): {:,}'.format(\n",
    "      netflow.num_edges + host_events.num_edges))\n",
    "    \n",
    "print_data_summary()"
   ]
  },
  {
   "cell_type": "code",
   "execution_count": 8,
   "metadata": {
    "scrolled": true
   },
   "outputs": [
    {
     "name": "stdout",
     "output_type": "stream",
     "text": [
      "Devices (vertices): 10,324\n",
      "Netflow (edges): 0\n",
      "Host events (edges): 18,637,483\n",
      "Total (edges): 18,637,483\n",
      "CPU times: user 72.6 ms, sys: 41.9 ms, total: 115 ms\n",
      "Wall time: 13.5 s\n"
     ]
    }
   ],
   "source": [
    "%%time\n",
    "\n",
    "# Load the HostEvents event data:\n",
    "if host_events.num_edges == 0:\n",
    "    urls = [\"xgtd://nvme_data1/data_1v/wls_day-85_1v.csv\"]\n",
    "    host_events.load(urls)\n",
    "    print_data_summary()"
   ]
  },
  {
   "cell_type": "code",
   "execution_count": 9,
   "metadata": {},
   "outputs": [
    {
     "name": "stdout",
     "output_type": "stream",
     "text": [
      "Devices (vertices): 137,479\n",
      "Netflow (edges): 235,661,328\n",
      "Host events (edges): 18,637,483\n",
      "Total (edges): 254,298,811\n",
      "CPU times: user 433 ms, sys: 190 ms, total: 623 ms\n",
      "Wall time: 1min 37s\n"
     ]
    }
   ],
   "source": [
    "%%time\n",
    "\n",
    "# Load the netflow data:\n",
    "if netflow.num_edges == 0:\n",
    "    urls = [\"xgtd://nvme_data1/data_nf/nf_day-85.csv\"]\n",
    "    netflow.load(urls)\n",
    "    print_data_summary()"
   ]
  },
  {
   "cell_type": "code",
   "execution_count": 10,
   "metadata": {},
   "outputs": [],
   "source": [
    "# Utility function to launch queries and show job number:\n",
    "#   The job number may be useful if a long-running job needs\n",
    "#   to be canceled.\n",
    "\n",
    "def run_query(query, table_name = \"answers\", drop_answer_table=True, show_query=False):\n",
    "    if drop_answer_table:\n",
    "        conn.drop_frame(table_name)\n",
    "    if query[-1] != '\\n':\n",
    "        query += '\\n'\n",
    "    query += 'INTO {}'.format(table_name)\n",
    "    if show_query:\n",
    "        print(\"Query:\\n\" + query)\n",
    "    job = conn.schedule_job(query)\n",
    "    print(\"Launched job {}\".format(job.id))\n",
    "    conn.wait_for_job(job)\n",
    "    table = conn.get_table_frame(table_name)\n",
    "    return table"
   ]
  },
  {
   "cell_type": "code",
   "execution_count": 11,
   "metadata": {},
   "outputs": [
    {
     "data": {
      "text/plain": [
       "<xgt.graph.EdgeFrame at 0x7f795548c150>"
      ]
     },
     "execution_count": 11,
     "metadata": {},
     "output_type": "execute_result"
    }
   ],
   "source": [
    "# Generate a new edge frame for holding only the RDP edges\n",
    "import time\n",
    "query_start_time = time.time()\n",
    "\n",
    "conn.drop_frame('SSHFlow')\n",
    "ssh = conn.create_edge_frame(\n",
    "            name='SSHFlow',\n",
    "            schema=netflow.schema,\n",
    "            source=devices,\n",
    "            target=devices,\n",
    "            source_key='src_device',\n",
    "            target_key='dst_device')\n",
    "ssh"
   ]
  },
  {
   "cell_type": "code",
   "execution_count": 12,
   "metadata": {},
   "outputs": [
    {
     "name": "stdout",
     "output_type": "stream",
     "text": [
      "Launched job 990\n",
      "Number of answers: 435,663\n",
      "CPU times: user 30.8 ms, sys: 12.9 ms, total: 43.6 ms\n",
      "Wall time: 2.84 s\n"
     ]
    }
   ],
   "source": [
    "%%time\n",
    "\n",
    "#Extract forward RDP edges\n",
    "q = \"\"\"\n",
    "MATCH (v0)-[edge:Netflow]->(v1)\n",
    "WHERE edge.dst_port=22\n",
    "CREATE (v0)-[e:SSHFlow {epoch_time : edge.epoch_time,\n",
    "  duration : edge.duration, protocol : edge.protocol,\n",
    "  src_port : edge.src_port, dst_port : edge.dst_port}]->(v1)\n",
    "RETURN count(*)\n",
    "\"\"\"\n",
    "data = run_query(q)\n",
    "print('Number of answers: {:,}'.format(data.get_data()[0][0]))"
   ]
  },
  {
   "cell_type": "code",
   "execution_count": 13,
   "metadata": {},
   "outputs": [
    {
     "data": {
      "text/plain": [
       "'SSHFlow (edges): 435,663'"
      ]
     },
     "execution_count": 13,
     "metadata": {},
     "output_type": "execute_result"
    }
   ],
   "source": [
    "data=None\n",
    "if ssh.num_edges == 0:\n",
    "    print(\"SSHFlow is empty\")\n",
    "elif ssh.num_edges <= 1000:\n",
    "    data = ssh.get_data_pandas()\n",
    "else:\n",
    "    data = 'SSHFlow (edges): {:,}'.format(ssh.num_edges)\n",
    "data"
   ]
  },
  {
   "cell_type": "code",
   "execution_count": 14,
   "metadata": {},
   "outputs": [
    {
     "name": "stdout",
     "output_type": "stream",
     "text": [
      "Devices (vertices): 137,479\n",
      "Netflow (edges): 235,661,328\n",
      "Host events (edges): 18,637,483\n",
      "Total (edges): 254,298,811\n",
      "SSHFlow (edges): 435,663\n"
     ]
    }
   ],
   "source": [
    "# Utility to print the data sizes currently in xGT\n",
    "def print_netflow_data_summary():\n",
    "  print_data_summary()\n",
    "  print('SSHFlow (edges): {:,}'.format(ssh.num_edges))\n",
    "\n",
    "print_netflow_data_summary()"
   ]
  },
  {
   "cell_type": "code",
   "execution_count": 15,
   "metadata": {},
   "outputs": [
    {
     "name": "stdout",
     "output_type": "stream",
     "text": [
      "Launched job 1018\n",
      "Number of answers: 1,000\n",
      "CPU times: user 58.4 ms, sys: 69.6 ms, total: 128 ms\n",
      "Wall time: 1min 14s\n"
     ]
    }
   ],
   "source": [
    "%%time\n",
    "\n",
    "#Lateral Movement Query\n",
    "\n",
    "SSH_HOP_TIME = 60\n",
    "REBOOT_SIG_TIME = 180\n",
    "\n",
    "q = \"\"\"\n",
    "MATCH (n1:Devices)-[r1:SSHFlow]->(n2:Devices), (n1)-[r2:SSHFlow]->(n2), (n2)-[rb:HostEvents]->(n2)\n",
    "WHERE rb.event_id=1100\n",
    "  AND n1 <> n2\n",
    "  AND r1 <> r2\n",
    "  AND r1.epoch_time <= r2.epoch_time\n",
    "  AND r2.epoch_time - r1.epoch_time < {0}\n",
    "  AND r2.epoch_time <= rb.epoch_time\n",
    "  AND rb.epoch_time - r2.epoch_time < {1}\n",
    "RETURN r1.src_device,r1.dst_device,r1.epoch_time,r2.epoch_time,rb.epoch_time\n",
    "LIMIT 1000\n",
    "\"\"\".format(SSH_HOP_TIME,REBOOT_SIG_TIME)\n",
    "answer_table = run_query(q)\n",
    "print('Number of answers: {:,}'.format(answer_table.num_rows))"
   ]
  }
 ],
 "metadata": {
  "kernelspec": {
   "display_name": "Python 3",
   "language": "python",
   "name": "python3"
  },
  "language_info": {
   "codemirror_mode": {
    "name": "ipython",
    "version": 3
   },
   "file_extension": ".py",
   "mimetype": "text/x-python",
   "name": "python",
   "nbconvert_exporter": "python",
   "pygments_lexer": "ipython3",
   "version": "3.7.4"
  }
 },
 "nbformat": 4,
 "nbformat_minor": 2
}
