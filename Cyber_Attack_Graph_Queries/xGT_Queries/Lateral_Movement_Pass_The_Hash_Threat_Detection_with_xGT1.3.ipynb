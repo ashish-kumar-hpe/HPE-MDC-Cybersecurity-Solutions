{
 "cells": [
  {
   "cell_type": "markdown",
   "metadata": {},
   "source": [
    "# Cybersecurity Graph Analytics with xGT on HPE Superdome Flex\n",
    "  \n",
    " ## Lateral Movement\n",
    " --- \n",
    "*Lateral movement* is a cyberattack pattern that describes how an adversary leverages a single foothold to compromise other systems within a network. Identifying and stopping lateral movement is an important step in controlling the damage from a breach, and also plays a role in forensic analysis of a cyberatt ack, helping to identify its source and reconstruct what happened.  \n",
    "\n",
    "## Lateral Movement (Pass The Hash)\n",
    "---\n",
    "Pass the hash (PtH) is a method of authenticating as a user without having access to the user's cleartext password. This method bypasses standard authentication steps that require a cleartext password, moving directly into the portion of the authentication that uses the password hash.\n",
    "\n",
    "### Event ID's Meaning <br>\n",
    "    1.4688 - Process Execution in windows\n",
    "    \n",
    "### Details associated with Pass the Hash attack\n",
    "| Malware | TECHNIQUE | O/S | Windows Event Id | Windows Port | Process | DLL | Other Parameters\n",
    "| --- | --- | --- | --- | --- | --- | --- | --- |\n",
    "| SoftCell/Empire | T1075 | Windows | 4688 | 135/445 |  |  | Authentication Package = ‘NTLM’ |\n",
    "\n",
    "### Pass the Hash Attack Flow\n",
    "    1.Windows uses lsass to maintain the users password hashes in memory. \n",
    "    2.Tools like mimikatz can dump these hashes from memory.\n",
    "    3.These hashes can be used to authenticate as legitimate users.\n",
    "    4.Soft cell uses these hashes along with PsExec(445) or WMI(135) for lateral movement\n",
    "\n",
    "In this notebook, we show how Cybersecurity Graph Analytics can be implemented with xGT on HPE Superdome Flex for  large data.\n",
    "\n",
    "Mitre Attack Catalog https://attack.mitre.org/\n",
    "\n",
    "Dataset : https://datasets.trovares.com/cyber/LANL/ind\t"
   ]
  },
  {
   "cell_type": "code",
   "execution_count": 16,
   "metadata": {},
   "outputs": [
    {
     "name": "stdout",
     "output_type": "stream",
     "text": [
      "3.7.4\n"
     ]
    }
   ],
   "source": [
    "import xgt\n",
    "import os\n",
    "import pandas\n",
    "\n",
    "from platform import python_version\n",
    "print (python_version())"
   ]
  },
  {
   "cell_type": "code",
   "execution_count": 17,
   "metadata": {},
   "outputs": [],
   "source": [
    "if os.environ.get('https_proxy'):\n",
    " del os.environ['https_proxy']\n",
    "if os.environ.get('http_proxy'):\n",
    " del os.environ['http_proxy']"
   ]
  },
  {
   "cell_type": "code",
   "execution_count": 18,
   "metadata": {},
   "outputs": [
    {
     "data": {
      "text/plain": [
       "'1.3.0'"
      ]
     },
     "execution_count": 18,
     "metadata": {},
     "output_type": "execute_result"
    }
   ],
   "source": [
    "conn=xgt.Connection()\n",
    "conn.server_version"
   ]
  },
  {
   "cell_type": "code",
   "execution_count": 19,
   "metadata": {},
   "outputs": [
    {
     "data": {
      "text/plain": [
       "<xgt.graph.VertexFrame at 0x7f1161811ad0>"
      ]
     },
     "execution_count": 19,
     "metadata": {},
     "output_type": "execute_result"
    }
   ],
   "source": [
    "try:\n",
    "  devices = conn.get_vertex_frame('Devices')\n",
    "except xgt.XgtNameError:\n",
    "  devices = conn.create_vertex_frame(\n",
    "      name='Devices',\n",
    "      schema=[['device', xgt.TEXT]],\n",
    "      key='device')\n",
    "devices"
   ]
  },
  {
   "cell_type": "code",
   "execution_count": 20,
   "metadata": {},
   "outputs": [
    {
     "data": {
      "text/plain": [
       "<xgt.graph.EdgeFrame at 0x7f116181a610>"
      ]
     },
     "execution_count": 20,
     "metadata": {},
     "output_type": "execute_result"
    }
   ],
   "source": [
    "try:\n",
    "  netflow = conn.get_edge_frame('Netflow')\n",
    "except xgt.XgtNameError:\n",
    "  netflow = conn.create_edge_frame(\n",
    "      name='Netflow',\n",
    "      schema=[['epoch_time', xgt.INT],\n",
    "              ['duration', xgt.INT],\n",
    "              ['src_device', xgt.TEXT],\n",
    "              ['dst_device', xgt.TEXT],\n",
    "              ['protocol', xgt.INT],\n",
    "              ['src_port', xgt.INT],\n",
    "              ['dst_port', xgt.INT],\n",
    "              ['src_packets', xgt.INT],\n",
    "              ['dst_packets', xgt.INT],\n",
    "              ['src_bytes', xgt.INT],\n",
    "              ['dst_bytes', xgt.INT]],\n",
    "      source=devices,\n",
    "      target=devices,\n",
    "      source_key='src_device',\n",
    "      target_key='dst_device')\n",
    "netflow"
   ]
  },
  {
   "cell_type": "code",
   "execution_count": 21,
   "metadata": {},
   "outputs": [
    {
     "data": {
      "text/plain": [
       "<xgt.graph.EdgeFrame at 0x7f11617f88d0>"
      ]
     },
     "execution_count": 21,
     "metadata": {},
     "output_type": "execute_result"
    }
   ],
   "source": [
    "try:\n",
    "  host_events = conn.get_edge_frame('HostEvents')\n",
    "except xgt.XgtNameError:\n",
    "  host_events = conn.create_edge_frame(\n",
    "      name='HostEvents',\n",
    "      schema=[['epoch_time', xgt.INT],\n",
    "              ['event_id', xgt.INT],\n",
    "              ['log_host', xgt.TEXT],\n",
    "              ['user_name', xgt.TEXT],\n",
    "              ['domain_name', xgt.TEXT],\n",
    "              ['logon_id', xgt.INT],\n",
    "              ['process_name', xgt.TEXT],\n",
    "              ['process_id', xgt.INT],\n",
    "              ['parent_process_name', xgt.TEXT],\n",
    "              ['parent_process_id', xgt.INT]],\n",
    "           source=devices,\n",
    "           target=devices,\n",
    "           source_key='log_host',\n",
    "           target_key='log_host')\n",
    "host_events"
   ]
  },
  {
   "cell_type": "code",
   "execution_count": 22,
   "metadata": {},
   "outputs": [
    {
     "name": "stdout",
     "output_type": "stream",
     "text": [
      "Devices (vertices): 137,416\n",
      "Netflow (edges): 235,661,328\n",
      "Host events (edges): 0\n",
      "Total (edges): 235,661,328\n"
     ]
    }
   ],
   "source": [
    "# Utility to print the sizes of data currently in xGT\n",
    "def print_data_summary():\n",
    "  print('Devices (vertices): {:,}'.format(devices.num_vertices))\n",
    "  print('Netflow (edges): {:,}'.format(netflow.num_edges))\n",
    "  print('Host events (edges): {:,}'.format(host_events.num_edges))\n",
    "  print('Total (edges): {:,}'.format(netflow.num_edges + host_events.num_edges))\n",
    "    \n",
    "print_data_summary()"
   ]
  },
  {
   "cell_type": "code",
   "execution_count": 23,
   "metadata": {
    "scrolled": true
   },
   "outputs": [
    {
     "name": "stdout",
     "output_type": "stream",
     "text": [
      "Devices (vertices): 137,479\n",
      "Netflow (edges): 235,661,328\n",
      "Host events (edges): 18,637,483\n",
      "Total (edges): 254,298,811\n",
      "CPU times: user 36.3 ms, sys: 22.4 ms, total: 58.6 ms\n",
      "Wall time: 11.3 s\n"
     ]
    }
   ],
   "source": [
    "%%time\n",
    "\n",
    "# Load the HostEvents event data:\n",
    "if host_events.num_edges == 0:\n",
    "    urls = [\"xgtd://nvme_data1/data_1v/wls_day-85_1v.csv\"]\n",
    "    host_events.load(urls)\n",
    "    print_data_summary()"
   ]
  },
  {
   "cell_type": "code",
   "execution_count": 24,
   "metadata": {},
   "outputs": [
    {
     "name": "stdout",
     "output_type": "stream",
     "text": [
      "CPU times: user 0 ns, sys: 972 µs, total: 972 µs\n",
      "Wall time: 790 µs\n"
     ]
    }
   ],
   "source": [
    "%%time\n",
    "\n",
    "# Load the netflow data:\n",
    "if netflow.num_edges == 0:\n",
    "    urls = [\"xgtd://nvme_data1/data_nf/nf_day-85.csv\"]\n",
    "    netflow.load(urls)\n",
    "    print_data_summary()"
   ]
  },
  {
   "cell_type": "code",
   "execution_count": 25,
   "metadata": {},
   "outputs": [],
   "source": [
    "# Utility function to launch queries and show job number:\n",
    "#   The job number may be useful if a long-running job needs\n",
    "#   to be canceled.\n",
    "\n",
    "def run_query(query, table_name = \"answers\", drop_answer_table=True, show_query=False):\n",
    "    if drop_answer_table:\n",
    "        conn.drop_frame(table_name)\n",
    "    if query[-1] != '\\n':\n",
    "        query += '\\n'\n",
    "    query += 'INTO {}'.format(table_name)\n",
    "    if show_query:\n",
    "        print(\"Query:\\n\" + query)\n",
    "    job = conn.schedule_job(query)\n",
    "    print(\"Launched job {}\".format(job.id))\n",
    "    conn.wait_for_job(job)\n",
    "    table = conn.get_table_frame(table_name)\n",
    "    return table"
   ]
  },
  {
   "cell_type": "code",
   "execution_count": 26,
   "metadata": {},
   "outputs": [
    {
     "data": {
      "text/plain": [
       "<xgt.graph.EdgeFrame at 0x7f1161806b50>"
      ]
     },
     "execution_count": 26,
     "metadata": {},
     "output_type": "execute_result"
    }
   ],
   "source": [
    "# Generate a new edge frame for holding only the RDP edges\n",
    "import time\n",
    "query_start_time = time.time()\n",
    "\n",
    "conn.drop_frame('PTHFlow')\n",
    "pth_flow = conn.create_edge_frame(\n",
    "            name='PTHFlow',\n",
    "            schema=netflow.schema,\n",
    "            source=devices,\n",
    "            target=devices,\n",
    "            source_key='src_device',\n",
    "            target_key='dst_device')\n",
    "pth_flow"
   ]
  },
  {
   "cell_type": "code",
   "execution_count": 27,
   "metadata": {},
   "outputs": [
    {
     "name": "stdout",
     "output_type": "stream",
     "text": [
      "Launched job 998\n",
      "Number of answers: 5,210,584\n",
      "CPU times: user 25 ms, sys: 19.9 ms, total: 45 ms\n",
      "Wall time: 7.9 s\n"
     ]
    }
   ],
   "source": [
    "%%time\n",
    "\n",
    "#filtering with port no. 135 & 445\n",
    "\n",
    "q = \"\"\"\n",
    "MATCH (v0)-[edge:Netflow]->(v1)\n",
    "WHERE edge.dst_port=135 OR edge.dst_port=445\n",
    "CREATE (v0)-[e:PTHFlow {epoch_time : edge.epoch_time,\n",
    "  duration : edge.duration, protocol : edge.protocol,\n",
    "  src_port : edge.src_port, dst_port : edge.dst_port}]->(v1)\n",
    "RETURN count(*)\n",
    "\"\"\"\n",
    "data = run_query(q)\n",
    "print('Number of answers: {:,}'.format(data.get_data()[0][0]))"
   ]
  },
  {
   "cell_type": "code",
   "execution_count": 28,
   "metadata": {},
   "outputs": [
    {
     "data": {
      "text/plain": [
       "'PTH Flow (edges): 5,210,584'"
      ]
     },
     "execution_count": 28,
     "metadata": {},
     "output_type": "execute_result"
    }
   ],
   "source": [
    "data=None\n",
    "if pth_flow.num_edges == 0:\n",
    "    print(\"PTH Flow is empty\")\n",
    "elif pth_flow.num_edges <= 1000:\n",
    "    data = pth_flow.get_data_pandas()\n",
    "else:\n",
    "    data = 'PTH Flow (edges): {:,}'.format(pth_flow.num_edges)\n",
    "data"
   ]
  },
  {
   "cell_type": "code",
   "execution_count": 29,
   "metadata": {},
   "outputs": [
    {
     "name": "stdout",
     "output_type": "stream",
     "text": [
      "Devices (vertices): 137,479\n",
      "Netflow (edges): 235,661,328\n",
      "Host events (edges): 18,637,483\n",
      "Total (edges): 254,298,811\n",
      "PTH Flow (edges): 5,210,584\n"
     ]
    }
   ],
   "source": [
    "# Utility to print the data sizes currently in xGT\n",
    "def print_netflow_data_summary():\n",
    "  print_data_summary()\n",
    "  print('PTH Flow (edges): {:,}'.format(pth_flow.num_edges))\n",
    "\n",
    "print_netflow_data_summary()"
   ]
  },
  {
   "cell_type": "code",
   "execution_count": 30,
   "metadata": {},
   "outputs": [
    {
     "name": "stdout",
     "output_type": "stream",
     "text": [
      "Launched job 1028\n",
      "Number of answers: 119\n",
      "CPU times: user 41.3 ms, sys: 48.1 ms, total: 89.4 ms\n",
      "Wall time: 1min 6s\n"
     ]
    }
   ],
   "source": [
    "%%time\n",
    "\n",
    "#Lateral Movement Query\n",
    "time_threshold_hijack = 180          # three minutes\n",
    "q = \"\"\"\n",
    "MATCH (A:Devices)-[r1:PTHFlow]->(B:Devices), (A)-[hijack1:HostEvents]->(A)\n",
    "WHERE A <> B\n",
    "  AND hijack1.event_id = 4688\n",
    "  AND hijack1.parent_process_name = \"lsass\"\n",
    "  AND hijack1.epoch_time <= r1.epoch_time\n",
    "  AND r1.epoch_time - hijack1.epoch_time < {0}\n",
    "RETURN r1.src_device, r1.dst_device, r1.epoch_time, hijack1.epoch_time\n",
    "\"\"\".format(time_threshold_hijack)\n",
    "answer_table = run_query(q)\n",
    "print('Number of answers: {:,}'.format(answer_table.num_rows))"
   ]
  }
 ],
 "metadata": {
  "kernelspec": {
   "display_name": "Python 3",
   "language": "python",
   "name": "python3"
  },
  "language_info": {
   "codemirror_mode": {
    "name": "ipython",
    "version": 3
   },
   "file_extension": ".py",
   "mimetype": "text/x-python",
   "name": "python",
   "nbconvert_exporter": "python",
   "pygments_lexer": "ipython3",
   "version": "3.7.4"
  }
 },
 "nbformat": 4,
 "nbformat_minor": 2
}
