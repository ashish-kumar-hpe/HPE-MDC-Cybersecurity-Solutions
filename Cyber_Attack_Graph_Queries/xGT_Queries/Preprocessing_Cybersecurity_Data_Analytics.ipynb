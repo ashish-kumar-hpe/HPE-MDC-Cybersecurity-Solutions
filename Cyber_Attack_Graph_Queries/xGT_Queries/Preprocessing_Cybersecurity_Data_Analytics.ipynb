{
 "cells": [
  {
   "cell_type": "code",
   "execution_count": 20,
   "metadata": {},
   "outputs": [
    {
     "name": "stdout",
     "output_type": "stream",
     "text": [
      "3.7.4\n"
     ]
    }
   ],
   "source": [
    "import xgt\n",
    "import os\n",
    "import pandas as pd\n",
    "\n",
    "from platform import python_version\n",
    "print (python_version())"
   ]
  },
  {
   "cell_type": "code",
   "execution_count": 21,
   "metadata": {},
   "outputs": [],
   "source": [
    "if os.environ.get('https_proxy'):\n",
    " del os.environ['https_proxy']\n",
    "if os.environ.get('http_proxy'):\n",
    " del os.environ['http_proxy']"
   ]
  },
  {
   "cell_type": "code",
   "execution_count": 22,
   "metadata": {},
   "outputs": [],
   "source": [
    "all_attack_events = {\n",
    "4768 : 'Kerberos authentication ticket was requested (TGT)',\n",
    "4769 : 'Kerberos service ticket was requested (TGS)',\n",
    "4770 : 'Kerberos service ticket was renewed',\n",
    "4774 : 'An account was mapped for logon',\n",
    "4776 : 'Domain controller attempted to validate credentials',\n",
    "4624 : 'An account successfully logged on, see Logon Types',\n",
    "4625 : 'An account failed to logon, see Logon Types',\n",
    "4634 : 'An account was logged off, see Logon Types',\n",
    "4647 : 'User initiated logoff',\n",
    "4648 : 'A logon was attempted using explicit credentials',\n",
    "4672 : 'Special privileges assigned to a new logon',\n",
    "4800 : 'The workstation was locked',\n",
    "4801 : 'The workstation was unlocked',\n",
    "4802 : 'The screensaver was invoked',\n",
    "4803 : 'The screensaver was dismissed',\n",
    "4688 : 'Process start',\n",
    "4689 : 'Process end',\n",
    "4608 : 'Windows is starting up',\n",
    "4609 : 'Windows is shutting down',\n",
    "1100 : 'Event logging service has shut down'\n",
    "}\n",
    "\n",
    "all_attack_event_ids  = all_attack_events.keys()\n",
    "all_attack_event_desc = all_attack_events.values()\n",
    "all_attack_event_df   = pd.DataFrame(list(zip(all_attack_event_ids, all_attack_event_desc)), \n",
    "               columns =['event_id', 'description']) "
   ]
  },
  {
   "cell_type": "code",
   "execution_count": 23,
   "metadata": {},
   "outputs": [],
   "source": [
    "all_attack_logon_types = {\n",
    "2 : 'Interactive',\n",
    "5 : 'Service',\n",
    "9 : 'New Credentials',\n",
    "3 : 'Network', \n",
    "7 : 'Unlock', \n",
    "10 : 'Remote Interactive',\n",
    "4 : 'Batch', \n",
    "8 : 'Network Clear Text', \n",
    "11 : 'Cached Interactive',\n",
    "12 : 'Cached Remote-Interactive',\n",
    "0 : 'Used only by the system account'\n",
    "}\n",
    "\n",
    "all_attack_logons = all_attack_logon_types.keys()\n",
    "all_attack_logon_desc = all_attack_logon_types.values()\n",
    "all_attack_logon_df = pd.DataFrame(list(zip(all_attack_logons, all_attack_logon_desc)), \n",
    "               columns =['logon_type', 'description']) "
   ]
  },
  {
   "cell_type": "code",
   "execution_count": 24,
   "metadata": {},
   "outputs": [
    {
     "data": {
      "text/plain": [
       "'1.3.0'"
      ]
     },
     "execution_count": 24,
     "metadata": {},
     "output_type": "execute_result"
    }
   ],
   "source": [
    "conn=xgt.Connection()\n",
    "conn.server_version"
   ]
  },
  {
   "cell_type": "code",
   "execution_count": 25,
   "metadata": {},
   "outputs": [
    {
     "data": {
      "text/plain": [
       "<xgt.graph.VertexFrame at 0x7f0b9045ba10>"
      ]
     },
     "execution_count": 25,
     "metadata": {},
     "output_type": "execute_result"
    }
   ],
   "source": [
    "try:\n",
    "  devices = conn.get_vertex_frame('Devices')\n",
    "except xgt.XgtNameError:\n",
    "  devices = conn.create_vertex_frame(\n",
    "      name='Devices',\n",
    "      schema=[['device', xgt.TEXT]],\n",
    "      key='device')\n",
    "devices"
   ]
  },
  {
   "cell_type": "code",
   "execution_count": 26,
   "metadata": {},
   "outputs": [
    {
     "data": {
      "text/plain": [
       "<xgt.graph.EdgeFrame at 0x7f0ac9631a90>"
      ]
     },
     "execution_count": 26,
     "metadata": {},
     "output_type": "execute_result"
    }
   ],
   "source": [
    "try:\n",
    "  host_events = conn.get_edge_frame('HostEvents')\n",
    "except xgt.XgtNameError:\n",
    "  host_events = conn.create_edge_frame(\n",
    "      name='HostEvents',\n",
    "      schema=[['epoch_time', xgt.INT],\n",
    "              ['event_id', xgt.INT],\n",
    "              ['log_host', xgt.TEXT],\n",
    "              ['user_name', xgt.TEXT],\n",
    "              ['domain_name', xgt.TEXT],\n",
    "              ['logon_id', xgt.INT],\n",
    "              ['process_name', xgt.TEXT],\n",
    "              ['process_id', xgt.INT],\n",
    "              ['parent_process_name', xgt.TEXT],\n",
    "              ['parent_process_id', xgt.INT]],\n",
    "           source=devices,\n",
    "           target=devices,\n",
    "           source_key='log_host',\n",
    "           target_key='log_host')\n",
    "host_events"
   ]
  },
  {
   "cell_type": "code",
   "execution_count": 27,
   "metadata": {},
   "outputs": [
    {
     "data": {
      "text/plain": [
       "<xgt.graph.EdgeFrame at 0x7f0ac913b390>"
      ]
     },
     "execution_count": 27,
     "metadata": {},
     "output_type": "execute_result"
    }
   ],
   "source": [
    "try:\n",
    "  auth_events = conn.get_edge_frame('AuthEvents')\n",
    "except xgt.XgtNameError:\n",
    "  auth_events = conn.create_edge_frame(\n",
    "           name='AuthEvents',\n",
    "           schema = [['epoch_time',xgt.INT],\n",
    "                     ['event_id',xgt.INT],\n",
    "                     ['log_host',xgt.TEXT],\n",
    "                     ['logon_type',xgt.INT],\n",
    "                     ['logon_type_description',xgt.TEXT],\n",
    "                     ['user_name',xgt.TEXT],\n",
    "                     ['domain_name',xgt.TEXT],\n",
    "                     ['logon_id',xgt.INT],\n",
    "                     ['subject_user_name',xgt.TEXT],\n",
    "                     ['subject_domain_name',xgt.TEXT],\n",
    "                     ['subject_logon_id',xgt.TEXT],\n",
    "                     ['status',xgt.TEXT],\n",
    "                     ['src',xgt.TEXT],\n",
    "                     ['service_name',xgt.TEXT],\n",
    "                     ['destination',xgt.TEXT],\n",
    "                     ['authentication_package',xgt.TEXT],\n",
    "                     ['failure_reason',xgt.TEXT],\n",
    "                     ['process_name',xgt.TEXT],\n",
    "                     ['process_id',xgt.INT],\n",
    "                     ['parent_process_name',xgt.TEXT],\n",
    "                     ['parent_process_id',xgt.INT]],\n",
    "            source = 'Devices',\n",
    "            target = 'Devices',\n",
    "            source_key = 'src',\n",
    "            target_key = 'destination')\n",
    "auth_events"
   ]
  },
  {
   "cell_type": "code",
   "execution_count": 28,
   "metadata": {},
   "outputs": [
    {
     "name": "stdout",
     "output_type": "stream",
     "text": [
      "Devices (vertices): 0\n",
      "Host events (edges): 0\n",
      "Authentication events (edges): 0\n",
      "Total (edges): 0\n"
     ]
    }
   ],
   "source": [
    "# Utility to print the sizes of data currently in xGT\n",
    "def print_data_summary():\n",
    "  print('Devices (vertices): {:,}'.format(devices.num_vertices))\n",
    "  print('Host events (edges): {:,}'.format(host_events.num_edges))\n",
    "  print('Authentication events (edges): {:,}'.format(auth_events.num_edges))\n",
    "  print('Total (edges): {:,}'.format(auth_events.num_edges + host_events.num_edges))\n",
    "    \n",
    "print_data_summary()"
   ]
  },
  {
   "cell_type": "code",
   "execution_count": 29,
   "metadata": {},
   "outputs": [
    {
     "name": "stdout",
     "output_type": "stream",
     "text": [
      "Devices (vertices): 10,324\n",
      "Host events (edges): 18,637,483\n",
      "Authentication events (edges): 0\n",
      "Total (edges): 18,637,483\n",
      "CPU times: user 44.6 ms, sys: 22.8 ms, total: 67.3 ms\n",
      "Wall time: 12.4 s\n"
     ]
    }
   ],
   "source": [
    "%%time\n",
    "\n",
    "# Load the HostEvents event data:\n",
    "if host_events.num_edges == 0:\n",
    "    urls = [\"xgtd://nvme_data1/data_1v/wls_day-85_1v.csv\"]\n",
    "    host_events.load(urls)\n",
    "    print_data_summary()"
   ]
  },
  {
   "cell_type": "code",
   "execution_count": 30,
   "metadata": {},
   "outputs": [
    {
     "name": "stdout",
     "output_type": "stream",
     "text": [
      "Devices (vertices): 12,288\n",
      "Host events (edges): 18,637,483\n",
      "Authentication events (edges): 47,790,045\n",
      "Total (edges): 66,427,528\n",
      "CPU times: user 55.5 ms, sys: 42.6 ms, total: 98 ms\n",
      "Wall time: 34.7 s\n"
     ]
    }
   ],
   "source": [
    "%%time\n",
    "\n",
    "# Load the AuthEvents event data:\n",
    "if auth_events.num_edges == 0:\n",
    "    urls = [\"xgtd://nvme_data3/data_2v/wls_day-85_2v.csv\"]\n",
    "    auth_events.load(urls)\n",
    "    print_data_summary()"
   ]
  },
  {
   "cell_type": "code",
   "execution_count": 31,
   "metadata": {},
   "outputs": [],
   "source": [
    "# Utility function to launch queries and show job number:\n",
    "#   The job number may be useful if a long-running job needs\n",
    "#   to be canceled.\n",
    "\n",
    "def run_query(query, table_name = \"answers\", drop_answer_table=True, show_query=False):\n",
    "    if drop_answer_table:\n",
    "        conn.drop_frame(table_name)\n",
    "    if query[-1] != '\\n':\n",
    "        query += '\\n'\n",
    "    query += 'INTO {}'.format(table_name)\n",
    "    if show_query:\n",
    "        print(\"Query:\\n\" + query)\n",
    "    job = conn.schedule_job(query)\n",
    "    print(\"Launched job {}\".format(job.id))\n",
    "    conn.wait_for_job(job)\n",
    "    table = conn.get_table_frame(table_name)\n",
    "    return table"
   ]
  },
  {
   "cell_type": "code",
   "execution_count": 32,
   "metadata": {},
   "outputs": [
    {
     "name": "stdout",
     "output_type": "stream",
     "text": [
      "\n",
      "MATCH (n0:Devices)-[r:AuthEvents]->(n1:Devices)\n",
      "RETURN r.event_id as event_id, count(*) as event_count \n",
      "ORDER BY event_count DESC\n",
      "\n",
      "Launched job 129\n",
      "Number of answers: 11\n",
      "CPU times: user 41.7 ms, sys: 11.9 ms, total: 53.6 ms\n",
      "Wall time: 2.16 s\n"
     ]
    }
   ],
   "source": [
    "%%time\n",
    "Event_Count_Query_2V = \"\"\"\n",
    "MATCH (n0:{0})-[r:{2}]->(n1:{1})\n",
    "RETURN r.event_id as event_id, count(*) as event_count \n",
    "ORDER BY event_count DESC\n",
    "\"\"\".format('Devices', 'Devices', 'AuthEvents')\n",
    "\n",
    "print(Event_Count_Query_2V)\n",
    "answer_table = run_query(Event_Count_Query_2V)\n",
    "print('Number of answers: {:,}'.format(answer_table.num_rows))\n",
    "\n",
    "data_2V = answer_table.get_data_pandas()"
   ]
  },
  {
   "cell_type": "code",
   "execution_count": 33,
   "metadata": {},
   "outputs": [
    {
     "name": "stdout",
     "output_type": "stream",
     "text": [
      "\n",
      "MATCH (n0:Devices)-[r:HostEvents]->(n1:Devices)\n",
      "RETURN r.event_id as event_id, count(*) as event_count\n",
      "ORDER BY event_count DESC\n",
      "\n",
      "Launched job 153\n",
      "Number of answers: 9\n",
      "CPU times: user 23 ms, sys: 6.15 ms, total: 29.2 ms\n",
      "Wall time: 1.03 s\n"
     ]
    },
    {
     "data": {
      "text/html": [
       "<div>\n",
       "<style scoped>\n",
       "    .dataframe tbody tr th:only-of-type {\n",
       "        vertical-align: middle;\n",
       "    }\n",
       "\n",
       "    .dataframe tbody tr th {\n",
       "        vertical-align: top;\n",
       "    }\n",
       "\n",
       "    .dataframe thead th {\n",
       "        text-align: right;\n",
       "    }\n",
       "</style>\n",
       "<table border=\"1\" class=\"dataframe\">\n",
       "  <thead>\n",
       "    <tr style=\"text-align: right;\">\n",
       "      <th></th>\n",
       "      <th>event_id</th>\n",
       "      <th>event_count</th>\n",
       "    </tr>\n",
       "  </thead>\n",
       "  <tbody>\n",
       "    <tr>\n",
       "      <th>0</th>\n",
       "      <td>4688</td>\n",
       "      <td>18527129</td>\n",
       "    </tr>\n",
       "    <tr>\n",
       "      <th>9</th>\n",
       "      <td>4624</td>\n",
       "      <td>16389671</td>\n",
       "    </tr>\n",
       "    <tr>\n",
       "      <th>10</th>\n",
       "      <td>4634</td>\n",
       "      <td>15950203</td>\n",
       "    </tr>\n",
       "    <tr>\n",
       "      <th>11</th>\n",
       "      <td>4672</td>\n",
       "      <td>5572526</td>\n",
       "    </tr>\n",
       "    <tr>\n",
       "      <th>12</th>\n",
       "      <td>4776</td>\n",
       "      <td>5354657</td>\n",
       "    </tr>\n",
       "  </tbody>\n",
       "</table>\n",
       "</div>"
      ],
      "text/plain": [
       "    event_id  event_count\n",
       "0   4688      18527129   \n",
       "9   4624      16389671   \n",
       "10  4634      15950203   \n",
       "11  4672      5572526    \n",
       "12  4776      5354657    "
      ]
     },
     "execution_count": 33,
     "metadata": {},
     "output_type": "execute_result"
    }
   ],
   "source": [
    "%%time\n",
    "Event_Count_Query_1V = \"\"\"\n",
    "MATCH (n0:{0})-[r:{2}]->(n1:{1})\n",
    "RETURN r.event_id as event_id, count(*) as event_count\n",
    "ORDER BY event_count DESC\n",
    "\"\"\".format('Devices', 'Devices', 'HostEvents')\n",
    "\n",
    "print(Event_Count_Query_1V)\n",
    "answer_table = run_query(Event_Count_Query_1V)\n",
    "print('Number of answers: {:,}'.format(answer_table.num_rows))\n",
    "\n",
    "data_1V = answer_table.get_data_pandas()\n",
    "data_merge_1V_2V = data_1V.append(data_2V,ignore_index=True)\n",
    "data_merge_1V_2V.sort_values(by=['event_count'],inplace=True, ascending=False)\n",
    "data_merge_1V_2V.head()"
   ]
  },
  {
   "cell_type": "code",
   "execution_count": 34,
   "metadata": {},
   "outputs": [
    {
     "data": {
      "text/html": [
       "<div>\n",
       "<style scoped>\n",
       "    .dataframe tbody tr th:only-of-type {\n",
       "        vertical-align: middle;\n",
       "    }\n",
       "\n",
       "    .dataframe tbody tr th {\n",
       "        vertical-align: top;\n",
       "    }\n",
       "\n",
       "    .dataframe thead th {\n",
       "        text-align: right;\n",
       "    }\n",
       "</style>\n",
       "<table border=\"1\" class=\"dataframe\">\n",
       "  <thead>\n",
       "    <tr style=\"text-align: right;\">\n",
       "      <th></th>\n",
       "      <th>event_id</th>\n",
       "      <th>event_count</th>\n",
       "      <th>description</th>\n",
       "    </tr>\n",
       "  </thead>\n",
       "  <tbody>\n",
       "    <tr>\n",
       "      <th>0</th>\n",
       "      <td>4688</td>\n",
       "      <td>18527129</td>\n",
       "      <td>Process start</td>\n",
       "    </tr>\n",
       "    <tr>\n",
       "      <th>1</th>\n",
       "      <td>4624</td>\n",
       "      <td>16389671</td>\n",
       "      <td>An account successfully logged on, see Logon Types</td>\n",
       "    </tr>\n",
       "    <tr>\n",
       "      <th>2</th>\n",
       "      <td>4634</td>\n",
       "      <td>15950203</td>\n",
       "      <td>An account was logged off, see Logon Types</td>\n",
       "    </tr>\n",
       "    <tr>\n",
       "      <th>3</th>\n",
       "      <td>4672</td>\n",
       "      <td>5572526</td>\n",
       "      <td>Special privileges assigned to a new logon</td>\n",
       "    </tr>\n",
       "    <tr>\n",
       "      <th>4</th>\n",
       "      <td>4776</td>\n",
       "      <td>5354657</td>\n",
       "      <td>Domain controller attempted to validate credentials</td>\n",
       "    </tr>\n",
       "    <tr>\n",
       "      <th>5</th>\n",
       "      <td>4769</td>\n",
       "      <td>2271788</td>\n",
       "      <td>Kerberos service ticket was requested (TGS)</td>\n",
       "    </tr>\n",
       "    <tr>\n",
       "      <th>6</th>\n",
       "      <td>4648</td>\n",
       "      <td>1013302</td>\n",
       "      <td>A logon was attempted using explicit credentials</td>\n",
       "    </tr>\n",
       "    <tr>\n",
       "      <th>7</th>\n",
       "      <td>4768</td>\n",
       "      <td>875992</td>\n",
       "      <td>Kerberos authentication ticket was requested (TGT)</td>\n",
       "    </tr>\n",
       "    <tr>\n",
       "      <th>8</th>\n",
       "      <td>4625</td>\n",
       "      <td>332510</td>\n",
       "      <td>An account failed to logon, see Logon Types</td>\n",
       "    </tr>\n",
       "    <tr>\n",
       "      <th>9</th>\n",
       "      <td>4800</td>\n",
       "      <td>38290</td>\n",
       "      <td>The workstation was locked</td>\n",
       "    </tr>\n",
       "    <tr>\n",
       "      <th>10</th>\n",
       "      <td>4801</td>\n",
       "      <td>36624</td>\n",
       "      <td>The workstation was unlocked</td>\n",
       "    </tr>\n",
       "    <tr>\n",
       "      <th>11</th>\n",
       "      <td>4774</td>\n",
       "      <td>23645</td>\n",
       "      <td>An account was mapped for logon</td>\n",
       "    </tr>\n",
       "    <tr>\n",
       "      <th>12</th>\n",
       "      <td>4802</td>\n",
       "      <td>11530</td>\n",
       "      <td>The screensaver was invoked</td>\n",
       "    </tr>\n",
       "    <tr>\n",
       "      <th>13</th>\n",
       "      <td>4803</td>\n",
       "      <td>11249</td>\n",
       "      <td>The screensaver was dismissed</td>\n",
       "    </tr>\n",
       "    <tr>\n",
       "      <th>14</th>\n",
       "      <td>4608</td>\n",
       "      <td>6452</td>\n",
       "      <td>Windows is starting up</td>\n",
       "    </tr>\n",
       "    <tr>\n",
       "      <th>15</th>\n",
       "      <td>1100</td>\n",
       "      <td>6178</td>\n",
       "      <td>Event logging service has shut down</td>\n",
       "    </tr>\n",
       "    <tr>\n",
       "      <th>16</th>\n",
       "      <td>4647</td>\n",
       "      <td>5613</td>\n",
       "      <td>User initiated logoff</td>\n",
       "    </tr>\n",
       "    <tr>\n",
       "      <th>17</th>\n",
       "      <td>4770</td>\n",
       "      <td>138</td>\n",
       "      <td>Kerberos service ticket was renewed</td>\n",
       "    </tr>\n",
       "    <tr>\n",
       "      <th>18</th>\n",
       "      <td>4609</td>\n",
       "      <td>17</td>\n",
       "      <td>Windows is shutting down</td>\n",
       "    </tr>\n",
       "    <tr>\n",
       "      <th>19</th>\n",
       "      <td>4689</td>\n",
       "      <td>14</td>\n",
       "      <td>Process end</td>\n",
       "    </tr>\n",
       "  </tbody>\n",
       "</table>\n",
       "</div>"
      ],
      "text/plain": [
       "    event_id  event_count                                          description\n",
       "0   4688      18527129     Process start                                      \n",
       "1   4624      16389671     An account successfully logged on, see Logon Types \n",
       "2   4634      15950203     An account was logged off, see Logon Types         \n",
       "3   4672      5572526      Special privileges assigned to a new logon         \n",
       "4   4776      5354657      Domain controller attempted to validate credentials\n",
       "5   4769      2271788      Kerberos service ticket was requested (TGS)        \n",
       "6   4648      1013302      A logon was attempted using explicit credentials   \n",
       "7   4768      875992       Kerberos authentication ticket was requested (TGT) \n",
       "8   4625      332510       An account failed to logon, see Logon Types        \n",
       "9   4800      38290        The workstation was locked                         \n",
       "10  4801      36624        The workstation was unlocked                       \n",
       "11  4774      23645        An account was mapped for logon                    \n",
       "12  4802      11530        The screensaver was invoked                        \n",
       "13  4803      11249        The screensaver was dismissed                      \n",
       "14  4608      6452         Windows is starting up                             \n",
       "15  1100      6178         Event logging service has shut down                \n",
       "16  4647      5613         User initiated logoff                              \n",
       "17  4770      138          Kerberos service ticket was renewed                \n",
       "18  4609      17           Windows is shutting down                           \n",
       "19  4689      14           Process end                                        "
      ]
     },
     "execution_count": 34,
     "metadata": {},
     "output_type": "execute_result"
    }
   ],
   "source": [
    "pd.set_option('display.max_colwidth', -1)\n",
    "data_events = pd.merge(data_merge_1V_2V, all_attack_event_df, how='inner', on='event_id')\n",
    "data_events"
   ]
  },
  {
   "cell_type": "code",
   "execution_count": 35,
   "metadata": {
    "scrolled": true
   },
   "outputs": [
    {
     "data": {
      "text/plain": [
       "<matplotlib.axes._subplots.AxesSubplot at 0x7f0ac9138190>"
      ]
     },
     "execution_count": 35,
     "metadata": {},
     "output_type": "execute_result"
    },
    {
     "data": {
      "image/png": "[encoded data removed]",
      "text/plain": [
       "<Figure size 720x720 with 1 Axes>"
      ]
     },
     "metadata": {
      "needs_background": "light"
     },
     "output_type": "display_data"
    }
   ],
   "source": [
    "data_events.plot.bar(x='event_id',y='event_count',figsize=(10,10), title='Histogram of HostEvents')"
   ]
  },
  {
   "cell_type": "code",
   "execution_count": 36,
   "metadata": {},
   "outputs": [
    {
     "name": "stdout",
     "output_type": "stream",
     "text": [
      "\n",
      "MATCH (n0:Devices)-[r:AuthEvents]->(n1:Devices)\n",
      "RETURN  r.logon_type as logon_type, count(*) as logon_type_count\n",
      "ORDER BY logon_type_count DESC\n",
      "\n",
      "Launched job 168\n",
      "Number of answers: 10\n",
      "CPU times: user 81.8 ms, sys: 27.9 ms, total: 110 ms\n",
      "Wall time: 5.63 s\n"
     ]
    },
    {
     "data": {
      "text/html": [
       "<div>\n",
       "<style scoped>\n",
       "    .dataframe tbody tr th:only-of-type {\n",
       "        vertical-align: middle;\n",
       "    }\n",
       "\n",
       "    .dataframe tbody tr th {\n",
       "        vertical-align: top;\n",
       "    }\n",
       "\n",
       "    .dataframe thead th {\n",
       "        text-align: right;\n",
       "    }\n",
       "</style>\n",
       "<table border=\"1\" class=\"dataframe\">\n",
       "  <thead>\n",
       "    <tr style=\"text-align: right;\">\n",
       "      <th></th>\n",
       "      <th>logon_type</th>\n",
       "      <th>logon_type_count</th>\n",
       "    </tr>\n",
       "  </thead>\n",
       "  <tbody>\n",
       "    <tr>\n",
       "      <th>0</th>\n",
       "      <td>3</td>\n",
       "      <td>31961748</td>\n",
       "    </tr>\n",
       "    <tr>\n",
       "      <th>1</th>\n",
       "      <td>0</td>\n",
       "      <td>15124150</td>\n",
       "    </tr>\n",
       "    <tr>\n",
       "      <th>2</th>\n",
       "      <td>5</td>\n",
       "      <td>226616</td>\n",
       "    </tr>\n",
       "    <tr>\n",
       "      <th>3</th>\n",
       "      <td>2</td>\n",
       "      <td>191829</td>\n",
       "    </tr>\n",
       "    <tr>\n",
       "      <th>4</th>\n",
       "      <td>7</td>\n",
       "      <td>170955</td>\n",
       "    </tr>\n",
       "  </tbody>\n",
       "</table>\n",
       "</div>"
      ],
      "text/plain": [
       "   logon_type  logon_type_count\n",
       "0  3           31961748        \n",
       "1  0           15124150        \n",
       "2  5           226616          \n",
       "3  2           191829          \n",
       "4  7           170955          "
      ]
     },
     "execution_count": 36,
     "metadata": {},
     "output_type": "execute_result"
    }
   ],
   "source": [
    "%%time\n",
    "Logon_Type_Query = \"\"\"\n",
    "MATCH (n0:{0})-[r:{2}]->(n1:{1})\n",
    "RETURN  r.logon_type as logon_type, count(*) as logon_type_count\n",
    "ORDER BY logon_type_count DESC\n",
    "\"\"\".format('Devices', 'Devices', 'AuthEvents')\n",
    "\n",
    "print(Logon_Type_Query)\n",
    "answer_table = run_query(Logon_Type_Query)\n",
    "print('Number of answers: {:,}'.format(answer_table.num_rows))\n",
    "\n",
    "data_logon_type = answer_table.get_data_pandas()\n",
    "data_logon_type.head()"
   ]
  },
  {
   "cell_type": "code",
   "execution_count": 37,
   "metadata": {},
   "outputs": [
    {
     "data": {
      "text/html": [
       "<div>\n",
       "<style scoped>\n",
       "    .dataframe tbody tr th:only-of-type {\n",
       "        vertical-align: middle;\n",
       "    }\n",
       "\n",
       "    .dataframe tbody tr th {\n",
       "        vertical-align: top;\n",
       "    }\n",
       "\n",
       "    .dataframe thead th {\n",
       "        text-align: right;\n",
       "    }\n",
       "</style>\n",
       "<table border=\"1\" class=\"dataframe\">\n",
       "  <thead>\n",
       "    <tr style=\"text-align: right;\">\n",
       "      <th></th>\n",
       "      <th>logon_type</th>\n",
       "      <th>logon_type_count</th>\n",
       "      <th>description</th>\n",
       "    </tr>\n",
       "  </thead>\n",
       "  <tbody>\n",
       "    <tr>\n",
       "      <th>0</th>\n",
       "      <td>3</td>\n",
       "      <td>31961748</td>\n",
       "      <td>Network</td>\n",
       "    </tr>\n",
       "    <tr>\n",
       "      <th>1</th>\n",
       "      <td>0</td>\n",
       "      <td>15124150</td>\n",
       "      <td>Used only by the system account</td>\n",
       "    </tr>\n",
       "    <tr>\n",
       "      <th>2</th>\n",
       "      <td>5</td>\n",
       "      <td>226616</td>\n",
       "      <td>Service</td>\n",
       "    </tr>\n",
       "    <tr>\n",
       "      <th>3</th>\n",
       "      <td>2</td>\n",
       "      <td>191829</td>\n",
       "      <td>Interactive</td>\n",
       "    </tr>\n",
       "    <tr>\n",
       "      <th>4</th>\n",
       "      <td>7</td>\n",
       "      <td>170955</td>\n",
       "      <td>Unlock</td>\n",
       "    </tr>\n",
       "    <tr>\n",
       "      <th>5</th>\n",
       "      <td>8</td>\n",
       "      <td>95692</td>\n",
       "      <td>Network Clear Text</td>\n",
       "    </tr>\n",
       "    <tr>\n",
       "      <th>6</th>\n",
       "      <td>4</td>\n",
       "      <td>7390</td>\n",
       "      <td>Batch</td>\n",
       "    </tr>\n",
       "    <tr>\n",
       "      <th>7</th>\n",
       "      <td>11</td>\n",
       "      <td>5477</td>\n",
       "      <td>Cached Interactive</td>\n",
       "    </tr>\n",
       "    <tr>\n",
       "      <th>8</th>\n",
       "      <td>10</td>\n",
       "      <td>3324</td>\n",
       "      <td>Remote Interactive</td>\n",
       "    </tr>\n",
       "    <tr>\n",
       "      <th>9</th>\n",
       "      <td>9</td>\n",
       "      <td>2864</td>\n",
       "      <td>New Credentials</td>\n",
       "    </tr>\n",
       "  </tbody>\n",
       "</table>\n",
       "</div>"
      ],
      "text/plain": [
       "   logon_type  logon_type_count                      description\n",
       "0  3           31961748          Network                        \n",
       "1  0           15124150          Used only by the system account\n",
       "2  5           226616            Service                        \n",
       "3  2           191829            Interactive                    \n",
       "4  7           170955            Unlock                         \n",
       "5  8           95692             Network Clear Text             \n",
       "6  4           7390              Batch                          \n",
       "7  11          5477              Cached Interactive             \n",
       "8  10          3324              Remote Interactive             \n",
       "9  9           2864              New Credentials                "
      ]
     },
     "execution_count": 37,
     "metadata": {},
     "output_type": "execute_result"
    }
   ],
   "source": [
    "data_logon = pd.merge(data_logon_type, all_attack_logon_df, how='inner', on='logon_type')\n",
    "data_logon"
   ]
  },
  {
   "cell_type": "code",
   "execution_count": 38,
   "metadata": {},
   "outputs": [
    {
     "data": {
      "text/plain": [
       "<matplotlib.axes._subplots.AxesSubplot at 0x7f0ac90d4090>"
      ]
     },
     "execution_count": 38,
     "metadata": {},
     "output_type": "execute_result"
    },
    {
     "data": {
      "image/png": "[encoded data removed]",
      "text/plain": [
       "<Figure size 720x720 with 1 Axes>"
      ]
     },
     "metadata": {
      "needs_background": "light"
     },
     "output_type": "display_data"
    }
   ],
   "source": [
    "data_logon.plot.bar(x='logon_type',y='logon_type_count',figsize=(10,10), title='Histogram of Logon_Types')"
   ]
  },
  {
   "cell_type": "code",
   "execution_count": null,
   "metadata": {},
   "outputs": [],
   "source": []
  }
 ],
 "metadata": {
  "kernelspec": {
   "display_name": "python_3_7",
   "language": "python",
   "name": "python_3_7"
  },
  "language_info": {
   "codemirror_mode": {
    "name": "ipython",
    "version": 3
   },
   "file_extension": ".py",
   "mimetype": "text/x-python",
   "name": "python",
   "nbconvert_exporter": "python",
   "pygments_lexer": "ipython3",
   "version": "3.7.4"
  }
 },
 "nbformat": 4,
 "nbformat_minor": 4
}
