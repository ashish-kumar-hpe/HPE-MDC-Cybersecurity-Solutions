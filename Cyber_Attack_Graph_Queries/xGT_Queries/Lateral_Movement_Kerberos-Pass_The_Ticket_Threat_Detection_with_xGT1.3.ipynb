{
 "cells": [
  {
   "cell_type": "markdown",
   "metadata": {},
   "source": [
    " # Cybersecurity Graph Analytics with xGT on HPE Superdome Flex\n",
    "  \n",
    " ## Lateral Movement\n",
    " --- \n",
    "*Lateral movement* is a cyberattack pattern that describes how an adversary leverages a single foothold to compromise other systems within a network. Identifying and stopping lateral movement is an important step in controlling the damage from a breach, and also plays a role in forensic analysis of a cyberatt ack, helping to identify its source and reconstruct what happened.  \n",
    "\n",
    "## Lateral Movement (Kerberos - Pass The Ticket)\n",
    "---\n",
    "*Pass the ticket (PTT)* is a method of authenticating to a system using Kerberos tickets without having access to an account's password. Kerberos authentication can be used as the first step to lateral movement to a remote system.\n",
    "\n",
    "| Malware | Vulnerabilities |  Windows Event Id |  Windows Port | Process/Executables | DLL/SharedLibrary | Other Parameters |\n",
    "|---------|-----------------|-------------------|-------------- |---------------------|-------------------|------------------|\n",
    "| Empire  |                 |    4768 , 4769    | 135,445       |  lsass.exe          |                   | Auth Pkg = ‘Kerberos’\n",
    "\n",
    "\n",
    "### Attack Steps\n",
    "---\n",
    "*Step1*:  Forge 4768(TGT REQUEST) using tools like mimikatz. This prevents generation of 4768 for TGT REQUEST.<br>\n",
    "*Step2*: Make a legitimate Service ticket request. This generates 4769.<br>\n",
    "*Step3*: Look for 4769 logged for which 4768 has not been logged for a given time duration.<br>\n",
    "*Step4*: Check for LM in shortlisted Devices in Step 3. <br>\n",
    "\n",
    "In this notebook, we show how Cybersecurity Graph Analytics can be implemented with xGT on HPE Superdome Flex for  large data.\n",
    "\n",
    "Mitre Attack Catalog https://attack.mitre.org/\n",
    "\n",
    "Dataset : https://datasets.trovares.com/cyber/LANL/ind\t\n"
   ]
  },
  {
   "cell_type": "code",
   "execution_count": 101,
   "metadata": {},
   "outputs": [
    {
     "name": "stdout",
     "output_type": "stream",
     "text": [
      "3.7.4\n"
     ]
    }
   ],
   "source": [
    "import xgt\n",
    "import os\n",
    "import pandas\n",
    "\n",
    "from platform import python_version\n",
    "print (python_version())"
   ]
  },
  {
   "cell_type": "code",
   "execution_count": 102,
   "metadata": {},
   "outputs": [],
   "source": [
    "if os.environ.get('https_proxy'):\n",
    " del os.environ['https_proxy']\n",
    "if os.environ.get('http_proxy'):\n",
    " del os.environ['http_proxy']"
   ]
  },
  {
   "cell_type": "code",
   "execution_count": 103,
   "metadata": {},
   "outputs": [
    {
     "data": {
      "text/plain": [
       "'1.3.0'"
      ]
     },
     "execution_count": 103,
     "metadata": {},
     "output_type": "execute_result"
    }
   ],
   "source": [
    "conn=xgt.Connection()\n",
    "conn.server_version"
   ]
  },
  {
   "cell_type": "code",
   "execution_count": 104,
   "metadata": {},
   "outputs": [
    {
     "data": {
      "text/plain": [
       "<xgt.graph.VertexFrame at 0x7f7cffb208d0>"
      ]
     },
     "execution_count": 104,
     "metadata": {},
     "output_type": "execute_result"
    }
   ],
   "source": [
    "try:\n",
    "  devices = conn.get_vertex_frame('Devices')\n",
    "except xgt.XgtNameError:\n",
    "  devices = conn.create_vertex_frame(\n",
    "      name='Devices',\n",
    "      schema=[['device', xgt.TEXT]],\n",
    "      key='device')\n",
    "devices"
   ]
  },
  {
   "cell_type": "code",
   "execution_count": 105,
   "metadata": {},
   "outputs": [
    {
     "data": {
      "text/plain": [
       "<xgt.graph.EdgeFrame at 0x7f7d07eb3490>"
      ]
     },
     "execution_count": 105,
     "metadata": {},
     "output_type": "execute_result"
    }
   ],
   "source": [
    "try:\n",
    "  netflow = conn.get_edge_frame('Netflow')\n",
    "except xgt.XgtNameError:\n",
    "  netflow = conn.create_edge_frame(\n",
    "      name='Netflow',\n",
    "      schema=[['epoch_time', xgt.INT],\n",
    "              ['duration', xgt.INT],\n",
    "              ['src_device', xgt.TEXT],\n",
    "              ['dst_device', xgt.TEXT],\n",
    "              ['protocol', xgt.INT],\n",
    "              ['src_port', xgt.INT],\n",
    "              ['dst_port', xgt.INT],\n",
    "              ['src_packets', xgt.INT],\n",
    "              ['dst_packets', xgt.INT],\n",
    "              ['src_bytes', xgt.INT],\n",
    "              ['dst_bytes', xgt.INT]],\n",
    "      source=devices,\n",
    "      target=devices,\n",
    "      source_key='src_device',\n",
    "      target_key='dst_device')\n",
    "netflow"
   ]
  },
  {
   "cell_type": "code",
   "execution_count": 106,
   "metadata": {},
   "outputs": [
    {
     "data": {
      "text/plain": [
       "<xgt.graph.EdgeFrame at 0x7f7d89490a90>"
      ]
     },
     "execution_count": 106,
     "metadata": {},
     "output_type": "execute_result"
    }
   ],
   "source": [
    "try:\n",
    "  auth_events = conn.get_edge_frame('AuthEvents')\n",
    "except xgt.XgtNameError:\n",
    "  auth_events = conn.create_edge_frame(\n",
    "           name='AuthEvents',\n",
    "           schema = [['epoch_time',xgt.INT],\n",
    "                     ['event_id',xgt.INT],\n",
    "                     ['log_host',xgt.TEXT],\n",
    "                     ['logon_type',xgt.INT],\n",
    "                     ['logon_type_description',xgt.TEXT],\n",
    "                     ['user_name',xgt.TEXT],\n",
    "                     ['domain_name',xgt.TEXT],\n",
    "                     ['logon_id',xgt.INT],\n",
    "                     ['subject_user_name',xgt.TEXT],\n",
    "                     ['subject_domain_name',xgt.TEXT],\n",
    "                     ['subject_logon_id',xgt.TEXT],\n",
    "                     ['status',xgt.TEXT],\n",
    "                     ['src',xgt.TEXT],\n",
    "                     ['service_name',xgt.TEXT],\n",
    "                     ['destination',xgt.TEXT],\n",
    "                     ['authentication_package',xgt.TEXT],\n",
    "                     ['failure_reason',xgt.TEXT],\n",
    "                     ['process_name',xgt.TEXT],\n",
    "                     ['process_id',xgt.INT],\n",
    "                     ['parent_process_name',xgt.TEXT],\n",
    "                     ['parent_process_id',xgt.INT]],\n",
    "            source = 'Devices',\n",
    "            target = 'Devices',\n",
    "            source_key = 'src',\n",
    "            target_key = 'destination')\n",
    "auth_events"
   ]
  },
  {
   "cell_type": "code",
   "execution_count": 107,
   "metadata": {},
   "outputs": [
    {
     "name": "stdout",
     "output_type": "stream",
     "text": [
      "Devices (vertices): 0\n",
      "Netflow (edges): 0\n",
      "Authentication events (edges): 0\n",
      "Total (edges): 0\n"
     ]
    }
   ],
   "source": [
    "# Utility to print the sizes of data currently in xGT\n",
    "def print_data_summary():\n",
    "  print('Devices (vertices): {:,}'.format(devices.num_vertices))\n",
    "  print('Netflow (edges): {:,}'.format(netflow.num_edges))\n",
    "  print('Authentication events (edges): {:,}'.format(auth_events.num_edges))\n",
    "  print('Total (edges): {:,}'.format(\n",
    "      netflow.num_edges + auth_events.num_edges))\n",
    "    \n",
    "print_data_summary()"
   ]
  },
  {
   "cell_type": "code",
   "execution_count": 108,
   "metadata": {},
   "outputs": [
    {
     "name": "stdout",
     "output_type": "stream",
     "text": [
      "Devices (vertices): 12,288\n",
      "Netflow (edges): 0\n",
      "Authentication events (edges): 47,790,045\n",
      "Total (edges): 47,790,045\n",
      "CPU times: user 242 ms, sys: 130 ms, total: 373 ms\n",
      "Wall time: 38.3 s\n"
     ]
    }
   ],
   "source": [
    "%%time\n",
    "\n",
    "# Load the AuthEvents event data:\n",
    "if auth_events.num_edges == 0:\n",
    "    urls = [\"xgtd://nvme_data3/data_2v/wls_day-85_2v.csv\"]\n",
    "    auth_events.load(urls)\n",
    "    print_data_summary()"
   ]
  },
  {
   "cell_type": "code",
   "execution_count": 109,
   "metadata": {},
   "outputs": [
    {
     "name": "stdout",
     "output_type": "stream",
     "text": [
      "Devices (vertices): 137,812\n",
      "Netflow (edges): 235,661,328\n",
      "Authentication events (edges): 47,790,045\n",
      "Total (edges): 283,451,373\n",
      "CPU times: user 228 ms, sys: 199 ms, total: 427 ms\n",
      "Wall time: 1min 32s\n"
     ]
    }
   ],
   "source": [
    "%%time\n",
    "\n",
    "# Load the netflow data:\n",
    "if netflow.num_edges == 0:\n",
    "    urls = [\"xgtd://nvme_data5/data_nf/nf_day-85.csv\"]\n",
    "    netflow.load(urls)\n",
    "    print_data_summary()"
   ]
  },
  {
   "cell_type": "code",
   "execution_count": 110,
   "metadata": {},
   "outputs": [
    {
     "data": {
      "text/plain": [
       "<xgt.graph.EdgeFrame at 0x7f7d88061550>"
      ]
     },
     "execution_count": 110,
     "metadata": {},
     "output_type": "execute_result"
    }
   ],
   "source": [
    "# Generate a new edge frame for holding only the \"Kerberos - Pass The Ticket\" Flow edges\n",
    "import time\n",
    "query_start_time = time.time()\n",
    "\n",
    "conn.drop_frame('PTTFlow')\n",
    "ptt_flow = conn.create_edge_frame(\n",
    "            name='PTTFlow',\n",
    "            schema=netflow.schema,\n",
    "            source=devices,\n",
    "            target=devices,\n",
    "            source_key='src_device',\n",
    "            target_key='dst_device')\n",
    "ptt_flow"
   ]
  },
  {
   "cell_type": "code",
   "execution_count": 111,
   "metadata": {},
   "outputs": [],
   "source": [
    "# Utility function to launch queries and show job number:\n",
    "#   The job number may be useful if a long-running job needs\n",
    "#   to be canceled.\n",
    "\n",
    "def run_query(query, table_name = \"answers\", drop_answer_table=True, show_query=False):\n",
    "    if drop_answer_table:\n",
    "        conn.drop_frame(table_name)\n",
    "    if query[-1] != '\\n':\n",
    "        query += '\\n'\n",
    "    query += 'INTO {}'.format(table_name)\n",
    "    if show_query:\n",
    "        print(\"Query:\\n\" + query)\n",
    "    job = conn.schedule_job(query)\n",
    "    print(\"Launched job {}\".format(job.id))\n",
    "    conn.wait_for_job(job)\n",
    "    table = conn.get_table_frame(table_name)\n",
    "    return table"
   ]
  },
  {
   "cell_type": "code",
   "execution_count": 112,
   "metadata": {},
   "outputs": [
    {
     "name": "stdout",
     "output_type": "stream",
     "text": [
      "Launched job 1189\n",
      "Number of answers: 5,210,584\n",
      "CPU times: user 102 ms, sys: 16.1 ms, total: 118 ms\n",
      "Wall time: 21.1 s\n"
     ]
    }
   ],
   "source": [
    "%%time\n",
    "\n",
    "#filtering with port no. 135 & 445\n",
    "\n",
    "PTT_LMFlow_Query = \"\"\"\n",
    "MATCH (v0:Devices)-[edge:Netflow]->(v1:Devices) \n",
    "WHERE edge.dst_port=135 OR edge.dst_port=445 \n",
    "CREATE (v0)-[e:PTTFlow \n",
    "             {epoch_time : edge.epoch_time, \n",
    "              duration : edge.duration, \n",
    "              protocol : edge.protocol, \n",
    "              src_port : edge.src_port, \n",
    "              dst_port : edge.dst_port}]->(v1) \n",
    "RETURN count(*)\n",
    "\"\"\"\n",
    "data = run_query(PTT_LMFlow_Query)\n",
    "print('Number of answers: {:,}'.format(data.get_data()[0][0]))"
   ]
  },
  {
   "cell_type": "code",
   "execution_count": 113,
   "metadata": {},
   "outputs": [
    {
     "data": {
      "text/html": [
       "<div>\n",
       "<style scoped>\n",
       "    .dataframe tbody tr th:only-of-type {\n",
       "        vertical-align: middle;\n",
       "    }\n",
       "\n",
       "    .dataframe tbody tr th {\n",
       "        vertical-align: top;\n",
       "    }\n",
       "\n",
       "    .dataframe thead th {\n",
       "        text-align: right;\n",
       "    }\n",
       "</style>\n",
       "<table border=\"1\" class=\"dataframe\">\n",
       "  <thead>\n",
       "    <tr style=\"text-align: right;\">\n",
       "      <th></th>\n",
       "      <th>count(*)</th>\n",
       "    </tr>\n",
       "  </thead>\n",
       "  <tbody>\n",
       "    <tr>\n",
       "      <th>0</th>\n",
       "      <td>5210584</td>\n",
       "    </tr>\n",
       "  </tbody>\n",
       "</table>\n",
       "</div>"
      ],
      "text/plain": [
       "   count(*)\n",
       "0   5210584"
      ]
     },
     "execution_count": 113,
     "metadata": {},
     "output_type": "execute_result"
    }
   ],
   "source": [
    "# retrieve the answer rows to the client in a pandas frame\n",
    "data1 = data.get_data_pandas()\n",
    "data1[0:10]"
   ]
  },
  {
   "cell_type": "code",
   "execution_count": 114,
   "metadata": {},
   "outputs": [
    {
     "name": "stdout",
     "output_type": "stream",
     "text": [
      "Print PTT_Flow Data\n",
      "Launched job 1319\n",
      "Number of answers: 7,293,972\n",
      "CPU times: user 23.5 s, sys: 1.33 s, total: 24.8 s\n",
      "Wall time: 45.8 s\n"
     ]
    }
   ],
   "source": [
    "%%time\n",
    "\n",
    "# retrieve the answer rows to the client in a pandas frame\n",
    "print(\"Print PTT_Flow Data\")\n",
    "\n",
    "Query_PTTFlow_Data = \"\"\"\n",
    "MATCH (v0:Devices)-[edge:PTTFlow]->(v1:Devices) \n",
    "RETURN edge.epoch_time,\n",
    "       edge.duration,\n",
    "       edge.src_device,\n",
    "       edge.dst_device,\n",
    "       edge.protocol,\n",
    "       edge.src_port,\n",
    "       edge.dst_port\n",
    "\"\"\"\n",
    "data = run_query(Query_PTTFlow_Data)\n",
    "print('Number of answers: {:,}'.format(data.get_data()[0][0]))"
   ]
  },
  {
   "cell_type": "code",
   "execution_count": 115,
   "metadata": {},
   "outputs": [
    {
     "data": {
      "text/html": [
       "<div>\n",
       "<style scoped>\n",
       "    .dataframe tbody tr th:only-of-type {\n",
       "        vertical-align: middle;\n",
       "    }\n",
       "\n",
       "    .dataframe tbody tr th {\n",
       "        vertical-align: top;\n",
       "    }\n",
       "\n",
       "    .dataframe thead th {\n",
       "        text-align: right;\n",
       "    }\n",
       "</style>\n",
       "<table border=\"1\" class=\"dataframe\">\n",
       "  <thead>\n",
       "    <tr style=\"text-align: right;\">\n",
       "      <th></th>\n",
       "      <th>edge_epoch_time</th>\n",
       "      <th>edge_duration</th>\n",
       "      <th>edge_src_device</th>\n",
       "      <th>edge_dst_device</th>\n",
       "      <th>edge_protocol</th>\n",
       "      <th>edge_src_port</th>\n",
       "      <th>edge_dst_port</th>\n",
       "    </tr>\n",
       "  </thead>\n",
       "  <tbody>\n",
       "    <tr>\n",
       "      <th>0</th>\n",
       "      <td>7293972</td>\n",
       "      <td>0</td>\n",
       "      <td>Comp623258</td>\n",
       "      <td>Comp193491</td>\n",
       "      <td>6</td>\n",
       "      <td>74883</td>\n",
       "      <td>445</td>\n",
       "    </tr>\n",
       "    <tr>\n",
       "      <th>1</th>\n",
       "      <td>7290109</td>\n",
       "      <td>10</td>\n",
       "      <td>Comp905013</td>\n",
       "      <td>ActiveDirectory</td>\n",
       "      <td>6</td>\n",
       "      <td>25884</td>\n",
       "      <td>135</td>\n",
       "    </tr>\n",
       "    <tr>\n",
       "      <th>2</th>\n",
       "      <td>7315129</td>\n",
       "      <td>10</td>\n",
       "      <td>Comp843020</td>\n",
       "      <td>ActiveDirectory</td>\n",
       "      <td>6</td>\n",
       "      <td>91590</td>\n",
       "      <td>445</td>\n",
       "    </tr>\n",
       "    <tr>\n",
       "      <th>3</th>\n",
       "      <td>7263537</td>\n",
       "      <td>0</td>\n",
       "      <td>Comp040151</td>\n",
       "      <td>ActiveDirectory</td>\n",
       "      <td>6</td>\n",
       "      <td>45525</td>\n",
       "      <td>445</td>\n",
       "    </tr>\n",
       "    <tr>\n",
       "      <th>4</th>\n",
       "      <td>7311726</td>\n",
       "      <td>1</td>\n",
       "      <td>Comp073202</td>\n",
       "      <td>Comp217504</td>\n",
       "      <td>6</td>\n",
       "      <td>38883</td>\n",
       "      <td>445</td>\n",
       "    </tr>\n",
       "    <tr>\n",
       "      <th>5</th>\n",
       "      <td>7337522</td>\n",
       "      <td>11</td>\n",
       "      <td>Comp683943</td>\n",
       "      <td>ActiveDirectory</td>\n",
       "      <td>6</td>\n",
       "      <td>73889</td>\n",
       "      <td>445</td>\n",
       "    </tr>\n",
       "    <tr>\n",
       "      <th>6</th>\n",
       "      <td>7296756</td>\n",
       "      <td>1</td>\n",
       "      <td>Comp623258</td>\n",
       "      <td>Comp299069</td>\n",
       "      <td>6</td>\n",
       "      <td>15280</td>\n",
       "      <td>445</td>\n",
       "    </tr>\n",
       "    <tr>\n",
       "      <th>7</th>\n",
       "      <td>7287745</td>\n",
       "      <td>1</td>\n",
       "      <td>Comp623258</td>\n",
       "      <td>Comp942350</td>\n",
       "      <td>6</td>\n",
       "      <td>68234</td>\n",
       "      <td>445</td>\n",
       "    </tr>\n",
       "    <tr>\n",
       "      <th>8</th>\n",
       "      <td>7304611</td>\n",
       "      <td>11</td>\n",
       "      <td>EnterpriseAppServer</td>\n",
       "      <td>Comp704126</td>\n",
       "      <td>6</td>\n",
       "      <td>71237</td>\n",
       "      <td>445</td>\n",
       "    </tr>\n",
       "    <tr>\n",
       "      <th>9</th>\n",
       "      <td>7328275</td>\n",
       "      <td>1</td>\n",
       "      <td>Comp844043</td>\n",
       "      <td>Comp858248</td>\n",
       "      <td>6</td>\n",
       "      <td>8828</td>\n",
       "      <td>445</td>\n",
       "    </tr>\n",
       "  </tbody>\n",
       "</table>\n",
       "</div>"
      ],
      "text/plain": [
       "   edge_epoch_time  edge_duration      edge_src_device  edge_dst_device  \\\n",
       "0          7293972              0           Comp623258       Comp193491   \n",
       "1          7290109             10           Comp905013  ActiveDirectory   \n",
       "2          7315129             10           Comp843020  ActiveDirectory   \n",
       "3          7263537              0           Comp040151  ActiveDirectory   \n",
       "4          7311726              1           Comp073202       Comp217504   \n",
       "5          7337522             11           Comp683943  ActiveDirectory   \n",
       "6          7296756              1           Comp623258       Comp299069   \n",
       "7          7287745              1           Comp623258       Comp942350   \n",
       "8          7304611             11  EnterpriseAppServer       Comp704126   \n",
       "9          7328275              1           Comp844043       Comp858248   \n",
       "\n",
       "   edge_protocol  edge_src_port  edge_dst_port  \n",
       "0              6          74883            445  \n",
       "1              6          25884            135  \n",
       "2              6          91590            445  \n",
       "3              6          45525            445  \n",
       "4              6          38883            445  \n",
       "5              6          73889            445  \n",
       "6              6          15280            445  \n",
       "7              6          68234            445  \n",
       "8              6          71237            445  \n",
       "9              6           8828            445  "
      ]
     },
     "execution_count": 115,
     "metadata": {},
     "output_type": "execute_result"
    }
   ],
   "source": [
    "data1 = data.get_data_pandas()\n",
    "data1[0:10]"
   ]
  },
  {
   "cell_type": "code",
   "execution_count": 116,
   "metadata": {},
   "outputs": [
    {
     "data": {
      "text/plain": [
       "'PTTflow (edges): 5,210,584'"
      ]
     },
     "execution_count": 116,
     "metadata": {},
     "output_type": "execute_result"
    }
   ],
   "source": [
    "#Count of PTTFlow Edges Created\n",
    "data=None\n",
    "if ptt_flow.num_edges == 0:\n",
    "    print(\"PTTFlow is empty\")\n",
    "elif ptt_flow.num_edges <= 1000:\n",
    "    data = ptt_flow.get_data_pandas()\n",
    "else:\n",
    "    data = 'PTTflow (edges): {:,}'.format(ptt_flow.num_edges)\n",
    "data"
   ]
  },
  {
   "cell_type": "code",
   "execution_count": 117,
   "metadata": {},
   "outputs": [
    {
     "data": {
      "text/plain": [
       "<xgt.graph.EdgeFrame at 0x7f7cff176490>"
      ]
     },
     "execution_count": 117,
     "metadata": {},
     "output_type": "execute_result"
    }
   ],
   "source": [
    "#Create TGT_REQ_Events Edge Frames \n",
    "try:\n",
    "  tgt_req_events = conn.get_edge_frame('TGT_REQ_Events')\n",
    "except xgt.XgtNameError:\n",
    "  tgt_req_events = conn.create_edge_frame(\n",
    "           name='TGT_REQ_Events',\n",
    "           schema = [['epoch_time',xgt.INT],\n",
    "                     ['event_id',xgt.INT],\n",
    "                     ['src',xgt.TEXT],\n",
    "                     ['destination',xgt.TEXT],\n",
    "                     ['is_attack',xgt.BOOLEAN]],\n",
    "            source = 'Devices',\n",
    "            target = 'Devices',\n",
    "            source_key = 'src',\n",
    "            target_key = 'destination')\n",
    "tgt_req_events"
   ]
  },
  {
   "cell_type": "code",
   "execution_count": 118,
   "metadata": {},
   "outputs": [
    {
     "name": "stdout",
     "output_type": "stream",
     "text": [
      "\n",
      "MATCH (n1:Devices)-[r:AuthEvents]->(n2:Devices)\n",
      "WHERE r.event_id = 4768\n",
      "AND r.epoch_time >= 7257600\n",
      "AND r.epoch_time <= 7258600\n",
      "CREATE (n1)-[r1:TGT_REQ_Events \n",
      "             {epoch_time:r.epoch_time, \n",
      "              event_id:r.event_id,\n",
      "              is_attack:TRUE}]->(n2) \n",
      " RETURN count(*)\n",
      "\n",
      "Launched job 1384\n",
      "Number of answers: 11,354\n",
      "CPU times: user 45 ms, sys: 13.3 ms, total: 58.2 ms\n",
      "Wall time: 662 ms\n"
     ]
    }
   ],
   "source": [
    "%%time\n",
    "\n",
    "#Polulate TGT_REQ_Events EdgeFrames\n",
    "\n",
    "START_TIME = 7257600\n",
    "END_TIME   = 7258600\n",
    "\n",
    "TGT_REQ_Query = \"\"\"\n",
    "MATCH (n1:Devices)-[r:AuthEvents]->(n2:Devices)\n",
    "WHERE r.event_id = 4768\n",
    "AND r.epoch_time >= 7257600\n",
    "AND r.epoch_time <= 7258600\n",
    "CREATE (n1)-[r1:TGT_REQ_Events \n",
    "             {epoch_time:r.epoch_time, \n",
    "              event_id:r.event_id,\n",
    "              is_attack:TRUE}]->(n2) \n",
    " RETURN count(*)\n",
    "\"\"\"\n",
    "\n",
    "print(TGT_REQ_Query)\n",
    "\n",
    "data = run_query(TGT_REQ_Query)\n",
    "print('Number of answers: {:,}'.format(data.get_data()[0][0]))"
   ]
  },
  {
   "cell_type": "code",
   "execution_count": 119,
   "metadata": {},
   "outputs": [
    {
     "name": "stdout",
     "output_type": "stream",
     "text": [
      "Print TGT_REQ Data\n",
      "Launched job 1412\n",
      "Number of answers: 7,258,434\n",
      "CPU times: user 135 ms, sys: 9.13 ms, total: 144 ms\n",
      "Wall time: 366 ms\n"
     ]
    },
    {
     "data": {
      "text/html": [
       "<div>\n",
       "<style scoped>\n",
       "    .dataframe tbody tr th:only-of-type {\n",
       "        vertical-align: middle;\n",
       "    }\n",
       "\n",
       "    .dataframe tbody tr th {\n",
       "        vertical-align: top;\n",
       "    }\n",
       "\n",
       "    .dataframe thead th {\n",
       "        text-align: right;\n",
       "    }\n",
       "</style>\n",
       "<table border=\"1\" class=\"dataframe\">\n",
       "  <thead>\n",
       "    <tr style=\"text-align: right;\">\n",
       "      <th></th>\n",
       "      <th>edge_epoch_time</th>\n",
       "      <th>edge_event_id</th>\n",
       "      <th>edge_src</th>\n",
       "      <th>edge_destination</th>\n",
       "      <th>edge_is_attack</th>\n",
       "    </tr>\n",
       "  </thead>\n",
       "  <tbody>\n",
       "    <tr>\n",
       "      <th>0</th>\n",
       "      <td>7258434</td>\n",
       "      <td>4768</td>\n",
       "      <td>Comp916004</td>\n",
       "      <td>ActiveDirectory</td>\n",
       "      <td>True</td>\n",
       "    </tr>\n",
       "    <tr>\n",
       "      <th>1</th>\n",
       "      <td>7258540</td>\n",
       "      <td>4768</td>\n",
       "      <td>Comp520997</td>\n",
       "      <td>ActiveDirectory</td>\n",
       "      <td>True</td>\n",
       "    </tr>\n",
       "    <tr>\n",
       "      <th>2</th>\n",
       "      <td>7258485</td>\n",
       "      <td>4768</td>\n",
       "      <td>Comp755918</td>\n",
       "      <td>ActiveDirectory</td>\n",
       "      <td>True</td>\n",
       "    </tr>\n",
       "    <tr>\n",
       "      <th>3</th>\n",
       "      <td>7257676</td>\n",
       "      <td>4768</td>\n",
       "      <td>Comp916004</td>\n",
       "      <td>ActiveDirectory</td>\n",
       "      <td>True</td>\n",
       "    </tr>\n",
       "    <tr>\n",
       "      <th>4</th>\n",
       "      <td>7258072</td>\n",
       "      <td>4768</td>\n",
       "      <td>Comp520997</td>\n",
       "      <td>ActiveDirectory</td>\n",
       "      <td>True</td>\n",
       "    </tr>\n",
       "    <tr>\n",
       "      <th>5</th>\n",
       "      <td>7257684</td>\n",
       "      <td>4768</td>\n",
       "      <td>Comp755918</td>\n",
       "      <td>ActiveDirectory</td>\n",
       "      <td>True</td>\n",
       "    </tr>\n",
       "    <tr>\n",
       "      <th>6</th>\n",
       "      <td>7258427</td>\n",
       "      <td>4768</td>\n",
       "      <td>Comp738736</td>\n",
       "      <td>ActiveDirectory</td>\n",
       "      <td>True</td>\n",
       "    </tr>\n",
       "    <tr>\n",
       "      <th>7</th>\n",
       "      <td>7257821</td>\n",
       "      <td>4768</td>\n",
       "      <td>Comp755918</td>\n",
       "      <td>ActiveDirectory</td>\n",
       "      <td>True</td>\n",
       "    </tr>\n",
       "    <tr>\n",
       "      <th>8</th>\n",
       "      <td>7258549</td>\n",
       "      <td>4768</td>\n",
       "      <td>Comp221976</td>\n",
       "      <td>ActiveDirectory</td>\n",
       "      <td>True</td>\n",
       "    </tr>\n",
       "    <tr>\n",
       "      <th>9</th>\n",
       "      <td>7258091</td>\n",
       "      <td>4768</td>\n",
       "      <td>Comp520997</td>\n",
       "      <td>ActiveDirectory</td>\n",
       "      <td>True</td>\n",
       "    </tr>\n",
       "  </tbody>\n",
       "</table>\n",
       "</div>"
      ],
      "text/plain": [
       "   edge_epoch_time  edge_event_id    edge_src edge_destination  edge_is_attack\n",
       "0          7258434           4768  Comp916004  ActiveDirectory            True\n",
       "1          7258540           4768  Comp520997  ActiveDirectory            True\n",
       "2          7258485           4768  Comp755918  ActiveDirectory            True\n",
       "3          7257676           4768  Comp916004  ActiveDirectory            True\n",
       "4          7258072           4768  Comp520997  ActiveDirectory            True\n",
       "5          7257684           4768  Comp755918  ActiveDirectory            True\n",
       "6          7258427           4768  Comp738736  ActiveDirectory            True\n",
       "7          7257821           4768  Comp755918  ActiveDirectory            True\n",
       "8          7258549           4768  Comp221976  ActiveDirectory            True\n",
       "9          7258091           4768  Comp520997  ActiveDirectory            True"
      ]
     },
     "execution_count": 119,
     "metadata": {},
     "output_type": "execute_result"
    }
   ],
   "source": [
    "%%time\n",
    "\n",
    "# retrieve the answer rows to the client in a pandas frame\n",
    "print(\"Print TGT_REQ Data\")\n",
    "\n",
    "Query_TGT_REQ_Data = \"\"\"\n",
    "MATCH (n1:Devices)-[edge:TGT_REQ_Events]->(n2:Devices) \n",
    "RETURN edge.epoch_time,\n",
    "       edge.event_id,\n",
    "       edge.src,\n",
    "       edge.destination,\n",
    "       edge.is_attack\n",
    "\"\"\"\n",
    "data = run_query(Query_TGT_REQ_Data)\n",
    "print('Number of answers: {:,}'.format(data.get_data()[0][0]))\n",
    "\n",
    "data1 = data.get_data_pandas()\n",
    "data1[0:10]"
   ]
  },
  {
   "cell_type": "code",
   "execution_count": 120,
   "metadata": {},
   "outputs": [
    {
     "data": {
      "text/plain": [
       "<xgt.graph.EdgeFrame at 0x7f7cf43a87d0>"
      ]
     },
     "execution_count": 120,
     "metadata": {},
     "output_type": "execute_result"
    }
   ],
   "source": [
    "#Create SERVICE_REQ_Events Edge Frames \n",
    "\n",
    "try:\n",
    "  service_req_events = conn.get_edge_frame('SERVICE_REQ_Events')\n",
    "except xgt.XgtNameError:\n",
    "  service_req_events = conn.create_edge_frame(\n",
    "           name='SERVICE_REQ_Events',\n",
    "           schema = [['epoch_time',xgt.INT],\n",
    "                     ['event_id',xgt.INT],\n",
    "                     ['src',xgt.TEXT],\n",
    "                     ['destination',xgt.TEXT],\n",
    "                     ['is_attack',xgt.BOOLEAN]],\n",
    "            source = 'Devices',\n",
    "            target = 'Devices',\n",
    "            source_key = 'src',\n",
    "            target_key = 'destination')\n",
    "service_req_events"
   ]
  },
  {
   "cell_type": "code",
   "execution_count": 121,
   "metadata": {
    "scrolled": true
   },
   "outputs": [
    {
     "name": "stdout",
     "output_type": "stream",
     "text": [
      "Launched job 1420\n",
      "Number of answers: 21,813\n",
      "CPU times: user 30 ms, sys: 5.24 ms, total: 35.3 ms\n",
      "Wall time: 654 ms\n"
     ]
    }
   ],
   "source": [
    "%%time\n",
    "\n",
    "#Polulate SERVICE_REQ_Events EdgeFrames\n",
    "START_TIME = 7257600\n",
    "END_TIME   = 7258600\n",
    "\n",
    "SERVICE_REQ_Query = \"\"\"\n",
    "MATCH (n1:Devices)-[r:AuthEvents]->(n2:Devices) \n",
    "WHERE r.event_id = 4769\n",
    "AND r.epoch_time >= 7257600\n",
    "AND r.epoch_time <= 7258600\n",
    "CREATE (n1)-[r1:SERVICE_REQ_Events \n",
    "             {epoch_time:r.epoch_time, \n",
    "              event_id:r.event_id,\n",
    "              is_attack:TRUE}]->(n2) \n",
    "RETURN count(*)\n",
    "\"\"\"\n",
    "data = run_query(SERVICE_REQ_Query)\n",
    "print('Number of answers: {:,}'.format(data.get_data()[0][0]))"
   ]
  },
  {
   "cell_type": "code",
   "execution_count": 122,
   "metadata": {},
   "outputs": [
    {
     "name": "stdout",
     "output_type": "stream",
     "text": [
      "Print SERVICE_REQ Data\n",
      "Launched job 1452\n",
      "CPU times: user 156 ms, sys: 6 ms, total: 162 ms\n",
      "Wall time: 352 ms\n"
     ]
    },
    {
     "data": {
      "text/html": [
       "<div>\n",
       "<style scoped>\n",
       "    .dataframe tbody tr th:only-of-type {\n",
       "        vertical-align: middle;\n",
       "    }\n",
       "\n",
       "    .dataframe tbody tr th {\n",
       "        vertical-align: top;\n",
       "    }\n",
       "\n",
       "    .dataframe thead th {\n",
       "        text-align: right;\n",
       "    }\n",
       "</style>\n",
       "<table border=\"1\" class=\"dataframe\">\n",
       "  <thead>\n",
       "    <tr style=\"text-align: right;\">\n",
       "      <th></th>\n",
       "      <th>edge_epoch_time</th>\n",
       "      <th>edge_event_id</th>\n",
       "      <th>edge_src</th>\n",
       "      <th>edge_destination</th>\n",
       "      <th>edge_is_attack</th>\n",
       "    </tr>\n",
       "  </thead>\n",
       "  <tbody>\n",
       "    <tr>\n",
       "      <th>0</th>\n",
       "      <td>7258224</td>\n",
       "      <td>4769</td>\n",
       "      <td>Comp916004</td>\n",
       "      <td>ActiveDirectory</td>\n",
       "      <td>True</td>\n",
       "    </tr>\n",
       "    <tr>\n",
       "      <th>1</th>\n",
       "      <td>7257601</td>\n",
       "      <td>4769</td>\n",
       "      <td>Comp369682</td>\n",
       "      <td>ActiveDirectory</td>\n",
       "      <td>True</td>\n",
       "    </tr>\n",
       "    <tr>\n",
       "      <th>2</th>\n",
       "      <td>7257601</td>\n",
       "      <td>4769</td>\n",
       "      <td>ActiveDirectory</td>\n",
       "      <td>ActiveDirectory</td>\n",
       "      <td>True</td>\n",
       "    </tr>\n",
       "    <tr>\n",
       "      <th>3</th>\n",
       "      <td>7257894</td>\n",
       "      <td>4769</td>\n",
       "      <td>Comp916004</td>\n",
       "      <td>ActiveDirectory</td>\n",
       "      <td>True</td>\n",
       "    </tr>\n",
       "    <tr>\n",
       "      <th>4</th>\n",
       "      <td>7257914</td>\n",
       "      <td>4769</td>\n",
       "      <td>Comp505747</td>\n",
       "      <td>ActiveDirectory</td>\n",
       "      <td>True</td>\n",
       "    </tr>\n",
       "    <tr>\n",
       "      <th>5</th>\n",
       "      <td>7258201</td>\n",
       "      <td>4769</td>\n",
       "      <td>Comp916004</td>\n",
       "      <td>ActiveDirectory</td>\n",
       "      <td>True</td>\n",
       "    </tr>\n",
       "    <tr>\n",
       "      <th>6</th>\n",
       "      <td>7258073</td>\n",
       "      <td>4769</td>\n",
       "      <td>Comp755918</td>\n",
       "      <td>ActiveDirectory</td>\n",
       "      <td>True</td>\n",
       "    </tr>\n",
       "    <tr>\n",
       "      <th>7</th>\n",
       "      <td>7257978</td>\n",
       "      <td>4769</td>\n",
       "      <td>Comp493156</td>\n",
       "      <td>ActiveDirectory</td>\n",
       "      <td>True</td>\n",
       "    </tr>\n",
       "    <tr>\n",
       "      <th>8</th>\n",
       "      <td>7257601</td>\n",
       "      <td>4769</td>\n",
       "      <td>ActiveDirectory</td>\n",
       "      <td>ActiveDirectory</td>\n",
       "      <td>True</td>\n",
       "    </tr>\n",
       "    <tr>\n",
       "      <th>9</th>\n",
       "      <td>7258195</td>\n",
       "      <td>4769</td>\n",
       "      <td>Comp415540</td>\n",
       "      <td>ActiveDirectory</td>\n",
       "      <td>True</td>\n",
       "    </tr>\n",
       "  </tbody>\n",
       "</table>\n",
       "</div>"
      ],
      "text/plain": [
       "   edge_epoch_time  edge_event_id         edge_src edge_destination  \\\n",
       "0          7258224           4769       Comp916004  ActiveDirectory   \n",
       "1          7257601           4769       Comp369682  ActiveDirectory   \n",
       "2          7257601           4769  ActiveDirectory  ActiveDirectory   \n",
       "3          7257894           4769       Comp916004  ActiveDirectory   \n",
       "4          7257914           4769       Comp505747  ActiveDirectory   \n",
       "5          7258201           4769       Comp916004  ActiveDirectory   \n",
       "6          7258073           4769       Comp755918  ActiveDirectory   \n",
       "7          7257978           4769       Comp493156  ActiveDirectory   \n",
       "8          7257601           4769  ActiveDirectory  ActiveDirectory   \n",
       "9          7258195           4769       Comp415540  ActiveDirectory   \n",
       "\n",
       "   edge_is_attack  \n",
       "0            True  \n",
       "1            True  \n",
       "2            True  \n",
       "3            True  \n",
       "4            True  \n",
       "5            True  \n",
       "6            True  \n",
       "7            True  \n",
       "8            True  \n",
       "9            True  "
      ]
     },
     "execution_count": 122,
     "metadata": {},
     "output_type": "execute_result"
    }
   ],
   "source": [
    "%%time\n",
    "\n",
    "# retrieve the answer rows to the client in a pandas frame\n",
    "print(\"Print SERVICE_REQ Data\")\n",
    "\n",
    "Query_SERVICE_REQ_Data = \"\"\"\n",
    "MATCH (n1:Devices)-[edge:SERVICE_REQ_Events]->(n2:Devices) \n",
    "RETURN edge.epoch_time,\n",
    "       edge.event_id,\n",
    "       edge.src,\n",
    "       edge.destination,\n",
    "       edge.is_attack\n",
    "\"\"\"\n",
    "data = run_query(Query_SERVICE_REQ_Data)\n",
    "#print('Number of answers: {:,}'.format(data.get_data()[0][0]))\n",
    "data1 = data.get_data_pandas()\n",
    "data1[0:10]"
   ]
  },
  {
   "cell_type": "code",
   "execution_count": 123,
   "metadata": {},
   "outputs": [
    {
     "name": "stdout",
     "output_type": "stream",
     "text": [
      "Launched job 1457\n",
      "Number of answers: 21,813\n"
     ]
    }
   ],
   "source": [
    "q=\"\"\"\n",
    "MATCH (n1:Devices)-[r1:SERVICE_REQ_Events]->(n2:Devices)\n",
    "RETURN COUNT(*)\n",
    "\"\"\"\n",
    "data = run_query(q)\n",
    "print('Number of answers: {:,}'.format(data.get_data()[0][0]))"
   ]
  },
  {
   "cell_type": "code",
   "execution_count": 124,
   "metadata": {},
   "outputs": [
    {
     "name": "stdout",
     "output_type": "stream",
     "text": [
      "Launched job 1461\n",
      "Number of answers: 0\n"
     ]
    }
   ],
   "source": [
    "q=\"\"\"\n",
    "MATCH (n1:Devices)-[r1:SERVICE_REQ_Events]->(n2:Devices)\n",
    "WHERE r1.is_attack=FALSE\n",
    "RETURN COUNT(*)\n",
    "\"\"\"\n",
    "data = run_query(q)\n",
    "print('Number of answers: {:,}'.format(data.get_data()[0][0]))"
   ]
  },
  {
   "cell_type": "code",
   "execution_count": 125,
   "metadata": {},
   "outputs": [
    {
     "name": "stdout",
     "output_type": "stream",
     "text": [
      "Launched job 1465\n",
      "Number of answers: 21,813\n"
     ]
    }
   ],
   "source": [
    "q=\"\"\"\n",
    "MATCH (n1:Devices)-[r1:SERVICE_REQ_Events]->(n2:Devices)\n",
    "WHERE r1.is_attack=TRUE\n",
    "RETURN COUNT(*)\n",
    "\"\"\"\n",
    "data = run_query(q)\n",
    "print('Number of answers: {:,}'.format(data.get_data()[0][0]))"
   ]
  },
  {
   "cell_type": "code",
   "execution_count": 126,
   "metadata": {},
   "outputs": [
    {
     "name": "stdout",
     "output_type": "stream",
     "text": [
      "\n",
      "MATCH (n1:Devices)-[r1:SERVICE_REQ_Events]->(n2:Devices), (n1)-[r2:TGT_REQ_Events]->(n2) \n",
      "WHERE r2.epoch_time <= r1.epoch_time \n",
      "AND r1.epoch_time - r2.epoch_time < 500\n",
      "SET r1.is_attack=FALSE\n",
      "RETURN r1.src,r1.destination,r2.destination,r1.epoch_time,r2.epoch_time\n",
      "\n",
      "Launched job 1469\n",
      "Number of answers: 15,238,712\n",
      "CPU times: user 102 ms, sys: 18.4 ms, total: 121 ms\n",
      "Wall time: 12.1 s\n"
     ]
    }
   ],
   "source": [
    "%%time\n",
    "EPOCH_TIME_DIFF_THRESHOLD = 500\n",
    "\n",
    "Valid_tgt = \"\"\"\n",
    "MATCH (n1:Devices)-[r1:SERVICE_REQ_Events]->(n2:Devices), (n1)-[r2:TGT_REQ_Events]->(n2) \n",
    "WHERE r2.epoch_time <= r1.epoch_time \n",
    "AND r1.epoch_time - r2.epoch_time < {0}\n",
    "SET r1.is_attack=FALSE\n",
    "RETURN r1.src,r1.destination,r2.destination,r1.epoch_time,r2.epoch_time\n",
    "\"\"\".format(EPOCH_TIME_DIFF_THRESHOLD)\n",
    "\n",
    "print(Valid_tgt)\n",
    "answer_table = run_query(Valid_tgt)\n",
    "print('Number of answers: {:,}'.format(answer_table.num_rows))"
   ]
  },
  {
   "cell_type": "code",
   "execution_count": 127,
   "metadata": {},
   "outputs": [
    {
     "name": "stdout",
     "output_type": "stream",
     "text": [
      "\n",
      "MATCH (n1:Devices)-[r1:SERVICE_REQ_Events]->(n2:Devices), (n1)-[r2:PTTFlow]->(n3:Devices) \n",
      "WHERE r1.is_attack=TRUE \n",
      "AND n2 <> n3 \n",
      "AND r1.epoch_time <= r2.epoch_time \n",
      "AND r2.epoch_time - r1.epoch_time < 300 \n",
      "RETURN r1.src,r1.destination,r2.dst_device,r1.epoch_time,r2.epoch_time\n",
      "\n",
      "Launched job 1584\n",
      "Number of answers: 4,154\n",
      "CPU times: user 8.92 ms, sys: 5.07 ms, total: 14 ms\n",
      "Wall time: 317 ms\n"
     ]
    }
   ],
   "source": [
    "%%time\n",
    "LATERAL_MOVEMENT_HOP_THRESHOLD = 300 \n",
    "\n",
    "Final_PTT_ATTACK_Query = \"\"\"\n",
    "MATCH (n1:Devices)-[r1:SERVICE_REQ_Events]->(n2:Devices), (n1)-[r2:PTTFlow]->(n3:Devices) \n",
    "WHERE r1.is_attack=TRUE \n",
    "AND n2 <> n3 \n",
    "AND r1.epoch_time <= r2.epoch_time \n",
    "AND r2.epoch_time - r1.epoch_time < {0} \n",
    "RETURN r1.src,r1.destination,r2.dst_device,r1.epoch_time,r2.epoch_time\n",
    "\"\"\".format(LATERAL_MOVEMENT_HOP_THRESHOLD)\n",
    "\n",
    "print(Final_PTT_ATTACK_Query)\n",
    "answer_table = run_query(Final_PTT_ATTACK_Query)\n",
    "print('Number of answers: {:,}'.format(answer_table.num_rows))"
   ]
  },
  {
   "cell_type": "code",
   "execution_count": 128,
   "metadata": {},
   "outputs": [
    {
     "data": {
      "text/html": [
       "<div>\n",
       "<style scoped>\n",
       "    .dataframe tbody tr th:only-of-type {\n",
       "        vertical-align: middle;\n",
       "    }\n",
       "\n",
       "    .dataframe tbody tr th {\n",
       "        vertical-align: top;\n",
       "    }\n",
       "\n",
       "    .dataframe thead th {\n",
       "        text-align: right;\n",
       "    }\n",
       "</style>\n",
       "<table border=\"1\" class=\"dataframe\">\n",
       "  <thead>\n",
       "    <tr style=\"text-align: right;\">\n",
       "      <th></th>\n",
       "      <th>r1_src</th>\n",
       "      <th>r1_destination</th>\n",
       "      <th>r2_dst_device</th>\n",
       "      <th>r1_epoch_time</th>\n",
       "      <th>r2_epoch_time</th>\n",
       "    </tr>\n",
       "  </thead>\n",
       "  <tbody>\n",
       "    <tr>\n",
       "      <th>0</th>\n",
       "      <td>Comp348553</td>\n",
       "      <td>ActiveDirectory</td>\n",
       "      <td>Comp354767</td>\n",
       "      <td>7257773</td>\n",
       "      <td>7257789</td>\n",
       "    </tr>\n",
       "    <tr>\n",
       "      <th>2</th>\n",
       "      <td>Comp348553</td>\n",
       "      <td>ActiveDirectory</td>\n",
       "      <td>Comp354767</td>\n",
       "      <td>7257779</td>\n",
       "      <td>7257789</td>\n",
       "    </tr>\n",
       "    <tr>\n",
       "      <th>6</th>\n",
       "      <td>Comp308413</td>\n",
       "      <td>ActiveDirectory</td>\n",
       "      <td>Comp354767</td>\n",
       "      <td>7258077</td>\n",
       "      <td>7258090</td>\n",
       "    </tr>\n",
       "    <tr>\n",
       "      <th>8</th>\n",
       "      <td>Comp814303</td>\n",
       "      <td>ActiveDirectory</td>\n",
       "      <td>Comp805594</td>\n",
       "      <td>7257624</td>\n",
       "      <td>7257912</td>\n",
       "    </tr>\n",
       "    <tr>\n",
       "      <th>9</th>\n",
       "      <td>Comp814303</td>\n",
       "      <td>ActiveDirectory</td>\n",
       "      <td>Comp805594</td>\n",
       "      <td>7257695</td>\n",
       "      <td>7257912</td>\n",
       "    </tr>\n",
       "    <tr>\n",
       "      <th>18</th>\n",
       "      <td>Comp855562</td>\n",
       "      <td>ActiveDirectory</td>\n",
       "      <td>Comp354767</td>\n",
       "      <td>7258273</td>\n",
       "      <td>7258287</td>\n",
       "    </tr>\n",
       "    <tr>\n",
       "      <th>20</th>\n",
       "      <td>Comp855562</td>\n",
       "      <td>ActiveDirectory</td>\n",
       "      <td>Comp354767</td>\n",
       "      <td>7258272</td>\n",
       "      <td>7258287</td>\n",
       "    </tr>\n",
       "    <tr>\n",
       "      <th>26</th>\n",
       "      <td>Comp814303</td>\n",
       "      <td>ActiveDirectory</td>\n",
       "      <td>Comp805594</td>\n",
       "      <td>7257624</td>\n",
       "      <td>7257852</td>\n",
       "    </tr>\n",
       "    <tr>\n",
       "      <th>27</th>\n",
       "      <td>Comp814303</td>\n",
       "      <td>ActiveDirectory</td>\n",
       "      <td>Comp805594</td>\n",
       "      <td>7257695</td>\n",
       "      <td>7257852</td>\n",
       "    </tr>\n",
       "    <tr>\n",
       "      <th>37</th>\n",
       "      <td>Comp814303</td>\n",
       "      <td>ActiveDirectory</td>\n",
       "      <td>Comp805594</td>\n",
       "      <td>7257695</td>\n",
       "      <td>7257972</td>\n",
       "    </tr>\n",
       "  </tbody>\n",
       "</table>\n",
       "</div>"
      ],
      "text/plain": [
       "        r1_src   r1_destination r2_dst_device  r1_epoch_time  r2_epoch_time\n",
       "0   Comp348553  ActiveDirectory    Comp354767        7257773        7257789\n",
       "2   Comp348553  ActiveDirectory    Comp354767        7257779        7257789\n",
       "6   Comp308413  ActiveDirectory    Comp354767        7258077        7258090\n",
       "8   Comp814303  ActiveDirectory    Comp805594        7257624        7257912\n",
       "9   Comp814303  ActiveDirectory    Comp805594        7257695        7257912\n",
       "18  Comp855562  ActiveDirectory    Comp354767        7258273        7258287\n",
       "20  Comp855562  ActiveDirectory    Comp354767        7258272        7258287\n",
       "26  Comp814303  ActiveDirectory    Comp805594        7257624        7257852\n",
       "27  Comp814303  ActiveDirectory    Comp805594        7257695        7257852\n",
       "37  Comp814303  ActiveDirectory    Comp805594        7257695        7257972"
      ]
     },
     "execution_count": 128,
     "metadata": {},
     "output_type": "execute_result"
    }
   ],
   "source": [
    "data = answer_table.get_data_pandas()\n",
    "data1 = data.drop_duplicates()\n",
    "data1[0:10]"
   ]
  },
  {
   "cell_type": "code",
   "execution_count": null,
   "metadata": {},
   "outputs": [],
   "source": []
  }
 ],
 "metadata": {
  "kernelspec": {
   "display_name": "Python 3",
   "language": "python",
   "name": "python3"
  },
  "language_info": {
   "codemirror_mode": {
    "name": "ipython",
    "version": 3
   },
   "file_extension": ".py",
   "mimetype": "text/x-python",
   "name": "python",
   "nbconvert_exporter": "python",
   "pygments_lexer": "ipython3",
   "version": "3.7.4"
  }
 },
 "nbformat": 4,
 "nbformat_minor": 2
}
