{
 "cells": [
  {
   "cell_type": "markdown",
   "metadata": {},
   "source": [
    " # Cybersecurity Graph Analytics with xGT on HPE Superdome Flex\n",
    "  \n",
    " ## Lateral Movement\n",
    " --- \n",
    "*Lateral movement* is a cyberattack pattern that describes how an adversary leverages a single foothold to compromise other systems within a network. Identifying and stopping lateral movement is an important step in controlling the damage from a breach, and also plays a role in forensic analysis of a cyberatt ack, helping to identify its source and reconstruct what happened.  \n",
    "\n",
    "## Lateral Movement (Kerberos - Pass The Ticket)\n",
    "---\n",
    "*Pass the ticket (PTT)* is a method of authenticating to a system using Kerberos tickets without having access to an account's password. Kerberos authentication can be used as the first step to lateral movement to a remote system.\n",
    "\n",
    "| Malware | Vulnerabilities |  Windows Event Id |  Windows Port | Process/Executables | DLL/SharedLibrary | Other Parameters |\n",
    "|---------|-----------------|-------------------|-------------- |---------------------|-------------------|------------------|\n",
    "| Empire  |                 |    4768 , 4769    | 135,445       |  lsass.exe          |                   | Auth Pkg = ‘Kerberos’\n",
    "\n",
    "\n",
    "### Attack Steps\n",
    "---\n",
    "*Step1*:  Forge 4768(TGT REQUEST) using tools like mimikatz. This prevents generation of 4768 for TGT REQUEST.<br>\n",
    "*Step2*: Make a legitimate Service ticket request. This generates 4769.<br>\n",
    "*Step3*: Look for 4769 logged for which 4768 has not been logged for a given time duration.<br>\n",
    "*Step4*: Check for LM in shortlisted Devices in Step 3. <br>\n",
    "\n",
    "In this notebook, we show how Cybersecurity Graph Analytics can be implemented with xGT on HPE Superdome Flex for  large data.\n",
    "\n",
    "Mitre Attack Catalog https://attack.mitre.org/\n",
    "\n",
    "Dataset : https://datasets.trovares.com/cyber/LANL/ind\t\n"
   ]
  },
  {
   "cell_type": "code",
   "execution_count": 2,
   "metadata": {},
   "outputs": [
    {
     "name": "stdout",
     "output_type": "stream",
     "text": [
      "3.7.4\n"
     ]
    }
   ],
   "source": [
    "import xgt\n",
    "import os\n",
    "import pandas\n",
    "\n",
    "from platform import python_version\n",
    "print (python_version())"
   ]
  },
  {
   "cell_type": "code",
   "execution_count": 3,
   "metadata": {},
   "outputs": [],
   "source": [
    "if os.environ.get('https_proxy'):\n",
    " del os.environ['https_proxy']\n",
    "if os.environ.get('http_proxy'):\n",
    " del os.environ['http_proxy']"
   ]
  },
  {
   "cell_type": "code",
   "execution_count": 4,
   "metadata": {},
   "outputs": [
    {
     "data": {
      "text/plain": [
       "'1.3.0'"
      ]
     },
     "execution_count": 4,
     "metadata": {},
     "output_type": "execute_result"
    }
   ],
   "source": [
    "conn=xgt.Connection()\n",
    "conn.server_version"
   ]
  },
  {
   "cell_type": "code",
   "execution_count": 5,
   "metadata": {},
   "outputs": [
    {
     "data": {
      "text/plain": [
       "<xgt.graph.VertexFrame at 0x7f7d911a1410>"
      ]
     },
     "execution_count": 5,
     "metadata": {},
     "output_type": "execute_result"
    }
   ],
   "source": [
    "try:\n",
    "  devices = conn.get_vertex_frame('Devices')\n",
    "except xgt.XgtNameError:\n",
    "  devices = conn.create_vertex_frame(\n",
    "      name='Devices',\n",
    "      schema=[['device', xgt.TEXT]],\n",
    "      key='device')\n",
    "devices"
   ]
  },
  {
   "cell_type": "code",
   "execution_count": 6,
   "metadata": {},
   "outputs": [
    {
     "data": {
      "text/plain": [
       "<xgt.graph.EdgeFrame at 0x7f7d905ff210>"
      ]
     },
     "execution_count": 6,
     "metadata": {},
     "output_type": "execute_result"
    }
   ],
   "source": [
    "try:\n",
    "  netflow = conn.get_edge_frame('Netflow')\n",
    "except xgt.XgtNameError:\n",
    "  netflow = conn.create_edge_frame(\n",
    "      name='Netflow',\n",
    "      schema=[['epoch_time', xgt.INT],\n",
    "              ['duration', xgt.INT],\n",
    "              ['src_device', xgt.TEXT],\n",
    "              ['dst_device', xgt.TEXT],\n",
    "              ['protocol', xgt.INT],\n",
    "              ['src_port', xgt.INT],\n",
    "              ['dst_port', xgt.INT],\n",
    "              ['src_packets', xgt.INT],\n",
    "              ['dst_packets', xgt.INT],\n",
    "              ['src_bytes', xgt.INT],\n",
    "              ['dst_bytes', xgt.INT]],\n",
    "      source=devices,\n",
    "      target=devices,\n",
    "      source_key='src_device',\n",
    "      target_key='dst_device')\n",
    "netflow"
   ]
  },
  {
   "cell_type": "code",
   "execution_count": 7,
   "metadata": {},
   "outputs": [
    {
     "data": {
      "text/plain": [
       "<xgt.graph.EdgeFrame at 0x7f7d9060b610>"
      ]
     },
     "execution_count": 7,
     "metadata": {},
     "output_type": "execute_result"
    }
   ],
   "source": [
    "try:\n",
    "  auth_events = conn.get_edge_frame('AuthEvents')\n",
    "except xgt.XgtNameError:\n",
    "  auth_events = conn.create_edge_frame(\n",
    "           name='AuthEvents',\n",
    "           schema = [['epoch_time',xgt.INT],\n",
    "                     ['event_id',xgt.INT],\n",
    "                     ['log_host',xgt.TEXT],\n",
    "                     ['logon_type',xgt.INT],\n",
    "                     ['logon_type_description',xgt.TEXT],\n",
    "                     ['user_name',xgt.TEXT],\n",
    "                     ['domain_name',xgt.TEXT],\n",
    "                     ['logon_id',xgt.INT],\n",
    "                     ['subject_user_name',xgt.TEXT],\n",
    "                     ['subject_domain_name',xgt.TEXT],\n",
    "                     ['subject_logon_id',xgt.TEXT],\n",
    "                     ['status',xgt.TEXT],\n",
    "                     ['src',xgt.TEXT],\n",
    "                     ['service_name',xgt.TEXT],\n",
    "                     ['destination',xgt.TEXT],\n",
    "                     ['authentication_package',xgt.TEXT],\n",
    "                     ['failure_reason',xgt.TEXT],\n",
    "                     ['process_name',xgt.TEXT],\n",
    "                     ['process_id',xgt.INT],\n",
    "                     ['parent_process_name',xgt.TEXT],\n",
    "                     ['parent_process_id',xgt.INT]],\n",
    "            source = 'Devices',\n",
    "            target = 'Devices',\n",
    "            source_key = 'src',\n",
    "            target_key = 'destination')\n",
    "auth_events"
   ]
  },
  {
   "cell_type": "code",
   "execution_count": 8,
   "metadata": {},
   "outputs": [
    {
     "name": "stdout",
     "output_type": "stream",
     "text": [
      "Devices (vertices): 0\n",
      "Netflow (edges): 0\n",
      "Authentication events (edges): 0\n",
      "Total (edges): 0\n"
     ]
    }
   ],
   "source": [
    "# Utility to print the sizes of data currently in xGT\n",
    "def print_data_summary():\n",
    "  print('Devices (vertices): {:,}'.format(devices.num_vertices))\n",
    "  print('Netflow (edges): {:,}'.format(netflow.num_edges))\n",
    "  print('Authentication events (edges): {:,}'.format(auth_events.num_edges))\n",
    "  print('Total (edges): {:,}'.format(\n",
    "      netflow.num_edges + auth_events.num_edges))\n",
    "    \n",
    "print_data_summary()"
   ]
  },
  {
   "cell_type": "code",
   "execution_count": 9,
   "metadata": {},
   "outputs": [
    {
     "name": "stdout",
     "output_type": "stream",
     "text": [
      "Devices (vertices): 12,288\n",
      "Netflow (edges): 0\n",
      "Authentication events (edges): 47,790,045\n",
      "Total (edges): 47,790,045\n",
      "CPU times: user 129 ms, sys: 75.3 ms, total: 204 ms\n",
      "Wall time: 34 s\n"
     ]
    }
   ],
   "source": [
    "%%time\n",
    "\n",
    "# Load the AuthEvents event data:\n",
    "if auth_events.num_edges == 0:\n",
    "    urls = [\"xgtd://nvme_data3/data_2v/wls_day-85_2v.csv\"]\n",
    "    auth_events.load(urls)\n",
    "    print_data_summary()"
   ]
  },
  {
   "cell_type": "code",
   "execution_count": 10,
   "metadata": {},
   "outputs": [
    {
     "name": "stdout",
     "output_type": "stream",
     "text": [
      "Devices (vertices): 137,812\n",
      "Netflow (edges): 235,661,328\n",
      "Authentication events (edges): 47,790,045\n",
      "Total (edges): 283,451,373\n",
      "CPU times: user 305 ms, sys: 224 ms, total: 529 ms\n",
      "Wall time: 1min 52s\n"
     ]
    }
   ],
   "source": [
    "%%time\n",
    "\n",
    "# Load the netflow data:\n",
    "if netflow.num_edges == 0:\n",
    "    urls = [\"xgtd://nvme_data5/data_nf/nf_day-85.csv\"]\n",
    "    netflow.load(urls)\n",
    "    print_data_summary()"
   ]
  },
  {
   "cell_type": "code",
   "execution_count": 11,
   "metadata": {},
   "outputs": [
    {
     "data": {
      "text/plain": [
       "<xgt.graph.EdgeFrame at 0x7f7d906141d0>"
      ]
     },
     "execution_count": 11,
     "metadata": {},
     "output_type": "execute_result"
    }
   ],
   "source": [
    "# Generate a new edge frame for holding only the \"Kerberos - Pass The Ticket\" Flow edges\n",
    "import time\n",
    "query_start_time = time.time()\n",
    "\n",
    "conn.drop_frame('PTTFlow')\n",
    "ptt_flow = conn.create_edge_frame(\n",
    "            name='PTTFlow',\n",
    "            schema=netflow.schema,\n",
    "            source=devices,\n",
    "            target=devices,\n",
    "            source_key='src_device',\n",
    "            target_key='dst_device')\n",
    "ptt_flow"
   ]
  },
  {
   "cell_type": "code",
   "execution_count": 12,
   "metadata": {},
   "outputs": [],
   "source": [
    "# Utility function to launch queries and show job number:\n",
    "#   The job number may be useful if a long-running job needs\n",
    "#   to be canceled.\n",
    "\n",
    "def run_query(query, table_name = \"answers\", drop_answer_table=True, show_query=False):\n",
    "    if drop_answer_table:\n",
    "        conn.drop_frame(table_name)\n",
    "    if query[-1] != '\\n':\n",
    "        query += '\\n'\n",
    "    query += 'INTO {}'.format(table_name)\n",
    "    if show_query:\n",
    "        print(\"Query:\\n\" + query)\n",
    "    job = conn.schedule_job(query)\n",
    "    print(\"Launched job {}\".format(job.id))\n",
    "    conn.wait_for_job(job)\n",
    "    table = conn.get_table_frame(table_name)\n",
    "    return table"
   ]
  },
  {
   "cell_type": "code",
   "execution_count": 13,
   "metadata": {},
   "outputs": [
    {
     "name": "stdout",
     "output_type": "stream",
     "text": [
      "Launched job 1295\n",
      "Number of answers: 5,210,584\n",
      "CPU times: user 53.9 ms, sys: 40.9 ms, total: 94.8 ms\n",
      "Wall time: 21.1 s\n"
     ]
    }
   ],
   "source": [
    "%%time\n",
    "\n",
    "#filtering with port no. 135 & 445\n",
    "\n",
    "PTT_LMFlow_Query = \"\"\"\n",
    "MATCH (v0:Devices)-[edge:Netflow]->(v1:Devices) \n",
    "WHERE edge.dst_port=135 OR edge.dst_port=445 \n",
    "CREATE (v0)-[e:PTTFlow \n",
    "             {epoch_time : edge.epoch_time, \n",
    "              duration : edge.duration, \n",
    "              protocol : edge.protocol, \n",
    "              src_port : edge.src_port, \n",
    "              dst_port : edge.dst_port}]->(v1) \n",
    "RETURN count(*)\n",
    "\"\"\"\n",
    "data = run_query(PTT_LMFlow_Query)\n",
    "print('Number of answers: {:,}'.format(data.get_data()[0][0]))"
   ]
  },
  {
   "cell_type": "code",
   "execution_count": 14,
   "metadata": {},
   "outputs": [
    {
     "data": {
      "text/html": [
       "<div>\n",
       "<style scoped>\n",
       "    .dataframe tbody tr th:only-of-type {\n",
       "        vertical-align: middle;\n",
       "    }\n",
       "\n",
       "    .dataframe tbody tr th {\n",
       "        vertical-align: top;\n",
       "    }\n",
       "\n",
       "    .dataframe thead th {\n",
       "        text-align: right;\n",
       "    }\n",
       "</style>\n",
       "<table border=\"1\" class=\"dataframe\">\n",
       "  <thead>\n",
       "    <tr style=\"text-align: right;\">\n",
       "      <th></th>\n",
       "      <th>count(*)</th>\n",
       "    </tr>\n",
       "  </thead>\n",
       "  <tbody>\n",
       "    <tr>\n",
       "      <th>0</th>\n",
       "      <td>5210584</td>\n",
       "    </tr>\n",
       "  </tbody>\n",
       "</table>\n",
       "</div>"
      ],
      "text/plain": [
       "   count(*)\n",
       "0   5210584"
      ]
     },
     "execution_count": 14,
     "metadata": {},
     "output_type": "execute_result"
    }
   ],
   "source": [
    "# retrieve the answer rows to the client in a pandas frame\n",
    "data1 = data.get_data_pandas()\n",
    "data1[0:10]"
   ]
  },
  {
   "cell_type": "code",
   "execution_count": 15,
   "metadata": {},
   "outputs": [
    {
     "name": "stdout",
     "output_type": "stream",
     "text": [
      "Print PTT_Flow Data\n",
      "Launched job 1404\n",
      "Number of answers: 7,298,261\n",
      "CPU times: user 17.2 s, sys: 2.29 s, total: 19.5 s\n",
      "Wall time: 41.7 s\n"
     ]
    }
   ],
   "source": [
    "%%time\n",
    "\n",
    "# retrieve the answer rows to the client in a pandas frame\n",
    "print(\"Print PTT_Flow Data\")\n",
    "\n",
    "Query_PTTFlow_Data = \"\"\"\n",
    "MATCH (v0:Devices)-[edge:PTTFlow]->(v1:Devices) \n",
    "RETURN edge.epoch_time,\n",
    "       edge.duration,\n",
    "       edge.src_device,\n",
    "       edge.dst_device,\n",
    "       edge.protocol,\n",
    "       edge.src_port,\n",
    "       edge.dst_port\n",
    "\"\"\"\n",
    "data = run_query(Query_PTTFlow_Data)\n",
    "print('Number of answers: {:,}'.format(data.get_data()[0][0]))"
   ]
  },
  {
   "cell_type": "code",
   "execution_count": 16,
   "metadata": {},
   "outputs": [
    {
     "data": {
      "text/html": [
       "<div>\n",
       "<style scoped>\n",
       "    .dataframe tbody tr th:only-of-type {\n",
       "        vertical-align: middle;\n",
       "    }\n",
       "\n",
       "    .dataframe tbody tr th {\n",
       "        vertical-align: top;\n",
       "    }\n",
       "\n",
       "    .dataframe thead th {\n",
       "        text-align: right;\n",
       "    }\n",
       "</style>\n",
       "<table border=\"1\" class=\"dataframe\">\n",
       "  <thead>\n",
       "    <tr style=\"text-align: right;\">\n",
       "      <th></th>\n",
       "      <th>edge_epoch_time</th>\n",
       "      <th>edge_duration</th>\n",
       "      <th>edge_src_device</th>\n",
       "      <th>edge_dst_device</th>\n",
       "      <th>edge_protocol</th>\n",
       "      <th>edge_src_port</th>\n",
       "      <th>edge_dst_port</th>\n",
       "    </tr>\n",
       "  </thead>\n",
       "  <tbody>\n",
       "    <tr>\n",
       "      <th>0</th>\n",
       "      <td>7298261</td>\n",
       "      <td>12</td>\n",
       "      <td>Comp754845</td>\n",
       "      <td>ActiveDirectory</td>\n",
       "      <td>6</td>\n",
       "      <td>80924</td>\n",
       "      <td>445</td>\n",
       "    </tr>\n",
       "    <tr>\n",
       "      <th>1</th>\n",
       "      <td>7292861</td>\n",
       "      <td>12</td>\n",
       "      <td>Comp754845</td>\n",
       "      <td>ActiveDirectory</td>\n",
       "      <td>6</td>\n",
       "      <td>54098</td>\n",
       "      <td>445</td>\n",
       "    </tr>\n",
       "    <tr>\n",
       "      <th>2</th>\n",
       "      <td>7301861</td>\n",
       "      <td>12</td>\n",
       "      <td>Comp754845</td>\n",
       "      <td>ActiveDirectory</td>\n",
       "      <td>6</td>\n",
       "      <td>83398</td>\n",
       "      <td>445</td>\n",
       "    </tr>\n",
       "    <tr>\n",
       "      <th>3</th>\n",
       "      <td>7306581</td>\n",
       "      <td>5</td>\n",
       "      <td>Comp317953</td>\n",
       "      <td>Comp015815</td>\n",
       "      <td>6</td>\n",
       "      <td>54613</td>\n",
       "      <td>135</td>\n",
       "    </tr>\n",
       "    <tr>\n",
       "      <th>4</th>\n",
       "      <td>7269906</td>\n",
       "      <td>14</td>\n",
       "      <td>Comp834987</td>\n",
       "      <td>ActiveDirectory</td>\n",
       "      <td>6</td>\n",
       "      <td>32900</td>\n",
       "      <td>135</td>\n",
       "    </tr>\n",
       "    <tr>\n",
       "      <th>5</th>\n",
       "      <td>7269906</td>\n",
       "      <td>48</td>\n",
       "      <td>Comp834987</td>\n",
       "      <td>ActiveDirectory</td>\n",
       "      <td>6</td>\n",
       "      <td>65006</td>\n",
       "      <td>135</td>\n",
       "    </tr>\n",
       "    <tr>\n",
       "      <th>6</th>\n",
       "      <td>7267144</td>\n",
       "      <td>15</td>\n",
       "      <td>Comp834987</td>\n",
       "      <td>ActiveDirectory</td>\n",
       "      <td>6</td>\n",
       "      <td>27058</td>\n",
       "      <td>135</td>\n",
       "    </tr>\n",
       "    <tr>\n",
       "      <th>7</th>\n",
       "      <td>7285034</td>\n",
       "      <td>15</td>\n",
       "      <td>Comp535172</td>\n",
       "      <td>ActiveDirectory</td>\n",
       "      <td>6</td>\n",
       "      <td>95033</td>\n",
       "      <td>445</td>\n",
       "    </tr>\n",
       "    <tr>\n",
       "      <th>8</th>\n",
       "      <td>7269076</td>\n",
       "      <td>14</td>\n",
       "      <td>Comp834987</td>\n",
       "      <td>ActiveDirectory</td>\n",
       "      <td>6</td>\n",
       "      <td>75299</td>\n",
       "      <td>445</td>\n",
       "    </tr>\n",
       "    <tr>\n",
       "      <th>9</th>\n",
       "      <td>7284077</td>\n",
       "      <td>612</td>\n",
       "      <td>Comp535172</td>\n",
       "      <td>Comp908480</td>\n",
       "      <td>6</td>\n",
       "      <td>30195</td>\n",
       "      <td>445</td>\n",
       "    </tr>\n",
       "  </tbody>\n",
       "</table>\n",
       "</div>"
      ],
      "text/plain": [
       "   edge_epoch_time  edge_duration edge_src_device  edge_dst_device  \\\n",
       "0          7298261             12      Comp754845  ActiveDirectory   \n",
       "1          7292861             12      Comp754845  ActiveDirectory   \n",
       "2          7301861             12      Comp754845  ActiveDirectory   \n",
       "3          7306581              5      Comp317953       Comp015815   \n",
       "4          7269906             14      Comp834987  ActiveDirectory   \n",
       "5          7269906             48      Comp834987  ActiveDirectory   \n",
       "6          7267144             15      Comp834987  ActiveDirectory   \n",
       "7          7285034             15      Comp535172  ActiveDirectory   \n",
       "8          7269076             14      Comp834987  ActiveDirectory   \n",
       "9          7284077            612      Comp535172       Comp908480   \n",
       "\n",
       "   edge_protocol  edge_src_port  edge_dst_port  \n",
       "0              6          80924            445  \n",
       "1              6          54098            445  \n",
       "2              6          83398            445  \n",
       "3              6          54613            135  \n",
       "4              6          32900            135  \n",
       "5              6          65006            135  \n",
       "6              6          27058            135  \n",
       "7              6          95033            445  \n",
       "8              6          75299            445  \n",
       "9              6          30195            445  "
      ]
     },
     "execution_count": 16,
     "metadata": {},
     "output_type": "execute_result"
    }
   ],
   "source": [
    "data1 = data.get_data_pandas()\n",
    "data1[0:10]"
   ]
  },
  {
   "cell_type": "code",
   "execution_count": 17,
   "metadata": {},
   "outputs": [
    {
     "data": {
      "text/plain": [
       "'PTTflow (edges): 5,210,584'"
      ]
     },
     "execution_count": 17,
     "metadata": {},
     "output_type": "execute_result"
    }
   ],
   "source": [
    "#Count of PTTFlow Edges Created\n",
    "data=None\n",
    "if ptt_flow.num_edges == 0:\n",
    "    print(\"PTTFlow is empty\")\n",
    "elif ptt_flow.num_edges <= 1000:\n",
    "    data = ptt_flow.get_data_pandas()\n",
    "else:\n",
    "    data = 'PTTflow (edges): {:,}'.format(ptt_flow.num_edges)\n",
    "data"
   ]
  },
  {
   "cell_type": "code",
   "execution_count": 18,
   "metadata": {},
   "outputs": [
    {
     "data": {
      "text/plain": [
       "<xgt.graph.EdgeFrame at 0x7f7d905cd490>"
      ]
     },
     "execution_count": 18,
     "metadata": {},
     "output_type": "execute_result"
    }
   ],
   "source": [
    "#Create TGT_RES_Events Edge Frames \n",
    "try:\n",
    "  tgt_req_events = conn.get_edge_frame('TGT_REQ_Events')\n",
    "except xgt.XgtNameError:\n",
    "  tgt_req_events = conn.create_edge_frame(\n",
    "           name='TGT_REQ_Events',\n",
    "           schema = [['epoch_time',xgt.INT],\n",
    "                     ['event_id',xgt.INT],\n",
    "                     ['src',xgt.TEXT],\n",
    "                     ['destination',xgt.TEXT],\n",
    "                     ['is_attack',xgt.BOOLEAN]],\n",
    "            source = 'Devices',\n",
    "            target = 'Devices',\n",
    "            source_key = 'src',\n",
    "            target_key = 'destination')\n",
    "tgt_req_events"
   ]
  },
  {
   "cell_type": "code",
   "execution_count": 19,
   "metadata": {},
   "outputs": [
    {
     "name": "stdout",
     "output_type": "stream",
     "text": [
      "Launched job 1480\n",
      "Number of answers: 875,992\n",
      "CPU times: user 20.2 ms, sys: 8.09 ms, total: 28.3 ms\n",
      "Wall time: 1.05 s\n"
     ]
    }
   ],
   "source": [
    "%%time\n",
    "\n",
    "#Polulate TGT_REQ_Events EdgeFrames\n",
    "\n",
    "TGT_REQ_Query = \"\"\"\n",
    "MATCH (n1:Devices)-[r:AuthEvents]->(n2:Devices) \n",
    "WHERE r.event_id = 4768 \n",
    "CREATE (n1)-[r1:TGT_REQ_Events \n",
    "             {epoch_time:r.epoch_time, \n",
    "              event_id:r.event_id,\n",
    "              is_attack:TRUE}]->(n2) \n",
    "RETURN count(*)\n",
    "\"\"\"\n",
    "\n",
    "data = run_query(TGT_REQ_Query)\n",
    "print('Number of answers: {:,}'.format(data.get_data()[0][0]))"
   ]
  },
  {
   "cell_type": "code",
   "execution_count": 20,
   "metadata": {},
   "outputs": [
    {
     "name": "stdout",
     "output_type": "stream",
     "text": [
      "Print TGT_REQ Data\n",
      "Launched job 1492\n",
      "Number of answers: 7,286,748\n",
      "CPU times: user 8.69 s, sys: 469 ms, total: 9.16 s\n",
      "Wall time: 24.9 s\n"
     ]
    },
    {
     "data": {
      "text/html": [
       "<div>\n",
       "<style scoped>\n",
       "    .dataframe tbody tr th:only-of-type {\n",
       "        vertical-align: middle;\n",
       "    }\n",
       "\n",
       "    .dataframe tbody tr th {\n",
       "        vertical-align: top;\n",
       "    }\n",
       "\n",
       "    .dataframe thead th {\n",
       "        text-align: right;\n",
       "    }\n",
       "</style>\n",
       "<table border=\"1\" class=\"dataframe\">\n",
       "  <thead>\n",
       "    <tr style=\"text-align: right;\">\n",
       "      <th></th>\n",
       "      <th>edge_epoch_time</th>\n",
       "      <th>edge_event_id</th>\n",
       "      <th>edge_src</th>\n",
       "      <th>edge_destination</th>\n",
       "      <th>edge_is_attack</th>\n",
       "    </tr>\n",
       "  </thead>\n",
       "  <tbody>\n",
       "    <tr>\n",
       "      <th>0</th>\n",
       "      <td>7286748</td>\n",
       "      <td>4768</td>\n",
       "      <td>EnterpriseAppServer</td>\n",
       "      <td>ActiveDirectory</td>\n",
       "      <td>True</td>\n",
       "    </tr>\n",
       "    <tr>\n",
       "      <th>1</th>\n",
       "      <td>7336218</td>\n",
       "      <td>4768</td>\n",
       "      <td>Comp916004</td>\n",
       "      <td>ActiveDirectory</td>\n",
       "      <td>True</td>\n",
       "    </tr>\n",
       "    <tr>\n",
       "      <th>2</th>\n",
       "      <td>7329519</td>\n",
       "      <td>4768</td>\n",
       "      <td>Comp916004</td>\n",
       "      <td>ActiveDirectory</td>\n",
       "      <td>True</td>\n",
       "    </tr>\n",
       "    <tr>\n",
       "      <th>3</th>\n",
       "      <td>7315548</td>\n",
       "      <td>4768</td>\n",
       "      <td>Comp916004</td>\n",
       "      <td>ActiveDirectory</td>\n",
       "      <td>True</td>\n",
       "    </tr>\n",
       "    <tr>\n",
       "      <th>4</th>\n",
       "      <td>7270986</td>\n",
       "      <td>4768</td>\n",
       "      <td>Comp916004</td>\n",
       "      <td>ActiveDirectory</td>\n",
       "      <td>True</td>\n",
       "    </tr>\n",
       "    <tr>\n",
       "      <th>5</th>\n",
       "      <td>7297055</td>\n",
       "      <td>4768</td>\n",
       "      <td>Comp823551</td>\n",
       "      <td>ActiveDirectory</td>\n",
       "      <td>True</td>\n",
       "    </tr>\n",
       "    <tr>\n",
       "      <th>6</th>\n",
       "      <td>7298492</td>\n",
       "      <td>4768</td>\n",
       "      <td>Comp916004</td>\n",
       "      <td>ActiveDirectory</td>\n",
       "      <td>True</td>\n",
       "    </tr>\n",
       "    <tr>\n",
       "      <th>7</th>\n",
       "      <td>7297814</td>\n",
       "      <td>4768</td>\n",
       "      <td>Comp520997</td>\n",
       "      <td>ActiveDirectory</td>\n",
       "      <td>True</td>\n",
       "    </tr>\n",
       "    <tr>\n",
       "      <th>8</th>\n",
       "      <td>7265498</td>\n",
       "      <td>4768</td>\n",
       "      <td>Comp520997</td>\n",
       "      <td>ActiveDirectory</td>\n",
       "      <td>True</td>\n",
       "    </tr>\n",
       "    <tr>\n",
       "      <th>9</th>\n",
       "      <td>7285147</td>\n",
       "      <td>4768</td>\n",
       "      <td>Comp380546</td>\n",
       "      <td>ActiveDirectory</td>\n",
       "      <td>True</td>\n",
       "    </tr>\n",
       "  </tbody>\n",
       "</table>\n",
       "</div>"
      ],
      "text/plain": [
       "   edge_epoch_time  edge_event_id             edge_src edge_destination  \\\n",
       "0          7286748           4768  EnterpriseAppServer  ActiveDirectory   \n",
       "1          7336218           4768           Comp916004  ActiveDirectory   \n",
       "2          7329519           4768           Comp916004  ActiveDirectory   \n",
       "3          7315548           4768           Comp916004  ActiveDirectory   \n",
       "4          7270986           4768           Comp916004  ActiveDirectory   \n",
       "5          7297055           4768           Comp823551  ActiveDirectory   \n",
       "6          7298492           4768           Comp916004  ActiveDirectory   \n",
       "7          7297814           4768           Comp520997  ActiveDirectory   \n",
       "8          7265498           4768           Comp520997  ActiveDirectory   \n",
       "9          7285147           4768           Comp380546  ActiveDirectory   \n",
       "\n",
       "   edge_is_attack  \n",
       "0            True  \n",
       "1            True  \n",
       "2            True  \n",
       "3            True  \n",
       "4            True  \n",
       "5            True  \n",
       "6            True  \n",
       "7            True  \n",
       "8            True  \n",
       "9            True  "
      ]
     },
     "execution_count": 20,
     "metadata": {},
     "output_type": "execute_result"
    }
   ],
   "source": [
    "%%time\n",
    "\n",
    "# retrieve the answer rows to the client in a pandas frame\n",
    "print(\"Print TGT_REQ Data\")\n",
    "\n",
    "Query_TGT_REQ_Data = \"\"\"\n",
    "MATCH (n1:Devices)-[edge:TGT_REQ_Events]->(n2:Devices) \n",
    "RETURN edge.epoch_time,\n",
    "       edge.event_id,\n",
    "       edge.src,\n",
    "       edge.destination,\n",
    "       edge.is_attack\n",
    "\"\"\"\n",
    "data = run_query(Query_TGT_REQ_Data)\n",
    "print('Number of answers: {:,}'.format(data.get_data()[0][0]))\n",
    "\n",
    "data1 = data.get_data_pandas()\n",
    "data1[0:10]"
   ]
  },
  {
   "cell_type": "code",
   "execution_count": 21,
   "metadata": {},
   "outputs": [
    {
     "data": {
      "text/plain": [
       "<xgt.graph.EdgeFrame at 0x7f7d905ed610>"
      ]
     },
     "execution_count": 21,
     "metadata": {},
     "output_type": "execute_result"
    }
   ],
   "source": [
    "#Create SERVICE_REQ_Events Edge Frames \n",
    "\n",
    "try:\n",
    "  service_req_events = conn.get_edge_frame('SERVICE_REQ_Events')\n",
    "except xgt.XgtNameError:\n",
    "  service_req_events = conn.create_edge_frame(\n",
    "           name='SERVICE_REQ_Events',\n",
    "           schema = [['epoch_time',xgt.INT],\n",
    "                     ['event_id',xgt.INT],\n",
    "                     ['src',xgt.TEXT],\n",
    "                     ['destination',xgt.TEXT],\n",
    "                     ['is_attack',xgt.BOOLEAN]],\n",
    "            source = 'Devices',\n",
    "            target = 'Devices',\n",
    "            source_key = 'src',\n",
    "            target_key = 'destination')\n",
    "service_req_events"
   ]
  },
  {
   "cell_type": "code",
   "execution_count": 22,
   "metadata": {
    "scrolled": true
   },
   "outputs": [
    {
     "name": "stdout",
     "output_type": "stream",
     "text": [
      "Launched job 1555\n",
      "Number of answers: 2,271,788\n",
      "CPU times: user 33.4 ms, sys: 20.7 ms, total: 54.1 ms\n",
      "Wall time: 6.67 s\n"
     ]
    }
   ],
   "source": [
    "%%time\n",
    "\n",
    "#Polulate SERVICE_REQ_Events EdgeFrames\n",
    "\n",
    "SERVICE_REQ_Query = \"\"\"\n",
    "MATCH (n1:Devices)-[r:AuthEvents]->(n2:Devices) \n",
    "WHERE r.event_id = 4769 \n",
    "CREATE (n1)-[r1:SERVICE_REQ_Events \n",
    "             {epoch_time:r.epoch_time, \n",
    "              event_id:r.event_id,\n",
    "              is_attack:TRUE}]->(n2) \n",
    "RETURN count(*)\n",
    "\"\"\"\n",
    "data = run_query(SERVICE_REQ_Query)\n",
    "print('Number of answers: {:,}'.format(data.get_data()[0][0]))"
   ]
  },
  {
   "cell_type": "code",
   "execution_count": 23,
   "metadata": {},
   "outputs": [
    {
     "name": "stdout",
     "output_type": "stream",
     "text": [
      "Print SERVICE_REQ Data\n",
      "Launched job 1600\n",
      "CPU times: user 14.7 s, sys: 705 ms, total: 15.4 s\n",
      "Wall time: 22 s\n"
     ]
    },
    {
     "data": {
      "text/html": [
       "<div>\n",
       "<style scoped>\n",
       "    .dataframe tbody tr th:only-of-type {\n",
       "        vertical-align: middle;\n",
       "    }\n",
       "\n",
       "    .dataframe tbody tr th {\n",
       "        vertical-align: top;\n",
       "    }\n",
       "\n",
       "    .dataframe thead th {\n",
       "        text-align: right;\n",
       "    }\n",
       "</style>\n",
       "<table border=\"1\" class=\"dataframe\">\n",
       "  <thead>\n",
       "    <tr style=\"text-align: right;\">\n",
       "      <th></th>\n",
       "      <th>edge_epoch_time</th>\n",
       "      <th>edge_event_id</th>\n",
       "      <th>edge_src</th>\n",
       "      <th>edge_destination</th>\n",
       "      <th>edge_is_attack</th>\n",
       "    </tr>\n",
       "  </thead>\n",
       "  <tbody>\n",
       "    <tr>\n",
       "      <th>0</th>\n",
       "      <td>7274472</td>\n",
       "      <td>4769</td>\n",
       "      <td>Comp916004</td>\n",
       "      <td>ActiveDirectory</td>\n",
       "      <td>True</td>\n",
       "    </tr>\n",
       "    <tr>\n",
       "      <th>1</th>\n",
       "      <td>7278945</td>\n",
       "      <td>4769</td>\n",
       "      <td>Comp244393</td>\n",
       "      <td>ActiveDirectory</td>\n",
       "      <td>True</td>\n",
       "    </tr>\n",
       "    <tr>\n",
       "      <th>2</th>\n",
       "      <td>7331911</td>\n",
       "      <td>4769</td>\n",
       "      <td>Comp297849</td>\n",
       "      <td>ActiveDirectory</td>\n",
       "      <td>True</td>\n",
       "    </tr>\n",
       "    <tr>\n",
       "      <th>3</th>\n",
       "      <td>7339386</td>\n",
       "      <td>4769</td>\n",
       "      <td>Comp244393</td>\n",
       "      <td>ActiveDirectory</td>\n",
       "      <td>True</td>\n",
       "    </tr>\n",
       "    <tr>\n",
       "      <th>4</th>\n",
       "      <td>7315373</td>\n",
       "      <td>4769</td>\n",
       "      <td>Comp326739</td>\n",
       "      <td>ActiveDirectory</td>\n",
       "      <td>True</td>\n",
       "    </tr>\n",
       "    <tr>\n",
       "      <th>5</th>\n",
       "      <td>7262396</td>\n",
       "      <td>4769</td>\n",
       "      <td>Comp755918</td>\n",
       "      <td>ActiveDirectory</td>\n",
       "      <td>True</td>\n",
       "    </tr>\n",
       "    <tr>\n",
       "      <th>6</th>\n",
       "      <td>7281678</td>\n",
       "      <td>4769</td>\n",
       "      <td>Comp916004</td>\n",
       "      <td>ActiveDirectory</td>\n",
       "      <td>True</td>\n",
       "    </tr>\n",
       "    <tr>\n",
       "      <th>7</th>\n",
       "      <td>7343102</td>\n",
       "      <td>4769</td>\n",
       "      <td>ActiveDirectory</td>\n",
       "      <td>ActiveDirectory</td>\n",
       "      <td>True</td>\n",
       "    </tr>\n",
       "    <tr>\n",
       "      <th>8</th>\n",
       "      <td>7295012</td>\n",
       "      <td>4769</td>\n",
       "      <td>Comp373920</td>\n",
       "      <td>ActiveDirectory</td>\n",
       "      <td>True</td>\n",
       "    </tr>\n",
       "    <tr>\n",
       "      <th>9</th>\n",
       "      <td>7297452</td>\n",
       "      <td>4769</td>\n",
       "      <td>Comp916004</td>\n",
       "      <td>ActiveDirectory</td>\n",
       "      <td>True</td>\n",
       "    </tr>\n",
       "  </tbody>\n",
       "</table>\n",
       "</div>"
      ],
      "text/plain": [
       "   edge_epoch_time  edge_event_id         edge_src edge_destination  \\\n",
       "0          7274472           4769       Comp916004  ActiveDirectory   \n",
       "1          7278945           4769       Comp244393  ActiveDirectory   \n",
       "2          7331911           4769       Comp297849  ActiveDirectory   \n",
       "3          7339386           4769       Comp244393  ActiveDirectory   \n",
       "4          7315373           4769       Comp326739  ActiveDirectory   \n",
       "5          7262396           4769       Comp755918  ActiveDirectory   \n",
       "6          7281678           4769       Comp916004  ActiveDirectory   \n",
       "7          7343102           4769  ActiveDirectory  ActiveDirectory   \n",
       "8          7295012           4769       Comp373920  ActiveDirectory   \n",
       "9          7297452           4769       Comp916004  ActiveDirectory   \n",
       "\n",
       "   edge_is_attack  \n",
       "0            True  \n",
       "1            True  \n",
       "2            True  \n",
       "3            True  \n",
       "4            True  \n",
       "5            True  \n",
       "6            True  \n",
       "7            True  \n",
       "8            True  \n",
       "9            True  "
      ]
     },
     "execution_count": 23,
     "metadata": {},
     "output_type": "execute_result"
    }
   ],
   "source": [
    "%%time\n",
    "\n",
    "# retrieve the answer rows to the client in a pandas frame\n",
    "print(\"Print SERVICE_REQ Data\")\n",
    "\n",
    "Query_SERVICE_REQ_Data = \"\"\"\n",
    "MATCH (n1:Devices)-[edge:SERVICE_REQ_Events]->(n2:Devices) \n",
    "RETURN edge.epoch_time,\n",
    "       edge.event_id,\n",
    "       edge.src,\n",
    "       edge.destination,\n",
    "       edge.is_attack\n",
    "\"\"\"\n",
    "data = run_query(Query_SERVICE_REQ_Data)\n",
    "#print('Number of answers: {:,}'.format(data.get_data()[0][0]))\n",
    "data1 = data.get_data_pandas()\n",
    "data1[0:10]"
   ]
  },
  {
   "cell_type": "code",
   "execution_count": 25,
   "metadata": {},
   "outputs": [
    {
     "name": "stdout",
     "output_type": "stream",
     "text": [
      "Launched job 1652\n",
      "Number of answers: 2,271,788\n"
     ]
    }
   ],
   "source": [
    "q=\"\"\"\n",
    "MATCH (n1:Devices)-[r1:SERVICE_REQ_Events]->(n2:Devices)\n",
    "RETURN COUNT(*)\n",
    "\"\"\"\n",
    "data = run_query(q)\n",
    "print('Number of answers: {:,}'.format(data.get_data()[0][0]))"
   ]
  },
  {
   "cell_type": "code",
   "execution_count": 26,
   "metadata": {},
   "outputs": [
    {
     "name": "stdout",
     "output_type": "stream",
     "text": [
      "Launched job 1655\n",
      "Number of answers: 0\n"
     ]
    }
   ],
   "source": [
    "q=\"\"\"\n",
    "MATCH (n1:Devices)-[r1:SERVICE_REQ_Events]->(n2:Devices)\n",
    "WHERE r1.is_attack=FALSE\n",
    "RETURN COUNT(*)\n",
    "\"\"\"\n",
    "data = run_query(q)\n",
    "print('Number of answers: {:,}'.format(data.get_data()[0][0]))"
   ]
  },
  {
   "cell_type": "code",
   "execution_count": 27,
   "metadata": {},
   "outputs": [
    {
     "name": "stdout",
     "output_type": "stream",
     "text": [
      "Launched job 1669\n",
      "Number of answers: 2,271,788\n"
     ]
    }
   ],
   "source": [
    "q=\"\"\"\n",
    "MATCH (n1:Devices)-[r1:SERVICE_REQ_Events]->(n2:Devices)\n",
    "WHERE r1.is_attack=TRUE\n",
    "RETURN COUNT(*)\n",
    "\"\"\"\n",
    "data = run_query(q)\n",
    "print('Number of answers: {:,}'.format(data.get_data()[0][0]))"
   ]
  },
  {
   "cell_type": "code",
   "execution_count": null,
   "metadata": {},
   "outputs": [],
   "source": [
    "%%time\n",
    "EPOCH_TIME_DIFF_THRESHOLD = 3600\n",
    "\n",
    "Valid_tgt = \"\"\"\n",
    "MATCH (n1:Devices)-[r1:SERVICE_REQ_Events]->(n2:Devices), (n1)-[r2:TGT_REQ_Events]->(n2) \n",
    "WHERE r2.epoch_time <= r1.epoch_time \n",
    "AND r1.epoch_time - r2.epoch_time < {0}\n",
    "SET r1.is_attack=FALSE\n",
    "RETURN r1.src,r1.destination,r2.destination,r1.epoch_time,r2.epoch_time\n",
    "LIMIT 1000\n",
    "\"\"\".format(EPOCH_TIME_DIFF_THRESHOLD)\n",
    "\n",
    "print(Valid_tgt)\n",
    "answer_table = run_query(Valid_tgt)\n",
    "print('Number of answers: {:,}'.format(answer_table.num_rows))"
   ]
  },
  {
   "cell_type": "code",
   "execution_count": null,
   "metadata": {},
   "outputs": [],
   "source": [
    "%%time\n",
    "LATERAL_MOVEMENT_HOP_THRESHOLD = 300 \n",
    "\n",
    "Final_PTT_ATTACK_Query = \"\"\"\n",
    "MATCH (n1:Devices)-[r1:SERVICE_REQ_Events]->(n2:Devices), (n1)-[r2:PTTFlow]->(n3:Devices) \n",
    "WHERE r1.is_attack=TRUE \n",
    "AND n2 <> n3 \n",
    "AND r1.epoch_time <= r2.epoch_time \n",
    "AND r2.epoch_time - r1.epoch_time < {0} \n",
    "RETURN r1.src,r1.destination,r2.dst_device,r1.epoch_time,r2.epoch_time\n",
    "LIMIT 1000\n",
    "\"\"\".format(LATERAL_MOVEMENT_HOP_THRESHOLD)\n",
    "\n",
    "print(Final_PTT_ATTACK_Query)\n",
    "answer_table = run_query(Final_PTT_ATTACK_Query)\n",
    "print('Number of answers: {:,}'.format(answer_table.num_rows))"
   ]
  }
 ],
 "metadata": {
  "kernelspec": {
   "display_name": "Python 3",
   "language": "python",
   "name": "python3"
  },
  "language_info": {
   "codemirror_mode": {
    "name": "ipython",
    "version": 3
   },
   "file_extension": ".py",
   "mimetype": "text/x-python",
   "name": "python",
   "nbconvert_exporter": "python",
   "pygments_lexer": "ipython3",
   "version": "3.7.4"
  }
 },
 "nbformat": 4,
 "nbformat_minor": 2
}
