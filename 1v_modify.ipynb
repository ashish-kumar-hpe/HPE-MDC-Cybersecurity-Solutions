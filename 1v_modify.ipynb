{
 "cells": [
  {
   "cell_type": "code",
   "execution_count": 1,
   "metadata": {},
   "outputs": [
    {
     "name": "stderr",
     "output_type": "stream",
     "text": [
      "/root/Python_3_7/lib/python3.7/site-packages/pandas/compat/__init__.py:117: UserWarning: Could not import the lzma module. Your installed Python is incomplete. Attempting to use lzma compression will result in a RuntimeError.\n",
      "  warnings.warn(msg)\n"
     ]
    }
   ],
   "source": [
    "import pandas as pd"
   ]
  },
  {
   "cell_type": "code",
   "execution_count": 2,
   "metadata": {},
   "outputs": [
    {
     "data": {
      "text/html": [
       "<div>\n",
       "<style scoped>\n",
       "    .dataframe tbody tr th:only-of-type {\n",
       "        vertical-align: middle;\n",
       "    }\n",
       "\n",
       "    .dataframe tbody tr th {\n",
       "        vertical-align: top;\n",
       "    }\n",
       "\n",
       "    .dataframe thead th {\n",
       "        text-align: right;\n",
       "    }\n",
       "</style>\n",
       "<table border=\"1\" class=\"dataframe\">\n",
       "  <thead>\n",
       "    <tr style=\"text-align: right;\">\n",
       "      <th></th>\n",
       "      <th>epoch_time</th>\n",
       "      <th>event_id</th>\n",
       "      <th>log_host</th>\n",
       "      <th>user_name</th>\n",
       "      <th>domain_name</th>\n",
       "      <th>logon_id</th>\n",
       "      <th>p_name</th>\n",
       "      <th>pid</th>\n",
       "      <th>pp_name</th>\n",
       "      <th>ppid</th>\n",
       "    </tr>\n",
       "  </thead>\n",
       "  <tbody>\n",
       "    <tr>\n",
       "      <th>0</th>\n",
       "      <td>7323279</td>\n",
       "      <td>4688</td>\n",
       "      <td>Comp427574</td>\n",
       "      <td>Comp427574$</td>\n",
       "      <td>Domain001</td>\n",
       "      <td>999</td>\n",
       "      <td>dllhost.exe</td>\n",
       "      <td>4468</td>\n",
       "      <td>svchost</td>\n",
       "      <td>896</td>\n",
       "    </tr>\n",
       "    <tr>\n",
       "      <th>1</th>\n",
       "      <td>7323279</td>\n",
       "      <td>4688</td>\n",
       "      <td>Comp352652</td>\n",
       "      <td>User506263</td>\n",
       "      <td>Domain001</td>\n",
       "      <td>149856822</td>\n",
       "      <td>Proc211923.exe</td>\n",
       "      <td>2800</td>\n",
       "      <td>Proc599312</td>\n",
       "      <td>1032</td>\n",
       "    </tr>\n",
       "    <tr>\n",
       "      <th>2</th>\n",
       "      <td>7323279</td>\n",
       "      <td>4688</td>\n",
       "      <td>Comp352652</td>\n",
       "      <td>Comp352652$</td>\n",
       "      <td>Domain001</td>\n",
       "      <td>999</td>\n",
       "      <td>searchprotocolhost.exe</td>\n",
       "      <td>8864</td>\n",
       "      <td>Proc443607</td>\n",
       "      <td>4848</td>\n",
       "    </tr>\n",
       "    <tr>\n",
       "      <th>3</th>\n",
       "      <td>7323279</td>\n",
       "      <td>4688</td>\n",
       "      <td>Comp022243</td>\n",
       "      <td>Comp022243$</td>\n",
       "      <td>Domain001</td>\n",
       "      <td>999</td>\n",
       "      <td>wmiprvse.exe</td>\n",
       "      <td>3512</td>\n",
       "      <td>svchost</td>\n",
       "      <td>764</td>\n",
       "    </tr>\n",
       "    <tr>\n",
       "      <th>4</th>\n",
       "      <td>7323279</td>\n",
       "      <td>4688</td>\n",
       "      <td>Comp352652</td>\n",
       "      <td>Comp352652$</td>\n",
       "      <td>Domain001</td>\n",
       "      <td>999</td>\n",
       "      <td>searchfilterhost.exe</td>\n",
       "      <td>8312</td>\n",
       "      <td>Proc443607</td>\n",
       "      <td>4848</td>\n",
       "    </tr>\n",
       "  </tbody>\n",
       "</table>\n",
       "</div>"
      ],
      "text/plain": [
       "   epoch_time  event_id    log_host    user_name domain_name   logon_id  \\\n",
       "0     7323279      4688  Comp427574  Comp427574$   Domain001        999   \n",
       "1     7323279      4688  Comp352652   User506263   Domain001  149856822   \n",
       "2     7323279      4688  Comp352652  Comp352652$   Domain001        999   \n",
       "3     7323279      4688  Comp022243  Comp022243$   Domain001        999   \n",
       "4     7323279      4688  Comp352652  Comp352652$   Domain001        999   \n",
       "\n",
       "                   p_name   pid     pp_name  ppid  \n",
       "0             dllhost.exe  4468     svchost   896  \n",
       "1          Proc211923.exe  2800  Proc599312  1032  \n",
       "2  searchprotocolhost.exe  8864  Proc443607  4848  \n",
       "3            wmiprvse.exe  3512     svchost   764  \n",
       "4    searchfilterhost.exe  8312  Proc443607  4848  "
      ]
     },
     "execution_count": 2,
     "metadata": {},
     "output_type": "execute_result"
    }
   ],
   "source": [
    "df_1v = pd.read_csv(\"/home/LANL/wls_day-85_1v.csv\", names = [\"epoch_time\",\"event_id\",\"log_host\",\"user_name\",\"domain_name\",\"logon_id\",\"p_name\",\"pid\",\"pp_name\",\"ppid\"])\n",
    "df_1v.head()"
   ]
  },
  {
   "cell_type": "code",
   "execution_count": 3,
   "metadata": {},
   "outputs": [
    {
     "data": {
      "text/plain": [
       "Index(['epoch_time', 'event_id', 'log_host', 'user_name', 'domain_name',\n",
       "       'logon_id', 'p_name', 'pid', 'pp_name', 'ppid'],\n",
       "      dtype='object')"
      ]
     },
     "execution_count": 3,
     "metadata": {},
     "output_type": "execute_result"
    }
   ],
   "source": [
    "df_1v.columns"
   ]
  },
  {
   "cell_type": "code",
   "execution_count": 4,
   "metadata": {
    "scrolled": true
   },
   "outputs": [
    {
     "data": {
      "text/html": [
       "<div>\n",
       "<style scoped>\n",
       "    .dataframe tbody tr th:only-of-type {\n",
       "        vertical-align: middle;\n",
       "    }\n",
       "\n",
       "    .dataframe tbody tr th {\n",
       "        vertical-align: top;\n",
       "    }\n",
       "\n",
       "    .dataframe thead th {\n",
       "        text-align: right;\n",
       "    }\n",
       "</style>\n",
       "<table border=\"1\" class=\"dataframe\">\n",
       "  <thead>\n",
       "    <tr style=\"text-align: right;\">\n",
       "      <th></th>\n",
       "      <th>epoch_time</th>\n",
       "      <th>event_id</th>\n",
       "      <th>log_host</th>\n",
       "      <th>user_name</th>\n",
       "      <th>domain_name</th>\n",
       "      <th>logon_id</th>\n",
       "      <th>p_name</th>\n",
       "      <th>pid</th>\n",
       "      <th>pp_name</th>\n",
       "      <th>ppid</th>\n",
       "      <th>dest</th>\n",
       "    </tr>\n",
       "  </thead>\n",
       "  <tbody>\n",
       "    <tr>\n",
       "      <th>0</th>\n",
       "      <td>7323279</td>\n",
       "      <td>4688</td>\n",
       "      <td>Comp427574</td>\n",
       "      <td>Comp427574$</td>\n",
       "      <td>Domain001</td>\n",
       "      <td>999</td>\n",
       "      <td>dllhost.exe</td>\n",
       "      <td>4468</td>\n",
       "      <td>svchost</td>\n",
       "      <td>896</td>\n",
       "      <td>Comp427574</td>\n",
       "    </tr>\n",
       "    <tr>\n",
       "      <th>1</th>\n",
       "      <td>7323279</td>\n",
       "      <td>4688</td>\n",
       "      <td>Comp352652</td>\n",
       "      <td>User506263</td>\n",
       "      <td>Domain001</td>\n",
       "      <td>149856822</td>\n",
       "      <td>Proc211923.exe</td>\n",
       "      <td>2800</td>\n",
       "      <td>Proc599312</td>\n",
       "      <td>1032</td>\n",
       "      <td>Comp352652</td>\n",
       "    </tr>\n",
       "    <tr>\n",
       "      <th>2</th>\n",
       "      <td>7323279</td>\n",
       "      <td>4688</td>\n",
       "      <td>Comp352652</td>\n",
       "      <td>Comp352652$</td>\n",
       "      <td>Domain001</td>\n",
       "      <td>999</td>\n",
       "      <td>searchprotocolhost.exe</td>\n",
       "      <td>8864</td>\n",
       "      <td>Proc443607</td>\n",
       "      <td>4848</td>\n",
       "      <td>Comp352652</td>\n",
       "    </tr>\n",
       "    <tr>\n",
       "      <th>3</th>\n",
       "      <td>7323279</td>\n",
       "      <td>4688</td>\n",
       "      <td>Comp022243</td>\n",
       "      <td>Comp022243$</td>\n",
       "      <td>Domain001</td>\n",
       "      <td>999</td>\n",
       "      <td>wmiprvse.exe</td>\n",
       "      <td>3512</td>\n",
       "      <td>svchost</td>\n",
       "      <td>764</td>\n",
       "      <td>Comp022243</td>\n",
       "    </tr>\n",
       "    <tr>\n",
       "      <th>4</th>\n",
       "      <td>7323279</td>\n",
       "      <td>4688</td>\n",
       "      <td>Comp352652</td>\n",
       "      <td>Comp352652$</td>\n",
       "      <td>Domain001</td>\n",
       "      <td>999</td>\n",
       "      <td>searchfilterhost.exe</td>\n",
       "      <td>8312</td>\n",
       "      <td>Proc443607</td>\n",
       "      <td>4848</td>\n",
       "      <td>Comp352652</td>\n",
       "    </tr>\n",
       "  </tbody>\n",
       "</table>\n",
       "</div>"
      ],
      "text/plain": [
       "   epoch_time  event_id    log_host    user_name domain_name   logon_id  \\\n",
       "0     7323279      4688  Comp427574  Comp427574$   Domain001        999   \n",
       "1     7323279      4688  Comp352652   User506263   Domain001  149856822   \n",
       "2     7323279      4688  Comp352652  Comp352652$   Domain001        999   \n",
       "3     7323279      4688  Comp022243  Comp022243$   Domain001        999   \n",
       "4     7323279      4688  Comp352652  Comp352652$   Domain001        999   \n",
       "\n",
       "                   p_name   pid     pp_name  ppid        dest  \n",
       "0             dllhost.exe  4468     svchost   896  Comp427574  \n",
       "1          Proc211923.exe  2800  Proc599312  1032  Comp352652  \n",
       "2  searchprotocolhost.exe  8864  Proc443607  4848  Comp352652  \n",
       "3            wmiprvse.exe  3512     svchost   764  Comp022243  \n",
       "4    searchfilterhost.exe  8312  Proc443607  4848  Comp352652  "
      ]
     },
     "execution_count": 4,
     "metadata": {},
     "output_type": "execute_result"
    }
   ],
   "source": [
    "df_1v['dest']=df_1v['log_host']\n",
    "df_1v.head()"
   ]
  },
  {
   "cell_type": "code",
   "execution_count": 5,
   "metadata": {},
   "outputs": [],
   "source": [
    "df_1v.to_csv(\"/home/LANL/op/wls_day-85_1v_modified.csv\",index=False,header=False)"
   ]
  },
  {
   "cell_type": "code",
   "execution_count": null,
   "metadata": {},
   "outputs": [],
   "source": []
  }
 ],
 "metadata": {
  "kernelspec": {
   "display_name": "Python 3",
   "language": "python",
   "name": "python3"
  },
  "language_info": {
   "codemirror_mode": {
    "name": "ipython",
    "version": 3
   },
   "file_extension": ".py",
   "mimetype": "text/x-python",
   "name": "python",
   "nbconvert_exporter": "python",
   "pygments_lexer": "ipython3",
   "version": "3.7.4"
  }
 },
 "nbformat": 4,
 "nbformat_minor": 4
}
