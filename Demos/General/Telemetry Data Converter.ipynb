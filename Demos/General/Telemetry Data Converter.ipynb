{
 "cells": [
  {
   "cell_type": "code",
   "execution_count": 35,
   "metadata": {},
   "outputs": [],
   "source": [
    "import json as js\n",
    "import pandas as pd"
   ]
  },
  {
   "cell_type": "code",
   "execution_count": 36,
   "metadata": {},
   "outputs": [
    {
     "name": "stdout",
     "output_type": "stream",
     "text": [
      "                  0\n",
      "age              35\n",
      "city       New York\n",
      "firstName      John\n",
      "lastName      Smith\n"
     ]
    }
   ],
   "source": [
    "with open('/nvme_data14/Comcast_Dataset/sample1.json') as json_file:\n",
    "    students1 = pd.read_json(json_file, orient='index')\n",
    "\n",
    "print(students1)\n"
   ]
  },
  {
   "cell_type": "code",
   "execution_count": 37,
   "metadata": {},
   "outputs": [
    {
     "name": "stdout",
     "output_type": "stream",
     "text": [
      "          age         city firstName lastName\n",
      "student0   35     New York      John    Smith\n",
      "student1   27  Los Angeles      Mary    Brown\n",
      "student2   45       Austin      Lily    Green\n"
     ]
    }
   ],
   "source": [
    "with open('/nvme_data14/Comcast_Dataset/sample2.json') as json_file:\n",
    "    students2 = pd.read_json(json_file, orient='index')\n",
    "\n",
    "print(students2)"
   ]
  },
  {
   "cell_type": "code",
   "execution_count": 38,
   "metadata": {},
   "outputs": [
    {
     "name": "stdout",
     "output_type": "stream",
     "text": [
      "Student Name,age,city,firstName,lastName\n",
      "student0,35,New York,John,Smith\n",
      "student1,27,Los Angeles,Mary,Brown\n",
      "student2,45,Austin,Lily,Green\n",
      "\n"
     ]
    }
   ],
   "source": [
    "#students3 = students2.to_csv(index=False)\n",
    "students3 = students2.to_csv(index_label='Student Name')\n",
    "print(students3)\n",
    "\n",
    "#write output to a file\n",
    "#students2.to_csv('/nvme_data14/Comcast_Dataset/Sample3.csv',index_label='Student Name',header=True)\n",
    "\n",
    "students2.to_csv('/nvme_data14/Comcast_Dataset/Sample4.csv',index_label='Student Name',header=False)"
   ]
  }
 ],
 "metadata": {
  "kernelspec": {
   "display_name": "Python 3",
   "language": "python",
   "name": "python3"
  },
  "language_info": {
   "codemirror_mode": {
    "name": "ipython",
    "version": 3
   },
   "file_extension": ".py",
   "mimetype": "text/x-python",
   "name": "python",
   "nbconvert_exporter": "python",
   "pygments_lexer": "ipython3",
   "version": "3.7.4"
  }
 },
 "nbformat": 4,
 "nbformat_minor": 2
}
