{
 "cells": [
  {
   "cell_type": "code",
   "execution_count": 8,
   "metadata": {},
   "outputs": [
    {
     "name": "stdout",
     "output_type": "stream",
     "text": [
      "3.7.4\n"
     ]
    }
   ],
   "source": [
    "import xgt\n",
    "import os\n",
    "import pandas\n",
    "\n",
    "from platform import python_version\n",
    "print (python_version())"
   ]
  },
  {
   "cell_type": "code",
   "execution_count": 9,
   "metadata": {},
   "outputs": [],
   "source": [
    "if os.environ.get('https_proxy'):\n",
    " del os.environ['https_proxy']\n",
    "if os.environ.get('http_proxy'):\n",
    " del os.environ['http_proxy']"
   ]
  },
  {
   "cell_type": "code",
   "execution_count": 10,
   "metadata": {},
   "outputs": [
    {
     "data": {
      "text/plain": [
       "'1.3.0'"
      ]
     },
     "execution_count": 10,
     "metadata": {},
     "output_type": "execute_result"
    }
   ],
   "source": [
    "conn=xgt.Connection()\n",
    "conn.server_version"
   ]
  },
  {
   "cell_type": "code",
   "execution_count": 11,
   "metadata": {},
   "outputs": [],
   "source": [
    "#Province/State,Country/Region,Last Update,Confirmed,Deaths,Recovered,Latitude,Longitude\n",
    "#Hubei,China,2020-03-19T10:13:14,67800,3130,57682,30.9756,112.2707\n",
    "#Italy,Italy,2020-03-19T17:43:03,41035,3405,4440,41.8719,12.5674\n",
    "#Iran,Iran,2020-03-19T11:33:29,18407,1284,5710,32.4279,53.6880\n",
    "#Spain,Spain,2020-03-19T20:13:08,17963,830,1107,40.4637,-3.7492\n",
    "#Germany,Germany,2020-03-19T20:13:08,15320,44,113,51.1657,10.4515\n",
    "#France,France,2020-03-19T20:43:02,10871,243,12,46.2276,2.2137\n",
    "#\"Korea, South\",\"Korea, South\",2020-03-19T02:13:17,8565,91,1540,35.9078,127.7669\n",
    "#New York,US,2020-03-19T23:43:04,5365,34,0,42.1657,-74.9481\n",
    "#Switzerland,Switzerland,2020-03-19T21:13:15,4075,41,15,46.8182,8.2275\n"
   ]
  },
  {
   "cell_type": "code",
   "execution_count": 12,
   "metadata": {},
   "outputs": [],
   "source": [
    "# Define and create the graph\n",
    "states = conn.create_vertex_frame(\n",
    "  name='States',\n",
    "  schema=[['state_name', xgt.TEXT],\n",
    "          ['country', xgt.TEXT],\n",
    "          ['state_country_key', xgt.TEXT],\n",
    "          ['last_updated_date_time', xgt.DATETIME],\n",
    "          ['confirmed_cases', xgt.INT],\n",
    "          ['death_cases', xgt.INT],\n",
    "          ['recovered_cases', xgt.INT],\n",
    "          ['latitude', xgt.FLOAT],\n",
    "          ['longitude', xgt.FLOAT]],\n",
    "  key='state_country_key')"
   ]
  },
  {
   "cell_type": "code",
   "execution_count": null,
   "metadata": {},
   "outputs": [],
   "source": []
  }
 ],
 "metadata": {
  "kernelspec": {
   "display_name": "python_3_7",
   "language": "python",
   "name": "python_3_7"
  },
  "language_info": {
   "codemirror_mode": {
    "name": "ipython",
    "version": 3
   },
   "file_extension": ".py",
   "mimetype": "text/x-python",
   "name": "python",
   "nbconvert_exporter": "python",
   "pygments_lexer": "ipython3",
   "version": "3.7.4"
  }
 },
 "nbformat": 4,
 "nbformat_minor": 2
}
