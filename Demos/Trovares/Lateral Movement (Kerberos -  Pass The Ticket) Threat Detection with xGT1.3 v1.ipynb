{
 "cells": [
  {
   "cell_type": "markdown",
   "metadata": {},
   "source": [
    " # Cybersecurity Graph Analytics with xGT on HPE Superdome Flex\n",
    "  \n",
    " ## Lateral Movement\n",
    " --- \n",
    "*Lateral movement* is a cyberattack pattern that describes how an adversary leverages a single foothold to compromise other systems within a network. Identifying and stopping lateral movement is an important step in controlling the damage from a breach, and also plays a role in forensic analysis of a cyberatt ack, helping to identify its source and reconstruct what happened.  \n",
    "\n",
    "## Lateral Movement (Kerberos - Pass The Ticket)\n",
    "---\n",
    "*Pass the ticket (PTT)* is a method of authenticating to a system using Kerberos tickets without having access to an account's password. Kerberos authentication can be used as the first step to lateral movement to a remote system.\n",
    "\n",
    "| Malware | Vulnerabilities |  Windows Event Id |  Windows Port | Process/Executables | DLL/SharedLibrary | Other Parameters |\n",
    "|---------|-----------------|-------------------|-------------- |---------------------|-------------------|------------------|\n",
    "| Empire  |                 |    4768 , 4769    | 135,445       |  lsass.exe          |                   | Auth Pkg = ‘Kerberos’\n",
    "\n",
    "\n",
    "### Attack Steps\n",
    "---\n",
    "*Step1*:  Forge 4768(TGT REQUEST) using tools like mimikatz. This prevents generation of 4768 for TGT REQUEST.<br>\n",
    "*Step2*: Make a legitimate Service ticket request. This generates 4769.<br>\n",
    "*Step3*: Look for 4769 logged for which 4768 has not been logged for a given time duration.<br>\n",
    "*Step4*: Check for LM in shortlisted Devices in Step 3. <br>\n",
    "\n",
    "In this notebook, we show how Cybersecurity Graph Analytics can be implemented with xGT on HPE Superdome Flex for  large data.\n",
    "\n",
    "Mitre Attack Catalog https://attack.mitre.org/\n",
    "\n",
    "Dataset : https://datasets.trovares.com/cyber/LANL/ind\t\n"
   ]
  },
  {
   "cell_type": "code",
   "execution_count": 239,
   "metadata": {},
   "outputs": [
    {
     "name": "stdout",
     "output_type": "stream",
     "text": [
      "3.7.4\n"
     ]
    }
   ],
   "source": [
    "import xgt\n",
    "import os\n",
    "import pandas\n",
    "\n",
    "from platform import python_version\n",
    "print (python_version())"
   ]
  },
  {
   "cell_type": "code",
   "execution_count": 240,
   "metadata": {},
   "outputs": [],
   "source": [
    "if os.environ.get('https_proxy'):\n",
    " del os.environ['https_proxy']\n",
    "if os.environ.get('http_proxy'):\n",
    " del os.environ['http_proxy']"
   ]
  },
  {
   "cell_type": "code",
   "execution_count": 241,
   "metadata": {},
   "outputs": [
    {
     "data": {
      "text/plain": [
       "'1.3.0'"
      ]
     },
     "execution_count": 241,
     "metadata": {},
     "output_type": "execute_result"
    }
   ],
   "source": [
    "conn=xgt.Connection()\n",
    "conn.server_version"
   ]
  },
  {
   "cell_type": "code",
   "execution_count": 242,
   "metadata": {},
   "outputs": [
    {
     "data": {
      "text/plain": [
       "<xgt.graph.VertexFrame at 0x7fc9b478cad0>"
      ]
     },
     "execution_count": 242,
     "metadata": {},
     "output_type": "execute_result"
    }
   ],
   "source": [
    "try:\n",
    "  devices = conn.get_vertex_frame('Devices')\n",
    "except xgt.XgtNameError:\n",
    "  devices = conn.create_vertex_frame(\n",
    "      name='Devices',\n",
    "      schema=[['device', xgt.TEXT]],\n",
    "      key='device')\n",
    "devices"
   ]
  },
  {
   "cell_type": "code",
   "execution_count": 243,
   "metadata": {},
   "outputs": [
    {
     "data": {
      "text/plain": [
       "<xgt.graph.EdgeFrame at 0x7fc98efb8a10>"
      ]
     },
     "execution_count": 243,
     "metadata": {},
     "output_type": "execute_result"
    }
   ],
   "source": [
    "try:\n",
    "  netflow = conn.get_edge_frame('Netflow')\n",
    "except xgt.XgtNameError:\n",
    "  netflow = conn.create_edge_frame(\n",
    "      name='Netflow',\n",
    "      schema=[['epoch_time', xgt.INT],\n",
    "              ['duration', xgt.INT],\n",
    "              ['src_device', xgt.TEXT],\n",
    "              ['dst_device', xgt.TEXT],\n",
    "              ['protocol', xgt.INT],\n",
    "              ['src_port', xgt.INT],\n",
    "              ['dst_port', xgt.INT],\n",
    "              ['src_packets', xgt.INT],\n",
    "              ['dst_packets', xgt.INT],\n",
    "              ['src_bytes', xgt.INT],\n",
    "              ['dst_bytes', xgt.INT]],\n",
    "      source=devices,\n",
    "      target=devices,\n",
    "      source_key='src_device',\n",
    "      target_key='dst_device')\n",
    "netflow"
   ]
  },
  {
   "cell_type": "code",
   "execution_count": 244,
   "metadata": {},
   "outputs": [
    {
     "data": {
      "text/plain": [
       "<xgt.graph.EdgeFrame at 0x7fcb2aef5d10>"
      ]
     },
     "execution_count": 244,
     "metadata": {},
     "output_type": "execute_result"
    }
   ],
   "source": [
    "try:\n",
    "  auth_events = conn.get_edge_frame('AuthEvents')\n",
    "except xgt.XgtNameError:\n",
    "  auth_events = conn.create_edge_frame(\n",
    "           name='AuthEvents',\n",
    "           schema = [['epoch_time',xgt.INT],\n",
    "                     ['event_id',xgt.INT],\n",
    "                     ['log_host',xgt.TEXT],\n",
    "                     ['logon_type',xgt.INT],\n",
    "                     ['logon_type_description',xgt.TEXT],\n",
    "                     ['user_name',xgt.TEXT],\n",
    "                     ['domain_name',xgt.TEXT],\n",
    "                     ['logon_id',xgt.INT],\n",
    "                     ['subject_user_name',xgt.TEXT],\n",
    "                     ['subject_domain_name',xgt.TEXT],\n",
    "                     ['subject_logon_id',xgt.TEXT],\n",
    "                     ['status',xgt.TEXT],\n",
    "                     ['src',xgt.TEXT],\n",
    "                     ['service_name',xgt.TEXT],\n",
    "                     ['destination',xgt.TEXT],\n",
    "                     ['authentication_package',xgt.TEXT],\n",
    "                     ['failure_reason',xgt.TEXT],\n",
    "                     ['process_name',xgt.TEXT],\n",
    "                     ['process_id',xgt.INT],\n",
    "                     ['parent_process_name',xgt.TEXT],\n",
    "                     ['parent_process_id',xgt.INT]],\n",
    "            source = 'Devices',\n",
    "            target = 'Devices',\n",
    "            source_key = 'src',\n",
    "            target_key = 'destination')\n",
    "auth_events"
   ]
  },
  {
   "cell_type": "code",
   "execution_count": 245,
   "metadata": {},
   "outputs": [
    {
     "name": "stdout",
     "output_type": "stream",
     "text": [
      "Devices (vertices): 0\n",
      "Netflow (edges): 0\n",
      "Authentication events (edges): 0\n",
      "Total (edges): 0\n"
     ]
    }
   ],
   "source": [
    "# Utility to print the sizes of data currently in xGT\n",
    "def print_data_summary():\n",
    "  print('Devices (vertices): {:,}'.format(devices.num_vertices))\n",
    "  print('Netflow (edges): {:,}'.format(netflow.num_edges))\n",
    "  print('Authentication events (edges): {:,}'.format(auth_events.num_edges))\n",
    "  print('Total (edges): {:,}'.format(\n",
    "      netflow.num_edges + auth_events.num_edges))\n",
    "    \n",
    "print_data_summary()"
   ]
  },
  {
   "cell_type": "code",
   "execution_count": 246,
   "metadata": {},
   "outputs": [
    {
     "name": "stdout",
     "output_type": "stream",
     "text": [
      "Devices (vertices): 12,288\n",
      "Netflow (edges): 0\n",
      "Authentication events (edges): 47,790,045\n",
      "Total (edges): 47,790,045\n",
      "CPU times: user 155 ms, sys: 52.1 ms, total: 207 ms\n",
      "Wall time: 41.1 s\n"
     ]
    }
   ],
   "source": [
    "%%time\n",
    "\n",
    "# Load the AuthEvents event data:\n",
    "if auth_events.num_edges == 0:\n",
    "    urls = [\"xgtd://nvme_data3/data_2v/wls_day-85_2v.csv\"]\n",
    "    auth_events.load(urls)\n",
    "    print_data_summary()"
   ]
  },
  {
   "cell_type": "code",
   "execution_count": 247,
   "metadata": {},
   "outputs": [
    {
     "name": "stdout",
     "output_type": "stream",
     "text": [
      "Devices (vertices): 137,812\n",
      "Netflow (edges): 235,661,328\n",
      "Authentication events (edges): 47,790,045\n",
      "Total (edges): 283,451,373\n",
      "CPU times: user 588 ms, sys: 209 ms, total: 797 ms\n",
      "Wall time: 1min 51s\n"
     ]
    }
   ],
   "source": [
    "%%time\n",
    "\n",
    "# Load the netflow data:\n",
    "if netflow.num_edges == 0:\n",
    "    urls = [\"xgtd://nvme_data5/data_nf/nf_day-85.csv\"]\n",
    "    netflow.load(urls)\n",
    "    print_data_summary()"
   ]
  },
  {
   "cell_type": "code",
   "execution_count": 248,
   "metadata": {},
   "outputs": [
    {
     "data": {
      "text/plain": [
       "<xgt.graph.EdgeFrame at 0x7fca48315550>"
      ]
     },
     "execution_count": 248,
     "metadata": {},
     "output_type": "execute_result"
    }
   ],
   "source": [
    "# Generate a new edge frame for holding only the \"Kerberos - Pass The Ticket\" Flow edges\n",
    "import time\n",
    "query_start_time = time.time()\n",
    "\n",
    "conn.drop_frame('PTTFlow')\n",
    "ptt_flow = conn.create_edge_frame(\n",
    "            name='PTTFlow',\n",
    "            schema=netflow.schema,\n",
    "            source=devices,\n",
    "            target=devices,\n",
    "            source_key='src_device',\n",
    "            target_key='dst_device')\n",
    "ptt_flow"
   ]
  },
  {
   "cell_type": "code",
   "execution_count": 249,
   "metadata": {},
   "outputs": [],
   "source": [
    "# Utility function to launch queries and show job number:\n",
    "#   The job number may be useful if a long-running job needs\n",
    "#   to be canceled.\n",
    "\n",
    "def run_query(query, table_name = \"answers\", drop_answer_table=True, show_query=False):\n",
    "    if drop_answer_table:\n",
    "        conn.drop_frame(table_name)\n",
    "    if query[-1] != '\\n':\n",
    "        query += '\\n'\n",
    "    query += 'INTO {}'.format(table_name)\n",
    "    if show_query:\n",
    "        print(\"Query:\\n\" + query)\n",
    "    job = conn.schedule_job(query)\n",
    "    print(\"Launched job {}\".format(job.id))\n",
    "    conn.wait_for_job(job)\n",
    "    table = conn.get_table_frame(table_name)\n",
    "    return table"
   ]
  },
  {
   "cell_type": "code",
   "execution_count": 250,
   "metadata": {},
   "outputs": [
    {
     "name": "stdout",
     "output_type": "stream",
     "text": [
      "Launched job 1352\n",
      "Number of answers: 5,210,584\n",
      "CPU times: user 114 ms, sys: 12.1 ms, total: 126 ms\n",
      "Wall time: 21.2 s\n"
     ]
    }
   ],
   "source": [
    "%%time\n",
    "\n",
    "#filtering with port no. 135 & 445\n",
    "\n",
    "PTT_LMFlow_Query = \"\"\"\n",
    "MATCH (v0:Devices)-[edge:Netflow]->(v1:Devices) \n",
    "WHERE edge.dst_port=135 OR edge.dst_port=445 \n",
    "CREATE (v0)-[e:PTTFlow \n",
    "             {epoch_time : edge.epoch_time, \n",
    "              duration : edge.duration, \n",
    "              protocol : edge.protocol, \n",
    "              src_port : edge.src_port, \n",
    "              dst_port : edge.dst_port}]->(v1) \n",
    "RETURN count(*)\n",
    "\"\"\"\n",
    "data = run_query(PTT_LMFlow_Query)\n",
    "print('Number of answers: {:,}'.format(data.get_data()[0][0]))"
   ]
  },
  {
   "cell_type": "code",
   "execution_count": 251,
   "metadata": {},
   "outputs": [
    {
     "data": {
      "text/html": [
       "<div>\n",
       "<style scoped>\n",
       "    .dataframe tbody tr th:only-of-type {\n",
       "        vertical-align: middle;\n",
       "    }\n",
       "\n",
       "    .dataframe tbody tr th {\n",
       "        vertical-align: top;\n",
       "    }\n",
       "\n",
       "    .dataframe thead th {\n",
       "        text-align: right;\n",
       "    }\n",
       "</style>\n",
       "<table border=\"1\" class=\"dataframe\">\n",
       "  <thead>\n",
       "    <tr style=\"text-align: right;\">\n",
       "      <th></th>\n",
       "      <th>count(*)</th>\n",
       "    </tr>\n",
       "  </thead>\n",
       "  <tbody>\n",
       "    <tr>\n",
       "      <th>0</th>\n",
       "      <td>5210584</td>\n",
       "    </tr>\n",
       "  </tbody>\n",
       "</table>\n",
       "</div>"
      ],
      "text/plain": [
       "   count(*)\n",
       "0   5210584"
      ]
     },
     "execution_count": 251,
     "metadata": {},
     "output_type": "execute_result"
    }
   ],
   "source": [
    "# retrieve the answer rows to the client in a pandas frame\n",
    "data1 = data.get_data_pandas()\n",
    "data1[0:10]"
   ]
  },
  {
   "cell_type": "code",
   "execution_count": 252,
   "metadata": {},
   "outputs": [
    {
     "name": "stdout",
     "output_type": "stream",
     "text": [
      "Print PTT_Flow Data\n",
      "Launched job 1466\n",
      "Number of answers: 7,302,914\n",
      "CPU times: user 34.7 s, sys: 1.97 s, total: 36.7 s\n",
      "Wall time: 56.8 s\n"
     ]
    }
   ],
   "source": [
    "%%time\n",
    "\n",
    "# retrieve the answer rows to the client in a pandas frame\n",
    "print(\"Print PTT_Flow Data\")\n",
    "\n",
    "Query_PTTFlow_Data = \"\"\"\n",
    "MATCH (v0:Devices)-[edge:PTTFlow]->(v1:Devices) \n",
    "RETURN edge.epoch_time,\n",
    "       edge.duration,\n",
    "       edge.src_device,\n",
    "       edge.dst_device,\n",
    "       edge.protocol,\n",
    "       edge.src_port,\n",
    "       edge.dst_port\n",
    "\"\"\"\n",
    "data = run_query(Query_PTTFlow_Data)\n",
    "print('Number of answers: {:,}'.format(data.get_data()[0][0]))"
   ]
  },
  {
   "cell_type": "code",
   "execution_count": 253,
   "metadata": {},
   "outputs": [
    {
     "data": {
      "text/html": [
       "<div>\n",
       "<style scoped>\n",
       "    .dataframe tbody tr th:only-of-type {\n",
       "        vertical-align: middle;\n",
       "    }\n",
       "\n",
       "    .dataframe tbody tr th {\n",
       "        vertical-align: top;\n",
       "    }\n",
       "\n",
       "    .dataframe thead th {\n",
       "        text-align: right;\n",
       "    }\n",
       "</style>\n",
       "<table border=\"1\" class=\"dataframe\">\n",
       "  <thead>\n",
       "    <tr style=\"text-align: right;\">\n",
       "      <th></th>\n",
       "      <th>edge_epoch_time</th>\n",
       "      <th>edge_duration</th>\n",
       "      <th>edge_src_device</th>\n",
       "      <th>edge_dst_device</th>\n",
       "      <th>edge_protocol</th>\n",
       "      <th>edge_src_port</th>\n",
       "      <th>edge_dst_port</th>\n",
       "    </tr>\n",
       "  </thead>\n",
       "  <tbody>\n",
       "    <tr>\n",
       "      <th>0</th>\n",
       "      <td>7302914</td>\n",
       "      <td>0</td>\n",
       "      <td>Comp044772</td>\n",
       "      <td>Comp811836</td>\n",
       "      <td>6</td>\n",
       "      <td>56710</td>\n",
       "      <td>445</td>\n",
       "    </tr>\n",
       "    <tr>\n",
       "      <th>1</th>\n",
       "      <td>7304884</td>\n",
       "      <td>2</td>\n",
       "      <td>Comp296454</td>\n",
       "      <td>Comp244393</td>\n",
       "      <td>6</td>\n",
       "      <td>10924</td>\n",
       "      <td>445</td>\n",
       "    </tr>\n",
       "    <tr>\n",
       "      <th>2</th>\n",
       "      <td>7276124</td>\n",
       "      <td>318</td>\n",
       "      <td>Comp472185</td>\n",
       "      <td>ActiveDirectory</td>\n",
       "      <td>6</td>\n",
       "      <td>48511</td>\n",
       "      <td>445</td>\n",
       "    </tr>\n",
       "    <tr>\n",
       "      <th>3</th>\n",
       "      <td>7314370</td>\n",
       "      <td>47</td>\n",
       "      <td>Comp399174</td>\n",
       "      <td>Comp704126</td>\n",
       "      <td>6</td>\n",
       "      <td>72838</td>\n",
       "      <td>445</td>\n",
       "    </tr>\n",
       "    <tr>\n",
       "      <th>4</th>\n",
       "      <td>7333359</td>\n",
       "      <td>15</td>\n",
       "      <td>Comp015598</td>\n",
       "      <td>ActiveDirectory</td>\n",
       "      <td>6</td>\n",
       "      <td>37611</td>\n",
       "      <td>445</td>\n",
       "    </tr>\n",
       "    <tr>\n",
       "      <th>5</th>\n",
       "      <td>7258900</td>\n",
       "      <td>1</td>\n",
       "      <td>Comp288359</td>\n",
       "      <td>Comp479002</td>\n",
       "      <td>6</td>\n",
       "      <td>24620</td>\n",
       "      <td>445</td>\n",
       "    </tr>\n",
       "    <tr>\n",
       "      <th>6</th>\n",
       "      <td>7281823</td>\n",
       "      <td>47226</td>\n",
       "      <td>Comp515096</td>\n",
       "      <td>Comp274690</td>\n",
       "      <td>6</td>\n",
       "      <td>25631</td>\n",
       "      <td>445</td>\n",
       "    </tr>\n",
       "    <tr>\n",
       "      <th>7</th>\n",
       "      <td>7309326</td>\n",
       "      <td>10</td>\n",
       "      <td>Comp422721</td>\n",
       "      <td>ActiveDirectory</td>\n",
       "      <td>6</td>\n",
       "      <td>55453</td>\n",
       "      <td>135</td>\n",
       "    </tr>\n",
       "    <tr>\n",
       "      <th>8</th>\n",
       "      <td>7280063</td>\n",
       "      <td>16</td>\n",
       "      <td>Comp784926</td>\n",
       "      <td>ActiveDirectory</td>\n",
       "      <td>6</td>\n",
       "      <td>24116</td>\n",
       "      <td>445</td>\n",
       "    </tr>\n",
       "    <tr>\n",
       "      <th>9</th>\n",
       "      <td>7276825</td>\n",
       "      <td>11</td>\n",
       "      <td>Comp989545</td>\n",
       "      <td>Comp712936</td>\n",
       "      <td>6</td>\n",
       "      <td>43860</td>\n",
       "      <td>445</td>\n",
       "    </tr>\n",
       "  </tbody>\n",
       "</table>\n",
       "</div>"
      ],
      "text/plain": [
       "   edge_epoch_time  edge_duration edge_src_device  edge_dst_device  \\\n",
       "0          7302914              0      Comp044772       Comp811836   \n",
       "1          7304884              2      Comp296454       Comp244393   \n",
       "2          7276124            318      Comp472185  ActiveDirectory   \n",
       "3          7314370             47      Comp399174       Comp704126   \n",
       "4          7333359             15      Comp015598  ActiveDirectory   \n",
       "5          7258900              1      Comp288359       Comp479002   \n",
       "6          7281823          47226      Comp515096       Comp274690   \n",
       "7          7309326             10      Comp422721  ActiveDirectory   \n",
       "8          7280063             16      Comp784926  ActiveDirectory   \n",
       "9          7276825             11      Comp989545       Comp712936   \n",
       "\n",
       "   edge_protocol  edge_src_port  edge_dst_port  \n",
       "0              6          56710            445  \n",
       "1              6          10924            445  \n",
       "2              6          48511            445  \n",
       "3              6          72838            445  \n",
       "4              6          37611            445  \n",
       "5              6          24620            445  \n",
       "6              6          25631            445  \n",
       "7              6          55453            135  \n",
       "8              6          24116            445  \n",
       "9              6          43860            445  "
      ]
     },
     "execution_count": 253,
     "metadata": {},
     "output_type": "execute_result"
    }
   ],
   "source": [
    "data1 = data.get_data_pandas()\n",
    "data1[0:10]"
   ]
  },
  {
   "cell_type": "code",
   "execution_count": 254,
   "metadata": {},
   "outputs": [
    {
     "data": {
      "text/plain": [
       "'PTTflow (edges): 5,210,584'"
      ]
     },
     "execution_count": 254,
     "metadata": {},
     "output_type": "execute_result"
    }
   ],
   "source": [
    "#Count of PTTFlow Edges Created\n",
    "data=None\n",
    "if ptt_flow.num_edges == 0:\n",
    "    print(\"PTTFlow is empty\")\n",
    "elif ptt_flow.num_edges <= 1000:\n",
    "    data = ptt_flow.get_data_pandas()\n",
    "else:\n",
    "    data = 'PTTflow (edges): {:,}'.format(ptt_flow.num_edges)\n",
    "data"
   ]
  },
  {
   "cell_type": "code",
   "execution_count": 255,
   "metadata": {},
   "outputs": [
    {
     "data": {
      "text/plain": [
       "<xgt.graph.EdgeFrame at 0x7fc9bae06950>"
      ]
     },
     "execution_count": 255,
     "metadata": {},
     "output_type": "execute_result"
    }
   ],
   "source": [
    "#Create TGT_RES_Events Edge Frames \n",
    "try:\n",
    "  tgt_req_events = conn.get_edge_frame('TGT_REQ_Events')\n",
    "except xgt.XgtNameError:\n",
    "  tgt_req_events = conn.create_edge_frame(\n",
    "           name='TGT_REQ_Events',\n",
    "           schema = [['epoch_time',xgt.INT],\n",
    "                     ['event_id',xgt.INT],\n",
    "                     ['src',xgt.TEXT],\n",
    "                     ['destination',xgt.TEXT],\n",
    "                     ['is_attack',xgt.BOOLEAN]],\n",
    "            source = 'Devices',\n",
    "            target = 'Devices',\n",
    "            source_key = 'src',\n",
    "            target_key = 'destination')\n",
    "tgt_req_events"
   ]
  },
  {
   "cell_type": "code",
   "execution_count": 256,
   "metadata": {},
   "outputs": [
    {
     "name": "stdout",
     "output_type": "stream",
     "text": [
      "Launched job 1529\n",
      "Number of answers: 875,992\n",
      "CPU times: user 25.9 ms, sys: 6.38 ms, total: 32.3 ms\n",
      "Wall time: 1.14 s\n"
     ]
    }
   ],
   "source": [
    "%%time\n",
    "\n",
    "#Polulate TGT_REQ_Events EdgeFrames\n",
    "\n",
    "TGT_REQ_Query = \"\"\"\n",
    "MATCH (n1:Devices)-[r:AuthEvents]->(n2:Devices) \n",
    "WHERE r.event_id = 4768 \n",
    "CREATE (n1)-[r1:TGT_REQ_Events \n",
    "             {epoch_time:r.epoch_time, \n",
    "              event_id:r.event_id,\n",
    "              is_attack:TRUE}]->(n2) \n",
    "RETURN count(*)\n",
    "\"\"\"\n",
    "\n",
    "data = run_query(TGT_REQ_Query)\n",
    "print('Number of answers: {:,}'.format(data.get_data()[0][0]))"
   ]
  },
  {
   "cell_type": "code",
   "execution_count": 257,
   "metadata": {},
   "outputs": [
    {
     "name": "stdout",
     "output_type": "stream",
     "text": [
      "Print TGT_REQ Data\n",
      "Launched job 1559\n",
      "Number of answers: 7,276,387\n",
      "CPU times: user 14.8 s, sys: 233 ms, total: 15.1 s\n",
      "Wall time: 19.3 s\n"
     ]
    },
    {
     "data": {
      "text/html": [
       "<div>\n",
       "<style scoped>\n",
       "    .dataframe tbody tr th:only-of-type {\n",
       "        vertical-align: middle;\n",
       "    }\n",
       "\n",
       "    .dataframe tbody tr th {\n",
       "        vertical-align: top;\n",
       "    }\n",
       "\n",
       "    .dataframe thead th {\n",
       "        text-align: right;\n",
       "    }\n",
       "</style>\n",
       "<table border=\"1\" class=\"dataframe\">\n",
       "  <thead>\n",
       "    <tr style=\"text-align: right;\">\n",
       "      <th></th>\n",
       "      <th>edge_epoch_time</th>\n",
       "      <th>edge_event_id</th>\n",
       "      <th>edge_src</th>\n",
       "      <th>edge_destination</th>\n",
       "      <th>edge_is_attack</th>\n",
       "    </tr>\n",
       "  </thead>\n",
       "  <tbody>\n",
       "    <tr>\n",
       "      <th>0</th>\n",
       "      <td>7276387</td>\n",
       "      <td>4768</td>\n",
       "      <td>Comp377544</td>\n",
       "      <td>ActiveDirectory</td>\n",
       "      <td>True</td>\n",
       "    </tr>\n",
       "    <tr>\n",
       "      <th>1</th>\n",
       "      <td>7275528</td>\n",
       "      <td>4768</td>\n",
       "      <td>Comp377544</td>\n",
       "      <td>ActiveDirectory</td>\n",
       "      <td>True</td>\n",
       "    </tr>\n",
       "    <tr>\n",
       "      <th>2</th>\n",
       "      <td>7289111</td>\n",
       "      <td>4768</td>\n",
       "      <td>Comp377544</td>\n",
       "      <td>ActiveDirectory</td>\n",
       "      <td>True</td>\n",
       "    </tr>\n",
       "    <tr>\n",
       "      <th>3</th>\n",
       "      <td>7258327</td>\n",
       "      <td>4768</td>\n",
       "      <td>Comp511228</td>\n",
       "      <td>ActiveDirectory</td>\n",
       "      <td>True</td>\n",
       "    </tr>\n",
       "    <tr>\n",
       "      <th>4</th>\n",
       "      <td>7302059</td>\n",
       "      <td>4768</td>\n",
       "      <td>Comp916004</td>\n",
       "      <td>ActiveDirectory</td>\n",
       "      <td>True</td>\n",
       "    </tr>\n",
       "    <tr>\n",
       "      <th>5</th>\n",
       "      <td>7257645</td>\n",
       "      <td>4768</td>\n",
       "      <td>Comp755918</td>\n",
       "      <td>ActiveDirectory</td>\n",
       "      <td>True</td>\n",
       "    </tr>\n",
       "    <tr>\n",
       "      <th>6</th>\n",
       "      <td>7291179</td>\n",
       "      <td>4768</td>\n",
       "      <td>Comp791826</td>\n",
       "      <td>ActiveDirectory</td>\n",
       "      <td>True</td>\n",
       "    </tr>\n",
       "    <tr>\n",
       "      <th>7</th>\n",
       "      <td>7276433</td>\n",
       "      <td>4768</td>\n",
       "      <td>Comp377544</td>\n",
       "      <td>ActiveDirectory</td>\n",
       "      <td>True</td>\n",
       "    </tr>\n",
       "    <tr>\n",
       "      <th>8</th>\n",
       "      <td>7301462</td>\n",
       "      <td>4768</td>\n",
       "      <td>Comp234343</td>\n",
       "      <td>ActiveDirectory</td>\n",
       "      <td>True</td>\n",
       "    </tr>\n",
       "    <tr>\n",
       "      <th>9</th>\n",
       "      <td>7296895</td>\n",
       "      <td>4768</td>\n",
       "      <td>Comp916004</td>\n",
       "      <td>ActiveDirectory</td>\n",
       "      <td>True</td>\n",
       "    </tr>\n",
       "  </tbody>\n",
       "</table>\n",
       "</div>"
      ],
      "text/plain": [
       "   edge_epoch_time  edge_event_id    edge_src edge_destination  edge_is_attack\n",
       "0          7276387           4768  Comp377544  ActiveDirectory            True\n",
       "1          7275528           4768  Comp377544  ActiveDirectory            True\n",
       "2          7289111           4768  Comp377544  ActiveDirectory            True\n",
       "3          7258327           4768  Comp511228  ActiveDirectory            True\n",
       "4          7302059           4768  Comp916004  ActiveDirectory            True\n",
       "5          7257645           4768  Comp755918  ActiveDirectory            True\n",
       "6          7291179           4768  Comp791826  ActiveDirectory            True\n",
       "7          7276433           4768  Comp377544  ActiveDirectory            True\n",
       "8          7301462           4768  Comp234343  ActiveDirectory            True\n",
       "9          7296895           4768  Comp916004  ActiveDirectory            True"
      ]
     },
     "execution_count": 257,
     "metadata": {},
     "output_type": "execute_result"
    }
   ],
   "source": [
    "%%time\n",
    "\n",
    "# retrieve the answer rows to the client in a pandas frame\n",
    "print(\"Print TGT_REQ Data\")\n",
    "\n",
    "Query_TGT_REQ_Data = \"\"\"\n",
    "MATCH (n1:Devices)-[edge:TGT_REQ_Events]->(n2:Devices) \n",
    "RETURN edge.epoch_time,\n",
    "       edge.event_id,\n",
    "       edge.src,\n",
    "       edge.destination,\n",
    "       edge.is_attack\n",
    "\"\"\"\n",
    "data = run_query(Query_TGT_REQ_Data)\n",
    "print('Number of answers: {:,}'.format(data.get_data()[0][0]))\n",
    "\n",
    "data1 = data.get_data_pandas()\n",
    "data1[0:10]"
   ]
  },
  {
   "cell_type": "code",
   "execution_count": 258,
   "metadata": {},
   "outputs": [
    {
     "data": {
      "text/plain": [
       "<xgt.graph.EdgeFrame at 0x7fc96fe851d0>"
      ]
     },
     "execution_count": 258,
     "metadata": {},
     "output_type": "execute_result"
    }
   ],
   "source": [
    "#Create SERVICE_REQ_Events Edge Frames \n",
    "\n",
    "try:\n",
    "  service_req_events = conn.get_edge_frame('SERVICE_REQ_Events')\n",
    "except xgt.XgtNameError:\n",
    "  service_req_events = conn.create_edge_frame(\n",
    "           name='SERVICE_REQ_Events',\n",
    "           schema = [['epoch_time',xgt.INT],\n",
    "                     ['event_id',xgt.INT],\n",
    "                     ['src',xgt.TEXT],\n",
    "                     ['destination',xgt.TEXT],\n",
    "                     ['is_attack',xgt.BOOLEAN]],\n",
    "            source = 'Devices',\n",
    "            target = 'Devices',\n",
    "            source_key = 'src',\n",
    "            target_key = 'destination')\n",
    "service_req_events"
   ]
  },
  {
   "cell_type": "code",
   "execution_count": 259,
   "metadata": {},
   "outputs": [
    {
     "name": "stdout",
     "output_type": "stream",
     "text": [
      "Launched job 1587\n",
      "Number of answers: 2,271,788\n",
      "CPU times: user 29 ms, sys: 4.26 ms, total: 33.2 ms\n",
      "Wall time: 2.83 s\n"
     ]
    }
   ],
   "source": [
    "%%time\n",
    "\n",
    "#Polulate SERVICE_REQ_Events EdgeFrames\n",
    "\n",
    "SERVICE_REQ_Query = \"\"\"\n",
    "MATCH (n1:Devices)-[r:AuthEvents]->(n2:Devices) \n",
    "WHERE r.event_id = 4769 \n",
    "CREATE (n1)-[r1:SERVICE_REQ_Events \n",
    "             {epoch_time:r.epoch_time, \n",
    "              event_id:r.event_id,\n",
    "              is_attack:TRUE}]->(n2) \n",
    "RETURN count(*)\n",
    "\"\"\"\n",
    "data = run_query(SERVICE_REQ_Query)\n",
    "print('Number of answers: {:,}'.format(data.get_data()[0][0]))"
   ]
  },
  {
   "cell_type": "code",
   "execution_count": 260,
   "metadata": {},
   "outputs": [
    {
     "name": "stdout",
     "output_type": "stream",
     "text": [
      "Print SERVICE_REQ Data\n",
      "Launched job 1590\n",
      "CPU times: user 19 s, sys: 449 ms, total: 19.4 s\n",
      "Wall time: 24.6 s\n"
     ]
    },
    {
     "data": {
      "text/html": [
       "<div>\n",
       "<style scoped>\n",
       "    .dataframe tbody tr th:only-of-type {\n",
       "        vertical-align: middle;\n",
       "    }\n",
       "\n",
       "    .dataframe tbody tr th {\n",
       "        vertical-align: top;\n",
       "    }\n",
       "\n",
       "    .dataframe thead th {\n",
       "        text-align: right;\n",
       "    }\n",
       "</style>\n",
       "<table border=\"1\" class=\"dataframe\">\n",
       "  <thead>\n",
       "    <tr style=\"text-align: right;\">\n",
       "      <th></th>\n",
       "      <th>edge_epoch_time</th>\n",
       "      <th>edge_event_id</th>\n",
       "      <th>edge_src</th>\n",
       "      <th>edge_destination</th>\n",
       "      <th>edge_is_attack</th>\n",
       "    </tr>\n",
       "  </thead>\n",
       "  <tbody>\n",
       "    <tr>\n",
       "      <th>0</th>\n",
       "      <td>7314279</td>\n",
       "      <td>4769</td>\n",
       "      <td>Comp987304</td>\n",
       "      <td>ActiveDirectory</td>\n",
       "      <td>True</td>\n",
       "    </tr>\n",
       "    <tr>\n",
       "      <th>1</th>\n",
       "      <td>7265685</td>\n",
       "      <td>4769</td>\n",
       "      <td>Comp916004</td>\n",
       "      <td>ActiveDirectory</td>\n",
       "      <td>True</td>\n",
       "    </tr>\n",
       "    <tr>\n",
       "      <th>2</th>\n",
       "      <td>7291876</td>\n",
       "      <td>4769</td>\n",
       "      <td>Comp548524</td>\n",
       "      <td>ActiveDirectory</td>\n",
       "      <td>True</td>\n",
       "    </tr>\n",
       "    <tr>\n",
       "      <th>3</th>\n",
       "      <td>7284663</td>\n",
       "      <td>4769</td>\n",
       "      <td>Comp307913</td>\n",
       "      <td>ActiveDirectory</td>\n",
       "      <td>True</td>\n",
       "    </tr>\n",
       "    <tr>\n",
       "      <th>4</th>\n",
       "      <td>7291202</td>\n",
       "      <td>4769</td>\n",
       "      <td>Comp415540</td>\n",
       "      <td>ActiveDirectory</td>\n",
       "      <td>True</td>\n",
       "    </tr>\n",
       "    <tr>\n",
       "      <th>5</th>\n",
       "      <td>7274697</td>\n",
       "      <td>4769</td>\n",
       "      <td>Comp916004</td>\n",
       "      <td>ActiveDirectory</td>\n",
       "      <td>True</td>\n",
       "    </tr>\n",
       "    <tr>\n",
       "      <th>6</th>\n",
       "      <td>7297042</td>\n",
       "      <td>4769</td>\n",
       "      <td>Comp195375</td>\n",
       "      <td>ActiveDirectory</td>\n",
       "      <td>True</td>\n",
       "    </tr>\n",
       "    <tr>\n",
       "      <th>7</th>\n",
       "      <td>7308754</td>\n",
       "      <td>4769</td>\n",
       "      <td>Comp372126</td>\n",
       "      <td>ActiveDirectory</td>\n",
       "      <td>True</td>\n",
       "    </tr>\n",
       "    <tr>\n",
       "      <th>8</th>\n",
       "      <td>7266534</td>\n",
       "      <td>4769</td>\n",
       "      <td>Comp415540</td>\n",
       "      <td>ActiveDirectory</td>\n",
       "      <td>True</td>\n",
       "    </tr>\n",
       "    <tr>\n",
       "      <th>9</th>\n",
       "      <td>7297067</td>\n",
       "      <td>4769</td>\n",
       "      <td>Comp780583</td>\n",
       "      <td>ActiveDirectory</td>\n",
       "      <td>True</td>\n",
       "    </tr>\n",
       "  </tbody>\n",
       "</table>\n",
       "</div>"
      ],
      "text/plain": [
       "   edge_epoch_time  edge_event_id    edge_src edge_destination  edge_is_attack\n",
       "0          7314279           4769  Comp987304  ActiveDirectory            True\n",
       "1          7265685           4769  Comp916004  ActiveDirectory            True\n",
       "2          7291876           4769  Comp548524  ActiveDirectory            True\n",
       "3          7284663           4769  Comp307913  ActiveDirectory            True\n",
       "4          7291202           4769  Comp415540  ActiveDirectory            True\n",
       "5          7274697           4769  Comp916004  ActiveDirectory            True\n",
       "6          7297042           4769  Comp195375  ActiveDirectory            True\n",
       "7          7308754           4769  Comp372126  ActiveDirectory            True\n",
       "8          7266534           4769  Comp415540  ActiveDirectory            True\n",
       "9          7297067           4769  Comp780583  ActiveDirectory            True"
      ]
     },
     "execution_count": 260,
     "metadata": {},
     "output_type": "execute_result"
    }
   ],
   "source": [
    "%%time\n",
    "\n",
    "# retrieve the answer rows to the client in a pandas frame\n",
    "print(\"Print SERVICE_REQ Data\")\n",
    "\n",
    "Query_SERVICE_REQ_Data = \"\"\"\n",
    "MATCH (n1:Devices)-[edge:SERVICE_REQ_Events]->(n2:Devices) \n",
    "RETURN edge.epoch_time,\n",
    "       edge.event_id,\n",
    "       edge.src,\n",
    "       edge.destination,\n",
    "       edge.is_attack\n",
    "\"\"\"\n",
    "data = run_query(Query_SERVICE_REQ_Data)\n",
    "#print('Number of answers: {:,}'.format(data.get_data()[0][0]))\n",
    "data1 = data.get_data_pandas()\n",
    "data1[0:10]"
   ]
  },
  {
   "cell_type": "code",
   "execution_count": 261,
   "metadata": {},
   "outputs": [
    {
     "name": "stdout",
     "output_type": "stream",
     "text": [
      "\n",
      "MATCH (n1:Devices)-[r1:SERVICE_REQ_Events]->(n2:Devices), (n1)-[r2:TGT_REQ_Events]->(n2) \n",
      "WHERE r2.epoch_time <= r1.epoch_time \n",
      "AND r1.epoch_time - r2.epoch_time < 3600\n",
      "SET r1.is_attack=FALSE\n",
      "RETURN r1.src,r1.destination,r2.destination,r1.epoch_time,r2.epoch_time\n",
      "LIMIT 1000\n",
      "\n",
      "Launched job 1645\n",
      "Number of answers: 1,000\n",
      "CPU times: user 48.6 s, sys: 4.69 s, total: 53.3 s\n",
      "Wall time: 2h 26min 59s\n"
     ]
    }
   ],
   "source": [
    "%%time\n",
    "EPOCH_TIME_DIFF_THRESHOLD = 3600\n",
    "\n",
    "Valid_tgt = \"\"\"\n",
    "MATCH (n1:Devices)-[r1:SERVICE_REQ_Events]->(n2:Devices), (n1)-[r2:TGT_REQ_Events]->(n2) \n",
    "WHERE r2.epoch_time <= r1.epoch_time \n",
    "AND r1.epoch_time - r2.epoch_time < {0}\n",
    "SET r1.is_attack=FALSE\n",
    "RETURN r1.src,r1.destination,r2.destination,r1.epoch_time,r2.epoch_time\n",
    "LIMIT 1000\n",
    "\"\"\".format(EPOCH_TIME_DIFF_THRESHOLD)\n",
    "\n",
    "print(Valid_tgt)\n",
    "answer_table = run_query(Valid_tgt)\n",
    "print('Number of answers: {:,}'.format(answer_table.num_rows))"
   ]
  },
  {
   "cell_type": "code",
   "execution_count": 262,
   "metadata": {},
   "outputs": [
    {
     "name": "stdout",
     "output_type": "stream",
     "text": [
      "\n",
      "MATCH (n1:Devices)-[r1:SERVICE_REQ_Events]->(n2:Devices), (n1)-[r2:PTTFlow]->(n3:Devices) \n",
      "WHERE r1.is_attack=TRUE \n",
      "AND n2 <> n3 \n",
      "AND r1.epoch_time <= r2.epoch_time \n",
      "AND r2.epoch_time - r1.epoch_time < 300 \n",
      "RETURN r1.src,r1.destination,r2.dst_device,r1.epoch_time,r2.epoch_time\n",
      "LIMIT 1000\n",
      "\n",
      "Launched job 89005\n",
      "Number of answers: 1,000\n",
      "CPU times: user 40.6 ms, sys: 20 ms, total: 60.7 ms\n",
      "Wall time: 19.1 s\n"
     ]
    }
   ],
   "source": [
    "%%time\n",
    "LATERAL_MOVEMENT_HOP_THRESHOLD = 300 \n",
    "\n",
    "Final_PTT_ATTACK_Query = \"\"\"\n",
    "MATCH (n1:Devices)-[r1:SERVICE_REQ_Events]->(n2:Devices), (n1)-[r2:PTTFlow]->(n3:Devices) \n",
    "WHERE r1.is_attack=TRUE \n",
    "AND n2 <> n3 \n",
    "AND r1.epoch_time <= r2.epoch_time \n",
    "AND r2.epoch_time - r1.epoch_time < {0} \n",
    "RETURN r1.src,r1.destination,r2.dst_device,r1.epoch_time,r2.epoch_time\n",
    "LIMIT 1000\n",
    "\"\"\".format(LATERAL_MOVEMENT_HOP_THRESHOLD)\n",
    "\n",
    "print(Final_PTT_ATTACK_Query)\n",
    "answer_table = run_query(Final_PTT_ATTACK_Query)\n",
    "print('Number of answers: {:,}'.format(answer_table.num_rows))"
   ]
  },
  {
   "cell_type": "code",
   "execution_count": null,
   "metadata": {},
   "outputs": [],
   "source": []
  }
 ],
 "metadata": {
  "kernelspec": {
   "display_name": "python_3_7",
   "language": "python",
   "name": "python_3_7"
  },
  "language_info": {
   "codemirror_mode": {
    "name": "ipython",
    "version": 3
   },
   "file_extension": ".py",
   "mimetype": "text/x-python",
   "name": "python",
   "nbconvert_exporter": "python",
   "pygments_lexer": "ipython3",
   "version": "3.7.4"
  }
 },
 "nbformat": 4,
 "nbformat_minor": 2
}
