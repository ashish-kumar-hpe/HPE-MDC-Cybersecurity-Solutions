{
 "cells": [
  {
   "cell_type": "code",
   "execution_count": 21,
   "metadata": {},
   "outputs": [],
   "source": [
    "import xgt\n",
    "import os"
   ]
  },
  {
   "cell_type": "code",
   "execution_count": 22,
   "metadata": {},
   "outputs": [],
   "source": [
    "if os.environ.get('https_proxy'):\n",
    " del os.environ['https_proxy']\n",
    "if os.environ.get('http_proxy'):\n",
    " del os.environ['http_proxy']"
   ]
  },
  {
   "cell_type": "code",
   "execution_count": 23,
   "metadata": {},
   "outputs": [
    {
     "data": {
      "text/plain": [
       "'1.2.0'"
      ]
     },
     "execution_count": 23,
     "metadata": {},
     "output_type": "execute_result"
    }
   ],
   "source": [
    "conn = xgt.Connection()\n",
    "conn.server_version"
   ]
  },
  {
   "cell_type": "code",
   "execution_count": 24,
   "metadata": {},
   "outputs": [
    {
     "data": {
      "text/plain": [
       "<xgt.graph.VertexFrame at 0x7f3274380438>"
      ]
     },
     "execution_count": 24,
     "metadata": {},
     "output_type": "execute_result"
    }
   ],
   "source": [
    "try:\n",
    "  devices = conn.get_vertex_frame('Devices')\n",
    "except xgt.XgtNameError:\n",
    "  devices = conn.create_vertex_frame(\n",
    "              name='Devices',\n",
    "              schema=[['device', xgt.TEXT]],\n",
    "              key='device')\n",
    "devices"
   ]
  },
  {
   "cell_type": "code",
   "execution_count": 25,
   "metadata": {},
   "outputs": [
    {
     "data": {
      "text/plain": [
       "<xgt.graph.EdgeFrame at 0x7f3274382390>"
      ]
     },
     "execution_count": 25,
     "metadata": {},
     "output_type": "execute_result"
    }
   ],
   "source": [
    "try:\n",
    "  netflow = conn.get_edge_frame('Netflow')\n",
    "except xgt.XgtNameError:\n",
    "  netflow = conn.create_edge_frame(\n",
    "            name='Netflow',\n",
    "            schema=[['epochtime', xgt.INT],\n",
    "                    ['duration', xgt.INT],\n",
    "                    ['srcDevice', xgt.TEXT],\n",
    "                    ['dstDevice', xgt.TEXT],\n",
    "                    ['protocol', xgt.INT],\n",
    "                    ['srcPort', xgt.INT],\n",
    "                    ['dstPort', xgt.INT],\n",
    "                    ['srcPackets', xgt.INT],\n",
    "                    ['dstPackets', xgt.INT],\n",
    "                    ['srcBytes', xgt.INT],\n",
    "                    ['dstBytes', xgt.INT]],\n",
    "            source=devices,\n",
    "            target=devices,\n",
    "            source_key='srcDevice',\n",
    "            target_key='dstDevice')\n",
    "netflow"
   ]
  },
  {
   "cell_type": "code",
   "execution_count": 26,
   "metadata": {},
   "outputs": [
    {
     "data": {
      "text/plain": [
       "<xgt.graph.EdgeFrame at 0x7f32743827f0>"
      ]
     },
     "execution_count": 26,
     "metadata": {},
     "output_type": "execute_result"
    }
   ],
   "source": [
    "try:\n",
    "  events1v = conn.get_edge_frame('Events1v')\n",
    "except xgt.XgtNameError:\n",
    "  events1v = conn.create_edge_frame(\n",
    "           name='Events1v',\n",
    "           schema=[['epochtime', xgt.INT],\n",
    "                   ['eventID', xgt.INT],\n",
    "                   ['logHost', xgt.TEXT],\n",
    "                   ['userName', xgt.TEXT],\n",
    "                   ['domainName', xgt.TEXT],\n",
    "                   ['logonID', xgt.INT],\n",
    "                   ['processName', xgt.TEXT],\n",
    "                   ['processID', xgt.INT],\n",
    "                   ['parentProcessName', xgt.TEXT],\n",
    "                   ['parentProcessID', xgt.INT]],\n",
    "           source=devices,\n",
    "           target=devices,\n",
    "           source_key='logHost',\n",
    "           target_key='logHost')\n",
    "events1v"
   ]
  },
  {
   "cell_type": "code",
   "execution_count": 27,
   "metadata": {},
   "outputs": [
    {
     "name": "stdout",
     "output_type": "stream",
     "text": [
      "Devices (vertices): 933,314\n",
      "Netflow (edges): 17,882,795,024\n",
      "Host event (edges): 1,468,936,024\n"
     ]
    }
   ],
   "source": [
    "# Utility to print the data sizes currently in xGT\n",
    "def print_data_summary():\n",
    "  print('Devices (vertices): {:,}'.format(devices.num_vertices))\n",
    "  print('Netflow (edges): {:,}'.format(netflow.num_edges))\n",
    "  print('Host event (edges): {:,}'.format(events1v.num_edges))\n",
    "\n",
    "print_data_summary()"
   ]
  },
  {
   "cell_type": "code",
   "execution_count": 28,
   "metadata": {
    "scrolled": true
   },
   "outputs": [
    {
     "name": "stdout",
     "output_type": "stream",
     "text": [
      "CPU times: user 0 ns, sys: 1.02 ms, total: 1.02 ms\n",
      "Wall time: 614 µs\n"
     ]
    }
   ],
   "source": [
    "%%time\n",
    "if events1v.num_edges == 0:\n",
    "    # urls = [\"https://datasets.trovares.com/LANL/xgt/wls_day-04_1v.csv\"]\n",
    "    # urls = [\"https://datasets.trovares.com/LANL/xgt/wls_day-85_1v.csv\"]\n",
    "    urls = [\"xgtd://wls_day-{:02d}_1v.csv\".format(_) for _ in range(2,91)]\n",
    "    events1v.load(urls)"
   ]
  },
  {
   "cell_type": "code",
   "execution_count": 29,
   "metadata": {},
   "outputs": [
    {
     "name": "stdout",
     "output_type": "stream",
     "text": [
      "CPU times: user 807 µs, sys: 183 µs, total: 990 µs\n",
      "Wall time: 541 µs\n"
     ]
    }
   ],
   "source": [
    "%%time\n",
    "if netflow.num_edges == 0:\n",
    "    # urls = [\"https://datasets.trovares.com/LANL/xgt/nf_day-04.csv\"]\n",
    "    # urls = [\"https://datasets.trovares.com/LANL/xgt/nf_day-85.csv\"]\n",
    "    urls = [\"xgtd://nf_day-{:02d}.csv\".format(_) for _ in range(2,91)]    \n",
    "    netflow.load(urls)"
   ]
  },
  {
   "cell_type": "code",
   "execution_count": 30,
   "metadata": {},
   "outputs": [
    {
     "data": {
      "text/plain": [
       "<xgt.graph.EdgeFrame at 0x7f3274380d68>"
      ]
     },
     "execution_count": 30,
     "metadata": {},
     "output_type": "execute_result"
    }
   ],
   "source": [
    "# Generate a new edge frame for holding only the C2 (Command and Control) edges\n",
    "conn.drop_frame('C2flow')\n",
    "c2flow = conn.create_edge_frame(\n",
    "            name='C2flow',\n",
    "            schema=netflow.schema,\n",
    "            source=devices,\n",
    "            target=devices,\n",
    "            source_key='srcDevice',\n",
    "            target_key='dstDevice')\n",
    "c2flow"
   ]
  },
  {
   "cell_type": "code",
   "execution_count": 31,
   "metadata": {},
   "outputs": [],
   "source": [
    "# Utility method to execute query\n",
    "\n",
    "def run_query(query, table_name = \"answers\", show_query=False):\n",
    "    conn.drop_frame(table_name)\n",
    "    if query[-1] != '\\n':\n",
    "        query += '\\n'\n",
    "    query += 'INTO {}'.format(table_name)\n",
    "    if show_query:\n",
    "        print(\"Query:\\n\" + query)\n",
    "    job = conn.schedule_job(query)\n",
    "    print(\"Launched job {}\".format(job.id))\n",
    "    conn.wait_for_job(job)\n",
    "    table = conn.get_table_frame(table_name)\n",
    "    return table"
   ]
  },
  {
   "cell_type": "code",
   "execution_count": 32,
   "metadata": {
    "scrolled": true
   },
   "outputs": [
    {
     "name": "stdout",
     "output_type": "stream",
     "text": [
      "Launched job 20\n",
      "Number of answers: 4,249\n",
      "CPU times: user 87.7 ms, sys: 32.4 ms, total: 120 ms\n",
      "Wall time: 59.6 s\n"
     ]
    }
   ],
   "source": [
    "%%time\n",
    "\n",
    "# A \"forward\" edge is one where the dstPort = 3128. This edge is copied verbatim to the C2flow edge frame.\n",
    "q = \"\"\"\n",
    "MATCH (v0)-[edge:Netflow]->(v1)\n",
    "WHERE edge.dstPort=3128\n",
    "CREATE (v0)-[e:C2flow {epochtime : edge.epochtime,\n",
    "  duration : edge.duration, protocol : edge.protocol,\n",
    "  srcPort : edge.srcPort, dstPort : edge.dstPort,\n",
    "  srcPackets : edge.srcPackets, dstPackets : edge.dstPackets,\n",
    "  srcBytes : edge.srcBytes, dstBytes : edge.dstBytes}]->(v1)\n",
    "RETURN count(*)\n",
    "\"\"\"\n",
    "r = run_query(q)\n",
    "print('Number of answers: ' + '{:,}'.format(r.get_data()[0][0]))"
   ]
  },
  {
   "cell_type": "code",
   "execution_count": 33,
   "metadata": {},
   "outputs": [
    {
     "name": "stdout",
     "output_type": "stream",
     "text": [
      "Launched job 23\n",
      "Number of answers: 261,834\n",
      "CPU times: user 87.8 ms, sys: 24 ms, total: 112 ms\n",
      "Wall time: 59.6 s\n"
     ]
    }
   ],
   "source": [
    "%%time\n",
    "\n",
    "# A \"reverse\" edge is one where the srcPort = 3128\n",
    "q = \"\"\"\n",
    "MATCH (v0)-[edge:Netflow]->(v1)\n",
    "WHERE edge.srcPort=3128\n",
    "CREATE (v1)-[e:C2flow {epochtime : edge.epochtime,\n",
    "  duration : edge.duration, protocol : edge.protocol,\n",
    "  srcPort : edge.dstPort, dstPort : edge.srcPort,\n",
    "  srcPackets : edge.dstPackets, dstPackets : edge.srcPackets,\n",
    "  srcBytes : edge.dstBytes, dstBytes : edge.srcBytes}]->(v0)\n",
    "RETURN count(*)\n",
    "\"\"\"\n",
    "r = run_query(q)\n",
    "print('Number of answers: ' + '{:,}'.format(r.get_data()[0][0]))"
   ]
  },
  {
   "cell_type": "code",
   "execution_count": 34,
   "metadata": {},
   "outputs": [
    {
     "name": "stdout",
     "output_type": "stream",
     "text": [
      "Launched job 26\n",
      "Number of boot, programstart, & c2 events: 5,084\n",
      "CPU times: user 191 ms, sys: 56.7 ms, total: 248 ms\n",
      "Wall time: 3min 34s\n"
     ]
    }
   ],
   "source": [
    "%%time\n",
    "\n",
    "# We begin the pattern description with the boot and program start events followed by a C2flow edge from our preprocessing\n",
    "\n",
    "q = \"\"\"\n",
    "MATCH (A)-[boot:Events1v]->(A)-[program:Events1v]->(A)\n",
    "        -[c2:C2flow]->(B)\n",
    "WHERE A <> B\n",
    "  AND boot.eventID = 4608\n",
    "  AND program.eventID = 4688\n",
    "  AND program.epochtime >= boot.epochtime\n",
    "  AND c2.epochtime >= program.epochtime\n",
    "  AND c2.epochtime - boot.epochtime < 4\n",
    "RETURN COUNT(*)\n",
    "\"\"\"\n",
    "# Note the overall time limit on the sequence of the three events\n",
    "\n",
    "r = run_query(q)\n",
    "print('Number of boot, programstart, & c2 events: ' + '{:,}'.format(r.get_data()[0][0]))"
   ]
  },
  {
   "cell_type": "code",
   "execution_count": 35,
   "metadata": {},
   "outputs": [
    {
     "name": "stdout",
     "output_type": "stream",
     "text": [
      "Launched job 29\n",
      "Number of zombie reboot events: 986,440\n",
      "CPU times: user 4.77 s, sys: 1.41 s, total: 6.18 s\n",
      "Wall time: 54min 36s\n"
     ]
    }
   ],
   "source": [
    "%%time\n",
    "\n",
    "# Zombie-Reboot pattern\n",
    "q = \"\"\"\n",
    "MATCH (A)-[boot:Events1v]->(A)-[program:Events1v]->(A)\n",
    "    -[c2:C2flow]->(B)-[nf2:Netflow]->(C)\n",
    "WHERE A <> B AND B <> C AND A <> C\n",
    "  AND boot.eventID = 4608\n",
    "  AND program.eventID = 4688\n",
    "  AND program.epochtime >= boot.epochtime\n",
    "  AND c2.epochtime >= program.epochtime\n",
    "  AND c2.epochtime - boot.epochtime < 4\n",
    "  AND nf2.duration >= 3600\n",
    "  AND nf2.epochtime < boot.epochtime\n",
    "  AND nf2.epochtime + nf2.duration >= c2.epochtime\n",
    "RETURN COUNT(*)\n",
    "\"\"\"\n",
    "\n",
    "r = run_query(q)\n",
    "print('Number of zombie reboot events: ' + '{:,}'.format(r.get_data()[0][0]))"
   ]
  }
 ],
 "metadata": {
  "kernelspec": {
   "display_name": "Python_3_6",
   "language": "python",
   "name": "python_3_6"
  },
  "language_info": {
   "codemirror_mode": {
    "name": "ipython",
    "version": 3
   },
   "file_extension": ".py",
   "mimetype": "text/x-python",
   "name": "python",
   "nbconvert_exporter": "python",
   "pygments_lexer": "ipython3",
   "version": "3.6.9"
  }
 },
 "nbformat": 4,
 "nbformat_minor": 2
}
