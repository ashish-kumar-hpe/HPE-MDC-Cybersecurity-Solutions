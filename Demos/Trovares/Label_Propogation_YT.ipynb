{
 "cells": [
  {
   "cell_type": "code",
   "execution_count": 68,
   "metadata": {},
   "outputs": [],
   "source": [
    "#Import neo4j Database Driver\n",
    "\n",
    "from neo4j import GraphDatabase\n",
    "import time"
   ]
  },
  {
   "cell_type": "code",
   "execution_count": 69,
   "metadata": {},
   "outputs": [],
   "source": [
    "# Get Connection to neo4j\n",
    "\n",
    "uri = 'bolt://localhost:7687'\n",
    "username = 'neo4j'\n",
    "password = 'graph'\n",
    "\n",
    "neo4j_driver = GraphDatabase.driver(uri, auth=(username,password))"
   ]
  },
  {
   "cell_type": "code",
   "execution_count": 70,
   "metadata": {
    "scrolled": true
   },
   "outputs": [
    {
     "name": "stdout",
     "output_type": "stream",
     "text": [
      "\n"
     ]
    }
   ],
   "source": [
    "#Create the YT Graph\n",
    "\n",
    "Create_Query = \"LOAD CSV WITH HEADERS FROM 'file:///root/YT_Data/user_relations1.csv' AS line MERGE (n:YT_User {Name:line.user1}) MERGE (m:YT_User {Name:line.user2}) MERGE (n) -[:uploads_similar_to]-> (m)\"\n",
    "\n",
    "start = time.time()\n",
    "with neo4j_driver.session() as neo4j_Session:\n",
    "    neo4j_Session.run(Create_Query)\n",
    "print()"
   ]
  },
  {
   "cell_type": "code",
   "execution_count": 60,
   "metadata": {},
   "outputs": [],
   "source": [
    "#Delete self loops and nodes without any edges\n",
    "\n",
    "Delete_loops_Query = \"MATCH (n:YT_User)-[r:uploads_similar_to]->(n) DELETE r\"\n",
    "Delete_leafroot_nodes_Query = \"MATCH (n:YT_User) WHERE NOT((n)-->(:YT_User)) AND NOT((n)<--(:YT_User)) DELETE n\"\n",
    "\n",
    "with neo4j_driver.session() as neo4j_Session:\n",
    "    neo4j_Session.run(Delete_loops_Query)\n",
    "    neo4j_Session.run(Delete_leafroot_nodes_Query)"
   ]
  },
  {
   "cell_type": "code",
   "execution_count": null,
   "metadata": {},
   "outputs": [],
   "source": [
    "#Run label Propogation\n",
    "\n",
    "LP_Query = \"CALL algo.labelPropagation.stream('YT_User', 'uploads_similar_to', { iterations: 100 }) YIELD nodeId, label RETURN label, collect(algo.getNodeById(nodeId).Name) AS Users ORDER BY size(Users) DESC\"\n",
    "\n",
    "with neo4j_driver.session() as neo4j_Session:\n",
    "    result = neo4j_Session.run(LP_Query)"
   ]
  },
  {
   "cell_type": "code",
   "execution_count": null,
   "metadata": {},
   "outputs": [],
   "source": [
    "groups = result.data()"
   ]
  },
  {
   "cell_type": "code",
   "execution_count": null,
   "metadata": {},
   "outputs": [],
   "source": [
    "print(groups)"
   ]
  },
  {
   "cell_type": "code",
   "execution_count": null,
   "metadata": {},
   "outputs": [],
   "source": []
  }
 ],
 "metadata": {
  "kernelspec": {
   "display_name": "Python 3",
   "language": "python",
   "name": "python3"
  },
  "language_info": {
   "codemirror_mode": {
    "name": "ipython",
    "version": 3
   },
   "file_extension": ".py",
   "mimetype": "text/x-python",
   "name": "python",
   "nbconvert_exporter": "python",
   "pygments_lexer": "ipython3",
   "version": "3.6.9"
  }
 },
 "nbformat": 4,
 "nbformat_minor": 2
}
