{
 "cells": [
  {
   "cell_type": "code",
   "execution_count": 134,
   "metadata": {},
   "outputs": [
    {
     "name": "stdout",
     "output_type": "stream",
     "text": [
      "3.7.4\n"
     ]
    }
   ],
   "source": [
    "import xgt\n",
    "import os\n",
    "import pandas\n",
    "\n",
    "from platform import python_version\n",
    "print (python_version())"
   ]
  },
  {
   "cell_type": "code",
   "execution_count": 135,
   "metadata": {},
   "outputs": [],
   "source": [
    "if os.environ.get('https_proxy'):\n",
    " del os.environ['https_proxy']\n",
    "if os.environ.get('http_proxy'):\n",
    " del os.environ['http_proxy']"
   ]
  },
  {
   "cell_type": "code",
   "execution_count": 136,
   "metadata": {},
   "outputs": [
    {
     "data": {
      "text/plain": [
       "'1.3.0'"
      ]
     },
     "execution_count": 136,
     "metadata": {},
     "output_type": "execute_result"
    }
   ],
   "source": [
    "conn=xgt.Connection()\n",
    "conn.server_version"
   ]
  },
  {
   "cell_type": "code",
   "execution_count": 137,
   "metadata": {},
   "outputs": [
    {
     "data": {
      "text/plain": [
       "<xgt.graph.VertexFrame at 0x7f6ae44fd390>"
      ]
     },
     "execution_count": 137,
     "metadata": {},
     "output_type": "execute_result"
    }
   ],
   "source": [
    "try:\n",
    "  devices = conn.get_vertex_frame('Devices')\n",
    "except xgt.XgtNameError:\n",
    "  devices = conn.create_vertex_frame(\n",
    "      name='Devices',\n",
    "      schema=[['device', xgt.TEXT]],\n",
    "      key='device')\n",
    "devices"
   ]
  },
  {
   "cell_type": "code",
   "execution_count": 140,
   "metadata": {},
   "outputs": [
    {
     "data": {
      "text/plain": [
       "<xgt.graph.EdgeFrame at 0x7f6ae44bec50>"
      ]
     },
     "execution_count": 140,
     "metadata": {},
     "output_type": "execute_result"
    }
   ],
   "source": [
    "try:\n",
    "  netflow = conn.get_edge_frame('Netflow')\n",
    "except xgt.XgtNameError:\n",
    "  netflow = conn.create_edge_frame(\n",
    "      name='Netflow',\n",
    "      schema=[['epoch_time', xgt.INT],\n",
    "              ['duration', xgt.INT],\n",
    "              ['src_device', xgt.TEXT],\n",
    "              ['dst_device', xgt.TEXT],\n",
    "              ['protocol', xgt.INT],\n",
    "              ['src_port', xgt.INT],\n",
    "              ['dst_port', xgt.INT],\n",
    "              ['src_packets', xgt.INT],\n",
    "              ['dst_packets', xgt.INT],\n",
    "              ['src_bytes', xgt.INT],\n",
    "              ['dst_bytes', xgt.INT]],\n",
    "      source=devices,\n",
    "      target=devices,\n",
    "      source_key='src_device',\n",
    "      target_key='dst_device')\n",
    "netflow"
   ]
  },
  {
   "cell_type": "code",
   "execution_count": 139,
   "metadata": {},
   "outputs": [
    {
     "data": {
      "text/plain": [
       "<xgt.graph.EdgeFrame at 0x7f6ae44bc590>"
      ]
     },
     "execution_count": 139,
     "metadata": {},
     "output_type": "execute_result"
    }
   ],
   "source": [
    "try:\n",
    "  host_events = conn.get_edge_frame('HostEvents')\n",
    "except xgt.XgtNameError:\n",
    "  host_events = conn.create_edge_frame(\n",
    "      name='HostEvents',\n",
    "      schema=[['epoch_time', xgt.INT],\n",
    "              ['event_id', xgt.INT],\n",
    "              ['log_host', xgt.TEXT],\n",
    "              ['user_name', xgt.TEXT],\n",
    "              ['domain_name', xgt.TEXT],\n",
    "              ['logon_id', xgt.INT],\n",
    "              ['process_name', xgt.TEXT],\n",
    "              ['process_id', xgt.INT],\n",
    "              ['parent_process_name', xgt.TEXT],\n",
    "              ['parent_process_id', xgt.INT]],\n",
    "           source=devices,\n",
    "           target=devices,\n",
    "           source_key='log_host',\n",
    "           target_key='log_host')\n",
    "host_events"
   ]
  },
  {
   "cell_type": "code",
   "execution_count": 138,
   "metadata": {},
   "outputs": [
    {
     "data": {
      "text/plain": [
       "<xgt.graph.EdgeFrame at 0x7f6ae44be150>"
      ]
     },
     "execution_count": 138,
     "metadata": {},
     "output_type": "execute_result"
    }
   ],
   "source": [
    "try:\n",
    "  auth_events = conn.get_edge_frame('AuthEvents')\n",
    "except xgt.XgtNameError:\n",
    "  auth_events = conn.create_edge_frame(\n",
    "           name='AuthEvents',\n",
    "           schema = [['epoch_time',xgt.INT],\n",
    "                     ['event_id',xgt.INT],\n",
    "                     ['log_host',xgt.TEXT],\n",
    "                     ['logon_type',xgt.INT],\n",
    "                     ['logon_type_description',xgt.TEXT],\n",
    "                     ['user_name',xgt.TEXT],\n",
    "                     ['domain_name',xgt.TEXT],\n",
    "                     ['logon_id',xgt.INT],\n",
    "                     ['subject_user_name',xgt.TEXT],\n",
    "                     ['subject_domain_name',xgt.TEXT],\n",
    "                     ['subject_logon_id',xgt.TEXT],\n",
    "                     ['status',xgt.TEXT],\n",
    "                     ['src',xgt.TEXT],\n",
    "                     ['service_name',xgt.TEXT],\n",
    "                     ['destination',xgt.TEXT],\n",
    "                     ['authentication_package',xgt.TEXT],\n",
    "                     ['failure_reason',xgt.TEXT],\n",
    "                     ['process_name',xgt.TEXT],\n",
    "                     ['process_id',xgt.INT],\n",
    "                     ['parent_process_name',xgt.TEXT],\n",
    "                     ['parent_process_id',xgt.INT]],\n",
    "            source = devices,\n",
    "            target = devices,\n",
    "            source_key = 'src',\n",
    "            target_key = 'destination')\n",
    "auth_events"
   ]
  },
  {
   "cell_type": "code",
   "execution_count": 141,
   "metadata": {},
   "outputs": [
    {
     "name": "stdout",
     "output_type": "stream",
     "text": [
      "Devices (vertices): 0\n",
      "Netflow (edges): 0\n",
      "Host events (edges): 0\n",
      "Authentication events (edges): 0\n",
      "Total (edges): 0\n"
     ]
    }
   ],
   "source": [
    "# Utility to print the sizes of data currently in xGT\n",
    "def print_data_summary():\n",
    "  print('Devices (vertices): {:,}'.format(devices.num_vertices))\n",
    "  print('Netflow (edges): {:,}'.format(netflow.num_edges))\n",
    "  print('Host events (edges): {:,}'.format(host_events.num_edges))\n",
    "  print('Authentication events (edges): {:,}'.format(auth_events.num_edges))\n",
    "  print('Total (edges): {:,}'.format(\n",
    "      netflow.num_edges + host_events.num_edges + auth_events.num_edges))\n",
    "    \n",
    "print_data_summary()"
   ]
  },
  {
   "cell_type": "code",
   "execution_count": 110,
   "metadata": {
    "scrolled": true
   },
   "outputs": [
    {
     "name": "stdout",
     "output_type": "stream",
     "text": [
      "Devices (vertices): 10,324\n",
      "Netflow (edges): 0\n",
      "Host events (edges): 18,637,483\n",
      "Authentication events (edges): 0\n",
      "Total (edges): 18,637,483\n",
      "CPU times: user 127 ms, sys: 50.3 ms, total: 178 ms\n",
      "Wall time: 15.1 s\n"
     ]
    }
   ],
   "source": [
    "%%time\n",
    "\n",
    "# Load the HostEvents event data:\n",
    "if host_events.num_edges == 0:\n",
    "    # urls = [\"https://datasets.trovares.com/LANL/xgt/wls_day-85_1v.csv\"]\n",
    "    # urls = [\"xgtd://nvme_data1/data_1v/wls_day-{:02d}_1v.csv\".format(_) for _ in range(2,91)]\n",
    "    urls = [\"xgtd:///nvme_data1/data_1v/wls_day-85_1v.csv\"]\n",
    "    # urls = [\"xgtd://data_1v/wls_day-11_1v.csv\"]\n",
    "    host_events.load(urls)\n",
    "    print_data_summary()"
   ]
  },
  {
   "cell_type": "code",
   "execution_count": 142,
   "metadata": {
    "scrolled": true
   },
   "outputs": [
    {
     "name": "stdout",
     "output_type": "stream",
     "text": [
      "Devices (vertices): 12,288\n",
      "Netflow (edges): 0\n",
      "Host events (edges): 0\n",
      "Authentication events (edges): 47,790,045\n",
      "Total (edges): 47,790,045\n",
      "CPU times: user 269 ms, sys: 94.5 ms, total: 363 ms\n",
      "Wall time: 33.4 s\n"
     ]
    }
   ],
   "source": [
    "%%time\n",
    "\n",
    "# Load the AuthEvents event data:\n",
    "if auth_events.num_edges == 0:\n",
    "    # urls = [\"https://datasets.trovares.com/LANL/xgt/wls_day-85_2v.csv\"]\n",
    "    # urls = [\"xgtd://nvme_data9/data_2v/wls_day-{:02d}_2v.csv\".format(_) for _ in range(2,91)]\n",
    "    urls = [\"xgtd:///nvme_data9/data_2v/wls_day-85_2v.csv\"]\n",
    "    #urls = [\"xgtd://data_2v/wls_day-11_2v.csv\"]\n",
    "    auth_events.load(urls)\n",
    "    print_data_summary()"
   ]
  },
  {
   "cell_type": "code",
   "execution_count": 91,
   "metadata": {},
   "outputs": [
    {
     "name": "stdout",
     "output_type": "stream",
     "text": [
      "CPU times: user 0 ns, sys: 779 µs, total: 779 µs\n",
      "Wall time: 650 µs\n"
     ]
    }
   ],
   "source": [
    "%%time\n",
    "\n",
    "# Load the netflow data:\n",
    "if netflow.num_edges == 0:\n",
    "    #urls = [\"https://datasets.trovares.com/LANL/xgt/nf_day-85.csv\"]\n",
    "    # urls = [\"xgtd://nvme_data1/data_nf/nf_day-{:02d}.csv\".format(_) for _ in range(2,91)]\n",
    "    urls = [\"xgtd:///nvme_data1/data_nf/nf_day-85.csv\"]\n",
    "    # urls = [\"xgtd://nvme_data1/data_nf/nf_day-11.csv\"]\n",
    "    netflow.load(urls)\n",
    "    print_data_summary()"
   ]
  },
  {
   "cell_type": "code",
   "execution_count": 143,
   "metadata": {},
   "outputs": [],
   "source": [
    "# Utility function to launch queries and show job number:\n",
    "#   The job number may be useful if a long-running job needs\n",
    "#   to be canceled.\n",
    "\n",
    "def run_query(query, table_name = \"answers8\", drop_answer_table=True, show_query=True):\n",
    "    if drop_answer_table:\n",
    "        conn.drop_frame(table_name)\n",
    "    if query[-1] != '\\n':\n",
    "        query += '\\n'\n",
    "    query += 'INTO {}'.format(table_name)\n",
    "    if show_query:\n",
    "        print(\"Query:\\n\" + query)\n",
    "    job = conn.schedule_job(query)\n",
    "    print(\"Launched job {}\".format(job.id))\n",
    "    conn.wait_for_job(job)\n",
    "    table = conn.get_table_frame(table_name)\n",
    "    return table"
   ]
  },
  {
   "cell_type": "code",
   "execution_count": 144,
   "metadata": {},
   "outputs": [
    {
     "data": {
      "text/plain": [
       "<xgt.graph.EdgeFrame at 0x7f6ae44b6bd0>"
      ]
     },
     "execution_count": 144,
     "metadata": {},
     "output_type": "execute_result"
    }
   ],
   "source": [
    "# Generate a new edge frame for holding only the tgt_req_events edges\n",
    "import time\n",
    "query_start_time = time.time()\n",
    "\n",
    "conn.drop_frame('tgt_req_events')\n",
    "TGT_Req = conn.create_edge_frame(\n",
    "            name='tgt_req_events',\n",
    "            schema=auth_events.schema,\n",
    "            source=devices,\n",
    "            target=devices,\n",
    "            source_key='src',\n",
    "            target_key='destination')\n",
    "TGT_Req"
   ]
  },
  {
   "cell_type": "code",
   "execution_count": 145,
   "metadata": {},
   "outputs": [
    {
     "data": {
      "text/plain": [
       "<xgt.graph.EdgeFrame at 0x7f6ae44c5a10>"
      ]
     },
     "execution_count": 145,
     "metadata": {},
     "output_type": "execute_result"
    }
   ],
   "source": [
    "# Generate a new edge frame for holding only the service_ticket_req edges\n",
    "import time\n",
    "query_start_time = time.time()\n",
    "\n",
    "conn.drop_frame('service_ticket_req')\n",
    "Service_Req = conn.create_edge_frame(\n",
    "            name='service_ticket_req',\n",
    "            schema=auth_events.schema,\n",
    "            source=devices,\n",
    "            target=devices,\n",
    "            source_key='src',\n",
    "            target_key='destination')\n",
    "Service_Req"
   ]
  },
  {
   "cell_type": "code",
   "execution_count": 146,
   "metadata": {},
   "outputs": [
    {
     "name": "stdout",
     "output_type": "stream",
     "text": [
      "Query:\n",
      "\n",
      "MATCH (n1:Devices)-[r:AuthEvents]->(n2:Devices)\n",
      "WHERE r.event_id = 4768\n",
      "CREATE (n1)-[r1:tgt_req_events {epoch_time:r.epoch_time, \n",
      "event_id:r.event_id,\n",
      "log_host:r.log_host, \n",
      "logon_type:r.logon_type,\n",
      "logon_type_description:r.logon_type_description, \n",
      "user_name:r.user_name,\n",
      "domain_name:r.domain_name, \n",
      "logon_id:r.logon_id,\n",
      "subject_user_name:r.subject_user_name, \n",
      "subject_domain_name:r.subject_domain_name,\n",
      "subject_logon_id:r.subject_logon_id, \n",
      "status:r.status,\n",
      "service_name:r.service_name,\n",
      "authentication_package:r.authentication_package,\n",
      "failure_reason: r.failure_reason, \n",
      "process_name:r.process_name,\n",
      "process_id:r.process_id, \n",
      "parent_process_name:r.parent_process_name,\n",
      "parent_process_id:r.parent_process_id}]->(n2)\n",
      "RETURN count(*)\n",
      "INTO answers8\n",
      "Launched job 305\n",
      "Number of answers: 875,992\n",
      "CPU times: user 57.5 ms, sys: 27.6 ms, total: 85.1 ms\n",
      "Wall time: 5.59 s\n"
     ]
    }
   ],
   "source": [
    "%%time\n",
    "\n",
    "#Filter out all the Nodes in which 4768(TGT request has been logged)\n",
    "\n",
    "q = \"\"\"\n",
    "MATCH (n1:Devices)-[r:AuthEvents]->(n2:Devices)\n",
    "WHERE r.event_id = 4768\n",
    "CREATE (n1)-[r1:tgt_req_events {epoch_time:r.epoch_time, \n",
    "event_id:r.event_id,\n",
    "log_host:r.log_host, \n",
    "logon_type:r.logon_type,\n",
    "logon_type_description:r.logon_type_description, \n",
    "user_name:r.user_name,\n",
    "domain_name:r.domain_name, \n",
    "logon_id:r.logon_id,\n",
    "subject_user_name:r.subject_user_name, \n",
    "subject_domain_name:r.subject_domain_name,\n",
    "subject_logon_id:r.subject_logon_id, \n",
    "status:r.status,\n",
    "service_name:r.service_name,\n",
    "authentication_package:r.authentication_package,\n",
    "failure_reason: r.failure_reason, \n",
    "process_name:r.process_name,\n",
    "process_id:r.process_id, \n",
    "parent_process_name:r.parent_process_name,\n",
    "parent_process_id:r.parent_process_id}]->(n2)\n",
    "RETURN count(*)\n",
    "\"\"\"\n",
    "data = run_query(q)\n",
    "print('Number of answers: {:,}'.format(data.get_data()[0][0]))"
   ]
  },
  {
   "cell_type": "code",
   "execution_count": 147,
   "metadata": {},
   "outputs": [
    {
     "name": "stdout",
     "output_type": "stream",
     "text": [
      "Query:\n",
      "\n",
      "MATCH (n1:Devices)-[r:AuthEvents]->(n2:Devices)\n",
      "WHERE r.event_id = 4769\n",
      "CREATE (n1)-[r1:service_ticket_req {epoch_time:r.epoch_time, \n",
      "event_id:r.event_id,\n",
      "log_host:r.log_host, \n",
      "logon_type:r.logon_type,\n",
      "logon_type_description:r.logon_type_description, \n",
      "user_name:r.user_name,\n",
      "domain_name:r.domain_name, \n",
      "logon_id:r.logon_id,\n",
      "subject_user_name:r.subject_user_name, \n",
      "subject_domain_name:r.subject_domain_name,\n",
      "subject_logon_id:r.subject_logon_id, \n",
      "status:r.status,\n",
      "service_name:r.service_name,\n",
      "authentication_package:r.authentication_package,\n",
      "failure_reason: r.failure_reason, \n",
      "process_name:r.process_name,\n",
      "process_id:r.process_id, \n",
      "parent_process_name:r.parent_process_name,\n",
      "parent_process_id:r.parent_process_id}]->(n2)\n",
      "RETURN count(*)\n",
      "INTO answers8\n",
      "Launched job 340\n",
      "Number of answers: 2,271,788\n",
      "CPU times: user 52.9 ms, sys: 27.8 ms, total: 80.6 ms\n",
      "Wall time: 9.24 s\n"
     ]
    }
   ],
   "source": [
    "%%time\n",
    "\n",
    "#Filter out all the Nodes in which 4769(Service ticket request has been logged)\n",
    "\n",
    "q = \"\"\"\n",
    "MATCH (n1:Devices)-[r:AuthEvents]->(n2:Devices)\n",
    "WHERE r.event_id = 4769\n",
    "CREATE (n1)-[r1:service_ticket_req {epoch_time:r.epoch_time, \n",
    "event_id:r.event_id,\n",
    "log_host:r.log_host, \n",
    "logon_type:r.logon_type,\n",
    "logon_type_description:r.logon_type_description, \n",
    "user_name:r.user_name,\n",
    "domain_name:r.domain_name, \n",
    "logon_id:r.logon_id,\n",
    "subject_user_name:r.subject_user_name, \n",
    "subject_domain_name:r.subject_domain_name,\n",
    "subject_logon_id:r.subject_logon_id, \n",
    "status:r.status,\n",
    "service_name:r.service_name,\n",
    "authentication_package:r.authentication_package,\n",
    "failure_reason: r.failure_reason, \n",
    "process_name:r.process_name,\n",
    "process_id:r.process_id, \n",
    "parent_process_name:r.parent_process_name,\n",
    "parent_process_id:r.parent_process_id}]->(n2)\n",
    "RETURN count(*)\n",
    "\"\"\"\n",
    "data = run_query(q)\n",
    "print('Number of answers: {:,}'.format(data.get_data()[0][0]))"
   ]
  },
  {
   "cell_type": "code",
   "execution_count": 148,
   "metadata": {},
   "outputs": [
    {
     "data": {
      "text/plain": [
       "'service_ticket_req (edges): 2,271,788'"
      ]
     },
     "execution_count": 148,
     "metadata": {},
     "output_type": "execute_result"
    }
   ],
   "source": [
    "data=None\n",
    "if Service_Req.num_edges == 0:\n",
    "    print(\"service_ticket_req is empty\")\n",
    "elif Service_Req.num_edges <= 1000:\n",
    "    data = Service_Req.get_data_pandas()\n",
    "else:\n",
    "    data = 'service_ticket_req (edges): {:,}'.format(Service_Req.num_edges)\n",
    "data"
   ]
  },
  {
   "cell_type": "code",
   "execution_count": 149,
   "metadata": {},
   "outputs": [
    {
     "name": "stdout",
     "output_type": "stream",
     "text": [
      "Devices (vertices): 12,288\n",
      "Netflow (edges): 0\n",
      "Host events (edges): 0\n",
      "Authentication events (edges): 47,790,045\n",
      "Total (edges): 47,790,045\n",
      "service_ticket_req (edges): 2,271,788\n"
     ]
    }
   ],
   "source": [
    "# Utility to print the data sizes currently in xGT\n",
    "def print_netflow_data_summary():\n",
    "  print_data_summary()\n",
    "  print('service_ticket_req (edges): {:,}'.format(Service_Req.num_edges))\n",
    "\n",
    "print_netflow_data_summary()"
   ]
  },
  {
   "cell_type": "code",
   "execution_count": 151,
   "metadata": {
    "scrolled": true
   },
   "outputs": [
    {
     "name": "stdout",
     "output_type": "stream",
     "text": [
      "Query:\n",
      "\n",
      "MATCH (n1:Devices)-[r1:tgt_req_events]->(n2:Devices)\n",
      "WHERE r1.epoch_time > 0\n",
      "DELETE r1\n",
      "RETURN count(*)\n",
      "INTO answers8\n",
      "Launched job 472\n",
      "Number of answers: 1\n"
     ]
    }
   ],
   "source": [
    "# Delete all the service_ticket_req relationships which does not have tgt_req_events with in the interval\n",
    "\n",
    "q = \"\"\"\n",
    "MATCH (n1:Devices)-[r1:tgt_req_events]->(n2:Devices)\n",
    "WHERE r1.epoch_time > 0\n",
    "DELETE r1\n",
    "RETURN count(*)\n",
    "\"\"\"\n",
    "\n",
    "\n",
    "answer_table_1 = run_query(q)\n",
    "print('Number of answers: {:,}'.format(answer_table_1.num_rows))"
   ]
  },
  {
   "cell_type": "code",
   "execution_count": 152,
   "metadata": {},
   "outputs": [
    {
     "name": "stdout",
     "output_type": "stream",
     "text": [
      "Query:\n",
      "\n",
      "MATCH (n1:Devices)-[r1:service_ticket_req]->(n2:Devices)<-[r2:tgt_req_events]-(n1)\n",
      "WHERE r1.src = r2.src\n",
      "AND r1.epoch_time > r2.epoch_time\n",
      "AND r1.epoch_time - r2.epoch_time < 60      \n",
      "DELETE r1, r2\n",
      "RETURN count(*)\n",
      "INTO answers8\n"
     ]
    },
    {
     "ename": "XgtInternalError",
     "evalue": "Low level error occured. More information in the 'detail' field.",
     "output_type": "error",
     "traceback": [
      "\u001b[0;31m---------------------------------------------------------------------------\u001b[0m",
      "\u001b[0;31mXgtInternalError\u001b[0m                          Traceback (most recent call last)",
      "\u001b[0;32m<ipython-input-152-e6b760b7cba0>\u001b[0m in \u001b[0;36m<module>\u001b[0;34m\u001b[0m\n\u001b[1;32m      9\u001b[0m \u001b[0;34m\u001b[0m\u001b[0m\n\u001b[1;32m     10\u001b[0m \u001b[0;34m\u001b[0m\u001b[0m\n\u001b[0;32m---> 11\u001b[0;31m \u001b[0manswer_table_1\u001b[0m \u001b[0;34m=\u001b[0m \u001b[0mrun_query\u001b[0m\u001b[0;34m(\u001b[0m\u001b[0mq\u001b[0m\u001b[0;34m)\u001b[0m\u001b[0;34m\u001b[0m\u001b[0;34m\u001b[0m\u001b[0m\n\u001b[0m\u001b[1;32m     12\u001b[0m \u001b[0mprint\u001b[0m\u001b[0;34m(\u001b[0m\u001b[0;34m'Number of answers: {:,}'\u001b[0m\u001b[0;34m.\u001b[0m\u001b[0mformat\u001b[0m\u001b[0;34m(\u001b[0m\u001b[0manswer_table_1\u001b[0m\u001b[0;34m.\u001b[0m\u001b[0mnum_rows\u001b[0m\u001b[0;34m)\u001b[0m\u001b[0;34m)\u001b[0m\u001b[0;34m\u001b[0m\u001b[0;34m\u001b[0m\u001b[0m\n",
      "\u001b[0;32m<ipython-input-143-4567225eb038>\u001b[0m in \u001b[0;36mrun_query\u001b[0;34m(query, table_name, drop_answer_table, show_query)\u001b[0m\n\u001b[1;32m     11\u001b[0m     \u001b[0;32mif\u001b[0m \u001b[0mshow_query\u001b[0m\u001b[0;34m:\u001b[0m\u001b[0;34m\u001b[0m\u001b[0;34m\u001b[0m\u001b[0m\n\u001b[1;32m     12\u001b[0m         \u001b[0mprint\u001b[0m\u001b[0;34m(\u001b[0m\u001b[0;34m\"Query:\\n\"\u001b[0m \u001b[0;34m+\u001b[0m \u001b[0mquery\u001b[0m\u001b[0;34m)\u001b[0m\u001b[0;34m\u001b[0m\u001b[0;34m\u001b[0m\u001b[0m\n\u001b[0;32m---> 13\u001b[0;31m     \u001b[0mjob\u001b[0m \u001b[0;34m=\u001b[0m \u001b[0mconn\u001b[0m\u001b[0;34m.\u001b[0m\u001b[0mschedule_job\u001b[0m\u001b[0;34m(\u001b[0m\u001b[0mquery\u001b[0m\u001b[0;34m)\u001b[0m\u001b[0;34m\u001b[0m\u001b[0;34m\u001b[0m\u001b[0m\n\u001b[0m\u001b[1;32m     14\u001b[0m     \u001b[0mprint\u001b[0m\u001b[0;34m(\u001b[0m\u001b[0;34m\"Launched job {}\"\u001b[0m\u001b[0;34m.\u001b[0m\u001b[0mformat\u001b[0m\u001b[0;34m(\u001b[0m\u001b[0mjob\u001b[0m\u001b[0;34m.\u001b[0m\u001b[0mid\u001b[0m\u001b[0;34m)\u001b[0m\u001b[0;34m)\u001b[0m\u001b[0;34m\u001b[0m\u001b[0;34m\u001b[0m\u001b[0m\n\u001b[1;32m     15\u001b[0m     \u001b[0mconn\u001b[0m\u001b[0;34m.\u001b[0m\u001b[0mwait_for_job\u001b[0m\u001b[0;34m(\u001b[0m\u001b[0mjob\u001b[0m\u001b[0;34m)\u001b[0m\u001b[0;34m\u001b[0m\u001b[0;34m\u001b[0m\u001b[0m\n",
      "\u001b[0;32m~/Python_3_7/lib/python3.7/site-packages/xgt/connection.py\u001b[0m in \u001b[0;36mschedule_job\u001b[0;34m(self, query, optlevel)\u001b[0m\n\u001b[1;32m   1053\u001b[0m     \u001b[0mrequest\u001b[0m\u001b[0;34m.\u001b[0m\u001b[0mcypher_query\u001b[0m\u001b[0;34m.\u001b[0m\u001b[0mextend\u001b[0m\u001b[0;34m(\u001b[0m\u001b[0;34m[\u001b[0m\u001b[0mquery\u001b[0m\u001b[0;34m]\u001b[0m\u001b[0;34m)\u001b[0m\u001b[0;34m\u001b[0m\u001b[0;34m\u001b[0m\u001b[0m\n\u001b[1;32m   1054\u001b[0m     \u001b[0mrequest\u001b[0m\u001b[0;34m.\u001b[0m\u001b[0moptimization_level\u001b[0m \u001b[0;34m=\u001b[0m \u001b[0moptlevel\u001b[0m\u001b[0;34m\u001b[0m\u001b[0;34m\u001b[0m\u001b[0m\n\u001b[0;32m-> 1055\u001b[0;31m     \u001b[0mresponse\u001b[0m \u001b[0;34m=\u001b[0m \u001b[0mself\u001b[0m\u001b[0;34m.\u001b[0m\u001b[0mcall\u001b[0m\u001b[0;34m(\u001b[0m\u001b[0mrequest\u001b[0m\u001b[0;34m,\u001b[0m \u001b[0mself\u001b[0m\u001b[0;34m.\u001b[0m\u001b[0m_job_svc\u001b[0m\u001b[0;34m.\u001b[0m\u001b[0mScheduleJobsCypher\u001b[0m\u001b[0;34m)\u001b[0m\u001b[0;34m\u001b[0m\u001b[0;34m\u001b[0m\u001b[0m\n\u001b[0m\u001b[1;32m   1056\u001b[0m     \u001b[0mone_job\u001b[0m \u001b[0;34m=\u001b[0m \u001b[0mresponse\u001b[0m\u001b[0;34m.\u001b[0m\u001b[0mjob_status\u001b[0m\u001b[0;34m[\u001b[0m\u001b[0;36m0\u001b[0m\u001b[0;34m]\u001b[0m\u001b[0;34m\u001b[0m\u001b[0;34m\u001b[0m\u001b[0m\n\u001b[1;32m   1057\u001b[0m     \u001b[0;32mreturn\u001b[0m \u001b[0mJob\u001b[0m\u001b[0;34m(\u001b[0m\u001b[0mself\u001b[0m\u001b[0;34m,\u001b[0m \u001b[0mone_job\u001b[0m\u001b[0;34m.\u001b[0m\u001b[0mjob_id\u001b[0m\u001b[0;34m)\u001b[0m\u001b[0;34m\u001b[0m\u001b[0;34m\u001b[0m\u001b[0m\n",
      "\u001b[0;32m~/Python_3_7/lib/python3.7/site-packages/xgt/connection.py\u001b[0m in \u001b[0;36mcall\u001b[0;34m(self, request, rpc_function)\u001b[0m\n\u001b[1;32m    202\u001b[0m     \u001b[0;32mexcept\u001b[0m \u001b[0mTypeError\u001b[0m\u001b[0;34m:\u001b[0m\u001b[0;34m\u001b[0m\u001b[0;34m\u001b[0m\u001b[0m\n\u001b[1;32m    203\u001b[0m       \u001b[0;32mpass\u001b[0m\u001b[0;34m\u001b[0m\u001b[0;34m\u001b[0m\u001b[0m\n\u001b[0;32m--> 204\u001b[0;31m     \u001b[0m_assert_noerrors\u001b[0m\u001b[0;34m(\u001b[0m\u001b[0mresponse\u001b[0m\u001b[0;34m)\u001b[0m\u001b[0;34m\u001b[0m\u001b[0;34m\u001b[0m\u001b[0m\n\u001b[0m\u001b[1;32m    205\u001b[0m     \u001b[0;32mreturn\u001b[0m \u001b[0mresponse\u001b[0m\u001b[0;34m\u001b[0m\u001b[0;34m\u001b[0m\u001b[0m\n\u001b[1;32m    206\u001b[0m \u001b[0;34m\u001b[0m\u001b[0m\n",
      "\u001b[0;32m~/Python_3_7/lib/python3.7/site-packages/xgt/common.py\u001b[0m in \u001b[0;36m_assert_noerrors\u001b[0;34m(response)\u001b[0m\n\u001b[1;32m    172\u001b[0m       \u001b[0merror_code_name\u001b[0m \u001b[0;34m=\u001b[0m \u001b[0merr_proto\u001b[0m\u001b[0;34m.\u001b[0m\u001b[0mErrorCodeEnum\u001b[0m\u001b[0;34m.\u001b[0m\u001b[0mName\u001b[0m\u001b[0;34m(\u001b[0m\u001b[0merror\u001b[0m\u001b[0;34m.\u001b[0m\u001b[0mcode\u001b[0m\u001b[0;34m)\u001b[0m\u001b[0;34m\u001b[0m\u001b[0;34m\u001b[0m\u001b[0m\n\u001b[1;32m    173\u001b[0m       \u001b[0merror_class\u001b[0m \u001b[0;34m=\u001b[0m \u001b[0m_code_error_map\u001b[0m\u001b[0;34m[\u001b[0m\u001b[0merror_code_name\u001b[0m\u001b[0;34m]\u001b[0m\u001b[0;34m\u001b[0m\u001b[0;34m\u001b[0m\u001b[0m\n\u001b[0;32m--> 174\u001b[0;31m       \u001b[0;32mraise\u001b[0m \u001b[0merror_class\u001b[0m\u001b[0;34m(\u001b[0m\u001b[0merror\u001b[0m\u001b[0;34m.\u001b[0m\u001b[0mmessage\u001b[0m\u001b[0;34m,\u001b[0m \u001b[0merror\u001b[0m\u001b[0;34m.\u001b[0m\u001b[0mdetail\u001b[0m\u001b[0;34m)\u001b[0m\u001b[0;34m\u001b[0m\u001b[0;34m\u001b[0m\u001b[0m\n\u001b[0m\u001b[1;32m    175\u001b[0m     \u001b[0;32mexcept\u001b[0m \u001b[0mXgtError\u001b[0m\u001b[0;34m:\u001b[0m\u001b[0;34m\u001b[0m\u001b[0;34m\u001b[0m\u001b[0m\n\u001b[1;32m    176\u001b[0m       \u001b[0;32mraise\u001b[0m\u001b[0;34m\u001b[0m\u001b[0;34m\u001b[0m\u001b[0m\n",
      "\u001b[0;31mXgtInternalError\u001b[0m: Low level error occured. More information in the 'detail' field."
     ]
    }
   ],
   "source": [
    "q = \"\"\"\n",
    "MATCH (n1:Devices)-[r1:service_ticket_req]->(n2:Devices)<-[r2:tgt_req_events]-(n1)\n",
    "WHERE r1.src = r2.src\n",
    "AND r1.epoch_time > r2.epoch_time\n",
    "AND r1.epoch_time - r2.epoch_time < 60      \n",
    "DELETE r1, r2\n",
    "RETURN count(*)\n",
    "\"\"\"\n",
    "\n",
    "\n",
    "answer_table_1 = run_query(q)\n",
    "print('Number of answers: {:,}'.format(answer_table_1.num_rows))"
   ]
  },
  {
   "cell_type": "code",
   "execution_count": 131,
   "metadata": {},
   "outputs": [
    {
     "name": "stdout",
     "output_type": "stream",
     "text": [
      "Query:\n",
      "\n",
      "MATCH (n1:Devices)-[r1:service_ticket_req]->(n2:Devices),\n",
      "(n2)-[event:HostEvents]->(n2),\n",
      "(n1)-[r3:AuthEvents]->(n3:Devices),\n",
      "(n1)-[r4:Netflow]->(n3)\n",
      "WHERE event.event_id = 4688 AND event.process_name = \"lsass.exe\"\n",
      "AND r3.event_id = 4624\n",
      "AND r3.src = r1.src\n",
      "AND r3.destination = r1.service_name\n",
      "AND r3.authentication_package = \"Kerberos\"\n",
      "AND r1.epoch_time < r3.epoch_time\n",
      "AND r3.epoch_time - r1.epoch_time < 3600\n",
      "AND r4.src_device = r1.src\n",
      "AND r4.dst_device = r1.service_name\n",
      "AND r3.epoch_time < r4.epoch_time\n",
      "AND r4.epoch_time - r3.epoch_time < 200\n",
      "AND r4.duration < 300\n",
      "RETURN DISTINCT r1.epoch_time, r1.log_host, r1.src, r1.service_name, r1.authentication_package, r3.epoch_time, r4.epoch_time, r4.duration\n",
      "INTO answers7\n",
      "Launched job 778\n",
      "Number of answers: 0\n",
      "CPU times: user 7.22 ms, sys: 106 µs, total: 7.33 ms\n",
      "Wall time: 496 ms\n"
     ]
    }
   ],
   "source": [
    "%%time\n",
    "\n",
    "#Lateral Movement Query\n",
    "#time_threshold_between_step = 3600   # one hour\n",
    "#time_threshold_hijack = 180          # three minutes\n",
    "#time_threshold_one_step = 480        # eight minutes\n",
    "q = \"\"\"\n",
    "MATCH (n1:Devices)-[r1:service_ticket_req]->(n2:Devices),\n",
    "(n2)-[event:HostEvents]->(n2),\n",
    "(n1)-[r3:AuthEvents]->(n3:Devices),\n",
    "(n1)-[r4:Netflow]->(n3)\n",
    "WHERE event.event_id = 4688 AND event.process_name = \"lsass.exe\"\n",
    "AND r3.event_id = 4624\n",
    "AND r3.src = r1.src\n",
    "AND r3.destination = r1.service_name\n",
    "AND r3.authentication_package = \"Kerberos\"\n",
    "AND r1.epoch_time < r3.epoch_time\n",
    "AND r3.epoch_time - r1.epoch_time < 3600\n",
    "AND r4.src_device = r1.src\n",
    "AND r4.dst_device = r1.service_name\n",
    "AND r3.epoch_time < r4.epoch_time\n",
    "AND r4.epoch_time - r3.epoch_time < 200\n",
    "AND r4.duration < 300\n",
    "RETURN DISTINCT r1.epoch_time, r1.log_host, r1.src, r1.service_name, r1.authentication_package, r3.epoch_time, r4.epoch_time, r4.duration\n",
    "\"\"\"\n",
    "answer_table_2 = run_query(q)\n",
    "print('Number of answers: {:,}'.format(answer_table_2.num_rows))"
   ]
  },
  {
   "cell_type": "code",
   "execution_count": 132,
   "metadata": {},
   "outputs": [
    {
     "data": {
      "text/html": [
       "<div>\n",
       "<style scoped>\n",
       "    .dataframe tbody tr th:only-of-type {\n",
       "        vertical-align: middle;\n",
       "    }\n",
       "\n",
       "    .dataframe tbody tr th {\n",
       "        vertical-align: top;\n",
       "    }\n",
       "\n",
       "    .dataframe thead th {\n",
       "        text-align: right;\n",
       "    }\n",
       "</style>\n",
       "<table border=\"1\" class=\"dataframe\">\n",
       "  <thead>\n",
       "    <tr style=\"text-align: right;\">\n",
       "      <th></th>\n",
       "      <th>r1_epoch_time</th>\n",
       "      <th>r1_log_host</th>\n",
       "      <th>r1_src</th>\n",
       "      <th>r1_service_name</th>\n",
       "      <th>r1_authentication_package</th>\n",
       "      <th>r3_epoch_time</th>\n",
       "      <th>r4_epoch_time</th>\n",
       "      <th>r4_duration</th>\n",
       "    </tr>\n",
       "  </thead>\n",
       "  <tbody>\n",
       "  </tbody>\n",
       "</table>\n",
       "</div>"
      ],
      "text/plain": [
       "Empty DataFrame\n",
       "Columns: [r1_epoch_time, r1_log_host, r1_src, r1_service_name, r1_authentication_package, r3_epoch_time, r4_epoch_time, r4_duration]\n",
       "Index: []"
      ]
     },
     "execution_count": 132,
     "metadata": {},
     "output_type": "execute_result"
    }
   ],
   "source": [
    "# retrieve the answer rows to the client in a pandas frame\n",
    "data = answer_table_2.get_data_pandas()\n",
    "data[0:10]"
   ]
  },
  {
   "cell_type": "code",
   "execution_count": null,
   "metadata": {},
   "outputs": [],
   "source": [
    "# retrieve the answer rows to the client in a pandas frame\n",
    "data = answer_table_2.get_data_pandas()\n",
    "data[0:10]"
   ]
  },
  {
   "cell_type": "code",
   "execution_count": 25,
   "metadata": {},
   "outputs": [
    {
     "ename": "NameError",
     "evalue": "name 'answer_table_1' is not defined",
     "output_type": "error",
     "traceback": [
      "\u001b[0;31m---------------------------------------------------------------------------\u001b[0m",
      "\u001b[0;31mNameError\u001b[0m                                 Traceback (most recent call last)",
      "\u001b[0;32m<ipython-input-25-666302aca838>\u001b[0m in \u001b[0;36m<module>\u001b[0;34m\u001b[0m\n\u001b[0;32m----> 1\u001b[0;31m \u001b[0manswer_table_1\u001b[0m\u001b[0;34m.\u001b[0m\u001b[0mdetail\u001b[0m\u001b[0;34m\u001b[0m\u001b[0;34m\u001b[0m\u001b[0m\n\u001b[0m",
      "\u001b[0;31mNameError\u001b[0m: name 'answer_table_1' is not defined"
     ]
    }
   ],
   "source": [
    "answer_table_1.detail"
   ]
  },
  {
   "cell_type": "code",
   "execution_count": 24,
   "metadata": {},
   "outputs": [
    {
     "ename": "XgtInternalError",
     "evalue": "Low level error occured. More information in the 'detail' field.",
     "output_type": "error",
     "traceback": [
      "\u001b[0;31m---------------------------------------------------------------------------\u001b[0m",
      "\u001b[0;31mXgtInternalError\u001b[0m                          Traceback (most recent call last)",
      "\u001b[0;32m<ipython-input-24-ad5a86dd158c>\u001b[0m in \u001b[0;36m<module>\u001b[0;34m\u001b[0m\n\u001b[0;32m----> 1\u001b[0;31m \u001b[0mrun_query\u001b[0m\u001b[0;34m(\u001b[0m\u001b[0mq\u001b[0m\u001b[0;34m)\u001b[0m\u001b[0;34m\u001b[0m\u001b[0;34m\u001b[0m\u001b[0m\n\u001b[0m",
      "\u001b[0;32m<ipython-input-12-6093c2a35f1b>\u001b[0m in \u001b[0;36mrun_query\u001b[0;34m(query, table_name, drop_answer_table, show_query)\u001b[0m\n\u001b[1;32m     11\u001b[0m     \u001b[0;32mif\u001b[0m \u001b[0mshow_query\u001b[0m\u001b[0;34m:\u001b[0m\u001b[0;34m\u001b[0m\u001b[0;34m\u001b[0m\u001b[0m\n\u001b[1;32m     12\u001b[0m         \u001b[0mprint\u001b[0m\u001b[0;34m(\u001b[0m\u001b[0;34m\"Query:\\n\"\u001b[0m \u001b[0;34m+\u001b[0m \u001b[0mquery\u001b[0m\u001b[0;34m)\u001b[0m\u001b[0;34m\u001b[0m\u001b[0;34m\u001b[0m\u001b[0m\n\u001b[0;32m---> 13\u001b[0;31m     \u001b[0mjob\u001b[0m \u001b[0;34m=\u001b[0m \u001b[0mconn\u001b[0m\u001b[0;34m.\u001b[0m\u001b[0mschedule_job\u001b[0m\u001b[0;34m(\u001b[0m\u001b[0mquery\u001b[0m\u001b[0;34m)\u001b[0m\u001b[0;34m\u001b[0m\u001b[0;34m\u001b[0m\u001b[0m\n\u001b[0m\u001b[1;32m     14\u001b[0m     \u001b[0mprint\u001b[0m\u001b[0;34m(\u001b[0m\u001b[0;34m\"Launched job {}\"\u001b[0m\u001b[0;34m.\u001b[0m\u001b[0mformat\u001b[0m\u001b[0;34m(\u001b[0m\u001b[0mjob\u001b[0m\u001b[0;34m.\u001b[0m\u001b[0mid\u001b[0m\u001b[0;34m)\u001b[0m\u001b[0;34m)\u001b[0m\u001b[0;34m\u001b[0m\u001b[0;34m\u001b[0m\u001b[0m\n\u001b[1;32m     15\u001b[0m     \u001b[0mconn\u001b[0m\u001b[0;34m.\u001b[0m\u001b[0mwait_for_job\u001b[0m\u001b[0;34m(\u001b[0m\u001b[0mjob\u001b[0m\u001b[0;34m)\u001b[0m\u001b[0;34m\u001b[0m\u001b[0;34m\u001b[0m\u001b[0m\n",
      "\u001b[0;32m~/Python_3_7/lib/python3.7/site-packages/xgt/connection.py\u001b[0m in \u001b[0;36mschedule_job\u001b[0;34m(self, query, optlevel)\u001b[0m\n\u001b[1;32m   1053\u001b[0m     \u001b[0mrequest\u001b[0m\u001b[0;34m.\u001b[0m\u001b[0mcypher_query\u001b[0m\u001b[0;34m.\u001b[0m\u001b[0mextend\u001b[0m\u001b[0;34m(\u001b[0m\u001b[0;34m[\u001b[0m\u001b[0mquery\u001b[0m\u001b[0;34m]\u001b[0m\u001b[0;34m)\u001b[0m\u001b[0;34m\u001b[0m\u001b[0;34m\u001b[0m\u001b[0m\n\u001b[1;32m   1054\u001b[0m     \u001b[0mrequest\u001b[0m\u001b[0;34m.\u001b[0m\u001b[0moptimization_level\u001b[0m \u001b[0;34m=\u001b[0m \u001b[0moptlevel\u001b[0m\u001b[0;34m\u001b[0m\u001b[0;34m\u001b[0m\u001b[0m\n\u001b[0;32m-> 1055\u001b[0;31m     \u001b[0mresponse\u001b[0m \u001b[0;34m=\u001b[0m \u001b[0mself\u001b[0m\u001b[0;34m.\u001b[0m\u001b[0mcall\u001b[0m\u001b[0;34m(\u001b[0m\u001b[0mrequest\u001b[0m\u001b[0;34m,\u001b[0m \u001b[0mself\u001b[0m\u001b[0;34m.\u001b[0m\u001b[0m_job_svc\u001b[0m\u001b[0;34m.\u001b[0m\u001b[0mScheduleJobsCypher\u001b[0m\u001b[0;34m)\u001b[0m\u001b[0;34m\u001b[0m\u001b[0;34m\u001b[0m\u001b[0m\n\u001b[0m\u001b[1;32m   1056\u001b[0m     \u001b[0mone_job\u001b[0m \u001b[0;34m=\u001b[0m \u001b[0mresponse\u001b[0m\u001b[0;34m.\u001b[0m\u001b[0mjob_status\u001b[0m\u001b[0;34m[\u001b[0m\u001b[0;36m0\u001b[0m\u001b[0;34m]\u001b[0m\u001b[0;34m\u001b[0m\u001b[0;34m\u001b[0m\u001b[0m\n\u001b[1;32m   1057\u001b[0m     \u001b[0;32mreturn\u001b[0m \u001b[0mJob\u001b[0m\u001b[0;34m(\u001b[0m\u001b[0mself\u001b[0m\u001b[0;34m,\u001b[0m \u001b[0mone_job\u001b[0m\u001b[0;34m.\u001b[0m\u001b[0mjob_id\u001b[0m\u001b[0;34m)\u001b[0m\u001b[0;34m\u001b[0m\u001b[0;34m\u001b[0m\u001b[0m\n",
      "\u001b[0;32m~/Python_3_7/lib/python3.7/site-packages/xgt/connection.py\u001b[0m in \u001b[0;36mcall\u001b[0;34m(self, request, rpc_function)\u001b[0m\n\u001b[1;32m    202\u001b[0m     \u001b[0;32mexcept\u001b[0m \u001b[0mTypeError\u001b[0m\u001b[0;34m:\u001b[0m\u001b[0;34m\u001b[0m\u001b[0;34m\u001b[0m\u001b[0m\n\u001b[1;32m    203\u001b[0m       \u001b[0;32mpass\u001b[0m\u001b[0;34m\u001b[0m\u001b[0;34m\u001b[0m\u001b[0m\n\u001b[0;32m--> 204\u001b[0;31m     \u001b[0m_assert_noerrors\u001b[0m\u001b[0;34m(\u001b[0m\u001b[0mresponse\u001b[0m\u001b[0;34m)\u001b[0m\u001b[0;34m\u001b[0m\u001b[0;34m\u001b[0m\u001b[0m\n\u001b[0m\u001b[1;32m    205\u001b[0m     \u001b[0;32mreturn\u001b[0m \u001b[0mresponse\u001b[0m\u001b[0;34m\u001b[0m\u001b[0;34m\u001b[0m\u001b[0m\n\u001b[1;32m    206\u001b[0m \u001b[0;34m\u001b[0m\u001b[0m\n",
      "\u001b[0;32m~/Python_3_7/lib/python3.7/site-packages/xgt/common.py\u001b[0m in \u001b[0;36m_assert_noerrors\u001b[0;34m(response)\u001b[0m\n\u001b[1;32m    172\u001b[0m       \u001b[0merror_code_name\u001b[0m \u001b[0;34m=\u001b[0m \u001b[0merr_proto\u001b[0m\u001b[0;34m.\u001b[0m\u001b[0mErrorCodeEnum\u001b[0m\u001b[0;34m.\u001b[0m\u001b[0mName\u001b[0m\u001b[0;34m(\u001b[0m\u001b[0merror\u001b[0m\u001b[0;34m.\u001b[0m\u001b[0mcode\u001b[0m\u001b[0;34m)\u001b[0m\u001b[0;34m\u001b[0m\u001b[0;34m\u001b[0m\u001b[0m\n\u001b[1;32m    173\u001b[0m       \u001b[0merror_class\u001b[0m \u001b[0;34m=\u001b[0m \u001b[0m_code_error_map\u001b[0m\u001b[0;34m[\u001b[0m\u001b[0merror_code_name\u001b[0m\u001b[0;34m]\u001b[0m\u001b[0;34m\u001b[0m\u001b[0;34m\u001b[0m\u001b[0m\n\u001b[0;32m--> 174\u001b[0;31m       \u001b[0;32mraise\u001b[0m \u001b[0merror_class\u001b[0m\u001b[0;34m(\u001b[0m\u001b[0merror\u001b[0m\u001b[0;34m.\u001b[0m\u001b[0mmessage\u001b[0m\u001b[0;34m,\u001b[0m \u001b[0merror\u001b[0m\u001b[0;34m.\u001b[0m\u001b[0mdetail\u001b[0m\u001b[0;34m)\u001b[0m\u001b[0;34m\u001b[0m\u001b[0;34m\u001b[0m\u001b[0m\n\u001b[0m\u001b[1;32m    175\u001b[0m     \u001b[0;32mexcept\u001b[0m \u001b[0mXgtError\u001b[0m\u001b[0;34m:\u001b[0m\u001b[0;34m\u001b[0m\u001b[0;34m\u001b[0m\u001b[0m\n\u001b[1;32m    176\u001b[0m       \u001b[0;32mraise\u001b[0m\u001b[0;34m\u001b[0m\u001b[0;34m\u001b[0m\u001b[0m\n",
      "\u001b[0;31mXgtInternalError\u001b[0m: Low level error occured. More information in the 'detail' field."
     ]
    }
   ],
   "source": [
    "run_query(q)"
   ]
  },
  {
   "cell_type": "code",
   "execution_count": null,
   "metadata": {},
   "outputs": [],
   "source": []
  }
 ],
 "metadata": {
  "kernelspec": {
   "display_name": "Python 3",
   "language": "python",
   "name": "python3"
  },
  "language_info": {
   "codemirror_mode": {
    "name": "ipython",
    "version": 3
   },
   "file_extension": ".py",
   "mimetype": "text/x-python",
   "name": "python",
   "nbconvert_exporter": "python",
   "pygments_lexer": "ipython3",
   "version": "3.7.4"
  }
 },
 "nbformat": 4,
 "nbformat_minor": 2
}
