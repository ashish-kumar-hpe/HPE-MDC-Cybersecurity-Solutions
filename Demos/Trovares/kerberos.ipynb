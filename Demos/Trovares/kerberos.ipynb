{
 "cells": [
  {
   "cell_type": "code",
   "execution_count": 1,
   "metadata": {},
   "outputs": [
    {
     "name": "stdout",
     "output_type": "stream",
     "text": [
      "3.7.4\n"
     ]
    }
   ],
   "source": [
    "import xgt\n",
    "import os\n",
    "import pandas\n",
    "\n",
    "from platform import python_version\n",
    "print (python_version())"
   ]
  },
  {
   "cell_type": "code",
   "execution_count": 2,
   "metadata": {},
   "outputs": [],
   "source": [
    "if os.environ.get('https_proxy'):\n",
    " del os.environ['https_proxy']\n",
    "if os.environ.get('http_proxy'):\n",
    " del os.environ['http_proxy']"
   ]
  },
  {
   "cell_type": "code",
   "execution_count": 3,
   "metadata": {},
   "outputs": [
    {
     "data": {
      "text/plain": [
       "'1.3.0'"
      ]
     },
     "execution_count": 3,
     "metadata": {},
     "output_type": "execute_result"
    }
   ],
   "source": [
    "conn=xgt.Connection()\n",
    "conn.server_version"
   ]
  },
  {
   "cell_type": "code",
   "execution_count": 4,
   "metadata": {},
   "outputs": [
    {
     "data": {
      "text/plain": [
       "<xgt.graph.VertexFrame at 0x7fb35d37acd0>"
      ]
     },
     "execution_count": 4,
     "metadata": {},
     "output_type": "execute_result"
    }
   ],
   "source": [
    "try:\n",
    "  devices = conn.get_vertex_frame('Devices')\n",
    "except xgt.XgtNameError:\n",
    "  devices = conn.create_vertex_frame(\n",
    "      name='Devices',\n",
    "      schema=[['device', xgt.TEXT]],\n",
    "      key='device')\n",
    "devices"
   ]
  },
  {
   "cell_type": "code",
   "execution_count": 5,
   "metadata": {},
   "outputs": [
    {
     "data": {
      "text/plain": [
       "<xgt.graph.EdgeFrame at 0x7fb35d381790>"
      ]
     },
     "execution_count": 5,
     "metadata": {},
     "output_type": "execute_result"
    }
   ],
   "source": [
    "try:\n",
    "  netflow = conn.get_edge_frame('Netflow')\n",
    "except xgt.XgtNameError:\n",
    "  netflow = conn.create_edge_frame(\n",
    "      name='Netflow',\n",
    "      schema=[['epoch_time', xgt.INT],\n",
    "              ['duration', xgt.INT],\n",
    "              ['src_device', xgt.TEXT],\n",
    "              ['dst_device', xgt.TEXT],\n",
    "              ['protocol', xgt.INT],\n",
    "              ['src_port', xgt.INT],\n",
    "              ['dst_port', xgt.INT],\n",
    "              ['src_packets', xgt.INT],\n",
    "              ['dst_packets', xgt.INT],\n",
    "              ['src_bytes', xgt.INT],\n",
    "              ['dst_bytes', xgt.INT]],\n",
    "      source=devices,\n",
    "      target=devices,\n",
    "      source_key='src_device',\n",
    "      target_key='dst_device')\n",
    "netflow"
   ]
  },
  {
   "cell_type": "code",
   "execution_count": 6,
   "metadata": {},
   "outputs": [
    {
     "data": {
      "text/plain": [
       "<xgt.graph.EdgeFrame at 0x7fb35d3915d0>"
      ]
     },
     "execution_count": 6,
     "metadata": {},
     "output_type": "execute_result"
    }
   ],
   "source": [
    "try:\n",
    "  host_events = conn.get_edge_frame('HostEvents')\n",
    "except xgt.XgtNameError:\n",
    "  host_events = conn.create_edge_frame(\n",
    "      name='HostEvents',\n",
    "      schema=[['epoch_time', xgt.INT],\n",
    "              ['event_id', xgt.INT],\n",
    "              ['log_host', xgt.TEXT],\n",
    "              ['user_name', xgt.TEXT],\n",
    "              ['domain_name', xgt.TEXT],\n",
    "              ['logon_id', xgt.INT],\n",
    "              ['process_name', xgt.TEXT],\n",
    "              ['process_id', xgt.INT],\n",
    "              ['parent_process_name', xgt.TEXT],\n",
    "              ['parent_process_id', xgt.INT]],\n",
    "           source=devices,\n",
    "           target=devices,\n",
    "           source_key='log_host',\n",
    "           target_key='log_host')\n",
    "host_events"
   ]
  },
  {
   "cell_type": "code",
   "execution_count": 7,
   "metadata": {},
   "outputs": [
    {
     "data": {
      "text/plain": [
       "<xgt.graph.EdgeFrame at 0x7fb35d39eb90>"
      ]
     },
     "execution_count": 7,
     "metadata": {},
     "output_type": "execute_result"
    }
   ],
   "source": [
    "try:\n",
    "  auth_events = conn.get_edge_frame('AuthEvents')\n",
    "except xgt.XgtNameError:\n",
    "  auth_events = conn.create_edge_frame(\n",
    "           name='AuthEvents',\n",
    "           schema = [['epoch_time',xgt.INT],\n",
    "                     ['event_id',xgt.INT],\n",
    "                     ['log_host',xgt.TEXT],\n",
    "                     ['logon_type',xgt.INT],\n",
    "                     ['logon_type_description',xgt.TEXT],\n",
    "                     ['user_name',xgt.TEXT],\n",
    "                     ['domain_name',xgt.TEXT],\n",
    "                     ['logon_id',xgt.INT],\n",
    "                     ['subject_user_name',xgt.TEXT],\n",
    "                     ['subject_domain_name',xgt.TEXT],\n",
    "                     ['subject_logon_id',xgt.TEXT],\n",
    "                     ['status',xgt.TEXT],\n",
    "                     ['src',xgt.TEXT],\n",
    "                     ['service_name',xgt.TEXT],\n",
    "                     ['destination',xgt.TEXT],\n",
    "                     ['authentication_package',xgt.TEXT],\n",
    "                     ['failure_reason',xgt.TEXT],\n",
    "                     ['process_name',xgt.TEXT],\n",
    "                     ['process_id',xgt.INT],\n",
    "                     ['parent_process_name',xgt.TEXT],\n",
    "                     ['parent_process_id',xgt.INT]],\n",
    "            source = 'Devices',\n",
    "            target = 'Devices',\n",
    "            source_key = 'src',\n",
    "            target_key = 'destination')\n",
    "auth_events"
   ]
  },
  {
   "cell_type": "code",
   "execution_count": 8,
   "metadata": {},
   "outputs": [
    {
     "name": "stdout",
     "output_type": "stream",
     "text": [
      "Devices (vertices): 0\n",
      "Netflow (edges): 0\n",
      "Host events (edges): 0\n",
      "Authentication events (edges): 0\n",
      "Total (edges): 0\n"
     ]
    }
   ],
   "source": [
    "# Utility to print the sizes of data currently in xGT\n",
    "def print_data_summary():\n",
    "  print('Devices (vertices): {:,}'.format(devices.num_vertices))\n",
    "  print('Netflow (edges): {:,}'.format(netflow.num_edges))\n",
    "  print('Host events (edges): {:,}'.format(host_events.num_edges))\n",
    "  print('Authentication events (edges): {:,}'.format(auth_events.num_edges))\n",
    "  print('Total (edges): {:,}'.format(\n",
    "      netflow.num_edges + host_events.num_edges + auth_events.num_edges))\n",
    "    \n",
    "print_data_summary()"
   ]
  },
  {
   "cell_type": "code",
   "execution_count": 9,
   "metadata": {
    "scrolled": true
   },
   "outputs": [
    {
     "name": "stdout",
     "output_type": "stream",
     "text": [
      "Devices (vertices): 13,491\n",
      "Netflow (edges): 0\n",
      "Host events (edges): 1,468,936,024\n",
      "Authentication events (edges): 0\n",
      "Total (edges): 1,468,936,024\n",
      "CPU times: user 216 ms, sys: 308 ms, total: 524 ms\n",
      "Wall time: 4min 19s\n"
     ]
    }
   ],
   "source": [
    "%%time\n",
    "\n",
    "# Load the HostEvents event data:\n",
    "if host_events.num_edges == 0:\n",
    "    # urls = [\"https://datasets.trovares.com/LANL/xgt/wls_day-85_1v.csv\"]\n",
    "    # urls = [\"xgtd://nvme_data1/data_1v/wls_day-{:02d}_1v.csv\".format(_) for _ in range(2,91)]\n",
    "    urls = [\"xgtd://nvme_data1/data_1v/wls_day-85_1v.csv\"]\n",
    "    # urls = [\"xgtd://data_1v/wls_day-11_1v.csv\"]\n",
    "    host_events.load(urls)\n",
    "    print_data_summary()"
   ]
  },
  {
   "cell_type": "code",
   "execution_count": 10,
   "metadata": {},
   "outputs": [
    {
     "name": "stdout",
     "output_type": "stream",
     "text": [
      "Devices (vertices): 18,925\n",
      "Netflow (edges): 0\n",
      "Host events (edges): 1,468,936,024\n",
      "Authentication events (edges): 4,022,436,222\n",
      "Total (edges): 5,491,372,246\n",
      "CPU times: user 588 ms, sys: 374 ms, total: 962 ms\n",
      "Wall time: 4min 52s\n"
     ]
    }
   ],
   "source": [
    "%%time\n",
    "\n",
    "# Load the AuthEvents event data:\n",
    "if auth_events.num_edges == 0:\n",
    "    # urls = [\"https://datasets.trovares.com/LANL/xgt/wls_day-85_2v.csv\"]\n",
    "    # urls = [\"xgtd://nvme_data9/data_2v/wls_day-{:02d}_2v.csv\".format(_) for _ in range(2,91)]\n",
    "    urls = [\"xgtd://nvme_data1/data_2v/wls_day-85_2v.csv\"]\n",
    "    # urls = [\"xgtd://data_2v/wls_day-11_2v.csv\"]\n",
    "    auth_events.load(urls)\n",
    "    print_data_summary()"
   ]
  },
  {
   "cell_type": "code",
   "execution_count": 11,
   "metadata": {},
   "outputs": [
    {
     "name": "stdout",
     "output_type": "stream",
     "text": [
      "Devices (vertices): 933,714\n",
      "Netflow (edges): 17,882,795,024\n",
      "Host events (edges): 1,468,936,024\n",
      "Authentication events (edges): 4,022,436,222\n",
      "Total (edges): 23,374,167,270\n",
      "CPU times: user 1.55 s, sys: 990 ms, total: 2.54 s\n",
      "Wall time: 14min 47s\n"
     ]
    }
   ],
   "source": [
    "%%time\n",
    "\n",
    "# Load the netflow data:\n",
    "if netflow.num_edges == 0:\n",
    "    #urls = [\"https://datasets.trovares.com/LANL/xgt/nf_day-85.csv\"]\n",
    "    #urls = [\"xgtd://nvme_data1/data_nf/nf_day-{:02d}.csv\".format(_) for _ in range(2,91)]\n",
    "    urls = [\"xgtd://nvme_data1/data_nf/nf_day-85.csv\"]\n",
    "    # urls = [\"xgtd://nvme_data1/data_nf/nf_day-11.csv\"]\n",
    "    netflow.load(urls)\n",
    "    print_data_summary()"
   ]
  },
  {
   "cell_type": "code",
   "execution_count": 12,
   "metadata": {},
   "outputs": [],
   "source": [
    "# Utility function to launch queries and show job number:\n",
    "#   The job number may be useful if a long-running job needs\n",
    "#   to be canceled.\n",
    "\n",
    "def run_query(query, table_name = \"answers\", drop_answer_table=True, show_query=False):\n",
    "    if drop_answer_table:\n",
    "        conn.drop_frame(table_name)\n",
    "    if query[-1] != '\\n':\n",
    "        query += '\\n'\n",
    "    query += 'INTO {}'.format(table_name)\n",
    "    if show_query:\n",
    "        print(\"Query:\\n\" + query)\n",
    "    job = conn.schedule_job(query)\n",
    "    print(\"Launched job {}\".format(job.id))\n",
    "    conn.wait_for_job(job)\n",
    "    table = conn.get_table_frame(table_name)\n",
    "    return table"
   ]
  },
  {
   "cell_type": "code",
   "execution_count": 13,
   "metadata": {},
   "outputs": [
    {
     "data": {
      "text/plain": [
       "<xgt.graph.EdgeFrame at 0x7fb35d3a54d0>"
      ]
     },
     "execution_count": 13,
     "metadata": {},
     "output_type": "execute_result"
    }
   ],
   "source": [
    "# Generate a new edge frame for holding only the RDP edges\n",
    "import time\n",
    "query_start_time = time.time()\n",
    "\n",
    "conn.drop_frame('RDPFlow')\n",
    "rdp_flow = conn.create_edge_frame(\n",
    "            name='RDPFlow',\n",
    "            schema=netflow.schema,\n",
    "            source=devices,\n",
    "            target=devices,\n",
    "            source_key='src_device',\n",
    "            target_key='dst_device')\n",
    "rdp_flow"
   ]
  },
  {
   "cell_type": "code",
   "execution_count": 14,
   "metadata": {},
   "outputs": [
    {
     "name": "stdout",
     "output_type": "stream",
     "text": [
      "Launched job 3914\n",
      "Number of answers: 2,176\n",
      "CPU times: user 304 ms, sys: 165 ms, total: 469 ms\n",
      "Wall time: 1min 53s\n"
     ]
    }
   ],
   "source": [
    "%%time\n",
    "\n",
    "#Filter out all the Nodes in which 4768(TGT request has been logged)\n",
    "\n",
    "q = \"\"\"\n",
    "MATCH (n1:Devices)-[r:AuthEvents]->[n2:Devices]\n",
    "WHERE r.event_id = 4768\n",
    "CREATE (n1)-[r1:tgt_req_events {epoch_time:r.epoch_time, event_id:r.event_id,\n",
    " log_host:r.log_host, logon_type:r.logon_type,\n",
    " logon_type_description:r.logon_type_description, user_name:r.user_name,\n",
    " domain_name:r.domain_name, logon_id:r.logon_id,\n",
    " subject_user_name:r.subject_user_name, subject_domain_name:r.subject_domain_name,\n",
    " subject_logon_id:r.subject_logon_id, status:r.status,\n",
    " src:r.src, service_name:r.service_name,\n",
    " destination:r.destination, authentication_package:r.authentication_package,\n",
    " failure_reason: r.failure_reason, process_name:r.process_name,\n",
    " process_id:r.process_id, parent_process_name:r.parent_process_name,\n",
    " parent_process_id:r.parent_process_id}]->(n2)\n",
    "RETURN count(*)\n",
    "\"\"\"\n",
    "data = run_query(q)\n",
    "print('Number of answers: {:,}'.format(data.get_data()[0][0]))"
   ]
  },
  {
   "cell_type": "code",
   "execution_count": 15,
   "metadata": {},
   "outputs": [
    {
     "name": "stdout",
     "output_type": "stream",
     "text": [
      "Launched job 5036\n",
      "Number of answers: 755,260\n",
      "CPU times: user 58.3 ms, sys: 42 ms, total: 100 ms\n",
      "Wall time: 53 s\n"
     ]
    }
   ],
   "source": [
    "%%time\n",
    "\n",
    "#Filter out all the Nodes in which 4769(Service ticket request has been logged)\n",
    "q = \"\"\"\n",
    "MATCH (n1:Devices)-[r:AuthEvents]->[n2:Devices]\n",
    "WHERE r.event_id = 4769\n",
    "CREATE (n1)-[r1:service_ticket_req {epoch_time:r.epoch_time, event_id:r.event_id,\n",
    " log_host:r.log_host, logon_type:r.logon_type,\n",
    " logon_type_description:r.logon_type_description, user_name:r.user_name,\n",
    " domain_name:r.domain_name, logon_id:r.logon_id,\n",
    " subject_user_name:r.subject_user_name, subject_domain_name:r.subject_domain_name,\n",
    " subject_logon_id:r.subject_logon_id, status:r.status,\n",
    " src:r.src, service_name:r.service_name,\n",
    " destination:r.destination, authentication_package:r.authentication_package,\n",
    " failure_reason: r.failure_reason, process_name:r.process_name,\n",
    " process_id:r.process_id, parent_process_name:r.parent_process_name,\n",
    " parent_process_id:r.parent_process_id}]->(n2)\n",
    "RETURN count(*)\n",
    "\"\"\"\n",
    "data = run_query(q)\n",
    "print('Number of answers: {:,}'.format(data.get_data()[0][0]))"
   ]
  }
 ],
 "metadata": {
  "kernelspec": {
   "display_name": "Python 3",
   "language": "python",
   "name": "python3"
  },
  "language_info": {
   "codemirror_mode": {
    "name": "ipython",
    "version": 3
   },
   "file_extension": ".py",
   "mimetype": "text/x-python",
   "name": "python",
   "nbconvert_exporter": "python",
   "pygments_lexer": "ipython3",
   "version": "3.7.4"
  }
 },
 "nbformat": 4,
 "nbformat_minor": 2
}
