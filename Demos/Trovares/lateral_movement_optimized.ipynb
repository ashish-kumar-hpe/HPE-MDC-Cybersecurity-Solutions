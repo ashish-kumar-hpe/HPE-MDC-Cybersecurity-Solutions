{
 "cells": [
  {
   "cell_type": "markdown",
   "metadata": {},
   "source": [
    "# Looking for Lateral Movement\n",
    "\n",
    "----\n",
    "\n",
    "*Lateral movement* is a cyberattack pattern that describes how an adversary leverages a single foothold to compromise other systems within a network.\n",
    "Identifying and stopping lateral movement is an important step in controlling the damage from a breach, and also plays a role in forensic analysis of a cyberattack, helping to identify its source and reconstruct what happened.\n",
    "In this notebook, we show how xGT can be used to find evidence of these types of patterns hiding in large data.\n",
    "\n",
    "This notebook is an example of using \n",
    "the vast collection of malicious cyber attack patterns described in the [MITRE ATT&CK Catalog](https://attack.mitre.org/) as a guide to search for evidence of lateral movemement within an enterprise network.\n",
    "\n",
    "For data, we'll be using the [LANL Unified Host and Network Dataset](https://datasets.trovares.com/cyber/LANL/index.html), a set of netflow and host event data collected on an internal Los Alamos National Lab network."
   ]
  },
  {
   "cell_type": "markdown",
   "metadata": {},
   "source": [
    "----\n",
    "## RDP Hijacking\n",
    "\n",
    "There are 17 *lateral movement* techniques presented in the MITRE ATT&CK Catalog.\n",
    "We will consider the *RDP Hijacking* technique presented as [tactic 1076](https://attack.mitre.org/techniques/T1076/).\n",
    "\n",
    "RDP hijacking is actually a family of attacks, each with different characteristics on how to attain the\n",
    "privileges required to perform the RDP Hijacking.\n",
    "The attack broadly looks like this:\n",
    "\n",
    "1. Lateral movement starts from a foothold where an adversary already has gained access. We'll call this host `A`.\n",
    "\n",
    "1. The attacker uses some *privilege escalation* technique to attain SYSTEM privilege.\n",
    "\n",
    "1. The attacker then leverages their SYSTEM privilege to *hijack* as RDP session to\n",
    "[move through a network](https://doublepulsar.com/rdp-hijacking-how-to-hijack-rds-and-remoteapp-sessions-transparently-to-move-through-an-da2a1e73a5f6).\n",
    "The result is to become logged in to another system where the RDP session had been.  We'll call this host `B`.\n",
    "\n",
    "This hijacking action can be repeated to form longer chains of lateral movememt; and these chains\n",
    "can be represented as graph patterns:\n",
    "\n",
    "![rdp_hijack](images/lateral-movement.png)\n"
   ]
  },
  {
   "cell_type": "markdown",
   "metadata": {},
   "source": [
    "----\n",
    "## Privilege Escalation\n",
    "\n",
    "The MITRE ATT&CK Catalog contains 28 different techniques for performing privilege escalation.\n",
    "For our example, we will look for evidence of RDP Hijacking where privilege escalation was carried out using \n",
    "a technique called *Accessibility Features* described as [T1015](https://attack.mitre.org/techniques/T1015/).\n",
    "\n",
    "The astute reader will note that we are looking for only one of 476 (or more) techniques for lateral movement.\n",
    "Each of the others might result in different graph patterns and different queries, but can all be addressed\n",
    "using the same approach described here."
   ]
  },
  {
   "cell_type": "markdown",
   "metadata": {},
   "source": [
    "----\n",
    "## Mapping to a cyber dataset\n",
    "\n",
    "In order to formulate a query, we need to understand the content and structure of our\n",
    "graph.\n",
    "We will work under the assumption that we have both *netflow* and *windows server log* event information.\n",
    "\n",
    "Mapping each of the adversary steps (the number before each edge label in the diagram) to our dataset:\n",
    "\n",
    "1. \"Accessibility Features (*privilege escalation*)\": An adversary modifies the way programs are launched \n",
    "to get a back door into a system.  The following programs can be used for this purpose:\n",
    "    1. `sethc.exe`\n",
    "    1. `utilman.exe`\n",
    "\n",
    "1. \"RDP Session Hijack\":  Once an adversary finds a session to hijack they can do this command:  `c:\\windows\\system32\\tscon.exe [session number to be stolen]`.  We look in our graph for windows log events showing the running of the `tscon.exe` program.\n",
    "\n",
    "1. \"RDP/RDS Netflow\": Logging in to system `B` will leave one or more netflow packets from system `A` to `B` that use the RDP port.\n"
   ]
  },
  {
   "cell_type": "markdown",
   "metadata": {},
   "source": [
    "## Mapping to the LANL dataset\n",
    "\n",
    "Once we understand the pattern we want to find, we need to determine what specifically to look for in the dataset.\n",
    "\n",
    "We first need to understand that the LANL dataset has been modified from its raw form.\n",
    "For example, the anonymization process replaced many of the program names with arbitrary strings such as `Prog123456.exe`.  Also, the program arguments (such as a `/network` option) are not recorded.\n",
    "\n",
    "Given this lack of information, we will emulate a search for the RDP Hijacking lateral movement behavior by picking some actual values present in the LANL data as a proxy to desired programs such as `sethc.exe`.  Here are the mappings:\n",
    "\n",
    " - In steps 1 and 4, we will use the string `Proc336322.exe` as a proxy for the `sethc.exe` program and the string `Proc695356.exe` as a proxy for the `utilman.exe` program.\n",
    " - In steps 2 and 5, we will use the string `Proc249569.exe` as a proxy for the `tscon.exe` program.\n"
   ]
  },
  {
   "cell_type": "markdown",
   "metadata": {},
   "source": [
    "----\n",
    "## Using xGT to perform this search\n",
    "\n",
    "The rest of this notebook demonstrates how to take this LANL data and the search pattern description to do these steps:\n",
    "  1. Ingest the cyber data into xGT\n",
    "  2. Search for all occurrences of this pattern."
   ]
  },
  {
   "cell_type": "code",
   "execution_count": null,
   "metadata": {
    "scrolled": true
   },
   "outputs": [],
   "source": [
    "import xgt\n",
    "conn = xgt.Connection()\n",
    "conn"
   ]
  },
  {
   "cell_type": "markdown",
   "metadata": {},
   "source": [
    "## Establish Graph Component Schemas\n",
    "\n",
    "We first try to retrieve the graph component schemas from xGT server.\n",
    "If that should fail, we create an empty component (vertex or edge frame) for the missing component."
   ]
  },
  {
   "cell_type": "code",
   "execution_count": null,
   "metadata": {},
   "outputs": [],
   "source": [
    "try:\n",
    "  devices = conn.get_vertex_frame('Devices')\n",
    "except xgt.XgtNameError:\n",
    "  devices = conn.create_vertex_frame(\n",
    "      name='Devices',\n",
    "      schema=[['device', xgt.TEXT]],\n",
    "      key='device')\n",
    "devices"
   ]
  },
  {
   "cell_type": "code",
   "execution_count": null,
   "metadata": {},
   "outputs": [],
   "source": [
    "try:\n",
    "  netflow = conn.get_edge_frame('Netflow')\n",
    "except xgt.XgtNameError:\n",
    "  netflow = conn.create_edge_frame(\n",
    "      name='Netflow',\n",
    "      schema=[['epoch_time', xgt.INT],\n",
    "              ['duration', xgt.INT],\n",
    "              ['src_device', xgt.TEXT],\n",
    "              ['dst_device', xgt.TEXT],\n",
    "              ['protocol', xgt.INT],\n",
    "              ['src_port', xgt.INT],\n",
    "              ['dst_port', xgt.INT],\n",
    "              ['src_packets', xgt.INT],\n",
    "              ['dst_packets', xgt.INT],\n",
    "              ['src_bytes', xgt.INT],\n",
    "              ['dst_bytes', xgt.INT]],\n",
    "      source=devices,\n",
    "      target=devices,\n",
    "      source_key='src_device',\n",
    "      target_key='dst_device')\n",
    "netflow"
   ]
  },
  {
   "cell_type": "markdown",
   "metadata": {},
   "source": [
    "**Edges:** The LANL dataset contains two types of data: netflow and windows log events. Of the log events recorded, some describe events within a host/device (e.g., reboots), and some describe authentication events that may be between devices (e.g., login from device A to B). We'll call the authentication events *AuthEvents* and the others we'll call *HostEvents*."
   ]
  },
  {
   "cell_type": "code",
   "execution_count": null,
   "metadata": {},
   "outputs": [],
   "source": [
    "try:\n",
    "  host_events = conn.get_edge_frame('HostEvents')\n",
    "except xgt.XgtNameError:\n",
    "  host_events = conn.create_edge_frame(\n",
    "      name='HostEvents',\n",
    "      schema=[['epoch_time', xgt.INT],\n",
    "              ['event_id', xgt.INT],\n",
    "              ['log_host', xgt.TEXT],\n",
    "              ['user_name', xgt.TEXT],\n",
    "              ['user_name', xgt.TEXT],\n",
    "              ['logon_id', xgt.INT],\n",
    "              ['process_name', xgt.TEXT],\n",
    "              ['process_id', xgt.INT],\n",
    "              ['parent_process_name', xgt.TEXT],\n",
    "              ['parent_process_id', xgt.INT]],\n",
    "           source=devices,\n",
    "           target=devices,\n",
    "           source_key='log_host',\n",
    "           target_key='log_host')\n",
    "host_events"
   ]
  },
  {
   "cell_type": "code",
   "execution_count": null,
   "metadata": {
    "scrolled": false
   },
   "outputs": [],
   "source": [
    "try:\n",
    "  auth_events = conn.get_edge_frame('AuthEvents')\n",
    "except xgt.XgtNameError:\n",
    "  auth_events = conn.create_edge_frame(\n",
    "           name='AuthEvents',\n",
    "           schema = [['epoch_time',xgt.INT],\n",
    "                     ['event_id',xgt.INT],\n",
    "                     ['log_host',xgt.TEXT],\n",
    "                     ['logon_type',xgt.INT],\n",
    "                     ['logon _type_description',xgt.TEXT],\n",
    "                     ['user_name',xgt.TEXT],\n",
    "                     ['domain_name',xgt.TEXT],\n",
    "                     ['logon_id',xgt.INT],\n",
    "                     ['subject_user_name',xgt.TEXT],\n",
    "                     ['subject_domain_name',xgt.TEXT],\n",
    "                     ['subject_logon_id',xgt.TEXT],\n",
    "                     ['status',xgt.TEXT],\n",
    "                     ['src',xgt.TEXT],\n",
    "                     ['service_name',xgt.TEXT],\n",
    "                     ['destination',xgt.TEXT],\n",
    "                     ['authentication_package',xgt.TEXT],\n",
    "                     ['failure_reason',xgt.TEXT],\n",
    "                     ['process_name',xgt.TEXT],\n",
    "                     ['process_id',xgt.INT],\n",
    "                     ['parent_process_name',xgt.TEXT],\n",
    "                     ['parent_process_id',xgt.INT]],\n",
    "            source = 'Devices',\n",
    "            target = 'Devices',\n",
    "            source_key = 'src',\n",
    "            target_key = 'log_host')\n",
    "auth_events"
   ]
  },
  {
   "cell_type": "code",
   "execution_count": null,
   "metadata": {
    "scrolled": true
   },
   "outputs": [],
   "source": [
    "# Utility to print the sizes of data currently in xGT\n",
    "def print_data_summary():\n",
    "  print('Devices (vertices): {:,}'.format(devices.num_vertices))\n",
    "  print('Netflow (edges): {:,}'.format(netflow.num_edges))\n",
    "  print('Host events (edges): {:,}'.format(host_events.num_edges))\n",
    "  print('Authentication events (edges): {:,}'.format(auth_events.num_edges))\n",
    "  print('Total (edges): {:,}'.format(\n",
    "      netflow.num_edges + host_events.num_edges + auth_events.num_edges))\n",
    "    \n",
    "print_data_summary()"
   ]
  },
  {
   "cell_type": "markdown",
   "metadata": {},
   "source": [
    "## Load the data\n",
    "\n",
    "If you are already connected to an xGT server with data loaded, this section may be skipped.\n",
    "You may skip ahead to the \"**Utility python functions for interacting with xGT**\" section.\n",
    "\n",
    "**Load the HostEvents event data:**"
   ]
  },
  {
   "cell_type": "code",
   "execution_count": null,
   "metadata": {},
   "outputs": [],
   "source": [
    "%%time\n",
    "if host_events.num_edges == 0:\n",
    "    urls = [\"https://datasets.trovares.com/LANL/xgt/wls_day-85_1v.csv\"]\n",
    "    # urls = [\"xgtd://wls_day-{:02d}_1v.csv\".format(_) for _ in range(2,91)]\n",
    "    host_events.load(urls)\n",
    "    print_data_summary()"
   ]
  },
  {
   "cell_type": "markdown",
   "metadata": {},
   "source": [
    "**Load the AuthEvents event data:**"
   ]
  },
  {
   "cell_type": "code",
   "execution_count": null,
   "metadata": {},
   "outputs": [],
   "source": [
    "%%time\n",
    "if auth_events.num_edges == 0:\n",
    "    urls = [\"https://datasets.trovares.com/LANL/xgt/wls_day-85_2v.csv\"]\n",
    "    # urls = [\"xgtd://wls_day-{:02d}_2v.csv\".format(_) for _ in range(2,91)]\n",
    "    auth_events.load(urls)\n",
    "    print_data_summary()"
   ]
  },
  {
   "cell_type": "markdown",
   "metadata": {},
   "source": [
    "**Load the netflow data:**"
   ]
  },
  {
   "cell_type": "code",
   "execution_count": null,
   "metadata": {},
   "outputs": [],
   "source": [
    "%%time\n",
    "if netflow.num_edges == 0:\n",
    "    urls = [\"https://datasets.trovares.com/LANL/xgt/nf_day-85.csv\"]\n",
    "    #urls = [\"xgtd://nf_day-{:02d}.csv\".format(_) for _ in range(2,91)]\n",
    "    netflow.load(urls)\n",
    "    print_data_summary()"
   ]
  },
  {
   "cell_type": "markdown",
   "metadata": {},
   "source": [
    "## Utility python functions for interacting with xGT\n",
    "\n",
    "----\n",
    "\n",
    "Now define some useful functions and get on with the querying ..."
   ]
  },
  {
   "cell_type": "code",
   "execution_count": null,
   "metadata": {},
   "outputs": [],
   "source": [
    "# Utility function to launch queries and show job number:\n",
    "#   The job number may be useful if a long-running job needs\n",
    "#   to be canceled.\n",
    "\n",
    "def run_query(query, table_name = \"answers\", drop_answer_table=True, show_query=False):\n",
    "    if drop_answer_table:\n",
    "        conn.drop_frame(table_name)\n",
    "    if query[-1] != '\\n':\n",
    "        query += '\\n'\n",
    "    query += 'INTO {}'.format(table_name)\n",
    "    if show_query:\n",
    "        print(\"Query:\\n\" + query)\n",
    "    job = conn.schedule_job(query)\n",
    "    print(\"Launched job {}\".format(job.id))\n",
    "    conn.wait_for_job(job)\n",
    "    table = conn.get_table_frame(table_name)\n",
    "    return table"
   ]
  },
  {
   "cell_type": "markdown",
   "metadata": {},
   "source": [
    "## Pulling out only RDP netflow edges\n",
    "\n",
    "Because of the way LANL has chosen to represent the netflow data, there may be some netflow edges in the *forward* direction where the `dstPort` field indicates RDP (`dstPort = 3389`), and other edges in the *reverse* direction where the `srcPort` field contains 3389.\n",
    "\n",
    "The following section of code pulls out all forward RDP edges and drops them into a new edge frame.\n",
    "It then pulls out all reverse RDP edges, reverses the appropriate fields (i.e., swapping `dst` and `src` versions of the attribute values), and adds these reversed RDP edges to the new edge frame.\n",
    "\n",
    "Note that the edges in this new edge frame connect up with the same set of vertices as the netflow edges.\n",
    "\n",
    "We first generate a new edge frame we call `RDPFlow` that has the exact same schema as the netflow edge frame."
   ]
  },
  {
   "cell_type": "code",
   "execution_count": null,
   "metadata": {},
   "outputs": [],
   "source": [
    "# Generate a new edge frame for holding only the RDP edges\n",
    "conn.drop_frame('RDPFlow')\n",
    "rdp_flow = conn.create_edge_frame(\n",
    "            name='RDPFlow',\n",
    "            schema=netflow.schema,\n",
    "            source=devices,\n",
    "            target=devices,\n",
    "            source_key='src_device',\n",
    "            target_key='dst_device')\n",
    "rdp_flow"
   ]
  },
  {
   "cell_type": "markdown",
   "metadata": {},
   "source": [
    "### Extract forward RDP edges\n",
    "\n",
    "A \"forward\" edge is one where the `dstPort = 3389`.\n",
    "This edge is copied verbatim to the `RDPFlow` edge frame."
   ]
  },
  {
   "cell_type": "code",
   "execution_count": null,
   "metadata": {
    "scrolled": true
   },
   "outputs": [],
   "source": [
    "%%time\n",
    "q = \"\"\"\n",
    "MATCH (v0)-[edge:Netflow]->(v1)\n",
    "WHERE edge.dst_port=3389\n",
    "CREATE (v0)-[e:RDPFlow {epoch_time : edge.epoch_time,\n",
    "  duration : edge.duration, protocol : edge.protocol,\n",
    "  src_port : edge.src_port, dst_port : edge.dst_port,\n",
    "  src_packets : edge.src_packets, dst_packets : edge.dst_packets,\n",
    "  src_bytes : edge.src_bytes, dst_bytes : edge.dst_bytes}]->(v1)\n",
    "RETURN count(*)\n",
    "\"\"\"\n",
    "data = run_query(q)\n",
    "print('Number of answers: {:,}'.format(data.get_data()[0][0]))"
   ]
  },
  {
   "cell_type": "markdown",
   "metadata": {},
   "source": [
    "### Extract reverse RDP edges\n",
    "\n",
    "A \"reverse\" edge is one where the `srcPort = 3389`.\n",
    "These edges are copied to the `RDPFlow` edge frame but **reversed** in transit.\n",
    "The reversal process involves swapping the: `srcDevice` and `dstDevice`;\n",
    "`srcPort` and `dstPort`; `srcPackets` and `dstPackets`; and `srcBytes` and `dstBytes`."
   ]
  },
  {
   "cell_type": "code",
   "execution_count": null,
   "metadata": {},
   "outputs": [],
   "source": [
    "%%time\n",
    "q = \"\"\"\n",
    "MATCH (v0)-[edge:Netflow]->(v1)\n",
    "WHERE edge.src_port=3389\n",
    "CREATE (v1)-[e:RDPFlow {epoch_time : edge.epoch_time,\n",
    "  duration : edge.duration, protocol : edge.protocol,\n",
    "  src_port : edge.dst_port, dst_port : edge.src_port,\n",
    "  src_packets : edge.dst_packets, dst_packets : edge.src_packets,\n",
    "  src_bytes : edge.dst_bytes, dst_bytes : edge.src_bytes}]->(v0)\n",
    "RETURN count(*)\n",
    "\"\"\"\n",
    "data = run_query(q)\n",
    "print('Number of answers: {:,}'.format(data.get_data()[0][0]))"
   ]
  },
  {
   "cell_type": "markdown",
   "metadata": {},
   "source": [
    "### Resulting RDPFlow\n",
    "\n",
    "The result of combining these two \"edge-create\" queries is the `RDPFlow` edge frame containing only \"forward\" RDP edges.\n",
    "This alternate edge frame holding only RDP edges can be used instead of the generic\n",
    "`Netflow` edge frame where an RDP edge is required in a query."
   ]
  },
  {
   "cell_type": "code",
   "execution_count": null,
   "metadata": {},
   "outputs": [],
   "source": [
    "data=None\n",
    "if rdp_flow.num_edges == 0:\n",
    "    print(\"RDPFlow is empty\")\n",
    "elif rdp_flow.num_edges <= 1000:\n",
    "    data = rdp_flow.get_data_pandas()\n",
    "else:\n",
    "    data = 'RDPflow (edges): {:,}'.format(rdp_flow.num_edges)\n",
    "data"
   ]
  },
  {
   "cell_type": "code",
   "execution_count": null,
   "metadata": {},
   "outputs": [],
   "source": [
    "# Utility to print the data sizes currently in xGT\n",
    "def print_netflow_data_summary():\n",
    "  print_data_summary()\n",
    "  print('RDPFlow (edges): {:,}'.format(rdp_flow.num_edges))\n",
    "\n",
    "print_netflow_data_summary()"
   ]
  },
  {
   "cell_type": "markdown",
   "metadata": {},
   "source": [
    "### Building a better query: adding temporal constraints \n",
    "\n",
    "Being more specific about what you're looking for is a good way to both improve performance and cut down on false positives in your results.\n",
    "In our example, there is a causal dependence between the attacker's steps, which means that they must be temporally ordered.\n",
    "For convenience, we again show the RDP Hijack graph pattern here:\n",
    "\n",
    "![rdp_hijack](images/lateral-movement.png)\n",
    "\n",
    "So if *t<sub>1</sub>* represents the time at which event 1 takes place, we know that:\n",
    "\n",
    "*t<sub>1</sub>* &le; *t<sub>2</sub>* &le; *t<sub>3</sub>* &le; *t<sub>4</sub>* &le; *t<sub>5</sub>* &le; *t<sub>6</sub>*\n",
    "\n",
    "In addition, since this pattern models intentional lateral movement, we suspect that some of these events will be close together in time.\n",
    "We can narrow the results by setting a maximum time thresholds between specific groups of events:\n",
    "\n",
    " - Between an RDP Hijack (`tscon.exe`) and a subsequent RDP netflow is called the *hijack threshold*\n",
    " - From the initial *privilege escalation* event to the RDP netflow is called the *one_step threshold*\n",
    " - The time allowed between between steps (e.g., the time between RDP1 and RDP2), is called the *between_step threshold*\n",
    "\n",
    "Given some fixed constants for these thresholds, we can impose the following additional constraints:\n",
    "\n",
    " - *t<sub>3</sub>* - *t<sub>2</sub>* &le; *hijack threshold*\n",
    " - *t<sub>3</sub>* - *t<sub>1</sub>* &le; *one_step threshold*\n",
    " - *t<sub>6</sub>* - *t<sub>5</sub>* &le; *hijack threshold*\n",
    " - *t<sub>6</sub>* - *t<sub>4</sub>* &le; *one_step threshold*\n",
    " - *t<sub>3</sub>* - *t<sub>1</sub>* &le; *between_step threshold*\n",
    "\n",
    "We will add all of these onstraints to our query to help focus on just the results we want."
   ]
  },
  {
   "cell_type": "markdown",
   "metadata": {},
   "source": [
    "### Lateral Movement query\n",
    "\n",
    "This query leverages the new `RDPFlow` edge frame (and data) to find the proper RDP edges for steps #3 and #6."
   ]
  },
  {
   "cell_type": "code",
   "execution_count": null,
   "metadata": {
    "scrolled": true
   },
   "outputs": [],
   "source": [
    "%%time\n",
    "time_threshold_between_step = 3600   # one hour\n",
    "time_threshold_hijack = 180          # three minutes\n",
    "time_threshold_one_step = 480        # eight minutes\n",
    "q = \"\"\"\n",
    "MATCH (A)-[rdp1:RDPFlow]->(B)-[rdp2:RDPFlow]->(C),\n",
    "      (A)-[hijack1:HostEvents]->(A)-[privEsc1:HostEvents]->(A),\n",
    "      (B)-[hijack2:HostEvents]->(B)-[privEsc2:HostEvents]->(B)\n",
    "WHERE A <> B AND B <> C AND A <> C \n",
    "  AND privEsc1.event_id = 4688 \n",
    "  AND (privEsc1.process_name = \"Proc336322.exe\" OR privEsc1.process_name = \"Proc695356.exe\")\n",
    "  AND hijack1.event_id = 4688 AND hijack1.process_name = \"Proc249569.exe\"\n",
    "  AND privEsc2.event_id = 4688 \n",
    "  AND (privEsc2.process_name = \"Proc336322.exe\" OR privEsc2.process_name = \"Proc695356.exe\")\n",
    "  AND hijack2.event_id = 4688 AND hijack2.process_name = \"Proc249569.exe\"\n",
    "\n",
    "  // Check time constraints on the overall pattern\n",
    "  AND rdp1.epoch_time <= rdp2.epoch_time\n",
    "  AND rdp2.epoch_time - rdp1.epoch_time < {0}\n",
    "\n",
    "  // Check time constraints on step from A to B\n",
    "  AND privEsc1.epoch_time <= hijack1.epoch_time\n",
    "  AND hijack1.epoch_time <= rdp1.epoch_time\n",
    "  AND rdp1.epoch_time - hijack1.epoch_time < {1}\n",
    "  AND rdp1.epoch_time - privEsc1.epoch_time < {2}\n",
    "\n",
    "  // Check time constraints on step from B to C\n",
    "  AND privEsc2.epoch_time <= hijack2.epoch_time\n",
    "  AND hijack2.epoch_time <= rdp2.epoch_time\n",
    "  AND rdp2.epoch_time - hijack2.epoch_time < {1}\n",
    "  AND rdp2.epoch_time - privEsc2.epoch_time < {2}\n",
    "RETURN rdp1.src_device, rdp1.dst_device, rdp1.epoch_time, rdp2.dst_device, rdp2.epoch_time\n",
    "\"\"\".format(time_threshold_between_step, time_threshold_hijack, time_threshold_one_step)\n",
    "answer_table = run_query(q)\n",
    "print('Number of answers: {:,}'.format(answer_table.num_rows))"
   ]
  },
  {
   "cell_type": "markdown",
   "metadata": {},
   "source": [
    "## A faster Lateral Movement query\n",
    "\n",
    "This query builds something comparable to an SQL Index by observing that Hijack Events and Privilege Escalation Events occur multiple times within the query.  By building a separate table to pull just the Hijack Events and another table to the the Privilege Escalation Events, we drastically reduce the search space as we progress through the partial matches.\n",
    "\n",
    "The next several cells create the two tables, populate them with queries, and then run a lateral movement query that leverages these \"index\" tables.  This time for this entire process will be captured, which makes sense only when the entire sequence is run together rather than interactively."
   ]
  },
  {
   "cell_type": "code",
   "execution_count": null,
   "metadata": {},
   "outputs": [],
   "source": [
    "%%time\n",
    "# Build HijackEvents table\n",
    "\n",
    "import time\n",
    "start_optimized_query_time = time.time()\n",
    "\n",
    "conn.drop_frame('HijackEvents')\n",
    "hijack_events = conn.create_edge_frame(\n",
    "    name   ='HijackEvents',\n",
    "    schema = [['epoch_time', xgt.INT],\n",
    "              ['log_host', xgt.TEXT]],\n",
    "    source = devices,\n",
    "    target = devices,\n",
    "    source_key = 'log_host',\n",
    "    target_key = 'log_host'\n",
    ")\n",
    "\n",
    "query = \"\"\"\n",
    "MATCH (v0)-[edge:HostEvents]->(v0)\n",
    "WHERE edge.process_name = \"Proc249569.exe\"\n",
    "  AND edge.event_id = 4688\n",
    "CREATE (v0)-[e:HijackEvents { epoch_time : edge.epoch_time }]->(v0)\n",
    "RETURN count(*)\n",
    "\"\"\"\n",
    "run_query(query)\n",
    "print('HijackEvents (edges): {:,}'.format(hijack_events.num_edges))"
   ]
  },
  {
   "cell_type": "code",
   "execution_count": null,
   "metadata": {},
   "outputs": [],
   "source": [
    "%%time\n",
    "# Build a PrivEscEvents table\n",
    "\n",
    "conn.drop_frame('PrivEscEvents')\n",
    "priv_esc_events = conn.create_edge_frame(\n",
    "    name   ='PrivEscEvents',\n",
    "    schema = [['epoch_time', xgt.INT],\n",
    "              ['log_host', xgt.TEXT]],\n",
    "    source = devices,\n",
    "    target = devices,\n",
    "    source_key = 'log_host',\n",
    "    target_key = 'log_host')\n",
    "\n",
    "query = \"\"\"\n",
    "MATCH (v0)-[edge:HostEvents]->(v0)\n",
    "WHERE edge.process_name = \"Proc336322.exe\" OR\n",
    "      edge.process_name = \"Proc695356.exe\"\n",
    "  AND edge.event_id = 4688\n",
    "CREATE (v0)-[e:PrivEscEvents { epoch_time : edge.epoch_time }]->(v0)\n",
    "RETURN count(*)\n",
    "\"\"\"\n",
    "run_query(query)\n",
    "print('PrivEscEvents (edges): {:,}'.format(priv_esc_events.num_edges))"
   ]
  },
  {
   "cell_type": "code",
   "execution_count": null,
   "metadata": {},
   "outputs": [],
   "source": [
    "%%time\n",
    "# Now run the lateral movement query using these new index tables\n",
    "\n",
    "q = \"\"\"\n",
    "MATCH (A)-[rdp1:RDPFlow]->(B)-[rdp2:RDPFlow]->(C),\n",
    "      (A)-[hijack1:HijackEvents]->(A)-[priv_esc1:PrivEscEvents]->(A),\n",
    "      (B)-[hijack2:HijackEvents]->(B)-[priv_esc2:PrivEscEvents]->(B)\n",
    "WHERE A <> B AND B <> C AND A <> C \n",
    "  // Check time constraints on the overall pattern\n",
    "  AND rdp1.epoch_time <= rdp2.epoch_time\n",
    "  AND rdp2.epoch_time - rdp1.epoch_time < {0}\n",
    "\n",
    "  // Check time constraints on step from A to B\n",
    "  AND priv_esc1.epoch_time <= hijack1.epoch_time\n",
    "  AND hijack1.epoch_time <= rdp1.epoch_time\n",
    "  AND rdp1.epoch_time - hijack1.epoch_time < {1}\n",
    "  AND rdp1.epoch_time - priv_esc1.epoch_time < {2}\n",
    "\n",
    "  // Check time constraints on step from B to C\n",
    "  AND priv_esc2.epoch_time <= hijack2.epoch_time\n",
    "  AND hijack2.epoch_time <= rdp2.epoch_time\n",
    "  AND rdp2.epoch_time - hijack2.epoch_time < {1}\n",
    "  AND rdp2.epoch_time - priv_esc2.epoch_time < {2}\n",
    "RETURN rdp1.src_device, rdp1.dst_device, rdp1.epoch_time, rdp2.dst_device, rdp2.epoch_time\n",
    "\"\"\".format(time_threshold_between_step, time_threshold_hijack, time_threshold_one_step)\n",
    "answer_table = run_query(q)\n",
    "end_optimized_query_time = time.time()\n",
    "print('Number of answers: {:,}'.format(answer_table.num_rows))\n",
    "\n",
    "print('Total time to build index and run query: {:,.2f}'.format(\n",
    "    end_optimized_query_time - start_optimized_query_time))"
   ]
  },
  {
   "cell_type": "code",
   "execution_count": null,
   "metadata": {},
   "outputs": [],
   "source": [
    "# retrieve the answer rows to the client in a pandas frame\n",
    "data = answer_table.get_data_pandas()\n",
    "data[0:10]"
   ]
  },
  {
   "cell_type": "code",
   "execution_count": null,
   "metadata": {},
   "outputs": [],
   "source": []
  }
 ],
 "metadata": {
  "celltoolbar": "Raw Cell Format",
  "kernelspec": {
   "display_name": "Python 2",
   "language": "python",
   "name": "python2"
  },
  "language_info": {
   "codemirror_mode": {
    "name": "ipython",
    "version": 2
   },
   "file_extension": ".py",
   "mimetype": "text/x-python",
   "name": "python",
   "nbconvert_exporter": "python",
   "pygments_lexer": "ipython2",
   "version": "2.7.17"
  }
 },
 "nbformat": 4,
 "nbformat_minor": 2
}
