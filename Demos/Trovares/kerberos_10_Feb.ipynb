{
 "cells": [
  {
   "cell_type": "code",
   "execution_count": 1,
   "metadata": {},
   "outputs": [
    {
     "name": "stdout",
     "output_type": "stream",
     "text": [
      "3.7.4\n"
     ]
    }
   ],
   "source": [
    "import xgt\n",
    "import os\n",
    "import pandas\n",
    "\n",
    "from platform import python_version\n",
    "print (python_version())"
   ]
  },
  {
   "cell_type": "code",
   "execution_count": 2,
   "metadata": {},
   "outputs": [],
   "source": [
    "if os.environ.get('https_proxy'):\n",
    " del os.environ['https_proxy']\n",
    "if os.environ.get('http_proxy'):\n",
    " del os.environ['http_proxy']"
   ]
  },
  {
   "cell_type": "code",
   "execution_count": 3,
   "metadata": {},
   "outputs": [
    {
     "data": {
      "text/plain": [
       "'1.3.0'"
      ]
     },
     "execution_count": 3,
     "metadata": {},
     "output_type": "execute_result"
    }
   ],
   "source": [
    "conn=xgt.Connection()\n",
    "conn.server_version"
   ]
  },
  {
   "cell_type": "code",
   "execution_count": 4,
   "metadata": {},
   "outputs": [
    {
     "data": {
      "text/plain": [
       "<xgt.graph.VertexFrame at 0x7f01e3628890>"
      ]
     },
     "execution_count": 4,
     "metadata": {},
     "output_type": "execute_result"
    }
   ],
   "source": [
    "try:\n",
    "  devices = conn.get_vertex_frame('Devices')\n",
    "except xgt.XgtNameError:\n",
    "  devices = conn.create_vertex_frame(\n",
    "      name='Devices',\n",
    "      schema=[['device', xgt.TEXT]],\n",
    "      key='device')\n",
    "devices"
   ]
  },
  {
   "cell_type": "code",
   "execution_count": 5,
   "metadata": {},
   "outputs": [
    {
     "data": {
      "text/plain": [
       "<xgt.graph.EdgeFrame at 0x7f01e127a410>"
      ]
     },
     "execution_count": 5,
     "metadata": {},
     "output_type": "execute_result"
    }
   ],
   "source": [
    "try:\n",
    "  netflow = conn.get_edge_frame('Netflow')\n",
    "except xgt.XgtNameError:\n",
    "  netflow = conn.create_edge_frame(\n",
    "      name='Netflow',\n",
    "      schema=[['epoch_time', xgt.INT],\n",
    "              ['duration', xgt.INT],\n",
    "              ['src_device', xgt.TEXT],\n",
    "              ['dst_device', xgt.TEXT],\n",
    "              ['protocol', xgt.INT],\n",
    "              ['src_port', xgt.INT],\n",
    "              ['dst_port', xgt.INT],\n",
    "              ['src_packets', xgt.INT],\n",
    "              ['dst_packets', xgt.INT],\n",
    "              ['src_bytes', xgt.INT],\n",
    "              ['dst_bytes', xgt.INT]],\n",
    "      source=devices,\n",
    "      target=devices,\n",
    "      source_key='src_device',\n",
    "      target_key='dst_device')\n",
    "netflow"
   ]
  },
  {
   "cell_type": "code",
   "execution_count": 6,
   "metadata": {},
   "outputs": [
    {
     "data": {
      "text/plain": [
       "<xgt.graph.EdgeFrame at 0x7f01e127ad10>"
      ]
     },
     "execution_count": 6,
     "metadata": {},
     "output_type": "execute_result"
    }
   ],
   "source": [
    "try:\n",
    "  host_events = conn.get_edge_frame('HostEvents')\n",
    "except xgt.XgtNameError:\n",
    "  host_events = conn.create_edge_frame(\n",
    "      name='HostEvents',\n",
    "      schema=[['epoch_time', xgt.INT],\n",
    "              ['event_id', xgt.INT],\n",
    "              ['log_host', xgt.TEXT],\n",
    "              ['user_name', xgt.TEXT],\n",
    "              ['domain_name', xgt.TEXT],\n",
    "              ['logon_id', xgt.INT],\n",
    "              ['process_name', xgt.TEXT],\n",
    "              ['process_id', xgt.INT],\n",
    "              ['parent_process_name', xgt.TEXT],\n",
    "              ['parent_process_id', xgt.INT]],\n",
    "           source=devices,\n",
    "           target=devices,\n",
    "           source_key='log_host',\n",
    "           target_key='log_host')\n",
    "host_events"
   ]
  },
  {
   "cell_type": "code",
   "execution_count": 7,
   "metadata": {},
   "outputs": [
    {
     "data": {
      "text/plain": [
       "<xgt.graph.EdgeFrame at 0x7f01e128ef50>"
      ]
     },
     "execution_count": 7,
     "metadata": {},
     "output_type": "execute_result"
    }
   ],
   "source": [
    "try:\n",
    "  auth_events = conn.get_edge_frame('AuthEvents')\n",
    "except xgt.XgtNameError:\n",
    "  auth_events = conn.create_edge_frame(\n",
    "           name='AuthEvents',\n",
    "           schema = [['epoch_time',xgt.INT],\n",
    "                     ['event_id',xgt.INT],\n",
    "                     ['log_host',xgt.TEXT],\n",
    "                     ['logon_type',xgt.INT],\n",
    "                     ['logon_type_description',xgt.TEXT],\n",
    "                     ['user_name',xgt.TEXT],\n",
    "                     ['domain_name',xgt.TEXT],\n",
    "                     ['logon_id',xgt.INT],\n",
    "                     ['subject_user_name',xgt.TEXT],\n",
    "                     ['subject_domain_name',xgt.TEXT],\n",
    "                     ['subject_logon_id',xgt.TEXT],\n",
    "                     ['status',xgt.TEXT],\n",
    "                     ['src',xgt.TEXT],\n",
    "                     ['service_name',xgt.TEXT],\n",
    "                     ['destination',xgt.TEXT],\n",
    "                     ['authentication_package',xgt.TEXT],\n",
    "                     ['failure_reason',xgt.TEXT],\n",
    "                     ['process_name',xgt.TEXT],\n",
    "                     ['process_id',xgt.INT],\n",
    "                     ['parent_process_name',xgt.TEXT],\n",
    "                     ['parent_process_id',xgt.INT]],\n",
    "            source = 'Devices',\n",
    "            target = 'Devices',\n",
    "            source_key = 'src',\n",
    "            target_key = 'destination')\n",
    "auth_events"
   ]
  },
  {
   "cell_type": "code",
   "execution_count": 8,
   "metadata": {},
   "outputs": [
    {
     "name": "stdout",
     "output_type": "stream",
     "text": [
      "Devices (vertices): 12,288\n",
      "Netflow (edges): 0\n",
      "Host events (edges): 18,637,483\n",
      "Authentication events (edges): 47,790,045\n",
      "Total (edges): 66,427,528\n"
     ]
    }
   ],
   "source": [
    "# Utility to print the sizes of data currently in xGT\n",
    "def print_data_summary():\n",
    "  print('Devices (vertices): {:,}'.format(devices.num_vertices))\n",
    "  print('Netflow (edges): {:,}'.format(netflow.num_edges))\n",
    "  print('Host events (edges): {:,}'.format(host_events.num_edges))\n",
    "  print('Authentication events (edges): {:,}'.format(auth_events.num_edges))\n",
    "  print('Total (edges): {:,}'.format(\n",
    "      netflow.num_edges + host_events.num_edges + auth_events.num_edges))\n",
    "    \n",
    "print_data_summary()"
   ]
  },
  {
   "cell_type": "code",
   "execution_count": 9,
   "metadata": {
    "scrolled": true
   },
   "outputs": [
    {
     "name": "stdout",
     "output_type": "stream",
     "text": [
      "CPU times: user 713 µs, sys: 0 ns, total: 713 µs\n",
      "Wall time: 615 µs\n"
     ]
    }
   ],
   "source": [
    "%%time\n",
    "\n",
    "# Load the HostEvents event data:\n",
    "if host_events.num_edges == 0:\n",
    "    # urls = [\"https://datasets.trovares.com/LANL/xgt/wls_day-85_1v.csv\"]\n",
    "    urls = [\"xgtd://nvme_data1/data_1v/wls_day-{:02d}_1v.csv\".format(_) for _ in range(2,91)]\n",
    "    # urls = [\"xgtd://data_1v/wls_day-11_1v.csv\"]\n",
    "    host_events.load(urls)\n",
    "    print_data_summary()"
   ]
  },
  {
   "cell_type": "code",
   "execution_count": 10,
   "metadata": {},
   "outputs": [
    {
     "name": "stdout",
     "output_type": "stream",
     "text": [
      "Devices (vertices): 18,925\n",
      "Netflow (edges): 0\n",
      "Host events (edges): 1,468,936,024\n",
      "Authentication events (edges): 4,022,436,222\n",
      "Total (edges): 5,491,372,246\n",
      "CPU times: user 588 ms, sys: 374 ms, total: 962 ms\n",
      "Wall time: 4min 52s\n"
     ]
    }
   ],
   "source": [
    "%%time\n",
    "\n",
    "# Load the AuthEvents event data:\n",
    "if auth_events.num_edges == 0:\n",
    "    # urls = [\"https://datasets.trovares.com/LANL/xgt/wls_day-85_2v.csv\"]\n",
    "    urls = [\"xgtd://nvme_data9/data_2v/wls_day-{:02d}_2v.csv\".format(_) for _ in range(2,91)]\n",
    "    #urls = [\"xgtd://data_2v/wls_day-11_2v.csv\"]\n",
    "    auth_events.load(urls)\n",
    "    print_data_summary()"
   ]
  },
  {
   "cell_type": "code",
   "execution_count": 11,
   "metadata": {},
   "outputs": [
    {
     "name": "stdout",
     "output_type": "stream",
     "text": [
      "Devices (vertices): 933,714\n",
      "Netflow (edges): 17,882,795,024\n",
      "Host events (edges): 1,468,936,024\n",
      "Authentication events (edges): 4,022,436,222\n",
      "Total (edges): 23,374,167,270\n",
      "CPU times: user 1.55 s, sys: 990 ms, total: 2.54 s\n",
      "Wall time: 14min 47s\n"
     ]
    }
   ],
   "source": [
    "%%time\n",
    "\n",
    "# Load the netflow data:\n",
    "if netflow.num_edges == 0:\n",
    "    #urls = [\"https://datasets.trovares.com/LANL/xgt/nf_day-85.csv\"]\n",
    "    urls = [\"xgtd://nvme_data1/data_nf/nf_day-{:02d}.csv\".format(_) for _ in range(2,91)]\n",
    "    # urls = [\"xgtd://nvme_data1/data_nf/nf_day-11.csv\"]\n",
    "    netflow.load(urls)\n",
    "    print_data_summary()"
   ]
  },
  {
   "cell_type": "code",
   "execution_count": 12,
   "metadata": {},
   "outputs": [],
   "source": [
    "# Utility function to launch queries and show job number:\n",
    "#   The job number may be useful if a long-running job needs\n",
    "#   to be canceled.\n",
    "\n",
    "def run_query(query, table_name = \"answers\", drop_answer_table=True, show_query=False):\n",
    "    if drop_answer_table:\n",
    "        conn.drop_frame(table_name)\n",
    "    if query[-1] != '\\n':\n",
    "        query += '\\n'\n",
    "    query += 'INTO {}'.format(table_name)\n",
    "    if show_query:\n",
    "        print(\"Query:\\n\" + query)\n",
    "    job = conn.schedule_job(query)\n",
    "    print(\"Launched job {}\".format(job.id))\n",
    "    conn.wait_for_job(job)\n",
    "    table = conn.get_table_frame(table_name)\n",
    "    return table"
   ]
  },
  {
   "cell_type": "code",
   "execution_count": 13,
   "metadata": {},
   "outputs": [
    {
     "data": {
      "text/plain": [
       "<xgt.graph.EdgeFrame at 0x7fb35d3a54d0>"
      ]
     },
     "execution_count": 13,
     "metadata": {},
     "output_type": "execute_result"
    }
   ],
   "source": [
    "# Generate a new edge frame for holding only the tgt_req_events edges\n",
    "import time\n",
    "query_start_time = time.time()\n",
    "\n",
    "conn.drop_frame('tgt_req_events')\n",
    "TGT_Req = conn.create_edge_frame(\n",
    "            name='tgt_req_events',\n",
    "            schema=auth_events.schema,\n",
    "            source=devices,\n",
    "            target=devices,\n",
    "            source_key='src',\n",
    "            target_key='destination')\n",
    "TGT_Req"
   ]
  },
  {
   "cell_type": "code",
   "execution_count": null,
   "metadata": {},
   "outputs": [],
   "source": [
    "# Generate a new edge frame for holding only the service_ticket_req edges\n",
    "import time\n",
    "query_start_time = time.time()\n",
    "\n",
    "conn.drop_frame('service_ticket_req')\n",
    "Service_Req = conn.create_edge_frame(\n",
    "            name='service_ticket_req',\n",
    "            schema=auth_events.schema,\n",
    "            source=devices,\n",
    "            target=devices,\n",
    "            source_key='src',\n",
    "            target_key='destination')\n",
    "Service_Req"
   ]
  },
  {
   "cell_type": "code",
   "execution_count": 14,
   "metadata": {},
   "outputs": [
    {
     "name": "stdout",
     "output_type": "stream",
     "text": [
      "Launched job 3914\n",
      "Number of answers: 2,176\n",
      "CPU times: user 304 ms, sys: 165 ms, total: 469 ms\n",
      "Wall time: 1min 53s\n"
     ]
    }
   ],
   "source": [
    "%%time\n",
    "\n",
    "#Filter out all the Nodes in which 4768(TGT request has been logged)\n",
    "q = \"\"\"\n",
    "MATCH (n1:Devices)-[r:AuthEvents]->[n2:Devices]\n",
    "WHERE r.event_id = 4768\n",
    "CREATE (n1)-[r1:tgt_req_events {epoch_time:r.epoch_time, event_id:r.event_id,\n",
    " log_host:r.log_host, logon_type:r.logon_type,\n",
    " logon_type_description:r.logon_type_description, user_name:r.user_name,\n",
    " domain_name:r.domain_name, logon_id:r.logon_id,\n",
    " subject_user_name:r.subject_user_name, subject_domain_name:r.subject_domain_name,\n",
    " subject_logon_id:r.subject_logon_id, status:r.status,\n",
    " src:r.src, service_name:r.service_name,\n",
    " destination:r.destination, authentication_package:r.authentication_package,\n",
    " failure_reason: r.failure_reason, process_name:r.process_name,\n",
    " process_id:r.process_id, parent_process_name:r.parent_process_name,\n",
    " parent_process_id:r.parent_process_id}]->(n2)\n",
    "RETURN count(*)\n",
    "\"\"\"\n",
    "data = run_query(q)\n",
    "print('Number of answers: {:,}'.format(data.get_data()[0][0]))"
   ]
  },
  {
   "cell_type": "code",
   "execution_count": 15,
   "metadata": {},
   "outputs": [
    {
     "name": "stdout",
     "output_type": "stream",
     "text": [
      "Launched job 5036\n",
      "Number of answers: 755,260\n",
      "CPU times: user 58.3 ms, sys: 42 ms, total: 100 ms\n",
      "Wall time: 53 s\n"
     ]
    }
   ],
   "source": [
    "%%time\n",
    "\n",
    "#Filter out all the Nodes in which 4769(Service ticket request has been logged)\n",
    "q = \"\"\"\n",
    "MATCH (n1:Devices)-[r:AuthEvents]->[n2:Devices]\n",
    "WHERE r.event_id = 4769\n",
    "CREATE (n1)-[r1:service_ticket_req {epoch_time:r.epoch_time, event_id:r.event_id,\n",
    " log_host:r.log_host, logon_type:r.logon_type,\n",
    " logon_type_description:r.logon_type_description, user_name:r.user_name,\n",
    " domain_name:r.domain_name, logon_id:r.logon_id,\n",
    " subject_user_name:r.subject_user_name, subject_domain_name:r.subject_domain_name,\n",
    " subject_logon_id:r.subject_logon_id, status:r.status,\n",
    " src:r.src, service_name:r.service_name,\n",
    " destination:r.destination, authentication_package:r.authentication_package,\n",
    " failure_reason: r.failure_reason, process_name:r.process_name,\n",
    " process_id:r.process_id, parent_process_name:r.parent_process_name,\n",
    " parent_process_id:r.parent_process_id}]->(n2)\n",
    "RETURN count(*)\n",
    "\"\"\"\n",
    "data = run_query(q)\n",
    "print('Number of answers: {:,}'.format(data.get_data()[0][0]))"
   ]
  },
  {
   "cell_type": "code",
   "execution_count": 16,
   "metadata": {},
   "outputs": [
    {
     "data": {
      "text/plain": [
       "'RDPflow (edges): 757,436'"
      ]
     },
     "execution_count": 16,
     "metadata": {},
     "output_type": "execute_result"
    }
   ],
   "source": [
    "data=None\n",
    "if service_ticket_req.num_edges == 0:\n",
    "    print(\"service_ticket_req is empty\")\n",
    "elif service_ticket_req.num_edges <= 1000:\n",
    "    data = service_ticket_req.get_data_pandas()\n",
    "else:\n",
    "    data = 'service_ticket_req (edges): {:,}'.format(service_ticket_req.num_edges)\n",
    "data"
   ]
  },
  {
   "cell_type": "code",
   "execution_count": 17,
   "metadata": {
    "scrolled": true
   },
   "outputs": [
    {
     "name": "stdout",
     "output_type": "stream",
     "text": [
      "Devices (vertices): 933,714\n",
      "Netflow (edges): 17,882,795,024\n",
      "Host events (edges): 1,468,936,024\n",
      "Authentication events (edges): 4,022,436,222\n",
      "Total (edges): 23,374,167,270\n",
      "RDPFlow (edges): 757,436\n"
     ]
    }
   ],
   "source": [
    "# Utility to print the data sizes currently in xGT\n",
    "def print_netflow_data_summary():\n",
    "  print_data_summary()\n",
    "  print('service_ticket_req (edges): {:,}'.format(service_ticket_req.num_edges))\n",
    "\n",
    "print_netflow_data_summary()"
   ]
  },
  {
   "cell_type": "code",
   "execution_count": null,
   "metadata": {},
   "outputs": [],
   "source": [
    "# Delete all the service_ticket_req relationships which does not have tgt_req_events with in the interval\n",
    "\n",
    "q = \"\"\"\n",
    "MATCH (n1:Devices)-[r1:service_ticket_req]->(n2:Devices),\n",
    "      (n1)-[r2:tgt_req_events]->(n2)\n",
    "WHERE r1.src = r2.src\n",
    "AND r1.epoch_time > r2.epoch_time\n",
    "AND r1.epoch_time - r2.epoch_time < 60\n",
    "DELETE r1, r2\n",
    "RETURN count(*)\n",
    "\"\"\"\n",
    "answer_table = run_query(q)\n",
    "print('Number of answers: {:,}'.format(answer_table.num_rows))"
   ]
  },
  {
   "cell_type": "code",
   "execution_count": 18,
   "metadata": {},
   "outputs": [
    {
     "name": "stdout",
     "output_type": "stream",
     "text": [
      "Launched job 5547\n",
      "Number of answers: 57,057\n",
      "CPU times: user 296 ms, sys: 209 ms, total: 505 ms\n",
      "Wall time: 7min 48s\n"
     ]
    }
   ],
   "source": [
    "%%time\n",
    "\n",
    "#Lateral Movement Query\n",
    "#time_threshold_between_step = 3600   # one hour\n",
    "#time_threshold_hijack = 180          # three minutes\n",
    "#time_threshold_one_step = 480        # eight minutes\n",
    "q = \"\"\"\n",
    "MATCH (n1:Devices)-[r1:service_ticket_req]->(n2:Devices),\n",
    "(n2)-[event:HostEvents]->(n2),\n",
    "(n1)-[r3:AuthEvents]->(n3:Devices),\n",
    "(n1)-[r4:Netflow]->(n3)\n",
    "WHERE event.event_id = 4688 AND event.process_name = \"lsass.exe\"\n",
    "AND r3.event_id = 4624\n",
    "AND r3.src = r1.src\n",
    "AND r3.destination = r1.service_name\n",
    "AND r3.authentication_package = \"Kerberos\"\n",
    "AND r1.epoch_time < r3.epoch_time\n",
    "AND r3.epoch_time - r1.epoch_time < 60\n",
    "AND r4.src_device = r1.src\n",
    "AND r4.dst_device = r1.service_name\n",
    "AND r3.epoch_time < r4.epoch_time\n",
    "AND r4.epoch_time - r3.epoch_time < 20\n",
    "AND r4.duration < 300\n",
    "RETURN DISTINCT r1.epoch_time, r1.log_host, r1.src, r1.service_name, r1.authentication_package, r3.epoch_time, r4.epoch_time, r4.duration\n",
    "\"\"\"\n",
    "answer_table = run_query(q)\n",
    "print('Number of answers: {:,}'.format(answer_table.num_rows))"
   ]
  },
  {
   "cell_type": "code",
   "execution_count": 19,
   "metadata": {},
   "outputs": [
    {
     "name": "stdout",
     "output_type": "stream",
     "text": [
      "Launched job 10151\n",
      "HijackEvents (edges): 11,715,150\n",
      "CPU times: user 42.9 ms, sys: 46 ms, total: 88.9 ms\n",
      "Wall time: 40.8 s\n"
     ]
    }
   ],
   "source": [
    "%%time\n",
    "# Build HijackEvents table\n",
    "\n",
    "import time\n",
    "start_optimized_query_time = time.time()\n",
    "\n",
    "conn.drop_frame('HijackEvents')\n",
    "hijack_events = conn.create_edge_frame(\n",
    "    name   ='HijackEvents',\n",
    "    schema = [['epoch_time', xgt.INT],\n",
    "              ['src_host', xgt.TEXT],\n",
    "              ['dst_host', xgt.TEXT]],\n",
    "    source = devices,\n",
    "    target = devices,\n",
    "    source_key = 'src_host',\n",
    "    target_key = 'dst_host')\n",
    "\n",
    "query = \"\"\"\n",
    "MATCH (v0)-[edge:HostEvents]->(v0)\n",
    "WHERE edge.process_name = \"Proc249569.exe\"\n",
    "  AND edge.event_id = 4688\n",
    "CREATE (v0)-[e:HijackEvents { epoch_time : edge.epoch_time }]->(v0)\n",
    "RETURN count(*)\n",
    "\"\"\"\n",
    "run_query(query)\n",
    "print('HijackEvents (edges): {:,}'.format(hijack_events.num_edges))"
   ]
  },
  {
   "cell_type": "code",
   "execution_count": 20,
   "metadata": {},
   "outputs": [
    {
     "name": "stdout",
     "output_type": "stream",
     "text": [
      "Launched job 10398\n",
      "PrivEscEvents (edges): 8,695,220\n",
      "CPU times: user 27 ms, sys: 8.8 ms, total: 35.8 ms\n",
      "Wall time: 17.4 s\n"
     ]
    }
   ],
   "source": [
    "%%time\n",
    "# Build a PrivEscEvents table\n",
    "\n",
    "conn.drop_frame('PrivEscEvents')\n",
    "priv_esc_events = conn.create_edge_frame(\n",
    "    name   ='PrivEscEvents',\n",
    "    schema = [['epoch_time', xgt.INT],\n",
    "              ['src_host', xgt.TEXT],\n",
    "              ['dst_host', xgt.TEXT]],\n",
    "    source = devices,\n",
    "    target = devices,\n",
    "    source_key = 'src_host',\n",
    "    target_key = 'dst_host')\n",
    "\n",
    "query = \"\"\"\n",
    "MATCH (v0)-[edge:HostEvents]->(v0)\n",
    "WHERE edge.process_name = \"Proc336322.exe\" OR\n",
    "      edge.process_name = \"Proc695356.exe\"\n",
    "  AND edge.event_id = 4688\n",
    "CREATE (v0)-[e:PrivEscEvents { epoch_time : edge.epoch_time }]->(v0)\n",
    "RETURN count(*)\n",
    "\"\"\"\n",
    "run_query(query)\n",
    "print('PrivEscEvents (edges): {:,}'.format(priv_esc_events.num_edges))"
   ]
  },
  {
   "cell_type": "code",
   "execution_count": 21,
   "metadata": {},
   "outputs": [
    {
     "name": "stdout",
     "output_type": "stream",
     "text": [
      "Launched job 10402\n",
      "Number of answers: 57,057\n",
      "Time for query: 4.45\n",
      "Overall time for query: 697.91\n",
      "CPU times: user 25.6 ms, sys: 6.39 ms, total: 32 ms\n",
      "Wall time: 4.45 s\n"
     ]
    }
   ],
   "source": [
    "%%time\n",
    "# Now run the lateral movement query using these new index tables\n",
    "\n",
    "q = \"\"\"\n",
    "MATCH (A)-[rdp1:RDPFlow]->(B)-[rdp2:RDPFlow]->(C),\n",
    "      (A)-[hijack1:HijackEvents]->(A)-[priv_esc1:PrivEscEvents]->(A),\n",
    "      (B)-[hijack2:HijackEvents]->(B)-[priv_esc2:PrivEscEvents]->(B)\n",
    "WHERE A <> B AND B <> C AND A <> C \n",
    "  // Check time constraints on the overall pattern\n",
    "  AND rdp1.epoch_time <= rdp2.epoch_time\n",
    "  AND rdp2.epoch_time - rdp1.epoch_time < {0}\n",
    "\n",
    "  // Check time constraints on step from A to B\n",
    "  AND priv_esc1.epoch_time <= hijack1.epoch_time\n",
    "  AND hijack1.epoch_time <= rdp1.epoch_time\n",
    "  AND rdp1.epoch_time - hijack1.epoch_time < {1}\n",
    "  AND rdp1.epoch_time - priv_esc1.epoch_time < {2}\n",
    "\n",
    "  // Check time constraints on step from B to C\n",
    "  AND priv_esc2.epoch_time <= hijack2.epoch_time\n",
    "  AND hijack2.epoch_time <= rdp2.epoch_time\n",
    "  AND rdp2.epoch_time - hijack2.epoch_time < {1}\n",
    "  AND rdp2.epoch_time - priv_esc2.epoch_time < {2}\n",
    "RETURN rdp1.src_device, rdp1.dst_device, rdp1.epoch_time, rdp2.dst_device, rdp2.epoch_time\n",
    "\"\"\".format(time_threshold_between_step, time_threshold_hijack, time_threshold_one_step)\n",
    "start_timer = time.time()\n",
    "answer_table = run_query(q)\n",
    "end_timer = time.time()\n",
    "query_end_time = time.time()\n",
    "print('Number of answers: {:,}'.format(answer_table.num_rows))\n",
    "\n",
    "print(\"Time for query: {:,.2f}\".format(end_timer - start_timer))\n",
    "print(\"Overall time for query: {:,.2f}\".format(query_end_time - query_start_time))"
   ]
  },
  {
   "cell_type": "code",
   "execution_count": 22,
   "metadata": {},
   "outputs": [
    {
     "data": {
      "text/html": [
       "<div>\n",
       "<style scoped>\n",
       "    .dataframe tbody tr th:only-of-type {\n",
       "        vertical-align: middle;\n",
       "    }\n",
       "\n",
       "    .dataframe tbody tr th {\n",
       "        vertical-align: top;\n",
       "    }\n",
       "\n",
       "    .dataframe thead th {\n",
       "        text-align: right;\n",
       "    }\n",
       "</style>\n",
       "<table border=\"1\" class=\"dataframe\">\n",
       "  <thead>\n",
       "    <tr style=\"text-align: right;\">\n",
       "      <th></th>\n",
       "      <th>rdp1_src_device</th>\n",
       "      <th>rdp1_dst_device</th>\n",
       "      <th>rdp1_epoch_time</th>\n",
       "      <th>rdp2_dst_device</th>\n",
       "      <th>rdp2_epoch_time</th>\n",
       "    </tr>\n",
       "  </thead>\n",
       "  <tbody>\n",
       "    <tr>\n",
       "      <th>0</th>\n",
       "      <td>ActiveDirectory</td>\n",
       "      <td>EnterpriseAppServer</td>\n",
       "      <td>4374441</td>\n",
       "      <td>Comp872390</td>\n",
       "      <td>4375296</td>\n",
       "    </tr>\n",
       "    <tr>\n",
       "      <th>1</th>\n",
       "      <td>ActiveDirectory</td>\n",
       "      <td>EnterpriseAppServer</td>\n",
       "      <td>4374441</td>\n",
       "      <td>Comp872390</td>\n",
       "      <td>4375296</td>\n",
       "    </tr>\n",
       "    <tr>\n",
       "      <th>2</th>\n",
       "      <td>ActiveDirectory</td>\n",
       "      <td>EnterpriseAppServer</td>\n",
       "      <td>4374441</td>\n",
       "      <td>Comp872390</td>\n",
       "      <td>4375296</td>\n",
       "    </tr>\n",
       "    <tr>\n",
       "      <th>3</th>\n",
       "      <td>ActiveDirectory</td>\n",
       "      <td>EnterpriseAppServer</td>\n",
       "      <td>4374441</td>\n",
       "      <td>Comp872390</td>\n",
       "      <td>4375296</td>\n",
       "    </tr>\n",
       "    <tr>\n",
       "      <th>4</th>\n",
       "      <td>ActiveDirectory</td>\n",
       "      <td>EnterpriseAppServer</td>\n",
       "      <td>4374441</td>\n",
       "      <td>Comp872390</td>\n",
       "      <td>4375296</td>\n",
       "    </tr>\n",
       "    <tr>\n",
       "      <th>5</th>\n",
       "      <td>ActiveDirectory</td>\n",
       "      <td>EnterpriseAppServer</td>\n",
       "      <td>4374441</td>\n",
       "      <td>Comp872390</td>\n",
       "      <td>4375296</td>\n",
       "    </tr>\n",
       "    <tr>\n",
       "      <th>6</th>\n",
       "      <td>ActiveDirectory</td>\n",
       "      <td>EnterpriseAppServer</td>\n",
       "      <td>4374441</td>\n",
       "      <td>Comp872390</td>\n",
       "      <td>4375296</td>\n",
       "    </tr>\n",
       "    <tr>\n",
       "      <th>7</th>\n",
       "      <td>ActiveDirectory</td>\n",
       "      <td>EnterpriseAppServer</td>\n",
       "      <td>1827566</td>\n",
       "      <td>Comp005825</td>\n",
       "      <td>1830021</td>\n",
       "    </tr>\n",
       "    <tr>\n",
       "      <th>8</th>\n",
       "      <td>ActiveDirectory</td>\n",
       "      <td>EnterpriseAppServer</td>\n",
       "      <td>4374441</td>\n",
       "      <td>Comp872390</td>\n",
       "      <td>4375296</td>\n",
       "    </tr>\n",
       "    <tr>\n",
       "      <th>9</th>\n",
       "      <td>ActiveDirectory</td>\n",
       "      <td>EnterpriseAppServer</td>\n",
       "      <td>4374441</td>\n",
       "      <td>Comp872390</td>\n",
       "      <td>4375296</td>\n",
       "    </tr>\n",
       "  </tbody>\n",
       "</table>\n",
       "</div>"
      ],
      "text/plain": [
       "   rdp1_src_device      rdp1_dst_device  rdp1_epoch_time rdp2_dst_device  \\\n",
       "0  ActiveDirectory  EnterpriseAppServer          4374441      Comp872390   \n",
       "1  ActiveDirectory  EnterpriseAppServer          4374441      Comp872390   \n",
       "2  ActiveDirectory  EnterpriseAppServer          4374441      Comp872390   \n",
       "3  ActiveDirectory  EnterpriseAppServer          4374441      Comp872390   \n",
       "4  ActiveDirectory  EnterpriseAppServer          4374441      Comp872390   \n",
       "5  ActiveDirectory  EnterpriseAppServer          4374441      Comp872390   \n",
       "6  ActiveDirectory  EnterpriseAppServer          4374441      Comp872390   \n",
       "7  ActiveDirectory  EnterpriseAppServer          1827566      Comp005825   \n",
       "8  ActiveDirectory  EnterpriseAppServer          4374441      Comp872390   \n",
       "9  ActiveDirectory  EnterpriseAppServer          4374441      Comp872390   \n",
       "\n",
       "   rdp2_epoch_time  \n",
       "0          4375296  \n",
       "1          4375296  \n",
       "2          4375296  \n",
       "3          4375296  \n",
       "4          4375296  \n",
       "5          4375296  \n",
       "6          4375296  \n",
       "7          1830021  \n",
       "8          4375296  \n",
       "9          4375296  "
      ]
     },
     "execution_count": 22,
     "metadata": {},
     "output_type": "execute_result"
    }
   ],
   "source": [
    "# retrieve the answer rows to the client in a pandas frame\n",
    "data = answer_table.get_data_pandas()\n",
    "data[0:10]"
   ]
  }
 ],
 "metadata": {
  "kernelspec": {
   "display_name": "Python 3",
   "language": "python",
   "name": "python3"
  },
  "language_info": {
   "codemirror_mode": {
    "name": "ipython",
    "version": 3
   },
   "file_extension": ".py",
   "mimetype": "text/x-python",
   "name": "python",
   "nbconvert_exporter": "python",
   "pygments_lexer": "ipython3",
   "version": "3.7.4"
  }
 },
 "nbformat": 4,
 "nbformat_minor": 2
}
