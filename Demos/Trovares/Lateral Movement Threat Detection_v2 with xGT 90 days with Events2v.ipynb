{
 "cells": [
  {
   "cell_type": "code",
   "execution_count": 4,
   "metadata": {},
   "outputs": [],
   "source": [
    "import xgt\n",
    "import os"
   ]
  },
  {
   "cell_type": "code",
   "execution_count": 5,
   "metadata": {},
   "outputs": [],
   "source": [
    "if os.environ.get('https_proxy'):\n",
    " del os.environ['https_proxy']\n",
    "if os.environ.get('http_proxy'):\n",
    " del os.environ['http_proxy']"
   ]
  },
  {
   "cell_type": "code",
   "execution_count": 6,
   "metadata": {},
   "outputs": [
    {
     "ename": "XgtConnectionError",
     "evalue": "Failure on connection initialization.",
     "output_type": "error",
     "traceback": [
      "\u001b[0;31m---------------------------------------------------------------------------\u001b[0m",
      "\u001b[0;31m_Rendezvous\u001b[0m                               Traceback (most recent call last)",
      "\u001b[0;32m~/Python_3_6/lib/python3.6/site-packages/xgt/connection.py\u001b[0m in \u001b[0;36m_run_rpc_function\u001b[0;34m(self, request, rpc_function)\u001b[0m\n\u001b[1;32m    151\u001b[0m     \u001b[0;32mtry\u001b[0m\u001b[0;34m:\u001b[0m\u001b[0;34m\u001b[0m\u001b[0;34m\u001b[0m\u001b[0m\n\u001b[0;32m--> 152\u001b[0;31m       \u001b[0mresponse\u001b[0m \u001b[0;34m=\u001b[0m \u001b[0mrpc_function\u001b[0m\u001b[0;34m(\u001b[0m\u001b[0mrequest\u001b[0m\u001b[0;34m)\u001b[0m\u001b[0;34m\u001b[0m\u001b[0;34m\u001b[0m\u001b[0m\n\u001b[0m\u001b[1;32m    153\u001b[0m     \u001b[0;32mexcept\u001b[0m \u001b[0mgrpc\u001b[0m\u001b[0;34m.\u001b[0m\u001b[0mRpcError\u001b[0m \u001b[0;32mas\u001b[0m \u001b[0mex\u001b[0m\u001b[0;34m:\u001b[0m\u001b[0;34m\u001b[0m\u001b[0;34m\u001b[0m\u001b[0m\n",
      "\u001b[0;32m~/Python_3_6/lib/python3.6/site-packages/grpc/_channel.py\u001b[0m in \u001b[0;36m__call__\u001b[0;34m(self, request, timeout, metadata, credentials, wait_for_ready, compression)\u001b[0m\n\u001b[1;32m    603\u001b[0m                                       wait_for_ready, compression)\n\u001b[0;32m--> 604\u001b[0;31m         \u001b[0;32mreturn\u001b[0m \u001b[0m_end_unary_response_blocking\u001b[0m\u001b[0;34m(\u001b[0m\u001b[0mstate\u001b[0m\u001b[0;34m,\u001b[0m \u001b[0mcall\u001b[0m\u001b[0;34m,\u001b[0m \u001b[0;32mFalse\u001b[0m\u001b[0;34m,\u001b[0m \u001b[0;32mNone\u001b[0m\u001b[0;34m)\u001b[0m\u001b[0;34m\u001b[0m\u001b[0;34m\u001b[0m\u001b[0m\n\u001b[0m\u001b[1;32m    605\u001b[0m \u001b[0;34m\u001b[0m\u001b[0m\n",
      "\u001b[0;32m~/Python_3_6/lib/python3.6/site-packages/grpc/_channel.py\u001b[0m in \u001b[0;36m_end_unary_response_blocking\u001b[0;34m(state, call, with_call, deadline)\u001b[0m\n\u001b[1;32m    505\u001b[0m     \u001b[0;32melse\u001b[0m\u001b[0;34m:\u001b[0m\u001b[0;34m\u001b[0m\u001b[0;34m\u001b[0m\u001b[0m\n\u001b[0;32m--> 506\u001b[0;31m         \u001b[0;32mraise\u001b[0m \u001b[0m_Rendezvous\u001b[0m\u001b[0;34m(\u001b[0m\u001b[0mstate\u001b[0m\u001b[0;34m,\u001b[0m \u001b[0;32mNone\u001b[0m\u001b[0;34m,\u001b[0m \u001b[0;32mNone\u001b[0m\u001b[0;34m,\u001b[0m \u001b[0mdeadline\u001b[0m\u001b[0;34m)\u001b[0m\u001b[0;34m\u001b[0m\u001b[0;34m\u001b[0m\u001b[0m\n\u001b[0m\u001b[1;32m    507\u001b[0m \u001b[0;34m\u001b[0m\u001b[0m\n",
      "\u001b[0;31m_Rendezvous\u001b[0m: <_Rendezvous of RPC that terminated with:\n\tstatus = StatusCode.UNIMPLEMENTED\n\tdetails = \"\"\n\tdebug_error_string = \"{\"created\":\"@1578005572.815345173\",\"description\":\"Error received from peer ipv4:127.0.0.1:4367\",\"file\":\"src/core/lib/surface/call.cc\",\"file_line\":1055,\"grpc_message\":\"\",\"grpc_status\":12}\"\n>",
      "\nDuring handling of the above exception, another exception occurred:\n",
      "\u001b[0;31mXgtConnectionError\u001b[0m                        Traceback (most recent call last)",
      "\u001b[0;32m~/Python_3_6/lib/python3.6/site-packages/xgt/connection.py\u001b[0m in \u001b[0;36m_initialize_server_unique_identifier\u001b[0;34m(self)\u001b[0m\n\u001b[1;32m    124\u001b[0m       \u001b[0mrequest\u001b[0m \u001b[0;34m=\u001b[0m \u001b[0madmin_proto\u001b[0m\u001b[0;34m.\u001b[0m\u001b[0mIdentifierRequest\u001b[0m\u001b[0;34m(\u001b[0m\u001b[0;34m)\u001b[0m\u001b[0;34m\u001b[0m\u001b[0;34m\u001b[0m\u001b[0m\n\u001b[0;32m--> 125\u001b[0;31m       \u001b[0mresponse\u001b[0m \u001b[0;34m=\u001b[0m \u001b[0mself\u001b[0m\u001b[0;34m.\u001b[0m\u001b[0m_run_rpc_function\u001b[0m\u001b[0;34m(\u001b[0m\u001b[0mrequest\u001b[0m\u001b[0;34m,\u001b[0m \u001b[0mself\u001b[0m\u001b[0;34m.\u001b[0m\u001b[0m_admin_svc\u001b[0m\u001b[0;34m.\u001b[0m\u001b[0mIdentifier\u001b[0m\u001b[0;34m)\u001b[0m\u001b[0;34m\u001b[0m\u001b[0;34m\u001b[0m\u001b[0m\n\u001b[0m\u001b[1;32m    126\u001b[0m       \u001b[0mself\u001b[0m\u001b[0;34m.\u001b[0m\u001b[0m_server_unique_identifier\u001b[0m \u001b[0;34m=\u001b[0m \u001b[0mresponse\u001b[0m\u001b[0;34m.\u001b[0m\u001b[0mserver_unique_identifier\u001b[0m\u001b[0;34m\u001b[0m\u001b[0;34m\u001b[0m\u001b[0m\n",
      "\u001b[0;32m~/Python_3_6/lib/python3.6/site-packages/xgt/connection.py\u001b[0m in \u001b[0;36m_run_rpc_function\u001b[0;34m(self, request, rpc_function)\u001b[0m\n\u001b[1;32m    153\u001b[0m     \u001b[0;32mexcept\u001b[0m \u001b[0mgrpc\u001b[0m\u001b[0;34m.\u001b[0m\u001b[0mRpcError\u001b[0m \u001b[0;32mas\u001b[0m \u001b[0mex\u001b[0m\u001b[0;34m:\u001b[0m\u001b[0;34m\u001b[0m\u001b[0;34m\u001b[0m\u001b[0m\n\u001b[0;32m--> 154\u001b[0;31m       \u001b[0;32mraise\u001b[0m \u001b[0mXgtConnectionError\u001b[0m\u001b[0;34m(\u001b[0m\u001b[0mex\u001b[0m\u001b[0;34m.\u001b[0m\u001b[0mdetails\u001b[0m\u001b[0;34m(\u001b[0m\u001b[0;34m)\u001b[0m\u001b[0;34m,\u001b[0m \u001b[0;34m''\u001b[0m\u001b[0;34m)\u001b[0m\u001b[0;34m\u001b[0m\u001b[0;34m\u001b[0m\u001b[0m\n\u001b[0m\u001b[1;32m    155\u001b[0m     \u001b[0;32mreturn\u001b[0m \u001b[0mresponse\u001b[0m\u001b[0;34m\u001b[0m\u001b[0;34m\u001b[0m\u001b[0m\n",
      "\u001b[0;31mXgtConnectionError\u001b[0m: ",
      "\nDuring handling of the above exception, another exception occurred:\n",
      "\u001b[0;31mXgtConnectionError\u001b[0m                        Traceback (most recent call last)",
      "\u001b[0;32m<ipython-input-6-5c4783336099>\u001b[0m in \u001b[0;36m<module>\u001b[0;34m\u001b[0m\n\u001b[0;32m----> 1\u001b[0;31m \u001b[0mconn\u001b[0m\u001b[0;34m=\u001b[0m\u001b[0mxgt\u001b[0m\u001b[0;34m.\u001b[0m\u001b[0mConnection\u001b[0m\u001b[0;34m(\u001b[0m\u001b[0;34m)\u001b[0m\u001b[0;34m\u001b[0m\u001b[0;34m\u001b[0m\u001b[0m\n\u001b[0m\u001b[1;32m      2\u001b[0m \u001b[0;31m#conn.__version__\u001b[0m\u001b[0;34m\u001b[0m\u001b[0;34m\u001b[0m\u001b[0;34m\u001b[0m\u001b[0m\n\u001b[1;32m      3\u001b[0m \u001b[0;31m#conn.about()\u001b[0m\u001b[0;34m\u001b[0m\u001b[0;34m\u001b[0m\u001b[0;34m\u001b[0m\u001b[0m\n\u001b[1;32m      4\u001b[0m \u001b[0;31m#conn.server_version\u001b[0m\u001b[0;34m\u001b[0m\u001b[0;34m\u001b[0m\u001b[0;34m\u001b[0m\u001b[0m\n",
      "\u001b[0;32m~/Python_3_6/lib/python3.6/site-packages/xgt/connection.py\u001b[0m in \u001b[0;36m__init__\u001b[0;34m(self, host, port, flags)\u001b[0m\n\u001b[1;32m     96\u001b[0m \u001b[0;34m\u001b[0m\u001b[0m\n\u001b[1;32m     97\u001b[0m     \u001b[0mself\u001b[0m\u001b[0;34m.\u001b[0m\u001b[0m_server_unique_identifier\u001b[0m \u001b[0;34m=\u001b[0m \u001b[0;36m0\u001b[0m\u001b[0;34m\u001b[0m\u001b[0;34m\u001b[0m\u001b[0m\n\u001b[0;32m---> 98\u001b[0;31m     \u001b[0mself\u001b[0m\u001b[0;34m.\u001b[0m\u001b[0m_initialize_server_unique_identifier\u001b[0m\u001b[0;34m(\u001b[0m\u001b[0;34m)\u001b[0m\u001b[0;34m\u001b[0m\u001b[0;34m\u001b[0m\u001b[0m\n\u001b[0m\u001b[1;32m     99\u001b[0m     \u001b[0mself\u001b[0m\u001b[0;34m.\u001b[0m\u001b[0m_version_check\u001b[0m\u001b[0;34m(\u001b[0m\u001b[0;34m)\u001b[0m\u001b[0;34m\u001b[0m\u001b[0;34m\u001b[0m\u001b[0m\n\u001b[1;32m    100\u001b[0m \u001b[0;34m\u001b[0m\u001b[0m\n",
      "\u001b[0;32m~/Python_3_6/lib/python3.6/site-packages/xgt/connection.py\u001b[0m in \u001b[0;36m_initialize_server_unique_identifier\u001b[0;34m(self)\u001b[0m\n\u001b[1;32m    126\u001b[0m       \u001b[0mself\u001b[0m\u001b[0;34m.\u001b[0m\u001b[0m_server_unique_identifier\u001b[0m \u001b[0;34m=\u001b[0m \u001b[0mresponse\u001b[0m\u001b[0;34m.\u001b[0m\u001b[0mserver_unique_identifier\u001b[0m\u001b[0;34m\u001b[0m\u001b[0;34m\u001b[0m\u001b[0m\n\u001b[1;32m    127\u001b[0m     \u001b[0;32mexcept\u001b[0m \u001b[0mException\u001b[0m\u001b[0;34m:\u001b[0m\u001b[0;34m\u001b[0m\u001b[0;34m\u001b[0m\u001b[0m\n\u001b[0;32m--> 128\u001b[0;31m       \u001b[0;32mraise\u001b[0m \u001b[0mXgtConnectionError\u001b[0m\u001b[0;34m(\u001b[0m\u001b[0;34m'Failure on connection initialization.'\u001b[0m\u001b[0;34m)\u001b[0m\u001b[0;34m\u001b[0m\u001b[0;34m\u001b[0m\u001b[0m\n\u001b[0m\u001b[1;32m    129\u001b[0m \u001b[0;34m\u001b[0m\u001b[0m\n\u001b[1;32m    130\u001b[0m   \u001b[0;32mdef\u001b[0m \u001b[0mcall\u001b[0m\u001b[0;34m(\u001b[0m\u001b[0mself\u001b[0m\u001b[0;34m,\u001b[0m \u001b[0mrequest\u001b[0m\u001b[0;34m,\u001b[0m \u001b[0mrpc_function\u001b[0m\u001b[0;34m)\u001b[0m\u001b[0;34m:\u001b[0m\u001b[0;34m\u001b[0m\u001b[0;34m\u001b[0m\u001b[0m\n",
      "\u001b[0;31mXgtConnectionError\u001b[0m: Failure on connection initialization."
     ]
    }
   ],
   "source": [
    "conn=xgt.Connection()\n",
    "#conn.__version__\n",
    "#conn.about()\n",
    "#conn.server_version"
   ]
  },
  {
   "cell_type": "code",
   "execution_count": null,
   "metadata": {},
   "outputs": [],
   "source": [
    "# Create a Vertex Frame named \"devices\"\n",
    "try:\n",
    "  devices = conn.get_vertex_frame('Devices')\n",
    "except xgt.XgtNameError:\n",
    "  devices = conn.create_vertex_frame(\n",
    "              name='Devices',\n",
    "              schema=[['device', xgt.TEXT]],\n",
    "              key='device')\n",
    "devices"
   ]
  },
  {
   "cell_type": "code",
   "execution_count": null,
   "metadata": {},
   "outputs": [],
   "source": [
    "# Create an Edge Frame named \"netflow\"\n",
    "\n",
    "try:\n",
    "  netflow = conn.get_edge_frame('Netflow')\n",
    "except xgt.XgtNameError:\n",
    "  netflow = conn.create_edge_frame(\n",
    "            name='Netflow',\n",
    "            schema=[['epochtime', xgt.INT],\n",
    "                    ['duration', xgt.INT],\n",
    "                    ['srcDevice', xgt.TEXT],\n",
    "                    ['dstDevice', xgt.TEXT],\n",
    "                    ['protocol', xgt.INT],\n",
    "                    ['srcPort', xgt.INT],\n",
    "                    ['dstPort', xgt.INT],\n",
    "                    ['srcPackets', xgt.INT],\n",
    "                    ['dstPackets', xgt.INT],\n",
    "                    ['srcBytes', xgt.INT],\n",
    "                    ['dstBytes', xgt.INT]],\n",
    "            source=devices,\n",
    "            target=devices,\n",
    "            source_key='srcDevice',\n",
    "            target_key='dstDevice')\n",
    "netflow"
   ]
  },
  {
   "cell_type": "code",
   "execution_count": null,
   "metadata": {},
   "outputs": [],
   "source": [
    "try:\n",
    "  events1v = conn.get_edge_frame('Events1v')\n",
    "except xgt.XgtNameError:\n",
    "  events1v = conn.create_edge_frame(\n",
    "           name='Events1v',\n",
    "           schema=[['epochtime', xgt.INT],\n",
    "                   ['eventID', xgt.INT],\n",
    "                   ['logHost', xgt.TEXT],\n",
    "                   ['userName', xgt.TEXT],\n",
    "                   ['domainName', xgt.TEXT],\n",
    "                   ['logonID', xgt.INT],\n",
    "                   ['processName', xgt.TEXT],\n",
    "                   ['processID', xgt.INT],\n",
    "                   ['parentProcessName', xgt.TEXT],\n",
    "                   ['parentProcessID', xgt.INT]],\n",
    "           source=devices,\n",
    "           target=devices,\n",
    "           source_key='logHost',\n",
    "           target_key='logHost')\n",
    "events1v"
   ]
  },
  {
   "cell_type": "code",
   "execution_count": null,
   "metadata": {},
   "outputs": [],
   "source": [
    "try:\n",
    "  events2v = conn.get_edge_frame('Events2v')\n",
    "except xgt.XgtNameError:\n",
    "  events2v = conn.create_edge_frame(\n",
    "           name='Events2v',\n",
    "           schema = [['epochtime',xgt.INT],\n",
    "                     ['eventID',xgt.INT],\n",
    "                     ['logHost',xgt.TEXT],\n",
    "                     ['logonType',xgt.INT],\n",
    "                     ['logonTypeDescription',xgt.TEXT],\n",
    "                     ['userName',xgt.TEXT],\n",
    "                     ['domainName',xgt.TEXT],\n",
    "                     ['logonID',xgt.INT],\n",
    "                     ['subjectUserName',xgt.TEXT],\n",
    "                     ['subjectDomainName',xgt.TEXT],\n",
    "                     ['subjectLogonID',xgt.TEXT],\n",
    "                     ['status',xgt.TEXT],\n",
    "                     ['src',xgt.TEXT],\n",
    "                     ['serviceName',xgt.TEXT],\n",
    "                     ['destination',xgt.TEXT],\n",
    "                     ['authenticationPackage',xgt.TEXT],\n",
    "                     ['failureReason',xgt.TEXT],\n",
    "                     ['processName',xgt.TEXT],\n",
    "                     ['processID',xgt.INT],\n",
    "                     ['parentProcessName',xgt.TEXT],\n",
    "                     ['parentProcessID',xgt.INT]],\n",
    "            source = 'Devices',\n",
    "            target = 'Devices',\n",
    "            source_key = 'src',\n",
    "            target_key = 'logHost')\n",
    "events2v"
   ]
  },
  {
   "cell_type": "code",
   "execution_count": null,
   "metadata": {},
   "outputs": [],
   "source": [
    "# Utility to print the sizes of data currently in xGT\n",
    "def print_data_summary():\n",
    "  print('Devices (vertices): {:,}'.format(devices.num_vertices))\n",
    "  print('Netflow (edges): {:,}'.format(netflow.num_edges))\n",
    "  print('Host event 1-vertex (edges): {:,}'.format(events1v.num_edges))\n",
    "  print('Host event 2-vertex (edges): {:,}'.format(events2v.num_edges))\n",
    "  print('Total (edges): {:,}'.format(\n",
    "      netflow.num_edges + events1v.num_edges + events2v.num_edges))\n",
    "    \n",
    "print_data_summary()"
   ]
  },
  {
   "cell_type": "code",
   "execution_count": 7,
   "metadata": {},
   "outputs": [
    {
     "ename": "NameError",
     "evalue": "name 'events1v' is not defined",
     "output_type": "error",
     "traceback": [
      "\u001b[0;31m---------------------------------------------------------------------------\u001b[0m",
      "\u001b[0;31mNameError\u001b[0m                                 Traceback (most recent call last)",
      "\u001b[0;32m<timed exec>\u001b[0m in \u001b[0;36m<module>\u001b[0;34m\u001b[0m\n",
      "\u001b[0;31mNameError\u001b[0m: name 'events1v' is not defined"
     ]
    }
   ],
   "source": [
    "%%time\n",
    "if events1v.num_edges == 0:\n",
    "    # urls = [\"https://datasets.trovares.com/LANL/xgt/wls_day-85_1v.csv\"]\n",
    "    urls = [\"xgtd://data_1v/wls_day-{:02d}_1v.csv\".format(_) for _ in range(2,91)]\n",
    "    events1v.load(urls)\n",
    "    print_data_summary()"
   ]
  },
  {
   "cell_type": "code",
   "execution_count": 8,
   "metadata": {},
   "outputs": [
    {
     "ename": "NameError",
     "evalue": "name 'events2v' is not defined",
     "output_type": "error",
     "traceback": [
      "\u001b[0;31m---------------------------------------------------------------------------\u001b[0m",
      "\u001b[0;31mNameError\u001b[0m                                 Traceback (most recent call last)",
      "\u001b[0;32m<timed exec>\u001b[0m in \u001b[0;36m<module>\u001b[0;34m\u001b[0m\n",
      "\u001b[0;31mNameError\u001b[0m: name 'events2v' is not defined"
     ]
    }
   ],
   "source": [
    "%%time\n",
    "if events2v.num_edges == 0:\n",
    "    # urls = [\"https://datasets.trovares.com/LANL/xgt/wls_day-85_2v.csv\"]\n",
    "    urls = [\"xgtd://wls_day-{:02d}_2v.csv\".format(_) for _ in range(2,91)]\n",
    "    events2v.load(urls)\n",
    "    print_data_summary()"
   ]
  },
  {
   "cell_type": "code",
   "execution_count": 9,
   "metadata": {},
   "outputs": [
    {
     "ename": "NameError",
     "evalue": "name 'netflow' is not defined",
     "output_type": "error",
     "traceback": [
      "\u001b[0;31m---------------------------------------------------------------------------\u001b[0m",
      "\u001b[0;31mNameError\u001b[0m                                 Traceback (most recent call last)",
      "\u001b[0;32m<timed exec>\u001b[0m in \u001b[0;36m<module>\u001b[0;34m\u001b[0m\n",
      "\u001b[0;31mNameError\u001b[0m: name 'netflow' is not defined"
     ]
    }
   ],
   "source": [
    "%%time\n",
    "if netflow.num_edges == 0:\n",
    "    # urls = [\"https://datasets.trovares.com/LANL/xgt/nf_day-85.csv\"]\n",
    "    urls = [\"xgtd://nf_day-{:02d}.csv\".format(_) for _ in range(2,91)]\n",
    "    netflow.load(urls)\n",
    "    print_data_summary()"
   ]
  },
  {
   "cell_type": "code",
   "execution_count": 10,
   "metadata": {},
   "outputs": [],
   "source": [
    "# Utility function to launch queries and show job number:\n",
    "#   The job number may be useful if a long-running job needs\n",
    "#   to be canceled.\n",
    "\n",
    "def run_query(query, table_name = \"answers\", drop_answer_table=True, show_query=False):\n",
    "    if drop_answer_table:\n",
    "        conn.drop_frame(table_name)\n",
    "    if query[-1] != '\\n':\n",
    "        query += '\\n'\n",
    "    query += 'INTO {}'.format(table_name)\n",
    "    if show_query:\n",
    "        print(\"Query:\\n\" + query)\n",
    "    job = conn.schedule_job(query)\n",
    "    print(\"Launched job {}\".format(job.id))\n",
    "    conn.wait_for_job(job)\n",
    "    table = conn.get_table_frame(table_name)\n",
    "    return table"
   ]
  },
  {
   "cell_type": "code",
   "execution_count": 11,
   "metadata": {},
   "outputs": [
    {
     "ename": "NameError",
     "evalue": "name 'conn' is not defined",
     "output_type": "error",
     "traceback": [
      "\u001b[0;31m---------------------------------------------------------------------------\u001b[0m",
      "\u001b[0;31mNameError\u001b[0m                                 Traceback (most recent call last)",
      "\u001b[0;32m<ipython-input-11-6ab70d1f0ebe>\u001b[0m in \u001b[0;36m<module>\u001b[0;34m\u001b[0m\n\u001b[1;32m      1\u001b[0m \u001b[0;31m# Generate a new edge frame for holding only the RDP edges\u001b[0m\u001b[0;34m\u001b[0m\u001b[0;34m\u001b[0m\u001b[0;34m\u001b[0m\u001b[0m\n\u001b[0;32m----> 2\u001b[0;31m \u001b[0mconn\u001b[0m\u001b[0;34m.\u001b[0m\u001b[0mdrop_frame\u001b[0m\u001b[0;34m(\u001b[0m\u001b[0;34m'RDPflow'\u001b[0m\u001b[0;34m)\u001b[0m\u001b[0;34m\u001b[0m\u001b[0;34m\u001b[0m\u001b[0m\n\u001b[0m\u001b[1;32m      3\u001b[0m rdpflow = conn.create_edge_frame(\n\u001b[1;32m      4\u001b[0m             \u001b[0mname\u001b[0m\u001b[0;34m=\u001b[0m\u001b[0;34m'RDPflow'\u001b[0m\u001b[0;34m,\u001b[0m\u001b[0;34m\u001b[0m\u001b[0;34m\u001b[0m\u001b[0m\n\u001b[1;32m      5\u001b[0m             \u001b[0mschema\u001b[0m\u001b[0;34m=\u001b[0m\u001b[0mnetflow\u001b[0m\u001b[0;34m.\u001b[0m\u001b[0mschema\u001b[0m\u001b[0;34m,\u001b[0m\u001b[0;34m\u001b[0m\u001b[0;34m\u001b[0m\u001b[0m\n",
      "\u001b[0;31mNameError\u001b[0m: name 'conn' is not defined"
     ]
    }
   ],
   "source": [
    "# Generate a new edge frame for holding only the RDP edges\n",
    "conn.drop_frame('RDPflow')\n",
    "rdpflow = conn.create_edge_frame(\n",
    "            name='RDPflow',\n",
    "            schema=netflow.schema,\n",
    "            source=devices,\n",
    "            target=devices,\n",
    "            source_key='srcDevice',\n",
    "            target_key='dstDevice')\n",
    "rdpflow"
   ]
  },
  {
   "cell_type": "code",
   "execution_count": null,
   "metadata": {},
   "outputs": [],
   "source": [
    "%%time\n",
    "q = \"\"\"\n",
    "MATCH ()-[edge:Netflow]->()\n",
    "WHERE edge.dstPort=3389\n",
    "MERGE (v0: Devices { device : edge.srcDevice })\n",
    "MERGE (v1: Devices { device : edge.dstDevice })\n",
    "CREATE (v0)-[e:RDPflow {epochtime : edge.epochtime,\n",
    "  duration : edge.duration, protocol : edge.protocol,\n",
    "  srcPort : edge.srcPort, dstPort : edge.dstPort,\n",
    "  srcPackets : edge.srcPackets, dstPackets : edge.dstPackets,\n",
    "  srcBytes : edge.srcBytes, dstBytes : edge.dstBytes}]->(v1)\n",
    "RETURN count(*)\n",
    "\"\"\"\n",
    "data = run_query(q)\n",
    "print('Number of answers: {:,}'.format(data.get_data()[0][0]))"
   ]
  },
  {
   "cell_type": "code",
   "execution_count": null,
   "metadata": {},
   "outputs": [],
   "source": [
    "%%time\n",
    "q = \"\"\"\n",
    "MATCH ()-[edge:Netflow]->()\n",
    "WHERE edge.srcPort=3389\n",
    "MERGE (v0: Devices { device : edge.srcDevice })\n",
    "MERGE (v1: Devices { device : edge.dstDevice })\n",
    "CREATE (v1)-[e:RDPflow {epochtime : edge.epochtime,\n",
    "  duration : edge.duration, protocol : edge.protocol,\n",
    "  srcPort : edge.dstPort, dstPort : edge.srcPort,\n",
    "  srcPackets : edge.dstPackets, dstPackets : edge.srcPackets,\n",
    "  srcBytes : edge.dstBytes, dstBytes : edge.srcBytes}]->(v0)\n",
    "RETURN count(*)\n",
    "\"\"\"\n",
    "data = run_query(q)\n",
    "print('Number of answers: {:,}'.format(data.get_data()[0][0]))"
   ]
  },
  {
   "cell_type": "code",
   "execution_count": null,
   "metadata": {},
   "outputs": [],
   "source": [
    "data=None\n",
    "if rdpflow.num_edges == 0:\n",
    "    print(\"RDPflow is empty\")\n",
    "elif rdpflow.num_edges <= 1000:\n",
    "    data = rdpflow.get_data_pandas()\n",
    "else:\n",
    "    data = 'RDPflow (edges): {:,}'.format(rdpflow.num_edges)\n",
    "data"
   ]
  },
  {
   "cell_type": "code",
   "execution_count": null,
   "metadata": {},
   "outputs": [],
   "source": [
    "# Utility to print the data sizes currently in xGT\n",
    "def print_netflow_data_summary():\n",
    "  print_data_summary()\n",
    "  print('RDPflow (edges): {:,}'.format(rdpflow.num_edges))\n",
    "\n",
    "print_netflow_data_summary()"
   ]
  },
  {
   "cell_type": "code",
   "execution_count": null,
   "metadata": {},
   "outputs": [],
   "source": [
    "# Generate an output edge frame for holding lateral movement edges\n",
    "latmvmt_schema = netflow.schema\n",
    "latmvmt_schema.append(['privEsc_epochtime', xgt.INT])\n",
    "latmvmt_schema.append(['privEsc_processName', xgt.TEXT])\n",
    "latmvmt_schema.append(['privEsc_parentProcessName', xgt.TEXT])\n",
    "latmvmt_schema.append(['hijack_epochtime', xgt.INT])\n",
    "latmvmt_schema.append(['hijack_processName', xgt.TEXT])\n",
    "latmvmt_schema.append(['hijack_parentProcessName', xgt.TEXT])\n",
    "latmvmt_schema.append(['edge_role_in_answer', xgt.TEXT])\n",
    "\n",
    "conn.drop_frame('LatMvmt')\n",
    "latmvmt = conn.create_edge_frame(\n",
    "            name='LatMvmt',\n",
    "            schema=latmvmt_schema,\n",
    "            source=devices,\n",
    "            target=devices,\n",
    "            source_key='srcDevice',\n",
    "            target_key='dstDevice')\n",
    "latmvmt"
   ]
  },
  {
   "cell_type": "code",
   "execution_count": null,
   "metadata": {},
   "outputs": [],
   "source": [
    "%%time\n",
    "import string\n",
    "\n",
    "thresholds = {\n",
    "    'time_threshold_between_step' : 3600,   # one hour\n",
    "    'time_threshold_hijack' : 180,          # three minutes\n",
    "    'time_threshold_one_step' : 480,        # eight minutes\n",
    "}\n",
    "q = string.Template(\"\"\"\n",
    "MATCH (A)-[rdp1:RDPflow]->(B)-[rdp2:RDPflow]->(C),\n",
    "      (A)-[hijack1:Events1v]->(A)-[privEsc1:Events1v]->(A),\n",
    "      (B)-[hijack2:Events1v]->(B)-[privEsc2:Events1v]->(B)\n",
    "WHERE A <> B AND B <> C AND A <> C \n",
    "  AND privEsc1.eventID = 4688 \n",
    "  AND (privEsc1.processName = \"Proc336322.exe\" OR privEsc1.processName = \"Proc695356.exe\")\n",
    "  AND hijack1.eventID = 4688 AND hijack1.processName = \"Proc249569.exe\"\n",
    "  AND privEsc2.eventID = 4688 \n",
    "  AND (privEsc2.processName = \"Proc336322.exe\" OR privEsc2.processName = \"Proc695356.exe\")\n",
    "  AND hijack2.eventID = 4688 AND hijack2.processName = \"Proc249569.exe\"\n",
    "\n",
    "  // Check time constraints on the overall pattern\n",
    "  AND rdp1.epochtime <= rdp2.epochtime\n",
    "  AND rdp2.epochtime - rdp1.epochtime < $time_threshold_between_step\n",
    "\n",
    "  // Check time constraints on step from A to B\n",
    "  AND privEsc1.epochtime <= hijack1.epochtime\n",
    "  AND hijack1.epochtime <= rdp1.epochtime\n",
    "  AND rdp1.epochtime - hijack1.epochtime < $time_threshold_hijack\n",
    "  AND rdp1.epochtime - privEsc1.epochtime < $time_threshold_one_step\n",
    "\n",
    "  // Check time constraints on step from B to C\n",
    "  AND privEsc2.epochtime <= hijack2.epochtime\n",
    "  AND hijack2.epochtime <= rdp2.epochtime\n",
    "  AND rdp2.epochtime - hijack2.epochtime < $time_threshold_hijack\n",
    "  AND rdp2.epochtime - privEsc2.epochtime < $time_threshold_one_step\n",
    "MERGE (v0: Devices { device : rdp1.srcDevice })\n",
    "MERGE (v1: Devices { device : rdp1.dstDevice })\n",
    "MERGE (v2: Devices { device : rdp2.dstDevice })\n",
    "CREATE (v0)-[e:LatMvmt { epochtime : rdp1.epochtime,\n",
    "  duration : rdp1.duration, protocol : rdp1.protocol,\n",
    "  srcPort : rdp1.srcPort, dstPort : rdp1.dstPort,\n",
    "  srcPackets : rdp1.srcPackets, dstPackets : rdp1.dstPackets,\n",
    "  srcBytes : rdp1.srcBytes, dstBytes : rdp1.dstBytes,\n",
    "  privEsc_epochtime : privEsc1.epochtime,\n",
    "  privEsc_processName : privEsc1.processName,\n",
    "  privEsc_parentProcessName : privEsc1.parentProcessName,\n",
    "  hijack_epochtime : hijack1.epochtime,\n",
    "  hijack_processName : hijack1.processName,\n",
    "  hijack_parentProcessName : hijack1.parentProcessName,\n",
    "  edge_role_in_answer : \"AB\"}]->(v1)\n",
    "CREATE (v1)-[f:LatMvmt { epochtime : rdp2.epochtime,\n",
    "  duration : rdp2.duration, protocol : rdp2.protocol,\n",
    "  srcPort : rdp2.srcPort, dstPort : rdp2.dstPort,\n",
    "  srcPackets : rdp2.srcPackets, dstPackets : rdp2.dstPackets,\n",
    "  srcBytes : rdp2.srcBytes, dstBytes : rdp2.dstBytes,\n",
    "  privEsc_epochtime : privEsc2.epochtime,\n",
    "  privEsc_processName : privEsc2.processName,\n",
    "  privEsc_parentProcessName : privEsc2.parentProcessName,\n",
    "  hijack_epochtime : hijack2.epochtime,\n",
    "  hijack_processName : hijack2.processName,\n",
    "  hijack_parentProcessName : hijack2.parentProcessName,\n",
    "  edge_role_in_answer : \"BC\"}]->(v2)\n",
    "RETURN COUNT(*)\n",
    "\"\"\").substitute(thresholds)\n",
    "\n",
    "answer_table = run_query(q)\n",
    "print('Number of answers: {:,}'.format(answer_table.get_data()[0][0]))\n",
    "print('Number of edges in output graph: {:,}'.format(latmvmt.num_rows))"
   ]
  },
  {
   "cell_type": "code",
   "execution_count": null,
   "metadata": {},
   "outputs": [],
   "source": [
    "# retrieve the answer rows to the client in a pandas frame\n",
    "data = latmvmt.get_data_pandas()\n",
    "data[0:10]"
   ]
  },
  {
   "cell_type": "code",
   "execution_count": null,
   "metadata": {},
   "outputs": [],
   "source": [
    "import matplotlib.pyplot as plt\n",
    "import networkx as nx\n",
    "\n",
    "# Ignore matplotlib warnings\n",
    "import warnings\n",
    "warnings.filterwarnings(\"ignore\")\n",
    "\n",
    "# http://jonathansoma.com/lede/algorithms-2017/classes/networks/networkx-graphs-from-source-target-dataframe/"
   ]
  },
  {
   "cell_type": "code",
   "execution_count": null,
   "metadata": {},
   "outputs": [],
   "source": [
    "g = nx.from_pandas_edgelist(data, source='srcDevice', target='dstDevice') \n",
    "\n",
    "plt.figure(figsize=(12, 12))\n",
    "layout = nx.spring_layout(g,iterations=50)\n",
    "plt.axis('off')\n",
    "plt.title(\"Lateral Movement threat detection with xGT on Superdome Flex\")\n",
    "\n",
    "# Plot it\n",
    "nx.draw(g, with_labels=True)\n",
    "plt.show()"
   ]
  },
  {
   "cell_type": "code",
   "execution_count": null,
   "metadata": {},
   "outputs": [],
   "source": []
  }
 ],
 "metadata": {
  "kernelspec": {
   "display_name": "Python_3_6",
   "language": "python",
   "name": "python_3_6"
  },
  "language_info": {
   "codemirror_mode": {
    "name": "ipython",
    "version": 3
   },
   "file_extension": ".py",
   "mimetype": "text/x-python",
   "name": "python",
   "nbconvert_exporter": "python",
   "pygments_lexer": "ipython3",
   "version": "3.6.9"
  }
 },
 "nbformat": 4,
 "nbformat_minor": 2
}
