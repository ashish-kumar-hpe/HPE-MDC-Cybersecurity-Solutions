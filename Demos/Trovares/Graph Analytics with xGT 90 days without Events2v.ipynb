{
 "cells": [
  {
   "cell_type": "code",
   "execution_count": 1,
   "metadata": {},
   "outputs": [],
   "source": [
    "import xgt\n",
    "import os"
   ]
  },
  {
   "cell_type": "code",
   "execution_count": 2,
   "metadata": {},
   "outputs": [],
   "source": [
    "if os.environ.get('https_proxy'):\n",
    " del os.environ['https_proxy']\n",
    "if os.environ.get('http_proxy'):\n",
    " del os.environ['http_proxy']"
   ]
  },
  {
   "cell_type": "code",
   "execution_count": 3,
   "metadata": {},
   "outputs": [
    {
     "data": {
      "text/plain": [
       "'1.2.0'"
      ]
     },
     "execution_count": 3,
     "metadata": {},
     "output_type": "execute_result"
    }
   ],
   "source": [
    "conn=xgt.Connection()\n",
    "#conn.__version__\n",
    "#conn.about()\n",
    "conn.server_version"
   ]
  },
  {
   "cell_type": "code",
   "execution_count": 4,
   "metadata": {},
   "outputs": [
    {
     "data": {
      "text/plain": [
       "<xgt.graph.VertexFrame at 0x7fc3ee37e5f8>"
      ]
     },
     "execution_count": 4,
     "metadata": {},
     "output_type": "execute_result"
    }
   ],
   "source": [
    "# Create a Vertex Frame named \"devices\"\n",
    "try:\n",
    "  devices = conn.get_vertex_frame('Devices')\n",
    "except xgt.XgtNameError:\n",
    "  devices = conn.create_vertex_frame(\n",
    "              name='Devices',\n",
    "              schema=[['device', xgt.TEXT]],\n",
    "              key='device')\n",
    "devices"
   ]
  },
  {
   "cell_type": "code",
   "execution_count": 5,
   "metadata": {},
   "outputs": [
    {
     "data": {
      "text/plain": [
       "<xgt.graph.EdgeFrame at 0x7fc3ee38c828>"
      ]
     },
     "execution_count": 5,
     "metadata": {},
     "output_type": "execute_result"
    }
   ],
   "source": [
    "# Create an Edge Frame named \"netflow\"\n",
    "\n",
    "try:\n",
    "  netflow = conn.get_edge_frame('Netflow')\n",
    "except xgt.XgtNameError:\n",
    "  netflow = conn.create_edge_frame(\n",
    "            name='Netflow',\n",
    "            schema=[['epochtime', xgt.INT],\n",
    "                    ['duration', xgt.INT],\n",
    "                    ['srcDevice', xgt.TEXT],\n",
    "                    ['dstDevice', xgt.TEXT],\n",
    "                    ['protocol', xgt.INT],\n",
    "                    ['srcPort', xgt.INT],\n",
    "                    ['dstPort', xgt.INT],\n",
    "                    ['srcPackets', xgt.INT],\n",
    "                    ['dstPackets', xgt.INT],\n",
    "                    ['srcBytes', xgt.INT],\n",
    "                    ['dstBytes', xgt.INT]],\n",
    "            source=devices,\n",
    "            target=devices,\n",
    "            source_key='srcDevice',\n",
    "            target_key='dstDevice')\n",
    "netflow"
   ]
  },
  {
   "cell_type": "code",
   "execution_count": 6,
   "metadata": {},
   "outputs": [
    {
     "data": {
      "text/plain": [
       "<xgt.graph.EdgeFrame at 0x7fc3ee38ce80>"
      ]
     },
     "execution_count": 6,
     "metadata": {},
     "output_type": "execute_result"
    }
   ],
   "source": [
    "try:\n",
    "  events1v = conn.get_edge_frame('Events1v')\n",
    "except xgt.XgtNameError:\n",
    "  events1v = conn.create_edge_frame(\n",
    "           name='Events1v',\n",
    "           schema=[['epochtime', xgt.INT],\n",
    "                   ['eventID', xgt.INT],\n",
    "                   ['logHost', xgt.TEXT],\n",
    "                   ['userName', xgt.TEXT],\n",
    "                   ['domainName', xgt.TEXT],\n",
    "                   ['logonID', xgt.INT],\n",
    "                   ['processName', xgt.TEXT],\n",
    "                   ['processID', xgt.INT],\n",
    "                   ['parentProcessName', xgt.TEXT],\n",
    "                   ['parentProcessID', xgt.INT]],\n",
    "           source=devices,\n",
    "           target=devices,\n",
    "           source_key='logHost',\n",
    "           target_key='logHost')\n",
    "events1v"
   ]
  },
  {
   "cell_type": "code",
   "execution_count": 7,
   "metadata": {},
   "outputs": [
    {
     "name": "stdout",
     "output_type": "stream",
     "text": [
      "Devices (vertices): 0\n",
      "Netflow (edges): 0\n",
      "Host event 1-vertex (edges): 0\n",
      "Total (edges): 0\n"
     ]
    }
   ],
   "source": [
    "# Utility to print the sizes of data currently in xGT\n",
    "def print_data_summary():\n",
    "  print('Devices (vertices): {:,}'.format(devices.num_vertices))\n",
    "  print('Netflow (edges): {:,}'.format(netflow.num_edges))\n",
    "  print('Host event 1-vertex (edges): {:,}'.format(events1v.num_edges))\n",
    "  print('Total (edges): {:,}'.format(\n",
    "      netflow.num_edges + events1v.num_edges))\n",
    "    \n",
    "print_data_summary()"
   ]
  },
  {
   "cell_type": "code",
   "execution_count": 8,
   "metadata": {},
   "outputs": [
    {
     "name": "stdout",
     "output_type": "stream",
     "text": [
      "Devices (vertices): 13,491\n",
      "Netflow (edges): 0\n",
      "Host event 1-vertex (edges): 1,468,936,024\n",
      "Total (edges): 1,468,936,024\n",
      "CPU times: user 495 ms, sys: 110 ms, total: 605 ms\n",
      "Wall time: 3min 50s\n"
     ]
    }
   ],
   "source": [
    "%%time\n",
    "#Load the 1-sided host event data:\n",
    "if events1v.num_edges == 0:\n",
    "    # urls = [\"https://datasets.trovares.com/LANL/xgt/wls_day-85_1v.csv\"]\n",
    "    urls = [\"xgtd://wls_day-{:02d}_1v.csv\".format(_) for _ in range(2,91)]\n",
    "    events1v.load(urls)\n",
    "    print_data_summary()"
   ]
  },
  {
   "cell_type": "code",
   "execution_count": 9,
   "metadata": {},
   "outputs": [
    {
     "name": "stdout",
     "output_type": "stream",
     "text": [
      "Devices (vertices): 932,165\n",
      "Netflow (edges): 17,882,795,024\n",
      "Host event 1-vertex (edges): 1,468,936,024\n",
      "Total (edges): 19,351,731,048\n",
      "CPU times: user 1.62 s, sys: 515 ms, total: 2.13 s\n",
      "Wall time: 15min 16s\n"
     ]
    }
   ],
   "source": [
    "%%time\n",
    "#Load netflow event\n",
    "if netflow.num_edges == 0:\n",
    "    # urls = [\"https://datasets.trovares.com/LANL/xgt/nf_day-85.csv\"]\n",
    "    urls = [\"xgtd://nf_day-{:02d}.csv\".format(_) for _ in range(2,91)]\n",
    "    netflow.load(urls)\n",
    "    print_data_summary()"
   ]
  },
  {
   "cell_type": "code",
   "execution_count": 10,
   "metadata": {},
   "outputs": [],
   "source": [
    "# Utility function to launch queries and show job number:\n",
    "#   The job number may be useful if a long-running job needs\n",
    "#   to be canceled.\n",
    "\n",
    "def run_query(query, table_name = \"answers\", drop_answer_table=True, show_query=False):\n",
    "    if drop_answer_table:\n",
    "        conn.drop_frame(table_name)\n",
    "    if query[-1] != '\\n':\n",
    "        query += '\\n'\n",
    "    query += 'INTO {}'.format(table_name)\n",
    "    if show_query:\n",
    "        print(\"Query:\\n\" + query)\n",
    "    job = conn.schedule_job(query)\n",
    "    print(\"Launched job {}\".format(job.id))\n",
    "    conn.wait_for_job(job)\n",
    "    table = conn.get_table_frame(table_name)\n",
    "    return table"
   ]
  },
  {
   "cell_type": "code",
   "execution_count": 11,
   "metadata": {},
   "outputs": [
    {
     "data": {
      "text/plain": [
       "<xgt.graph.EdgeFrame at 0x7fc3ee37e9e8>"
      ]
     },
     "execution_count": 11,
     "metadata": {},
     "output_type": "execute_result"
    }
   ],
   "source": [
    "# Generate a new edge frame for holding only the RDP edges\n",
    "conn.drop_frame('RDPflow')\n",
    "rdpflow = conn.create_edge_frame(\n",
    "            name='RDPflow',\n",
    "            schema=netflow.schema,\n",
    "            source=devices,\n",
    "            target=devices,\n",
    "            source_key='srcDevice',\n",
    "            target_key='dstDevice')\n",
    "rdpflow"
   ]
  },
  {
   "cell_type": "code",
   "execution_count": 12,
   "metadata": {},
   "outputs": [
    {
     "name": "stdout",
     "output_type": "stream",
     "text": [
      "Launched job 6\n",
      "Number of answers: 2,176\n",
      "CPU times: user 228 ms, sys: 49 ms, total: 277 ms\n",
      "Wall time: 25.6 s\n"
     ]
    }
   ],
   "source": [
    "%%time\n",
    "# Extract Forward RDP Edges\n",
    "q = \"\"\"\n",
    "MATCH ()-[edge:Netflow]->()\n",
    "WHERE edge.dstPort=3389\n",
    "MERGE (v0: Devices { device : edge.srcDevice })\n",
    "MERGE (v1: Devices { device : edge.dstDevice })\n",
    "CREATE (v0)-[e:RDPflow {epochtime : edge.epochtime,\n",
    "  duration : edge.duration, protocol : edge.protocol,\n",
    "  srcPort : edge.srcPort, dstPort : edge.dstPort,\n",
    "  srcPackets : edge.srcPackets, dstPackets : edge.dstPackets,\n",
    "  srcBytes : edge.srcBytes, dstBytes : edge.dstBytes}]->(v1)\n",
    "RETURN count(*)\n",
    "\"\"\"\n",
    "data = run_query(q)\n",
    "print('Number of answers: {:,}'.format(data.get_data()[0][0]))"
   ]
  },
  {
   "cell_type": "code",
   "execution_count": 13,
   "metadata": {},
   "outputs": [
    {
     "name": "stdout",
     "output_type": "stream",
     "text": [
      "Launched job 9\n",
      "Number of answers: 755,260\n",
      "CPU times: user 161 ms, sys: 48.4 ms, total: 209 ms\n",
      "Wall time: 25.5 s\n"
     ]
    }
   ],
   "source": [
    "%%time\n",
    "# Extract Reverse RDP Edges\n",
    "q = \"\"\"\n",
    "MATCH ()-[edge:Netflow]->()\n",
    "WHERE edge.srcPort=3389\n",
    "MERGE (v0: Devices { device : edge.srcDevice })\n",
    "MERGE (v1: Devices { device : edge.dstDevice })\n",
    "CREATE (v1)-[e:RDPflow {epochtime : edge.epochtime,\n",
    "  duration : edge.duration, protocol : edge.protocol,\n",
    "  srcPort : edge.dstPort, dstPort : edge.srcPort,\n",
    "  srcPackets : edge.dstPackets, dstPackets : edge.srcPackets,\n",
    "  srcBytes : edge.dstBytes, dstBytes : edge.srcBytes}]->(v0)\n",
    "RETURN count(*)\n",
    "\"\"\"\n",
    "data = run_query(q)\n",
    "print('Number of answers: {:,}'.format(data.get_data()[0][0]))"
   ]
  },
  {
   "cell_type": "code",
   "execution_count": 14,
   "metadata": {},
   "outputs": [
    {
     "data": {
      "text/plain": [
       "'RDPflow (edges): 757,436'"
      ]
     },
     "execution_count": 14,
     "metadata": {},
     "output_type": "execute_result"
    }
   ],
   "source": [
    "#Resulting RDPFlow\n",
    "\n",
    "data=None\n",
    "if rdpflow.num_edges == 0:\n",
    "    print(\"RDPflow is empty\")\n",
    "elif rdpflow.num_edges <= 1000:\n",
    "    data = rdpflow.get_data_pandas()\n",
    "else:\n",
    "    data = 'RDPflow (edges): {:,}'.format(rdpflow.num_edges)\n",
    "data"
   ]
  },
  {
   "cell_type": "code",
   "execution_count": 15,
   "metadata": {},
   "outputs": [
    {
     "name": "stdout",
     "output_type": "stream",
     "text": [
      "Devices (vertices): 932,165\n",
      "Netflow (edges): 17,882,795,024\n",
      "Host event 1-vertex (edges): 1,468,936,024\n",
      "Total (edges): 19,351,731,048\n",
      "RDPflow (edges): 757,436\n"
     ]
    }
   ],
   "source": [
    "# Utility to print the data sizes currently in xGT\n",
    "def print_netflow_data_summary():\n",
    "  print_data_summary()\n",
    "  print('RDPflow (edges): {:,}'.format(rdpflow.num_edges))\n",
    "\n",
    "print_netflow_data_summary()"
   ]
  },
  {
   "cell_type": "code",
   "execution_count": null,
   "metadata": {},
   "outputs": [],
   "source": [
    "%%time\n",
    "time_threshold_between_step = 3600   # one hour\n",
    "time_threshold_hijack = 180          # three minutes\n",
    "time_threshold_one_step = 480        # eight minutes\n",
    "q = \"\"\"\n",
    "MATCH (A)-[rdp1:RDPflow]->(B)-[rdp2:RDPflow]->(C),\n",
    "      (A)-[hijack1:Events1v]->(A)-[privEsc1:Events1v]->(A),\n",
    "      (B)-[hijack2:Events1v]->(B)-[privEsc2:Events1v]->(B)\n",
    "WHERE A <> B AND B <> C AND A <> C \n",
    "  AND privEsc1.eventID = 4688 \n",
    "  AND (privEsc1.processName = \"Proc336322.exe\" OR privEsc1.processName = \"Proc695356.exe\")\n",
    "  AND hijack1.eventID = 4688 AND hijack1.processName = \"Proc249569.exe\"\n",
    "  AND privEsc2.eventID = 4688 \n",
    "  AND (privEsc2.processName = \"Proc336322.exe\" OR privEsc2.processName = \"Proc695356.exe\")\n",
    "  AND hijack2.eventID = 4688 AND hijack2.processName = \"Proc249569.exe\"\n",
    "\n",
    "  // Check time constraints on the overall pattern\n",
    "  AND rdp1.epochtime <= rdp2.epochtime\n",
    "  AND rdp2.epochtime - rdp1.epochtime < {0}\n",
    "\n",
    "  // Check time constraints on step from A to B\n",
    "  AND privEsc1.epochtime <= hijack1.epochtime\n",
    "  AND hijack1.epochtime <= rdp1.epochtime\n",
    "  AND rdp1.epochtime - hijack1.epochtime < {1}\n",
    "  AND rdp1.epochtime - privEsc1.epochtime < {2}\n",
    "\n",
    "  // Check time constraints on step from B to C\n",
    "  AND privEsc2.epochtime <= hijack2.epochtime\n",
    "  AND hijack2.epochtime <= rdp2.epochtime\n",
    "  AND rdp2.epochtime - hijack2.epochtime < {1}\n",
    "  AND rdp2.epochtime - privEsc2.epochtime < {2}\n",
    "RETURN rdp1.srcDevice, rdp1.dstDevice, rdp1.epochtime, rdp2.dstDevice, rdp2.epochtime\n",
    "\"\"\".format(time_threshold_between_step, time_threshold_hijack, time_threshold_one_step)\n",
    "answer_table = run_query(q)\n",
    "print('Number of answers: {:,}'.format(answer_table.num_rows))"
   ]
  },
  {
   "cell_type": "code",
   "execution_count": null,
   "metadata": {},
   "outputs": [],
   "source": [
    "# retrieve the answer rows to the client in a pandas frame\n",
    "data = answer_table.get_data_pandas()\n",
    "data"
   ]
  }
 ],
 "metadata": {
  "kernelspec": {
   "display_name": "Python_3_6",
   "language": "python",
   "name": "python_3_6"
  },
  "language_info": {
   "codemirror_mode": {
    "name": "ipython",
    "version": 3
   },
   "file_extension": ".py",
   "mimetype": "text/x-python",
   "name": "python",
   "nbconvert_exporter": "python",
   "pygments_lexer": "ipython3",
   "version": "3.6.9"
  }
 },
 "nbformat": 4,
 "nbformat_minor": 2
}
