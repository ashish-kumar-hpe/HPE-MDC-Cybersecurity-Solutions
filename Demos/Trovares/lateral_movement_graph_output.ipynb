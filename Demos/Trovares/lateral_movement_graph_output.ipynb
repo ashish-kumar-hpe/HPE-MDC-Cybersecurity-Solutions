{
 "cells": [
  {
   "cell_type": "markdown",
   "metadata": {},
   "source": [
    "# Looking for Lateral Movement\n",
    "\n",
    "----\n",
    "\n",
    "*Lateral movement* is a cyberattack pattern that describes how an adversary leverages a single foothold to compromise other systems within a network.\n",
    "Identifying and stopping lateral movement is an important step in controlling the damage from a breach, and also plays a role in forensic analysis of a cyberattack, helping to identify its source and reconstruct what happened.\n",
    "In this notebook, we show how xGT can be used to find evidence of these types of patterns hiding in large data.\n",
    "\n",
    "This notebook is an example of using \n",
    "the vast collection of malicious cyber attack patterns described in the [MITRE ATT&CK Catalog](https://attack.mitre.org/) as a guide to search for evidence of lateral movemement within an enterprise network.\n",
    "\n",
    "For data, we'll be using the [LANL Unified Host and Network Dataset](https://datasets.trovares.com/cyber/LANL/index.html), a set of netflow and host event data collected on an internal Los Alamos National Lab network."
   ]
  },
  {
   "cell_type": "markdown",
   "metadata": {},
   "source": [
    "----\n",
    "## RDP Hijacking\n",
    "\n",
    "There are 17 *lateral movement* techniques presented in the MITRE ATT&CK Catalog.\n",
    "We will consider the *RDP Hijacking* technique presented as [tactic 1076](https://attack.mitre.org/techniques/T1076/).\n",
    "\n",
    "RDP hijacking is actually a family of attacks, each with different characteristics on how to attain the\n",
    "privileges required to perform the RDP Hijacking.\n",
    "The attack broadly looks like this:\n",
    "\n",
    "1. Lateral movement starts from a foothold where an adversary already has gained access. We'll call this host `A`.\n",
    "\n",
    "1. The attacker uses some *privilege escalation* technique to attain SYSTEM privilege.\n",
    "\n",
    "1. The attacker then leverages their SYSTEM privilege to *hijack* as RDP session to\n",
    "[move through a network](https://doublepulsar.com/rdp-hijacking-how-to-hijack-rds-and-remoteapp-sessions-transparently-to-move-through-an-da2a1e73a5f6).\n",
    "The result is to become logged in to another system where the RDP session had been.  We'll call this host `B`.\n",
    "\n",
    "This hijacking action can be repeated to form longer chains of lateral movememt; and these chains\n",
    "can be represented as graph patterns:\n",
    "\n",
    "![rdp_hijack](images/lateral-movement.png)\n"
   ]
  },
  {
   "cell_type": "markdown",
   "metadata": {},
   "source": [
    "----\n",
    "## Privilege Escalation\n",
    "\n",
    "The MITRE ATT&CK Catalog contains 28 different techniques for performing privilege escalation.\n",
    "For our example, we will look for evidence of RDP Hijacking where privilege escalation was carried out using \n",
    "a technique called *Accessibility Features* described as [T1015](https://attack.mitre.org/techniques/T1015/).\n",
    "\n",
    "The astute reader will note that we are looking for only one of 476 (or more) techniques for lateral movement.\n",
    "Each of the others might result in different graph patterns and different queries, but can all be addressed\n",
    "using the same approach described here."
   ]
  },
  {
   "cell_type": "markdown",
   "metadata": {},
   "source": [
    "----\n",
    "## Mapping to a cyber dataset\n",
    "\n",
    "In order to formulate a query, we need to understand the content and structure of our\n",
    "graph.\n",
    "We will work under the assumption that we have both *netflow* and *windows server log* event information.\n",
    "\n",
    "Mapping each of the adversary steps (the number before each edge label in the diagram) to our dataset:\n",
    "\n",
    "1. \"Accessibility Features (*privilege escalation*)\": An adversary modifies the way programs are launched \n",
    "to get a back door into a system.  The following programs can be used for this purpose:\n",
    "    1. `sethc.exe`\n",
    "    1. `utilman.exe`\n",
    "\n",
    "1. \"RDP Session Hijack\":  Once an adversary finds a session to hijack they can do this command:  `c:\\windows\\system32\\tscon.exe [session number to be stolen]`.  We look in our graph for windows log events showing the running of the `tscon.exe` program.\n",
    "\n",
    "1. \"RDP/RDS Netflow\": Logging in to system `B` will leave one or more netflow packets from system `A` to `B` that use the RDP port.\n"
   ]
  },
  {
   "cell_type": "markdown",
   "metadata": {},
   "source": [
    "## Mapping to the LANL dataset\n",
    "\n",
    "Once we understand the pattern we want to find, we need to determine what specifically to look for in the dataset.\n",
    "\n",
    "We first need to understand that the LANL dataset has been modified from its raw form.\n",
    "For example, the anonymization process replaced many of the program names with arbitrary strings such as `Prog123456.exe`.  Also, the program arguments (such as a `/network` option) are not recorded.\n",
    "\n",
    "Given this lack of information, we will emulate a search for the RDP Hijacking lateral movement behavior by picking some actual values present in the LANL data as a proxy to desired programs such as `sethc.exe`.  Here are the mappings:\n",
    "\n",
    " - In steps 1 and 4, we will use the string `Proc336322.exe` as a proxy for the `sethc.exe` program and the string `Proc695356.exe` as a proxy for the `utilman.exe` program.\n",
    " - In steps 2 and 5, we will use the string `Proc249569.exe` as a proxy for the `tscon.exe` program.\n"
   ]
  },
  {
   "cell_type": "markdown",
   "metadata": {},
   "source": [
    "----\n",
    "## Using xGT to perform this search\n",
    "\n",
    "The rest of this notebook demonstrates how to take this LANL data and the search pattern description to do these steps:\n",
    "  1. Ingest the cyber data into xGT\n",
    "  2. Search for all occurrences of this pattern."
   ]
  },
  {
   "cell_type": "code",
   "execution_count": 1,
   "metadata": {
    "scrolled": true
   },
   "outputs": [
    {
     "data": {
      "text/plain": [
       "<xgt.connection.Connection at 0x110d49f10>"
      ]
     },
     "execution_count": 1,
     "metadata": {},
     "output_type": "execute_result"
    }
   ],
   "source": [
    "import xgt\n",
    "conn = xgt.Connection()\n",
    "conn"
   ]
  },
  {
   "cell_type": "markdown",
   "metadata": {},
   "source": [
    "## Establish Graph Component Schemas\n",
    "\n",
    "We first try to retrieve the graph component schemas from xGT server.\n",
    "If that should fail, we create an empty component (vertex or edge frame) for the missing component."
   ]
  },
  {
   "cell_type": "code",
   "execution_count": 2,
   "metadata": {},
   "outputs": [
    {
     "data": {
      "text/plain": [
       "<xgt.graph.VertexFrame at 0x11193b6d0>"
      ]
     },
     "execution_count": 2,
     "metadata": {},
     "output_type": "execute_result"
    }
   ],
   "source": [
    "try:\n",
    "  devices = conn.get_vertex_frame('Devices')\n",
    "except xgt.XgtNameError:\n",
    "  devices = conn.create_vertex_frame(\n",
    "              name='Devices',\n",
    "              schema=[['device', xgt.TEXT]],\n",
    "              key='device')\n",
    "devices"
   ]
  },
  {
   "cell_type": "code",
   "execution_count": 3,
   "metadata": {},
   "outputs": [
    {
     "data": {
      "text/plain": [
       "<xgt.graph.EdgeFrame at 0x110d49c90>"
      ]
     },
     "execution_count": 3,
     "metadata": {},
     "output_type": "execute_result"
    }
   ],
   "source": [
    "try:\n",
    "  netflow = conn.get_edge_frame('Netflow')\n",
    "except xgt.XgtNameError:\n",
    "  netflow = conn.create_edge_frame(\n",
    "            name='Netflow',\n",
    "            schema=[['epochtime', xgt.INT],\n",
    "                    ['duration', xgt.INT],\n",
    "                    ['srcDevice', xgt.TEXT],\n",
    "                    ['dstDevice', xgt.TEXT],\n",
    "                    ['protocol', xgt.INT],\n",
    "                    ['srcPort', xgt.INT],\n",
    "                    ['dstPort', xgt.INT],\n",
    "                    ['srcPackets', xgt.INT],\n",
    "                    ['dstPackets', xgt.INT],\n",
    "                    ['srcBytes', xgt.INT],\n",
    "                    ['dstBytes', xgt.INT]],\n",
    "            source=devices,\n",
    "            target=devices,\n",
    "            source_key='srcDevice',\n",
    "            target_key='dstDevice')\n",
    "netflow"
   ]
  },
  {
   "cell_type": "markdown",
   "metadata": {},
   "source": [
    "**Edges:** The LANL dataset contains two types of data: netflow and host events. Of the host events recorded, some describe events within a device (e.g., reboots), and some describe events between devices (e.g., login attempts). We'll only be loading the netflow data and in-device events. We call these events \"one-sided\", since we describe them as graph edges from one vertex to itself."
   ]
  },
  {
   "cell_type": "code",
   "execution_count": 4,
   "metadata": {},
   "outputs": [
    {
     "data": {
      "text/plain": [
       "<xgt.graph.EdgeFrame at 0x11193b690>"
      ]
     },
     "execution_count": 4,
     "metadata": {},
     "output_type": "execute_result"
    }
   ],
   "source": [
    "try:\n",
    "  events1v = conn.get_edge_frame('Events1v')\n",
    "except xgt.XgtNameError:\n",
    "  events1v = conn.create_edge_frame(\n",
    "           name='Events1v',\n",
    "           schema=[['epochtime', xgt.INT],\n",
    "                   ['eventID', xgt.INT],\n",
    "                   ['logHost', xgt.TEXT],\n",
    "                   ['userName', xgt.TEXT],\n",
    "                   ['domainName', xgt.TEXT],\n",
    "                   ['logonID', xgt.INT],\n",
    "                   ['processName', xgt.TEXT],\n",
    "                   ['processID', xgt.INT],\n",
    "                   ['parentProcessName', xgt.TEXT],\n",
    "                   ['parentProcessID', xgt.INT]],\n",
    "           source=devices,\n",
    "           target=devices,\n",
    "           source_key='logHost',\n",
    "           target_key='logHost')\n",
    "events1v"
   ]
  },
  {
   "cell_type": "code",
   "execution_count": 5,
   "metadata": {
    "scrolled": false
   },
   "outputs": [
    {
     "data": {
      "text/plain": [
       "<xgt.graph.EdgeFrame at 0x11193b7d0>"
      ]
     },
     "execution_count": 5,
     "metadata": {},
     "output_type": "execute_result"
    }
   ],
   "source": [
    "try:\n",
    "  events2v = conn.get_edge_frame('Events2v')\n",
    "except xgt.XgtNameError:\n",
    "  events2v = conn.create_edge_frame(\n",
    "           name='Events2v',\n",
    "           schema = [['epochtime',xgt.INT],\n",
    "                     ['eventID',xgt.INT],\n",
    "                     ['logHost',xgt.TEXT],\n",
    "                     ['logonType',xgt.INT],\n",
    "                     ['logonTypeDescription',xgt.TEXT],\n",
    "                     ['userName',xgt.TEXT],\n",
    "                     ['domainName',xgt.TEXT],\n",
    "                     ['logonID',xgt.INT],\n",
    "                     ['subjectUserName',xgt.TEXT],\n",
    "                     ['subjectDomainName',xgt.TEXT],\n",
    "                     ['subjectLogonID',xgt.TEXT],\n",
    "                     ['status',xgt.TEXT],\n",
    "                     ['src',xgt.TEXT],\n",
    "                     ['serviceName',xgt.TEXT],\n",
    "                     ['destination',xgt.TEXT],\n",
    "                     ['authenticationPackage',xgt.TEXT],\n",
    "                     ['failureReason',xgt.TEXT],\n",
    "                     ['processName',xgt.TEXT],\n",
    "                     ['processID',xgt.INT],\n",
    "                     ['parentProcessName',xgt.TEXT],\n",
    "                     ['parentProcessID',xgt.INT]],\n",
    "            source = 'Devices',\n",
    "            target = 'Devices',\n",
    "            source_key = 'src',\n",
    "            target_key = 'logHost')\n",
    "events2v"
   ]
  },
  {
   "cell_type": "code",
   "execution_count": 6,
   "metadata": {
    "scrolled": true
   },
   "outputs": [
    {
     "name": "stdout",
     "output_type": "stream",
     "text": [
      "Devices (vertices): 933,314\n",
      "Netflow (edges): 17,882,795,024\n",
      "Host event 1-vertex (edges): 1,468,936,024\n",
      "Host event 2-vertex (edges): 4,022,436,222\n",
      "Total (edges): 23,374,167,270\n"
     ]
    }
   ],
   "source": [
    "# Utility to print the sizes of data currently in xGT\n",
    "def print_data_summary():\n",
    "  print('Devices (vertices): {:,}'.format(devices.num_vertices))\n",
    "  print('Netflow (edges): {:,}'.format(netflow.num_edges))\n",
    "  print('Host event 1-vertex (edges): {:,}'.format(events1v.num_edges))\n",
    "  print('Host event 2-vertex (edges): {:,}'.format(events2v.num_edges))\n",
    "  print('Total (edges): {:,}'.format(\n",
    "      netflow.num_edges + events1v.num_edges + events2v.num_edges))\n",
    "    \n",
    "print_data_summary()"
   ]
  },
  {
   "cell_type": "markdown",
   "metadata": {},
   "source": [
    "## Load the data\n",
    "\n",
    "If you are already connected to an xGT server with data loaded, this section may be skipped.\n",
    "You may skip ahead to the \"**Utility python functions for interacting with xGT**\" section.\n",
    "\n",
    "**Load the 1-sided host event data:**"
   ]
  },
  {
   "cell_type": "code",
   "execution_count": 7,
   "metadata": {},
   "outputs": [
    {
     "name": "stdout",
     "output_type": "stream",
     "text": [
      "CPU times: user 1.4 ms, sys: 1.76 ms, total: 3.16 ms\n",
      "Wall time: 74.8 ms\n"
     ]
    }
   ],
   "source": [
    "%%time\n",
    "if events1v.num_edges == 0:\n",
    "    urls = [\"https://datasets.trovares.com/LANL/xgt/wls_day-85_1v.csv\"]\n",
    "    # urls = [\"xgtd://wls_day-{:02d}_1v.csv\".format(_) for _ in range(2,91)]\n",
    "    events1v.load(urls)\n",
    "    print_data_summary()"
   ]
  },
  {
   "cell_type": "markdown",
   "metadata": {},
   "source": [
    "**Load the 2-sided host event data:**"
   ]
  },
  {
   "cell_type": "code",
   "execution_count": null,
   "metadata": {},
   "outputs": [],
   "source": [
    "%%time\n",
    "if events2v.num_edges == 0:\n",
    "    urls = [\"https://datasets.trovares.com/LANL/xgt/wls_day-85_2v.csv\"]\n",
    "    # urls = [\"xgtd://wls_day-{:02d}_2v.csv\".format(_) for _ in range(2,91)]\n",
    "    events2v.load(urls)\n",
    "    print_data_summary()"
   ]
  },
  {
   "cell_type": "markdown",
   "metadata": {},
   "source": [
    "**Load the netflow data:**"
   ]
  },
  {
   "cell_type": "code",
   "execution_count": null,
   "metadata": {},
   "outputs": [],
   "source": [
    "%%time\n",
    "if netflow.num_edges == 0:\n",
    "    urls = [\"https://datasets.trovares.com/LANL/xgt/nf_day-85.csv\"]\n",
    "    #urls = [\"xgtd://nf_day-{:02d}.csv\".format(_) for _ in range(2,91)]\n",
    "    netflow.load(urls)\n",
    "    print_data_summary()"
   ]
  },
  {
   "cell_type": "markdown",
   "metadata": {},
   "source": [
    "## Utility python functions for interacting with xGT\n",
    "\n",
    "----\n",
    "\n",
    "Now define some useful functions and get on with the querying ..."
   ]
  },
  {
   "cell_type": "code",
   "execution_count": 8,
   "metadata": {},
   "outputs": [],
   "source": [
    "# Utility function to launch queries and show job number:\n",
    "#   The job number may be useful if a long-running job needs\n",
    "#   to be canceled.\n",
    "\n",
    "def run_query(query, table_name = \"answers\", drop_answer_table=True, show_query=False):\n",
    "    if drop_answer_table:\n",
    "        conn.drop_frame(table_name)\n",
    "    if query[-1] != '\\n':\n",
    "        query += '\\n'\n",
    "    query += 'INTO {}'.format(table_name)\n",
    "    if show_query:\n",
    "        print(\"Query:\\n\" + query)\n",
    "    job = conn.schedule_job(query)\n",
    "    print(\"Launched job {}\".format(job.id))\n",
    "    conn.wait_for_job(job)\n",
    "    table = conn.get_table_frame(table_name)\n",
    "    return table"
   ]
  },
  {
   "cell_type": "markdown",
   "metadata": {},
   "source": [
    "## Pulling out only RDP netflow edges\n",
    "\n",
    "Because of the way LANL has chosen to represent the netflow data, there may be some netflow edges in the *forward* direction where the `dstPort` field indicates RDP (`dstPort = 3389`), and other edges in the *reverse* direction where the `srcPort` field contains 3389.\n",
    "\n",
    "The following section of code pulls out all forward RDP edges and drops them into a new edge frame.\n",
    "It then pulls out all reverse RDP edges, reverses the appropriate fields (i.e., swapping `dst` and `src` versions of the attribute values), and adds these reversed RDP edges to the new edge frame.\n",
    "\n",
    "Note that the edges in this new edge frame connect up with the same set of vertices as the netflow edges.\n",
    "\n",
    "We first generate a new edge frame we call `RDPflow` that has the exact same schema as the netflow edge frame."
   ]
  },
  {
   "cell_type": "code",
   "execution_count": 9,
   "metadata": {},
   "outputs": [
    {
     "data": {
      "text/plain": [
       "<xgt.graph.EdgeFrame at 0x11193b850>"
      ]
     },
     "execution_count": 9,
     "metadata": {},
     "output_type": "execute_result"
    }
   ],
   "source": [
    "# Generate a new edge frame for holding only the RDP edges\n",
    "conn.drop_frame('RDPflow')\n",
    "rdpflow = conn.create_edge_frame(\n",
    "            name='RDPflow',\n",
    "            schema=netflow.schema,\n",
    "            source=devices,\n",
    "            target=devices,\n",
    "            source_key='srcDevice',\n",
    "            target_key='dstDevice')\n",
    "rdpflow"
   ]
  },
  {
   "cell_type": "markdown",
   "metadata": {},
   "source": [
    "### Extract forward RDP edges\n",
    "\n",
    "A \"forward\" edge is one where the `dstPort = 3389`.\n",
    "This edge is copied verbatim to the `RDPflow` edge frame."
   ]
  },
  {
   "cell_type": "code",
   "execution_count": 10,
   "metadata": {
    "scrolled": true
   },
   "outputs": [
    {
     "name": "stdout",
     "output_type": "stream",
     "text": [
      "Launched job 8\n",
      "Number of answers: 2,176\n",
      "CPU times: user 20.7 ms, sys: 11.7 ms, total: 32.4 ms\n",
      "Wall time: 15.4 s\n"
     ]
    }
   ],
   "source": [
    "%%time\n",
    "q = \"\"\"\n",
    "MATCH ()-[edge:Netflow]->()\n",
    "WHERE edge.dstPort=3389\n",
    "MERGE (v0: Devices { device : edge.srcDevice })\n",
    "MERGE (v1: Devices { device : edge.dstDevice })\n",
    "CREATE (v0)-[e:RDPflow {epochtime : edge.epochtime,\n",
    "  duration : edge.duration, protocol : edge.protocol,\n",
    "  srcPort : edge.srcPort, dstPort : edge.dstPort,\n",
    "  srcPackets : edge.srcPackets, dstPackets : edge.dstPackets,\n",
    "  srcBytes : edge.srcBytes, dstBytes : edge.dstBytes}]->(v1)\n",
    "RETURN count(*)\n",
    "\"\"\"\n",
    "data = run_query(q)\n",
    "print('Number of answers: {:,}'.format(data.get_data()[0][0]))"
   ]
  },
  {
   "cell_type": "markdown",
   "metadata": {},
   "source": [
    "### Extract reverse RDP edges\n",
    "\n",
    "A \"reverse\" edge is one where the `srcPort = 3389`.\n",
    "These edges are copied to the `RDPflow` edge frame but **reversed** in transit.\n",
    "The reversal process involves swapping the: `srcDevice` and `dstDevice`;\n",
    "`srcPort` and `dstPort`; `srcPackets` and `dstPackets`; and `srcBytes` and `dstBytes`."
   ]
  },
  {
   "cell_type": "code",
   "execution_count": 11,
   "metadata": {},
   "outputs": [
    {
     "name": "stdout",
     "output_type": "stream",
     "text": [
      "Launched job 11\n",
      "Number of answers: 755,260\n",
      "CPU times: user 21.5 ms, sys: 8.65 ms, total: 30.1 ms\n",
      "Wall time: 19.9 s\n"
     ]
    }
   ],
   "source": [
    "%%time\n",
    "q = \"\"\"\n",
    "MATCH ()-[edge:Netflow]->()\n",
    "WHERE edge.srcPort=3389\n",
    "MERGE (v0: Devices { device : edge.srcDevice })\n",
    "MERGE (v1: Devices { device : edge.dstDevice })\n",
    "CREATE (v1)-[e:RDPflow {epochtime : edge.epochtime,\n",
    "  duration : edge.duration, protocol : edge.protocol,\n",
    "  srcPort : edge.dstPort, dstPort : edge.srcPort,\n",
    "  srcPackets : edge.dstPackets, dstPackets : edge.srcPackets,\n",
    "  srcBytes : edge.dstBytes, dstBytes : edge.srcBytes}]->(v0)\n",
    "RETURN count(*)\n",
    "\"\"\"\n",
    "data = run_query(q)\n",
    "print('Number of answers: {:,}'.format(data.get_data()[0][0]))"
   ]
  },
  {
   "cell_type": "markdown",
   "metadata": {},
   "source": [
    "### Resulting RDPflow\n",
    "\n",
    "The result of combining these two \"edge-create\" queries is the `RDPflow` edge frame containing only \"forward\" RDP edges.\n",
    "This alternate edge frame holding only RDP edges can be used instead of the generic\n",
    "`Netflow` edge frame where an RDP edge is required in a query."
   ]
  },
  {
   "cell_type": "code",
   "execution_count": 12,
   "metadata": {},
   "outputs": [
    {
     "data": {
      "text/plain": [
       "'RDPflow (edges): 757,436'"
      ]
     },
     "execution_count": 12,
     "metadata": {},
     "output_type": "execute_result"
    }
   ],
   "source": [
    "data=None\n",
    "if rdpflow.num_edges == 0:\n",
    "    print(\"RDPflow is empty\")\n",
    "elif rdpflow.num_edges <= 1000:\n",
    "    data = rdpflow.get_data_pandas()\n",
    "else:\n",
    "    data = 'RDPflow (edges): {:,}'.format(rdpflow.num_edges)\n",
    "data"
   ]
  },
  {
   "cell_type": "code",
   "execution_count": 13,
   "metadata": {},
   "outputs": [
    {
     "name": "stdout",
     "output_type": "stream",
     "text": [
      "Devices (vertices): 933,314\n",
      "Netflow (edges): 17,882,795,024\n",
      "Host event 1-vertex (edges): 1,468,936,024\n",
      "Host event 2-vertex (edges): 4,022,436,222\n",
      "Total (edges): 23,374,167,270\n",
      "RDPflow (edges): 757,436\n"
     ]
    }
   ],
   "source": [
    "# Utility to print the data sizes currently in xGT\n",
    "def print_netflow_data_summary():\n",
    "  print_data_summary()\n",
    "  print('RDPflow (edges): {:,}'.format(rdpflow.num_edges))\n",
    "\n",
    "print_netflow_data_summary()"
   ]
  },
  {
   "cell_type": "markdown",
   "metadata": {},
   "source": [
    "### Building a better query: adding temporal constraints \n",
    "\n",
    "Here is the image of the lateral movement graph pattern:\n",
    "\n",
    "![rdp_hijack](images/lateral-movement.png)\n",
    "\n",
    "Being more specific about what you're looking for is a good way to both improve performance and cut down on false positives in your results.\n",
    "In our example, there is a causal dependence between the attacker's steps, which means that they must be temporally ordered.\n",
    "So if *t<sub>1</sub>* represents the time at which event 1 takes place, we know that:\n",
    "\n",
    "*t<sub>1</sub>* &le; *t<sub>2</sub>* &le; *t<sub>3</sub>* &le; *t<sub>4</sub>* &le; *t<sub>5</sub>* &le; *t<sub>6</sub>*\n",
    "\n",
    "In addition, since this pattern models intentional lateral movement, we suspect that some of these events will be close together in time.\n",
    "We can narrow the results by setting a maximum time thresholds between specific groups of events:\n",
    "\n",
    " - Between an RDP Hijack (`tscon.exe`) and a subsequent RDP netflow is called the *hijack threshold*\n",
    " - From the initial *privilege escalation* event to the RDP netflow is called the *one_step threshold*\n",
    " - The time allowed between between steps (e.g., the time between RDP1 and RDP2), is called the *between_step threshold*\n",
    "\n",
    "Given some fixed constants for these thresholds, we can impose the following additional constraints:\n",
    "\n",
    " - *t<sub>3</sub>* - *t<sub>2</sub>* &le; *hijack threshold*\n",
    " - *t<sub>3</sub>* - *t<sub>1</sub>* &le; *one_step threshold*\n",
    " - *t<sub>6</sub>* - *t<sub>5</sub>* &le; *hijack threshold*\n",
    " - *t<sub>6</sub>* - *t<sub>4</sub>* &le; *one_step threshold*\n",
    " - *t<sub>3</sub>* - *t<sub>1</sub>* &le; *between_step threshold*\n",
    "\n",
    "We will add all of these onstraints to our query to help focus on just the results we want."
   ]
  },
  {
   "cell_type": "markdown",
   "metadata": {},
   "source": [
    "### Preparing output graph\n",
    "\n",
    "The output graph will consist of edges indicating moving from node `X` to node `Y` in a network.\n",
    "The associated edge properties will contain all relevant information."
   ]
  },
  {
   "cell_type": "code",
   "execution_count": 15,
   "metadata": {},
   "outputs": [
    {
     "data": {
      "text/plain": [
       "<xgt.graph.EdgeFrame at 0x111a063d0>"
      ]
     },
     "execution_count": 15,
     "metadata": {},
     "output_type": "execute_result"
    }
   ],
   "source": [
    "# Generate an output edge frame for holding lateral movement edges\n",
    "latmvmt_schema = netflow.schema\n",
    "latmvmt_schema.append(['privEsc_epochtime', xgt.INT])\n",
    "latmvmt_schema.append(['privEsc_processName', xgt.TEXT])\n",
    "latmvmt_schema.append(['privEsc_parentProcessName', xgt.TEXT])\n",
    "latmvmt_schema.append(['hijack_epochtime', xgt.INT])\n",
    "latmvmt_schema.append(['hijack_processName', xgt.TEXT])\n",
    "latmvmt_schema.append(['hijack_parentProcessName', xgt.TEXT])\n",
    "latmvmt_schema.append(['edge_role_in_answer', xgt.TEXT])\n",
    "\n",
    "conn.drop_frame('LatMvmt')\n",
    "latmvmt = conn.create_edge_frame(\n",
    "            name='LatMvmt',\n",
    "            schema=latmvmt_schema,\n",
    "            source=devices,\n",
    "            target=devices,\n",
    "            source_key='srcDevice',\n",
    "            target_key='dstDevice')\n",
    "latmvmt"
   ]
  },
  {
   "cell_type": "markdown",
   "metadata": {},
   "source": [
    "### Lateral Movement query\n",
    "\n",
    "This query leverages the new `RDPflow` edge frame (and data) to find the proper RDP edges for steps #3 and #6."
   ]
  },
  {
   "cell_type": "code",
   "execution_count": 16,
   "metadata": {
    "scrolled": true
   },
   "outputs": [
    {
     "name": "stdout",
     "output_type": "stream",
     "text": [
      "Launched job 15\n",
      "Number of answers: 57,057\n",
      "Number of edges in output graph: 114,114\n",
      "CPU times: user 86 ms, sys: 55.9 ms, total: 142 ms\n",
      "Wall time: 4min 44s\n"
     ]
    }
   ],
   "source": [
    "%%time\n",
    "import string\n",
    "\n",
    "thresholds = {\n",
    "    'time_threshold_between_step' : 3600,   # one hour\n",
    "    'time_threshold_hijack' : 180,          # three minutes\n",
    "    'time_threshold_one_step' : 480,        # eight minutes\n",
    "}\n",
    "q = string.Template(\"\"\"\n",
    "MATCH (A)-[rdp1:RDPflow]->(B)-[rdp2:RDPflow]->(C),\n",
    "      (A)-[hijack1:Events1v]->(A)-[privEsc1:Events1v]->(A),\n",
    "      (B)-[hijack2:Events1v]->(B)-[privEsc2:Events1v]->(B)\n",
    "WHERE A <> B AND B <> C AND A <> C \n",
    "  AND privEsc1.eventID = 4688 \n",
    "  AND (privEsc1.processName = \"Proc336322.exe\" OR privEsc1.processName = \"Proc695356.exe\")\n",
    "  AND hijack1.eventID = 4688 AND hijack1.processName = \"Proc249569.exe\"\n",
    "  AND privEsc2.eventID = 4688 \n",
    "  AND (privEsc2.processName = \"Proc336322.exe\" OR privEsc2.processName = \"Proc695356.exe\")\n",
    "  AND hijack2.eventID = 4688 AND hijack2.processName = \"Proc249569.exe\"\n",
    "\n",
    "  // Check time constraints on the overall pattern\n",
    "  AND rdp1.epochtime <= rdp2.epochtime\n",
    "  AND rdp2.epochtime - rdp1.epochtime < $time_threshold_between_step\n",
    "\n",
    "  // Check time constraints on step from A to B\n",
    "  AND privEsc1.epochtime <= hijack1.epochtime\n",
    "  AND hijack1.epochtime <= rdp1.epochtime\n",
    "  AND rdp1.epochtime - hijack1.epochtime < $time_threshold_hijack\n",
    "  AND rdp1.epochtime - privEsc1.epochtime < $time_threshold_one_step\n",
    "\n",
    "  // Check time constraints on step from B to C\n",
    "  AND privEsc2.epochtime <= hijack2.epochtime\n",
    "  AND hijack2.epochtime <= rdp2.epochtime\n",
    "  AND rdp2.epochtime - hijack2.epochtime < $time_threshold_hijack\n",
    "  AND rdp2.epochtime - privEsc2.epochtime < $time_threshold_one_step\n",
    "MERGE (v0: Devices { device : rdp1.srcDevice })\n",
    "MERGE (v1: Devices { device : rdp1.dstDevice })\n",
    "MERGE (v2: Devices { device : rdp2.dstDevice })\n",
    "CREATE (v0)-[e:LatMvmt { epochtime : rdp1.epochtime,\n",
    "  duration : rdp1.duration, protocol : rdp1.protocol,\n",
    "  srcPort : rdp1.srcPort, dstPort : rdp1.dstPort,\n",
    "  srcPackets : rdp1.srcPackets, dstPackets : rdp1.dstPackets,\n",
    "  srcBytes : rdp1.srcBytes, dstBytes : rdp1.dstBytes,\n",
    "  privEsc_epochtime : privEsc1.epochtime,\n",
    "  privEsc_processName : privEsc1.processName,\n",
    "  privEsc_parentProcessName : privEsc1.parentProcessName,\n",
    "  hijack_epochtime : hijack1.epochtime,\n",
    "  hijack_processName : hijack1.processName,\n",
    "  hijack_parentProcessName : hijack1.parentProcessName,\n",
    "  edge_role_in_answer : \"AB\"}]->(v1)\n",
    "CREATE (v1)-[f:LatMvmt { epochtime : rdp2.epochtime,\n",
    "  duration : rdp2.duration, protocol : rdp2.protocol,\n",
    "  srcPort : rdp2.srcPort, dstPort : rdp2.dstPort,\n",
    "  srcPackets : rdp2.srcPackets, dstPackets : rdp2.dstPackets,\n",
    "  srcBytes : rdp2.srcBytes, dstBytes : rdp2.dstBytes,\n",
    "  privEsc_epochtime : privEsc2.epochtime,\n",
    "  privEsc_processName : privEsc2.processName,\n",
    "  privEsc_parentProcessName : privEsc2.parentProcessName,\n",
    "  hijack_epochtime : hijack2.epochtime,\n",
    "  hijack_processName : hijack2.processName,\n",
    "  hijack_parentProcessName : hijack2.parentProcessName,\n",
    "  edge_role_in_answer : \"BC\"}]->(v2)\n",
    "RETURN COUNT(*)\n",
    "\"\"\").substitute(thresholds)\n",
    "\n",
    "answer_table = run_query(q)\n",
    "print('Number of answers: {:,}'.format(answer_table.get_data()[0][0]))\n",
    "print('Number of edges in output graph: {:,}'.format(latmvmt.num_rows))"
   ]
  },
  {
   "cell_type": "code",
   "execution_count": 17,
   "metadata": {},
   "outputs": [
    {
     "data": {
      "text/html": [
       "<div>\n",
       "<style scoped>\n",
       "    .dataframe tbody tr th:only-of-type {\n",
       "        vertical-align: middle;\n",
       "    }\n",
       "\n",
       "    .dataframe tbody tr th {\n",
       "        vertical-align: top;\n",
       "    }\n",
       "\n",
       "    .dataframe thead th {\n",
       "        text-align: right;\n",
       "    }\n",
       "</style>\n",
       "<table border=\"1\" class=\"dataframe\">\n",
       "  <thead>\n",
       "    <tr style=\"text-align: right;\">\n",
       "      <th></th>\n",
       "      <th>epochtime</th>\n",
       "      <th>duration</th>\n",
       "      <th>srcDevice</th>\n",
       "      <th>dstDevice</th>\n",
       "      <th>protocol</th>\n",
       "      <th>srcPort</th>\n",
       "      <th>dstPort</th>\n",
       "      <th>srcPackets</th>\n",
       "      <th>dstPackets</th>\n",
       "      <th>srcBytes</th>\n",
       "      <th>dstBytes</th>\n",
       "      <th>privEsc_epochtime</th>\n",
       "      <th>privEsc_processName</th>\n",
       "      <th>privEsc_parentProcessName</th>\n",
       "      <th>hijack_epochtime</th>\n",
       "      <th>hijack_processName</th>\n",
       "      <th>hijack_parentProcessName</th>\n",
       "      <th>edge_role_in_answer</th>\n",
       "    </tr>\n",
       "  </thead>\n",
       "  <tbody>\n",
       "    <tr>\n",
       "      <th>0</th>\n",
       "      <td>4525267</td>\n",
       "      <td>11</td>\n",
       "      <td>ActiveDirectory</td>\n",
       "      <td>EnterpriseAppServer</td>\n",
       "      <td>6</td>\n",
       "      <td>445</td>\n",
       "      <td>3389</td>\n",
       "      <td>0</td>\n",
       "      <td>14</td>\n",
       "      <td>0</td>\n",
       "      <td>4463</td>\n",
       "      <td>4525200</td>\n",
       "      <td>Proc336322.exe</td>\n",
       "      <td>taskeng</td>\n",
       "      <td>4525267</td>\n",
       "      <td>Proc249569.exe</td>\n",
       "      <td>svchost</td>\n",
       "      <td>AB</td>\n",
       "    </tr>\n",
       "    <tr>\n",
       "      <th>1</th>\n",
       "      <td>4525267</td>\n",
       "      <td>11</td>\n",
       "      <td>ActiveDirectory</td>\n",
       "      <td>EnterpriseAppServer</td>\n",
       "      <td>6</td>\n",
       "      <td>445</td>\n",
       "      <td>3389</td>\n",
       "      <td>0</td>\n",
       "      <td>14</td>\n",
       "      <td>0</td>\n",
       "      <td>4463</td>\n",
       "      <td>4525200</td>\n",
       "      <td>Proc336322.exe</td>\n",
       "      <td>taskeng</td>\n",
       "      <td>4525233</td>\n",
       "      <td>Proc249569.exe</td>\n",
       "      <td>svchost</td>\n",
       "      <td>AB</td>\n",
       "    </tr>\n",
       "    <tr>\n",
       "      <th>2</th>\n",
       "      <td>1827566</td>\n",
       "      <td>1</td>\n",
       "      <td>ActiveDirectory</td>\n",
       "      <td>EnterpriseAppServer</td>\n",
       "      <td>6</td>\n",
       "      <td>88</td>\n",
       "      <td>3389</td>\n",
       "      <td>4</td>\n",
       "      <td>4</td>\n",
       "      <td>330</td>\n",
       "      <td>483</td>\n",
       "      <td>1827112</td>\n",
       "      <td>Proc695356.exe</td>\n",
       "      <td>svchost</td>\n",
       "      <td>1827499</td>\n",
       "      <td>Proc249569.exe</td>\n",
       "      <td>svchost</td>\n",
       "      <td>AB</td>\n",
       "    </tr>\n",
       "    <tr>\n",
       "      <th>3</th>\n",
       "      <td>4374441</td>\n",
       "      <td>1</td>\n",
       "      <td>ActiveDirectory</td>\n",
       "      <td>EnterpriseAppServer</td>\n",
       "      <td>6</td>\n",
       "      <td>88</td>\n",
       "      <td>3389</td>\n",
       "      <td>0</td>\n",
       "      <td>4</td>\n",
       "      <td>0</td>\n",
       "      <td>409</td>\n",
       "      <td>4374000</td>\n",
       "      <td>Proc336322.exe</td>\n",
       "      <td>taskeng</td>\n",
       "      <td>4374374</td>\n",
       "      <td>Proc249569.exe</td>\n",
       "      <td>svchost</td>\n",
       "      <td>AB</td>\n",
       "    </tr>\n",
       "    <tr>\n",
       "      <th>4</th>\n",
       "      <td>4525267</td>\n",
       "      <td>11</td>\n",
       "      <td>ActiveDirectory</td>\n",
       "      <td>EnterpriseAppServer</td>\n",
       "      <td>6</td>\n",
       "      <td>445</td>\n",
       "      <td>3389</td>\n",
       "      <td>0</td>\n",
       "      <td>14</td>\n",
       "      <td>0</td>\n",
       "      <td>4463</td>\n",
       "      <td>4525200</td>\n",
       "      <td>Proc336322.exe</td>\n",
       "      <td>taskeng</td>\n",
       "      <td>4525267</td>\n",
       "      <td>Proc249569.exe</td>\n",
       "      <td>svchost</td>\n",
       "      <td>AB</td>\n",
       "    </tr>\n",
       "    <tr>\n",
       "      <th>5</th>\n",
       "      <td>4678573</td>\n",
       "      <td>11</td>\n",
       "      <td>ActiveDirectory</td>\n",
       "      <td>EnterpriseAppServer</td>\n",
       "      <td>6</td>\n",
       "      <td>445</td>\n",
       "      <td>3389</td>\n",
       "      <td>11</td>\n",
       "      <td>16</td>\n",
       "      <td>2293</td>\n",
       "      <td>4876</td>\n",
       "      <td>4678423</td>\n",
       "      <td>Proc695356.exe</td>\n",
       "      <td>svchost</td>\n",
       "      <td>4678432</td>\n",
       "      <td>Proc249569.exe</td>\n",
       "      <td>svchost</td>\n",
       "      <td>AB</td>\n",
       "    </tr>\n",
       "    <tr>\n",
       "      <th>6</th>\n",
       "      <td>4525267</td>\n",
       "      <td>11</td>\n",
       "      <td>ActiveDirectory</td>\n",
       "      <td>EnterpriseAppServer</td>\n",
       "      <td>6</td>\n",
       "      <td>445</td>\n",
       "      <td>3389</td>\n",
       "      <td>0</td>\n",
       "      <td>14</td>\n",
       "      <td>0</td>\n",
       "      <td>4463</td>\n",
       "      <td>4525200</td>\n",
       "      <td>Proc336322.exe</td>\n",
       "      <td>taskeng</td>\n",
       "      <td>4525267</td>\n",
       "      <td>Proc249569.exe</td>\n",
       "      <td>svchost</td>\n",
       "      <td>AB</td>\n",
       "    </tr>\n",
       "    <tr>\n",
       "      <th>7</th>\n",
       "      <td>7290427</td>\n",
       "      <td>0</td>\n",
       "      <td>ActiveDirectory</td>\n",
       "      <td>EnterpriseAppServer</td>\n",
       "      <td>6</td>\n",
       "      <td>88</td>\n",
       "      <td>3389</td>\n",
       "      <td>0</td>\n",
       "      <td>5</td>\n",
       "      <td>0</td>\n",
       "      <td>525</td>\n",
       "      <td>7290000</td>\n",
       "      <td>Proc336322.exe</td>\n",
       "      <td>taskeng</td>\n",
       "      <td>7290283</td>\n",
       "      <td>Proc249569.exe</td>\n",
       "      <td>svchost</td>\n",
       "      <td>AB</td>\n",
       "    </tr>\n",
       "    <tr>\n",
       "      <th>8</th>\n",
       "      <td>4345668</td>\n",
       "      <td>5</td>\n",
       "      <td>ActiveDirectory</td>\n",
       "      <td>EnterpriseAppServer</td>\n",
       "      <td>6</td>\n",
       "      <td>20990</td>\n",
       "      <td>3389</td>\n",
       "      <td>0</td>\n",
       "      <td>19</td>\n",
       "      <td>0</td>\n",
       "      <td>5429</td>\n",
       "      <td>4345202</td>\n",
       "      <td>Proc336322.exe</td>\n",
       "      <td>svchost</td>\n",
       "      <td>4345512</td>\n",
       "      <td>Proc249569.exe</td>\n",
       "      <td>svchost</td>\n",
       "      <td>AB</td>\n",
       "    </tr>\n",
       "    <tr>\n",
       "      <th>9</th>\n",
       "      <td>4525267</td>\n",
       "      <td>11</td>\n",
       "      <td>ActiveDirectory</td>\n",
       "      <td>EnterpriseAppServer</td>\n",
       "      <td>6</td>\n",
       "      <td>445</td>\n",
       "      <td>3389</td>\n",
       "      <td>0</td>\n",
       "      <td>14</td>\n",
       "      <td>0</td>\n",
       "      <td>4463</td>\n",
       "      <td>4525200</td>\n",
       "      <td>Proc336322.exe</td>\n",
       "      <td>taskeng</td>\n",
       "      <td>4525267</td>\n",
       "      <td>Proc249569.exe</td>\n",
       "      <td>svchost</td>\n",
       "      <td>AB</td>\n",
       "    </tr>\n",
       "  </tbody>\n",
       "</table>\n",
       "</div>"
      ],
      "text/plain": [
       "   epochtime  duration        srcDevice            dstDevice  protocol  \\\n",
       "0    4525267        11  ActiveDirectory  EnterpriseAppServer         6   \n",
       "1    4525267        11  ActiveDirectory  EnterpriseAppServer         6   \n",
       "2    1827566         1  ActiveDirectory  EnterpriseAppServer         6   \n",
       "3    4374441         1  ActiveDirectory  EnterpriseAppServer         6   \n",
       "4    4525267        11  ActiveDirectory  EnterpriseAppServer         6   \n",
       "5    4678573        11  ActiveDirectory  EnterpriseAppServer         6   \n",
       "6    4525267        11  ActiveDirectory  EnterpriseAppServer         6   \n",
       "7    7290427         0  ActiveDirectory  EnterpriseAppServer         6   \n",
       "8    4345668         5  ActiveDirectory  EnterpriseAppServer         6   \n",
       "9    4525267        11  ActiveDirectory  EnterpriseAppServer         6   \n",
       "\n",
       "   srcPort  dstPort  srcPackets  dstPackets  srcBytes  dstBytes  \\\n",
       "0      445     3389           0          14         0      4463   \n",
       "1      445     3389           0          14         0      4463   \n",
       "2       88     3389           4           4       330       483   \n",
       "3       88     3389           0           4         0       409   \n",
       "4      445     3389           0          14         0      4463   \n",
       "5      445     3389          11          16      2293      4876   \n",
       "6      445     3389           0          14         0      4463   \n",
       "7       88     3389           0           5         0       525   \n",
       "8    20990     3389           0          19         0      5429   \n",
       "9      445     3389           0          14         0      4463   \n",
       "\n",
       "   privEsc_epochtime privEsc_processName privEsc_parentProcessName  \\\n",
       "0            4525200      Proc336322.exe                   taskeng   \n",
       "1            4525200      Proc336322.exe                   taskeng   \n",
       "2            1827112      Proc695356.exe                   svchost   \n",
       "3            4374000      Proc336322.exe                   taskeng   \n",
       "4            4525200      Proc336322.exe                   taskeng   \n",
       "5            4678423      Proc695356.exe                   svchost   \n",
       "6            4525200      Proc336322.exe                   taskeng   \n",
       "7            7290000      Proc336322.exe                   taskeng   \n",
       "8            4345202      Proc336322.exe                   svchost   \n",
       "9            4525200      Proc336322.exe                   taskeng   \n",
       "\n",
       "   hijack_epochtime hijack_processName hijack_parentProcessName  \\\n",
       "0           4525267     Proc249569.exe                  svchost   \n",
       "1           4525233     Proc249569.exe                  svchost   \n",
       "2           1827499     Proc249569.exe                  svchost   \n",
       "3           4374374     Proc249569.exe                  svchost   \n",
       "4           4525267     Proc249569.exe                  svchost   \n",
       "5           4678432     Proc249569.exe                  svchost   \n",
       "6           4525267     Proc249569.exe                  svchost   \n",
       "7           7290283     Proc249569.exe                  svchost   \n",
       "8           4345512     Proc249569.exe                  svchost   \n",
       "9           4525267     Proc249569.exe                  svchost   \n",
       "\n",
       "  edge_role_in_answer  \n",
       "0                  AB  \n",
       "1                  AB  \n",
       "2                  AB  \n",
       "3                  AB  \n",
       "4                  AB  \n",
       "5                  AB  \n",
       "6                  AB  \n",
       "7                  AB  \n",
       "8                  AB  \n",
       "9                  AB  "
      ]
     },
     "execution_count": 17,
     "metadata": {},
     "output_type": "execute_result"
    }
   ],
   "source": [
    "# retrieve the answer rows to the client in a pandas frame\n",
    "data = latmvmt.get_data_pandas()\n",
    "data[0:10]"
   ]
  },
  {
   "cell_type": "code",
   "execution_count": 23,
   "metadata": {},
   "outputs": [
    {
     "data": {
      "text/plain": [
       "u'0.9.65'"
      ]
     },
     "execution_count": 23,
     "metadata": {},
     "output_type": "execute_result"
    }
   ],
   "source": [
    "import graphistry\n",
    "import pandas as pd\n",
    "graphistry.register(key='XXXXXXXXXXXXXXXXXXXXXXXXXXXXXXXXXXXXXXXXXXXXXXXXXXXXXXXXXXXXXXXX', api=2)\n",
    "graphistry.__version__"
   ]
  },
  {
   "cell_type": "code",
   "execution_count": 24,
   "metadata": {
    "scrolled": true
   },
   "outputs": [
    {
     "data": {
      "text/html": [
       "\n",
       "            <iframe id=\"4bfa7aa5-f765-4916-98db-a294948f7db6\" src=\"https://labs.graphistry.com/graph/graph.html?dataset=s3://graphistry.data/pygraphistry/cf36e8c7633b59b15913cc64c9b04d88/dataset.json&type=jsonMeta&viztoken=857028fded17a8698ccc4542d27b66c326e5c647&usertag=02106684-pygraphistry-0.9.65&splashAfter=1566426149&info=true\"\n",
       "                    allowfullscreen=\"true\" webkitallowfullscreen=\"true\" mozallowfullscreen=\"true\"\n",
       "                    oallowfullscreen=\"true\" msallowfullscreen=\"true\"\n",
       "                    style=\"width:100%; height:500px; border: 1px solid #DDD\">\n",
       "            </iframe>\n",
       "        \n",
       "            <script>\n",
       "                $(\"#4bfa7aa5-f765-4916-98db-a294948f7db6\").bind('mousewheel', function(e) {\n",
       "                e.preventDefault();\n",
       "                });\n",
       "            </script>\n",
       "        "
      ],
      "text/plain": [
       "<IPython.core.display.HTML object>"
      ]
     },
     "execution_count": 24,
     "metadata": {},
     "output_type": "execute_result"
    }
   ],
   "source": [
    "edges_with_color = data.copy()\n",
    "edges_with_color[\"color\"] = 96000\n",
    "edges_with_color.loc[edges_with_color['edge_role_in_answer'] == 'BC',\"color\"] = 96001\n",
    "\n",
    "plotter = graphistry.bind(source='srcDevice', destination='dstDevice').edges(edges_with_color)\n",
    "plotter.bind(edge_color='color').plot()"
   ]
  },
  {
   "cell_type": "code",
   "execution_count": null,
   "metadata": {
    "scrolled": true
   },
   "outputs": [],
   "source": [
    "graphistry.bind(source='srcDevice', destination='dstDevice').edges(data).plot()"
   ]
  },
  {
   "cell_type": "code",
   "execution_count": null,
   "metadata": {},
   "outputs": [],
   "source": []
  }
 ],
 "metadata": {
  "celltoolbar": "Raw Cell Format",
  "kernelspec": {
   "display_name": "Python 2",
   "language": "python",
   "name": "python2"
  },
  "language_info": {
   "codemirror_mode": {
    "name": "ipython",
    "version": 3
   },
   "file_extension": ".py",
   "mimetype": "text/x-python",
   "name": "python",
   "nbconvert_exporter": "python",
   "pygments_lexer": "ipython3",
   "version": "3.7.4"
  }
 },
 "nbformat": 4,
 "nbformat_minor": 2
}
